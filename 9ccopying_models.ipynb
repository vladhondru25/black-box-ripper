{
 "cells": [
  {
   "cell_type": "code",
   "execution_count": 1,
   "metadata": {
    "id": "1RlCqi-d0eTG"
   },
   "outputs": [],
   "source": [
    "%load_ext autoreload\n",
    "%autoreload 2"
   ]
  },
  {
   "cell_type": "code",
   "execution_count": 2,
   "metadata": {
    "id": "zsEy0GL2zk0A"
   },
   "outputs": [],
   "source": [
    "import os\n",
    "import numpy as np\n",
    "import torch\n",
    "import torchvision.transforms as T\n",
    "from shutil import rmtree\n",
    "from sklearn.model_selection import train_test_split\n",
    "from tqdm.autonotebook import tqdm, trange\n",
    "from torch.nn.functional import softmax\n",
    "from torch.utils.data import Dataset, DataLoader\n",
    "from torchvision.io import read_image\n",
    "from torchvision.datasets import ImageFolder\n",
    "\n",
    "\n",
    "from predictors.alexnet import Alexnet\n",
    "from predictors.half_alexnet import HalfAlexnet\n",
    "\n",
    "from datasets import CIFAR10, ProxyDataset\n",
    "\n",
    "%matplotlib inline"
   ]
  },
  {
   "cell_type": "code",
   "execution_count": 3,
   "metadata": {
    "id": "z2QTVln9zk0D"
   },
   "outputs": [
    {
     "data": {
      "text/plain": [
       "device(type='cuda')"
      ]
     },
     "execution_count": 3,
     "metadata": {},
     "output_type": "execute_result"
    }
   ],
   "source": [
    "LR = 0.001\n",
    "EPOCHS = 200\n",
    "BATCH_SIZE = 32\n",
    "CONFIDENCE_TH = 0.8\n",
    "\n",
    "DATASET_PATH = '.'\n",
    "\n",
    "device = torch.device('cuda' if torch.cuda.is_available() else 'cpu')\n",
    "device"
   ]
  },
  {
   "cell_type": "code",
   "execution_count": 4,
   "metadata": {
    "colab": {
     "base_uri": "https://localhost:8080/"
    },
    "id": "77r9b28lzk0E",
    "outputId": "75c25c0a-02b7-4cb9-e295-6d9916e0aeb7"
   },
   "outputs": [
    {
     "data": {
      "text/plain": [
       "Alexnet(\n",
       "  (conv1): Conv2d(3, 48, kernel_size=(5, 5), stride=(1, 1), padding=(2, 2))\n",
       "  (relu): ReLU()\n",
       "  (lrn): LocalResponseNorm(2, alpha=0.0001, beta=0.75, k=1.0)\n",
       "  (pad): MaxPool2d(kernel_size=3, stride=2, padding=0, dilation=1, ceil_mode=False)\n",
       "  (batch_norm1): BatchNorm2d(48, eps=0.001, momentum=0.1, affine=True, track_running_stats=True)\n",
       "  (conv2): Conv2d(48, 128, kernel_size=(5, 5), stride=(1, 1), padding=(2, 2))\n",
       "  (batch_norm2): BatchNorm2d(128, eps=0.001, momentum=0.1, affine=True, track_running_stats=True)\n",
       "  (conv3): Conv2d(128, 192, kernel_size=(3, 3), stride=(1, 1), padding=(1, 1))\n",
       "  (batch_norm3): BatchNorm2d(192, eps=0.001, momentum=0.1, affine=True, track_running_stats=True)\n",
       "  (conv4): Conv2d(192, 192, kernel_size=(3, 3), stride=(1, 1), padding=(1, 1))\n",
       "  (batch_norm4): BatchNorm2d(192, eps=0.001, momentum=0.1, affine=True, track_running_stats=True)\n",
       "  (conv5): Conv2d(192, 128, kernel_size=(3, 3), stride=(1, 1), padding=(1, 1))\n",
       "  (batch_norm5): BatchNorm2d(128, eps=0.001, momentum=0.1, affine=True, track_running_stats=True)\n",
       "  (fc1): Linear(in_features=1152, out_features=512, bias=True)\n",
       "  (drop): Dropout(p=0.5, inplace=False)\n",
       "  (batch_norm6): BatchNorm1d(512, eps=0.001, momentum=0.1, affine=True, track_running_stats=True)\n",
       "  (fc2): Linear(in_features=512, out_features=256, bias=True)\n",
       "  (batch_norm7): BatchNorm1d(256, eps=0.001, momentum=0.1, affine=True, track_running_stats=True)\n",
       "  (fc3): Linear(in_features=256, out_features=10, bias=True)\n",
       "  (soft): Softmax(dim=None)\n",
       ")"
      ]
     },
     "execution_count": 4,
     "metadata": {},
     "output_type": "execute_result"
    }
   ],
   "source": [
    "# Teacher\n",
    "teacher_model = Alexnet(name=None, n_outputs=10)\n",
    "\n",
    "ckpt_path = 'checkpoints/teacher_alexnet_for_cifar10_state_dict'\n",
    "teacher_model.load_state_dict(torch.load(ckpt_path, map_location=device))\n",
    "teacher_model.eval()\n",
    "teacher_model.to(device)"
   ]
  },
  {
   "cell_type": "code",
   "execution_count": 5,
   "metadata": {
    "id": "J0bOFnMSzk0F"
   },
   "outputs": [],
   "source": [
    "# Define dataset\n",
    "label_mapper = {\n",
    "    'airplane': 0,\n",
    "    'automobile': 1,\n",
    "    'bird': 2,\n",
    "    'cat': 3,\n",
    "    'deer': 4,\n",
    "    'dog': 5,\n",
    "    'frog': 6,\n",
    "    'horse': 7,\n",
    "    'ship': 8,\n",
    "    'truck': 9\n",
    "}\n",
    "label_mapper_inv = {v:k for k,v in label_mapper.items()}\n",
    "\n",
    "# Get images paths and labels\n",
    "images = []\n",
    "labels = []\n",
    "folders_path = os.path.join(DATASET_PATH,'images_generated')\n",
    "for folder in os.listdir(folders_path):\n",
    "    if 'imagenet' in folder:\n",
    "      continue\n",
    "    class_path = os.path.join(folders_path,folder)\n",
    "    images_names = os.listdir(class_path)\n",
    "    \n",
    "    for image_name in images_names:\n",
    "        images.append(os.path.join(class_path,image_name))\n",
    "        labels.append(label_mapper[folder])"
   ]
  },
  {
   "cell_type": "code",
   "execution_count": 6,
   "metadata": {
    "colab": {
     "base_uri": "https://localhost:8080/",
     "height": 263,
     "referenced_widgets": [
      "8282f6bd64d344e9aa0e2cdc5deedb50",
      "b7c4c95db21e4c4dbb6cd50f4bb22a1a",
      "9aa9c5d37cbb4a7987c84c6061cbafa6",
      "0dc49d11d2434b568a3f6c3ad5b05c09",
      "18d7a2f2052141c9aaa53bf57a3bc1b3",
      "551ec62854e64a6a89e2550b4eb22e52",
      "3336807a7d144bbb9283a68a327852d5",
      "058124347df04f2a81d75544c5fb8809",
      "f0f5ea82811c49bfb0a55154cc9cd30d",
      "0d4acd03fa734e9db4bb7389ae2f19b4",
      "81d6479563414e36ae8103bbb16bd9a3"
     ]
    },
    "id": "ovpstIXDzk0G",
    "outputId": "91d3a8be-f9f7-450a-8514-97478cb2da87"
   },
   "outputs": [
    {
     "data": {
      "application/vnd.jupyter.widget-view+json": {
       "model_id": "1444ade1581c42b2808f241efadcf56a",
       "version_major": 2,
       "version_minor": 0
      },
      "text/plain": [
       "  0%|          | 0/1600 [00:00<?, ?it/s]"
      ]
     },
     "metadata": {},
     "output_type": "display_data"
    },
    {
     "name": "stdout",
     "output_type": "stream",
     "text": [
      "A total of 51200 remained out of 51200\n",
      "\n",
      "Class 0(airplane) has 6384 entries\n",
      "Class 1(automobile) has 5145 entries\n",
      "Class 2(bird) has 4795 entries\n",
      "Class 3(cat) has 5331 entries\n",
      "Class 4(deer) has 5571 entries\n",
      "Class 5(dog) has 4286 entries\n",
      "Class 6(frog) has 4553 entries\n",
      "Class 7(horse) has 5025 entries\n",
      "Class 8(ship) has 5178 entries\n",
      "Class 9(truck) has 4932 entries\n"
     ]
    }
   ],
   "source": [
    "  # Filter out images with low confidence score\n",
    "proxy_transforms = T.Compose([\n",
    "    T.Resize((32,32)),\n",
    "    T.Normalize((0.5,), (0.5,))\n",
    "])\n",
    "\n",
    "proxy_dataset = ProxyDataset(images, labels, proxy_transforms, True)\n",
    "proxy_dataloader  = DataLoader(proxy_dataset,  batch_size=BATCH_SIZE)\n",
    "\n",
    "filtered_images = []\n",
    "filtered_labels = []\n",
    "filtered_soft_labels = []\n",
    "\n",
    "with torch.no_grad():\n",
    "    for img,label,path,_ in tqdm(proxy_dataloader):\n",
    "        img = img.to(device=device)\n",
    "        label = label.to(device=device)\n",
    "\n",
    "        logits = teacher_model(img)\n",
    "        pred = softmax(logits, dim=1)\n",
    "        \n",
    "        confidence,y_hat = torch.max(pred, dim=1)\n",
    "\n",
    "        filtered_images.extend(list(path))\n",
    "        filtered_labels.extend(y_hat.tolist())\n",
    "        filtered_soft_labels.extend(pred)\n",
    "        \n",
    "# Display results of filtering\n",
    "print(f'A total of {len(filtered_images)} remained out of {len(proxy_dataset)}')\n",
    "print()\n",
    "counter_per_class = {v:0 for k,v in label_mapper.items()}\n",
    "for label in filtered_labels:\n",
    "    counter_per_class[label] += 1\n",
    "for clasa in counter_per_class:\n",
    "    print(f'Class {clasa}({label_mapper_inv[clasa]}) has {counter_per_class[clasa]} entries')"
   ]
  },
  {
   "cell_type": "code",
   "execution_count": 7,
   "metadata": {
    "id": "UxE8HVQSzk0F"
   },
   "outputs": [],
   "source": [
    "# Define the student model\n",
    "student_model = HalfAlexnet(name=None, n_outputs=10)\n",
    "\n",
    "path_to_save = 'pretrained_student.pt'\n",
    "if torch.cuda.is_available():\n",
    "    student_model.load_state_dict(torch.load(path_to_save))\n",
    "else:\n",
    "    student_model.load_state_dict(torch.load(path_to_save, map_location ='cpu'))\n",
    "student_model.to(device)\n",
    "\n",
    "# Define optimizer\n",
    "optimizer = torch.optim.Adam(student_model.parameters(), lr=LR)\n",
    "\n",
    "# Define loss function\n",
    "criterion = torch.nn.CrossEntropyLoss(reduction='mean')"
   ]
  },
  {
   "cell_type": "code",
   "execution_count": 8,
   "metadata": {
    "id": "yS1V_-cdL9Ku"
   },
   "outputs": [],
   "source": [
    "\"\"\" Old block: used with percengtages\n",
    "PERCENTAGE_TO_USE = 0.8\n",
    "print(f'Examples used: {len(filtered_images)*PERCENTAGE_TO_USE}')\n",
    "\n",
    "filtered_images_subset, _, filtered_labels_subset, _, filtered_soft_labels_subset, _ = \\\n",
    "    train_test_split(filtered_images, filtered_labels, filtered_soft_labels, train_size=PERCENTAGE_TO_USE, stratify=filtered_labels)\n",
    "\n",
    "train_images, validation_images, train_labels, validation_labels, train_soft_labels, validation_soft_labels = \\\n",
    "      train_test_split(filtered_images_subset, filtered_labels_subset, filtered_soft_labels_subset, train_size=0.8, stratify=filtered_labels)\n",
    "valid_images, test_images, valid_labels, test_labels, valid_soft_labels, test_soft_labels = \\\n",
    "    train_test_split(validation_images, validation_labels, validation_soft_labels, test_size=0.5, stratify=validation_labels)\n",
    "\"\"\"\n",
    "\n",
    "try:\n",
    "  # raise\n",
    "  # Do a stratified split of the data\n",
    "  NO_IMGS_TO_USE = 1024\n",
    "  \n",
    "  filtered_images_subset, filtered_images_unused, filtered_labels_subset, filtered_labels_unused, filtered_soft_labels_subset, filtered_soft_labels_unused = \\\n",
    "      train_test_split(filtered_images, filtered_labels, filtered_soft_labels, train_size=NO_IMGS_TO_USE, stratify=filtered_labels)  \n",
    "\n",
    "  train_images, validation_images, train_labels, validation_labels, train_soft_labels, validation_soft_labels = \\\n",
    "      train_test_split(filtered_images_subset, filtered_labels_subset, filtered_soft_labels_subset, train_size=0.8, stratify=filtered_labels_subset)\n",
    "  valid_images, test_images, valid_labels, test_labels, valid_soft_labels, test_soft_labels = \\\n",
    "      train_test_split(validation_images, validation_labels, validation_soft_labels, test_size=0.5, stratify=validation_labels)\n",
    "except:\n",
    "  # For small datasets \n",
    "  print('Small dataset')\n",
    "  NO_IMGS_TO_USE = 30\n",
    "  NO_TRAIN_IMGS = 10\n",
    "\n",
    "  \"\"\" DEV - train_test_split fails, need to manually introduce 1 sample\n",
    "  \"\"\"\n",
    "  for i in range(len(filtered_labels)-1,-1,-1):\n",
    "    if filtered_labels[i] == 5:\n",
    "      img_dev = filtered_images[i]\n",
    "      soft_label_dev = filtered_soft_labels[i]\n",
    "      break\n",
    "\n",
    "  filtered_images_subset, filtered_images_unused, filtered_labels_subset, filtered_labels_unused, filtered_soft_labels_subset, filtered_soft_labels_unused = \\\n",
    "    train_test_split(filtered_images, filtered_labels, filtered_soft_labels, train_size=NO_IMGS_TO_USE, stratify=filtered_labels)  \n",
    "  train_images, validation_images, train_labels, validation_labels, train_soft_labels, validation_soft_labels = \\\n",
    "    train_test_split(filtered_images_subset, filtered_labels_subset, filtered_soft_labels_subset, train_size=NO_TRAIN_IMGS, stratify=filtered_labels_subset)\n",
    "  \n",
    "  \"\"\" DEV - interchange an image\n",
    "  \"\"\"\n",
    "  for i in range(len(validation_images)):\n",
    "    if validation_labels[i] == 0:\n",
    "      validation_images[i] = img_dev\n",
    "      validation_labels[i] = 5\n",
    "      validation_soft_labels[i] = soft_label_dev\n",
    "      break\n",
    "\n",
    "  valid_images, test_images, valid_labels, test_labels, valid_soft_labels, test_soft_labels = \\\n",
    "      train_test_split(validation_images, validation_labels, validation_soft_labels, test_size=0.5, stratify=validation_labels)"
   ]
  },
  {
   "cell_type": "code",
   "execution_count": 9,
   "metadata": {
    "id": "AGYrWL_Zzk0H"
   },
   "outputs": [],
   "source": [
    "# Define the transformations\n",
    "train_transforms = T.Compose([\n",
    "    T.Resize((32,32)),\n",
    "    T.RandomCrop(32, padding=4),\n",
    "    T.RandomHorizontalFlip(p=0.5),\n",
    "    T.Normalize((0.5,), (0.5,))\n",
    "])\n",
    "valid_transforms = T.Compose([\n",
    "    T.Resize((32,32)),\n",
    "    T.Normalize((0.5,), (0.5,))\n",
    "])\n",
    "\n",
    "# Define the datasets\n",
    "proxy_train_dataset = ProxyDataset(train_images, train_labels, train_transforms, False, train_soft_labels)\n",
    "proxy_valid_dataset = ProxyDataset(valid_images, valid_labels, valid_transforms, False, valid_soft_labels)\n",
    "proxy_test_dataset  = ProxyDataset(test_images,  test_labels,  valid_transforms, False, test_soft_labels)\n",
    "\n",
    "# Define the dataloaders\n",
    "train_dataloader = DataLoader(proxy_train_dataset, batch_size=BATCH_SIZE, shuffle=True)\n",
    "valid_dataloader = DataLoader(proxy_valid_dataset, batch_size=BATCH_SIZE)\n",
    "test_dataloader  = DataLoader(proxy_test_dataset,  batch_size=BATCH_SIZE)"
   ]
  },
  {
   "cell_type": "code",
   "execution_count": 10,
   "metadata": {
    "colab": {
     "base_uri": "https://localhost:8080/",
     "height": 103,
     "referenced_widgets": [
      "591ae5d8878a4378aae207c92ed81f4f",
      "530f03e592b04992ad8864021b2d6033",
      "94031723b8be497f952269c328453ed4",
      "5392c16b86e84cceb68915753a0531cb",
      "90c6aca45b9d42fcb3d6e5be3a7728f2",
      "ce773a8dc12b4920b3a9f6c46e2a6ea4",
      "a5d582694fb04c6fac9d10f2c6ef29d4",
      "d4cdc9b0b6cb4ba5ab63630a8bb01ba4",
      "6dc31f9f92cc4ecb847630272fff1758",
      "50e7dda7941449cfb47e8d3945208fdb",
      "4a9fb0df830a43d798a94a9e00cfe022"
     ]
    },
    "id": "RIH8OQtvzk0H",
    "outputId": "884071f7-82e5-4be1-af2e-a843502b2eb7"
   },
   "outputs": [
    {
     "name": "stdout",
     "output_type": "stream",
     "text": [
      "Files already downloaded and verified\n",
      "Files already downloaded and verified\n"
     ]
    }
   ],
   "source": [
    "# Define true dataset\n",
    "true_dataset = CIFAR10(input_size = 32)\n",
    "\n",
    "validate_on_trueds = True\n",
    "if validate_on_trueds:\n",
    "    true_valid_ds = true_dataset.test_dataloader()"
   ]
  },
  {
   "cell_type": "code",
   "execution_count": 11,
   "metadata": {
    "id": "UiU_sPFAZh9P"
   },
   "outputs": [],
   "source": [
    "# Class for early stopping\n",
    "class EarlyStopping():\n",
    "    def __init__(self, tolerance=5, min_delta=0):\n",
    "\n",
    "        self.tolerance = tolerance\n",
    "        self.min_delta = min_delta\n",
    "        self.counter = 0\n",
    "        self.best_score = None\n",
    "        self.early_stop = False\n",
    "\n",
    "    def __call__(self, validation_loss):\n",
    "        if self.best_score is None:\n",
    "          self.best_score = validation_loss\n",
    "        elif validation_loss - self.best_score < self.min_delta:\n",
    "          self.best_score = validation_loss\n",
    "        else:\n",
    "          self.counter +=1\n",
    "          if self.counter >= self.tolerance:  \n",
    "              self.early_stop = True"
   ]
  },
  {
   "cell_type": "code",
   "execution_count": 12,
   "metadata": {
    "id": "6Upn77I0zk0I"
   },
   "outputs": [
    {
     "data": {
      "application/vnd.jupyter.widget-view+json": {
       "model_id": "7f40e4d41fb842eca9e694634ff68caf",
       "version_major": 2,
       "version_minor": 0
      },
      "text/plain": [
       "  0%|          | 0/26 [00:00<?, ?it/s]"
      ]
     },
     "metadata": {},
     "output_type": "display_data"
    },
    {
     "name": "stdout",
     "output_type": "stream",
     "text": [
      "validation_loss on proxy = 1.8330\n",
      "validation_accuracy on proxy = 59.80%\n",
      "validation_loss on true ds = 2.0463\n",
      "validation_accuracy on true ds = 28.02%\n"
     ]
    },
    {
     "data": {
      "application/vnd.jupyter.widget-view+json": {
       "model_id": "00fe7c60490b4fd6a099d1c96357a390",
       "version_major": 2,
       "version_minor": 0
      },
      "text/plain": [
       "  0%|          | 0/26 [00:00<?, ?it/s]"
      ]
     },
     "metadata": {},
     "output_type": "display_data"
    },
    {
     "name": "stdout",
     "output_type": "stream",
     "text": [
      "validation_loss on proxy = 1.4568\n",
      "validation_accuracy on proxy = 64.71%\n",
      "validation_loss on true ds = 1.8842\n",
      "validation_accuracy on true ds = 34.81%\n"
     ]
    },
    {
     "data": {
      "application/vnd.jupyter.widget-view+json": {
       "model_id": "13963f981c9d4947bcba4c5759d37c5d",
       "version_major": 2,
       "version_minor": 0
      },
      "text/plain": [
       "  0%|          | 0/26 [00:00<?, ?it/s]"
      ]
     },
     "metadata": {},
     "output_type": "display_data"
    },
    {
     "name": "stdout",
     "output_type": "stream",
     "text": [
      "validation_loss on proxy = 1.2210\n",
      "validation_accuracy on proxy = 67.65%\n",
      "validation_loss on true ds = 1.7800\n",
      "validation_accuracy on true ds = 37.20%\n"
     ]
    },
    {
     "data": {
      "application/vnd.jupyter.widget-view+json": {
       "model_id": "bc76867b5ac04d61b4dc425ee310a393",
       "version_major": 2,
       "version_minor": 0
      },
      "text/plain": [
       "  0%|          | 0/26 [00:00<?, ?it/s]"
      ]
     },
     "metadata": {},
     "output_type": "display_data"
    },
    {
     "name": "stdout",
     "output_type": "stream",
     "text": [
      "validation_loss on proxy = 1.0325\n",
      "validation_accuracy on proxy = 71.57%\n",
      "validation_loss on true ds = 1.6687\n",
      "validation_accuracy on true ds = 40.25%\n"
     ]
    },
    {
     "data": {
      "application/vnd.jupyter.widget-view+json": {
       "model_id": "b2390b0dd734404ca95d3f4ce9d82ea3",
       "version_major": 2,
       "version_minor": 0
      },
      "text/plain": [
       "  0%|          | 0/26 [00:00<?, ?it/s]"
      ]
     },
     "metadata": {},
     "output_type": "display_data"
    },
    {
     "name": "stdout",
     "output_type": "stream",
     "text": [
      "validation_loss on proxy = 0.9145\n",
      "validation_accuracy on proxy = 72.55%\n",
      "validation_loss on true ds = 1.5613\n",
      "validation_accuracy on true ds = 44.43%\n"
     ]
    },
    {
     "data": {
      "application/vnd.jupyter.widget-view+json": {
       "model_id": "eb24f117ba084987a0292a0d6658e52f",
       "version_major": 2,
       "version_minor": 0
      },
      "text/plain": [
       "  0%|          | 0/26 [00:00<?, ?it/s]"
      ]
     },
     "metadata": {},
     "output_type": "display_data"
    },
    {
     "name": "stdout",
     "output_type": "stream",
     "text": [
      "validation_loss on proxy = 0.7890\n",
      "validation_accuracy on proxy = 74.51%\n",
      "validation_loss on true ds = 1.5564\n",
      "validation_accuracy on true ds = 43.49%\n"
     ]
    },
    {
     "data": {
      "application/vnd.jupyter.widget-view+json": {
       "model_id": "efdb35e38a1f42c18a50c9f97d5e2080",
       "version_major": 2,
       "version_minor": 0
      },
      "text/plain": [
       "  0%|          | 0/26 [00:00<?, ?it/s]"
      ]
     },
     "metadata": {},
     "output_type": "display_data"
    },
    {
     "name": "stdout",
     "output_type": "stream",
     "text": [
      "validation_loss on proxy = 0.7303\n",
      "validation_accuracy on proxy = 78.43%\n",
      "validation_loss on true ds = 1.4760\n",
      "validation_accuracy on true ds = 47.46%\n"
     ]
    },
    {
     "data": {
      "application/vnd.jupyter.widget-view+json": {
       "model_id": "f6beb58db8ec4cf69962dec410256d11",
       "version_major": 2,
       "version_minor": 0
      },
      "text/plain": [
       "  0%|          | 0/26 [00:00<?, ?it/s]"
      ]
     },
     "metadata": {},
     "output_type": "display_data"
    },
    {
     "name": "stdout",
     "output_type": "stream",
     "text": [
      "validation_loss on proxy = 0.7077\n",
      "validation_accuracy on proxy = 77.45%\n",
      "validation_loss on true ds = 1.4849\n",
      "validation_accuracy on true ds = 45.59%\n"
     ]
    },
    {
     "data": {
      "application/vnd.jupyter.widget-view+json": {
       "model_id": "5ba3b4cae3e14f349da81dcdea4528d8",
       "version_major": 2,
       "version_minor": 0
      },
      "text/plain": [
       "  0%|          | 0/26 [00:00<?, ?it/s]"
      ]
     },
     "metadata": {},
     "output_type": "display_data"
    },
    {
     "name": "stdout",
     "output_type": "stream",
     "text": [
      "validation_loss on proxy = 0.6646\n",
      "validation_accuracy on proxy = 74.51%\n",
      "validation_loss on true ds = 1.6302\n",
      "validation_accuracy on true ds = 42.15%\n"
     ]
    },
    {
     "data": {
      "application/vnd.jupyter.widget-view+json": {
       "model_id": "977ee5819faf47268d36e2f7142e45b3",
       "version_major": 2,
       "version_minor": 0
      },
      "text/plain": [
       "  0%|          | 0/26 [00:00<?, ?it/s]"
      ]
     },
     "metadata": {},
     "output_type": "display_data"
    },
    {
     "name": "stdout",
     "output_type": "stream",
     "text": [
      "validation_loss on proxy = 0.6259\n",
      "validation_accuracy on proxy = 73.53%\n",
      "validation_loss on true ds = 1.5244\n",
      "validation_accuracy on true ds = 44.87%\n"
     ]
    },
    {
     "data": {
      "application/vnd.jupyter.widget-view+json": {
       "model_id": "607f70c774a44f6d8eedf76ae512df8f",
       "version_major": 2,
       "version_minor": 0
      },
      "text/plain": [
       "  0%|          | 0/26 [00:00<?, ?it/s]"
      ]
     },
     "metadata": {},
     "output_type": "display_data"
    },
    {
     "name": "stdout",
     "output_type": "stream",
     "text": [
      "validation_loss on proxy = 0.6176\n",
      "validation_accuracy on proxy = 79.41%\n",
      "validation_loss on true ds = 1.5930\n",
      "validation_accuracy on true ds = 44.04%\n"
     ]
    },
    {
     "data": {
      "application/vnd.jupyter.widget-view+json": {
       "model_id": "72b159f8f6214bc483e1a0ecabeeef83",
       "version_major": 2,
       "version_minor": 0
      },
      "text/plain": [
       "  0%|          | 0/26 [00:00<?, ?it/s]"
      ]
     },
     "metadata": {},
     "output_type": "display_data"
    },
    {
     "name": "stdout",
     "output_type": "stream",
     "text": [
      "validation_loss on proxy = 0.5754\n",
      "validation_accuracy on proxy = 78.43%\n",
      "validation_loss on true ds = 1.4848\n",
      "validation_accuracy on true ds = 47.64%\n"
     ]
    },
    {
     "data": {
      "application/vnd.jupyter.widget-view+json": {
       "model_id": "03a13af8dd0d4e4e8c7e6f8c091a3fdc",
       "version_major": 2,
       "version_minor": 0
      },
      "text/plain": [
       "  0%|          | 0/26 [00:00<?, ?it/s]"
      ]
     },
     "metadata": {},
     "output_type": "display_data"
    },
    {
     "name": "stdout",
     "output_type": "stream",
     "text": [
      "validation_loss on proxy = 0.5707\n",
      "validation_accuracy on proxy = 74.51%\n",
      "validation_loss on true ds = 1.4752\n",
      "validation_accuracy on true ds = 49.01%\n"
     ]
    },
    {
     "data": {
      "application/vnd.jupyter.widget-view+json": {
       "model_id": "07c0d28201134a9ba29ba69abe1676fa",
       "version_major": 2,
       "version_minor": 0
      },
      "text/plain": [
       "  0%|          | 0/26 [00:00<?, ?it/s]"
      ]
     },
     "metadata": {},
     "output_type": "display_data"
    },
    {
     "name": "stdout",
     "output_type": "stream",
     "text": [
      "validation_loss on proxy = 0.5691\n",
      "validation_accuracy on proxy = 76.47%\n",
      "validation_loss on true ds = 1.5278\n",
      "validation_accuracy on true ds = 47.73%\n"
     ]
    },
    {
     "data": {
      "application/vnd.jupyter.widget-view+json": {
       "model_id": "6bdf0b7588f1492489978d0ccd6729dc",
       "version_major": 2,
       "version_minor": 0
      },
      "text/plain": [
       "  0%|          | 0/26 [00:00<?, ?it/s]"
      ]
     },
     "metadata": {},
     "output_type": "display_data"
    },
    {
     "name": "stdout",
     "output_type": "stream",
     "text": [
      "validation_loss on proxy = 0.5570\n",
      "validation_accuracy on proxy = 78.43%\n",
      "validation_loss on true ds = 1.4973\n",
      "validation_accuracy on true ds = 48.15%\n"
     ]
    },
    {
     "data": {
      "application/vnd.jupyter.widget-view+json": {
       "model_id": "d188282225df4efb92fcc2ceb67275b9",
       "version_major": 2,
       "version_minor": 0
      },
      "text/plain": [
       "  0%|          | 0/26 [00:00<?, ?it/s]"
      ]
     },
     "metadata": {},
     "output_type": "display_data"
    },
    {
     "name": "stdout",
     "output_type": "stream",
     "text": [
      "validation_loss on proxy = 0.6252\n",
      "validation_accuracy on proxy = 78.43%\n",
      "validation_loss on true ds = 1.6328\n",
      "validation_accuracy on true ds = 45.32%\n"
     ]
    },
    {
     "data": {
      "application/vnd.jupyter.widget-view+json": {
       "model_id": "dc5a7759d64e40b69f478b7f13b2f056",
       "version_major": 2,
       "version_minor": 0
      },
      "text/plain": [
       "  0%|          | 0/26 [00:00<?, ?it/s]"
      ]
     },
     "metadata": {},
     "output_type": "display_data"
    },
    {
     "name": "stdout",
     "output_type": "stream",
     "text": [
      "validation_loss on proxy = 0.5747\n",
      "validation_accuracy on proxy = 77.45%\n",
      "validation_loss on true ds = 1.5613\n",
      "validation_accuracy on true ds = 47.11%\n"
     ]
    },
    {
     "data": {
      "application/vnd.jupyter.widget-view+json": {
       "model_id": "9bc1c1a4fc9d4c0db1f80ac2fcaa0b35",
       "version_major": 2,
       "version_minor": 0
      },
      "text/plain": [
       "  0%|          | 0/26 [00:00<?, ?it/s]"
      ]
     },
     "metadata": {},
     "output_type": "display_data"
    },
    {
     "name": "stdout",
     "output_type": "stream",
     "text": [
      "validation_loss on proxy = 0.5444\n",
      "validation_accuracy on proxy = 76.47%\n",
      "validation_loss on true ds = 1.5894\n",
      "validation_accuracy on true ds = 47.48%\n"
     ]
    },
    {
     "data": {
      "application/vnd.jupyter.widget-view+json": {
       "model_id": "3435e56a07f84c148c2769374d5352db",
       "version_major": 2,
       "version_minor": 0
      },
      "text/plain": [
       "  0%|          | 0/26 [00:00<?, ?it/s]"
      ]
     },
     "metadata": {},
     "output_type": "display_data"
    },
    {
     "name": "stdout",
     "output_type": "stream",
     "text": [
      "validation_loss on proxy = 0.5415\n",
      "validation_accuracy on proxy = 76.47%\n",
      "validation_loss on true ds = 1.5868\n",
      "validation_accuracy on true ds = 47.37%\n"
     ]
    },
    {
     "data": {
      "application/vnd.jupyter.widget-view+json": {
       "model_id": "dd6f4462ea6c492f805a6ea3eafd7690",
       "version_major": 2,
       "version_minor": 0
      },
      "text/plain": [
       "  0%|          | 0/26 [00:00<?, ?it/s]"
      ]
     },
     "metadata": {},
     "output_type": "display_data"
    },
    {
     "name": "stdout",
     "output_type": "stream",
     "text": [
      "validation_loss on proxy = 0.5891\n",
      "validation_accuracy on proxy = 73.53%\n",
      "validation_loss on true ds = 1.5406\n",
      "validation_accuracy on true ds = 48.34%\n"
     ]
    },
    {
     "data": {
      "application/vnd.jupyter.widget-view+json": {
       "model_id": "2a3da8582c5a44dc98cfc3e55c88cccc",
       "version_major": 2,
       "version_minor": 0
      },
      "text/plain": [
       "  0%|          | 0/26 [00:00<?, ?it/s]"
      ]
     },
     "metadata": {},
     "output_type": "display_data"
    },
    {
     "name": "stdout",
     "output_type": "stream",
     "text": [
      "validation_loss on proxy = 0.6555\n",
      "validation_accuracy on proxy = 79.41%\n",
      "validation_loss on true ds = 1.7330\n",
      "validation_accuracy on true ds = 44.60%\n"
     ]
    },
    {
     "data": {
      "application/vnd.jupyter.widget-view+json": {
       "model_id": "a9e35f6e52954e8e9bcf49949a1e9aa2",
       "version_major": 2,
       "version_minor": 0
      },
      "text/plain": [
       "  0%|          | 0/26 [00:00<?, ?it/s]"
      ]
     },
     "metadata": {},
     "output_type": "display_data"
    },
    {
     "name": "stdout",
     "output_type": "stream",
     "text": [
      "validation_loss on proxy = 0.5629\n",
      "validation_accuracy on proxy = 79.41%\n",
      "validation_loss on true ds = 1.5847\n",
      "validation_accuracy on true ds = 47.97%\n"
     ]
    },
    {
     "data": {
      "application/vnd.jupyter.widget-view+json": {
       "model_id": "e6b8b98e206e435699d09073fea24c3e",
       "version_major": 2,
       "version_minor": 0
      },
      "text/plain": [
       "  0%|          | 0/26 [00:00<?, ?it/s]"
      ]
     },
     "metadata": {},
     "output_type": "display_data"
    },
    {
     "name": "stdout",
     "output_type": "stream",
     "text": [
      "validation_loss on proxy = 0.6067\n",
      "validation_accuracy on proxy = 77.45%\n",
      "validation_loss on true ds = 1.6335\n",
      "validation_accuracy on true ds = 47.24%\n"
     ]
    },
    {
     "data": {
      "application/vnd.jupyter.widget-view+json": {
       "model_id": "e109c08f28994cbd80d99f372a214803",
       "version_major": 2,
       "version_minor": 0
      },
      "text/plain": [
       "  0%|          | 0/26 [00:00<?, ?it/s]"
      ]
     },
     "metadata": {},
     "output_type": "display_data"
    },
    {
     "name": "stdout",
     "output_type": "stream",
     "text": [
      "validation_loss on proxy = 0.5851\n",
      "validation_accuracy on proxy = 77.45%\n",
      "validation_loss on true ds = 1.6094\n",
      "validation_accuracy on true ds = 48.50%\n"
     ]
    },
    {
     "data": {
      "application/vnd.jupyter.widget-view+json": {
       "model_id": "9198cbf30a004c8aa8c469375528678a",
       "version_major": 2,
       "version_minor": 0
      },
      "text/plain": [
       "  0%|          | 0/26 [00:00<?, ?it/s]"
      ]
     },
     "metadata": {},
     "output_type": "display_data"
    },
    {
     "name": "stdout",
     "output_type": "stream",
     "text": [
      "validation_loss on proxy = 0.5612\n",
      "validation_accuracy on proxy = 77.45%\n",
      "validation_loss on true ds = 1.5969\n",
      "validation_accuracy on true ds = 48.74%\n"
     ]
    },
    {
     "data": {
      "application/vnd.jupyter.widget-view+json": {
       "model_id": "77ccd61356bf4cf9808b0b85f47f567e",
       "version_major": 2,
       "version_minor": 0
      },
      "text/plain": [
       "  0%|          | 0/26 [00:00<?, ?it/s]"
      ]
     },
     "metadata": {},
     "output_type": "display_data"
    },
    {
     "name": "stdout",
     "output_type": "stream",
     "text": [
      "validation_loss on proxy = 0.5924\n",
      "validation_accuracy on proxy = 76.47%\n",
      "validation_loss on true ds = 1.6924\n",
      "validation_accuracy on true ds = 47.35%\n"
     ]
    },
    {
     "data": {
      "application/vnd.jupyter.widget-view+json": {
       "model_id": "1791075baa9640f68a13e1c287861903",
       "version_major": 2,
       "version_minor": 0
      },
      "text/plain": [
       "  0%|          | 0/26 [00:00<?, ?it/s]"
      ]
     },
     "metadata": {},
     "output_type": "display_data"
    },
    {
     "name": "stdout",
     "output_type": "stream",
     "text": [
      "validation_loss on proxy = 0.5630\n",
      "validation_accuracy on proxy = 76.47%\n",
      "validation_loss on true ds = 1.7696\n",
      "validation_accuracy on true ds = 46.43%\n"
     ]
    },
    {
     "data": {
      "application/vnd.jupyter.widget-view+json": {
       "model_id": "1ea6eeda6bca4bada41fd70eaa825f12",
       "version_major": 2,
       "version_minor": 0
      },
      "text/plain": [
       "  0%|          | 0/26 [00:00<?, ?it/s]"
      ]
     },
     "metadata": {},
     "output_type": "display_data"
    },
    {
     "name": "stdout",
     "output_type": "stream",
     "text": [
      "validation_loss on proxy = 0.5648\n",
      "validation_accuracy on proxy = 77.45%\n",
      "validation_loss on true ds = 1.6303\n",
      "validation_accuracy on true ds = 48.29%\n"
     ]
    },
    {
     "data": {
      "application/vnd.jupyter.widget-view+json": {
       "model_id": "991d1b8bdb154d1ab0031d6a08c5c518",
       "version_major": 2,
       "version_minor": 0
      },
      "text/plain": [
       "  0%|          | 0/26 [00:00<?, ?it/s]"
      ]
     },
     "metadata": {},
     "output_type": "display_data"
    },
    {
     "name": "stdout",
     "output_type": "stream",
     "text": [
      "validation_loss on proxy = 0.6688\n",
      "validation_accuracy on proxy = 78.43%\n",
      "validation_loss on true ds = 1.6961\n",
      "validation_accuracy on true ds = 47.76%\n"
     ]
    },
    {
     "data": {
      "application/vnd.jupyter.widget-view+json": {
       "model_id": "c18a55d326d34cdca96d66d21972c8b1",
       "version_major": 2,
       "version_minor": 0
      },
      "text/plain": [
       "  0%|          | 0/26 [00:00<?, ?it/s]"
      ]
     },
     "metadata": {},
     "output_type": "display_data"
    },
    {
     "name": "stdout",
     "output_type": "stream",
     "text": [
      "validation_loss on proxy = 0.5848\n",
      "validation_accuracy on proxy = 79.41%\n",
      "validation_loss on true ds = 1.6638\n",
      "validation_accuracy on true ds = 49.02%\n"
     ]
    },
    {
     "data": {
      "application/vnd.jupyter.widget-view+json": {
       "model_id": "8ed9b88934f24899b623df44f46990a1",
       "version_major": 2,
       "version_minor": 0
      },
      "text/plain": [
       "  0%|          | 0/26 [00:00<?, ?it/s]"
      ]
     },
     "metadata": {},
     "output_type": "display_data"
    },
    {
     "name": "stdout",
     "output_type": "stream",
     "text": [
      "validation_loss on proxy = 0.5135\n",
      "validation_accuracy on proxy = 79.41%\n",
      "validation_loss on true ds = 1.6598\n",
      "validation_accuracy on true ds = 49.30%\n"
     ]
    },
    {
     "data": {
      "application/vnd.jupyter.widget-view+json": {
       "model_id": "ed393e5ebd2e47fbbb7128a33f7ed9ad",
       "version_major": 2,
       "version_minor": 0
      },
      "text/plain": [
       "  0%|          | 0/26 [00:00<?, ?it/s]"
      ]
     },
     "metadata": {},
     "output_type": "display_data"
    },
    {
     "name": "stdout",
     "output_type": "stream",
     "text": [
      "validation_loss on proxy = 0.5990\n",
      "validation_accuracy on proxy = 75.49%\n",
      "validation_loss on true ds = 1.5844\n",
      "validation_accuracy on true ds = 51.36%\n"
     ]
    },
    {
     "data": {
      "application/vnd.jupyter.widget-view+json": {
       "model_id": "b25cac87959a4d4aa508bea9ff6f7262",
       "version_major": 2,
       "version_minor": 0
      },
      "text/plain": [
       "  0%|          | 0/26 [00:00<?, ?it/s]"
      ]
     },
     "metadata": {},
     "output_type": "display_data"
    },
    {
     "name": "stdout",
     "output_type": "stream",
     "text": [
      "validation_loss on proxy = 0.5807\n",
      "validation_accuracy on proxy = 80.39%\n",
      "validation_loss on true ds = 1.6487\n",
      "validation_accuracy on true ds = 49.17%\n"
     ]
    },
    {
     "data": {
      "application/vnd.jupyter.widget-view+json": {
       "model_id": "1e57808872784e608a948290d39979d5",
       "version_major": 2,
       "version_minor": 0
      },
      "text/plain": [
       "  0%|          | 0/26 [00:00<?, ?it/s]"
      ]
     },
     "metadata": {},
     "output_type": "display_data"
    },
    {
     "name": "stdout",
     "output_type": "stream",
     "text": [
      "validation_loss on proxy = 0.5767\n",
      "validation_accuracy on proxy = 79.41%\n",
      "validation_loss on true ds = 1.6625\n",
      "validation_accuracy on true ds = 49.46%\n"
     ]
    },
    {
     "data": {
      "application/vnd.jupyter.widget-view+json": {
       "model_id": "2ef1532d1f774f42afc2a376790fd088",
       "version_major": 2,
       "version_minor": 0
      },
      "text/plain": [
       "  0%|          | 0/26 [00:00<?, ?it/s]"
      ]
     },
     "metadata": {},
     "output_type": "display_data"
    },
    {
     "name": "stdout",
     "output_type": "stream",
     "text": [
      "validation_loss on proxy = 0.6114\n",
      "validation_accuracy on proxy = 78.43%\n",
      "validation_loss on true ds = 1.6223\n",
      "validation_accuracy on true ds = 50.81%\n"
     ]
    },
    {
     "data": {
      "application/vnd.jupyter.widget-view+json": {
       "model_id": "af5ce2c493b24811a5ca465c46a7c878",
       "version_major": 2,
       "version_minor": 0
      },
      "text/plain": [
       "  0%|          | 0/26 [00:00<?, ?it/s]"
      ]
     },
     "metadata": {},
     "output_type": "display_data"
    },
    {
     "name": "stdout",
     "output_type": "stream",
     "text": [
      "validation_loss on proxy = 0.5970\n",
      "validation_accuracy on proxy = 75.49%\n",
      "validation_loss on true ds = 1.6524\n",
      "validation_accuracy on true ds = 49.79%\n"
     ]
    },
    {
     "data": {
      "application/vnd.jupyter.widget-view+json": {
       "model_id": "f0d86d865f234d15b00771ab8294606a",
       "version_major": 2,
       "version_minor": 0
      },
      "text/plain": [
       "  0%|          | 0/26 [00:00<?, ?it/s]"
      ]
     },
     "metadata": {},
     "output_type": "display_data"
    },
    {
     "name": "stdout",
     "output_type": "stream",
     "text": [
      "validation_loss on proxy = 0.5659\n",
      "validation_accuracy on proxy = 78.43%\n",
      "validation_loss on true ds = 1.6940\n",
      "validation_accuracy on true ds = 48.87%\n"
     ]
    },
    {
     "data": {
      "application/vnd.jupyter.widget-view+json": {
       "model_id": "f75c601f847b458496ea46687d32c6c6",
       "version_major": 2,
       "version_minor": 0
      },
      "text/plain": [
       "  0%|          | 0/26 [00:00<?, ?it/s]"
      ]
     },
     "metadata": {},
     "output_type": "display_data"
    },
    {
     "name": "stdout",
     "output_type": "stream",
     "text": [
      "validation_loss on proxy = 0.6291\n",
      "validation_accuracy on proxy = 75.49%\n",
      "validation_loss on true ds = 1.7771\n",
      "validation_accuracy on true ds = 47.90%\n",
      "We are at epoch 37\n"
     ]
    }
   ],
   "source": [
    "early_stopping = EarlyStopping(tolerance=20, min_delta=0.001)\n",
    "# early_stopping = EarlyStopping(tolerance=5, min_delta=0.001)\n",
    "\n",
    "# Training the student\n",
    "for epoch in range(EPOCHS):\n",
    "    # Define progress bar\n",
    "    loop = tqdm(enumerate(train_dataloader), total=len(train_dataloader))\n",
    "    \n",
    "    # Training loop\n",
    "    student_model.train()\n",
    "    training_loss_epoch = []\n",
    "    for batch_idx, (x,y,soft_y) in loop:\n",
    "        optimizer.zero_grad()\n",
    "        \n",
    "        x = x.to(device=device)\n",
    "        y = y.to(device=device)\n",
    "        soft_y = soft_y.to(device=device)\n",
    "        \n",
    "        # Forward pass\n",
    "        logits = student_model(x)\n",
    "        # Backward pass\n",
    "        loss = criterion(input=logits, target=soft_y)\n",
    "        training_loss_epoch.append(loss.item())\n",
    "        # Prob trb inlocuit criterionul, sa adaugi soft-labels\n",
    "        loss.backward()\n",
    "        \n",
    "        # Optimize\n",
    "        optimizer.step()\n",
    "        \n",
    "        # Update progress bar\n",
    "        loop.set_description(f'Epoch {epoch+1}/{EPOCHS}')\n",
    "        loop.set_postfix(training_loss=loss.item())\n",
    "    \n",
    "    # Validation loop on proxy validation dataset\n",
    "    student_model.eval()\n",
    "    validation_loss_epoch = []  \n",
    "    acc = 0\n",
    "    with torch.no_grad():\n",
    "        for x,y,_ in valid_dataloader:\n",
    "            x = x.to(device=device)\n",
    "            y = y.to(device=device)\n",
    "        \n",
    "            logits = student_model(x)\n",
    "            pred = softmax(logits, dim=1)\n",
    "            \n",
    "            confidence,y_hat = torch.max(pred, dim=1)\n",
    "            \n",
    "            loss = criterion(input=logits, target=y)\n",
    "            validation_loss_epoch.append(loss.item())\n",
    "            \n",
    "            acc += torch.sum(y_hat==y).item()\n",
    "        \n",
    "    loop.write(f'validation_loss on proxy = {sum(validation_loss_epoch)/len(validation_loss_epoch):.4f}')\n",
    "    loop.write(f'validation_accuracy on proxy = {100*acc/len(proxy_valid_dataset):.2f}%')\n",
    "\n",
    "    if validate_on_trueds:\n",
    "        # Validation loop on proxy validation dataset\n",
    "        student_model.eval()\n",
    "        with torch.no_grad():\n",
    "            val_loss = []\n",
    "            acc = 0\n",
    "            for x,y in true_valid_ds:\n",
    "                x = x.to(device=device)\n",
    "                y = y.to(device=device)\n",
    "            \n",
    "                logits = student_model(x)\n",
    "                pred = softmax(logits, dim=1)\n",
    "                \n",
    "                confidence,y_hat = torch.max(pred, dim=1)\n",
    "                \n",
    "                loss = criterion(input=logits, target=y)\n",
    "                val_loss.append(loss.item())\n",
    "                \n",
    "                acc += torch.sum(y_hat==y).item()\n",
    "            \n",
    "        loop.write(f'validation_loss on true ds = {sum(val_loss)/len(val_loss):.4f}')\n",
    "        loop.write(f'validation_accuracy on true ds = {100*acc/len(true_dataset.test_dataset):.2f}%')\n",
    "\n",
    "    early_stopping(sum(validation_loss_epoch)/len(validation_loss_epoch))\n",
    "    if early_stopping.early_stop:\n",
    "      print(f\"We are at epoch {epoch}\")\n",
    "      break"
   ]
  },
  {
   "cell_type": "code",
   "execution_count": 13,
   "metadata": {
    "colab": {
     "base_uri": "https://localhost:8080/"
    },
    "id": "YN6xau7Lzk0K",
    "outputId": "85cb31f5-2fd3-4b8d-edab-8c23f25b9a40"
   },
   "outputs": [
    {
     "name": "stdout",
     "output_type": "stream",
     "text": [
      "Student with true dataset:\n",
      "test_loss = 1.7771\n",
      "test_accuracy = 47.90%\n",
      "\n",
      "Class airplane: pred=464, actual=1000 => acc=46.40%, total_pred=837\n",
      "Class automobile: pred=552, actual=1000 => acc=55.20%, total_pred=742\n",
      "Class bird: pred=467, actual=1000 => acc=46.70%, total_pred=1286\n",
      "Class cat: pred=537, actual=1000 => acc=53.70%, total_pred=1718\n",
      "Class deer: pred=478, actual=1000 => acc=47.80%, total_pred=1057\n",
      "Class dog: pred=366, actual=1000 => acc=36.60%, total_pred=1036\n",
      "Class frog: pred=224, actual=1000 => acc=22.40%, total_pred=288\n",
      "Class horse: pred=550, actual=1000 => acc=55.00%, total_pred=1361\n",
      "Class ship: pred=441, actual=1000 => acc=44.10%, total_pred=571\n",
      "Class truck: pred=711, actual=1000 => acc=71.10%, total_pred=1104\n"
     ]
    }
   ],
   "source": [
    "# Testing on CIFAR10 ground truth\n",
    "true_dataloader = true_dataset.test_dataloader()\n",
    "acc_per_class = {k:[0,0,0] for k,v in label_mapper_inv.items()}\n",
    "\n",
    "student_model.eval()\n",
    "with torch.no_grad():\n",
    "    test_loss = []\n",
    "    acc = 0\n",
    "    for x,y in true_dataloader:\n",
    "        x = x.to(device=device)\n",
    "        y = y.to(device=device)\n",
    "    \n",
    "        logits = student_model(x)\n",
    "        pred = softmax(logits, dim=1)\n",
    "        \n",
    "        confidence,y_hat = torch.max(pred, dim=1)\n",
    "        \n",
    "        loss = criterion(input=logits, target=y)\n",
    "        test_loss.append(loss.item())\n",
    "        \n",
    "        acc += torch.sum(y_hat==y)\n",
    "        \n",
    "        for i in range(len(y)):\n",
    "            a = y[i].item()\n",
    "            p = y_hat[i].item()\n",
    "            \n",
    "            \n",
    "            acc_per_class[a][1] += 1\n",
    "            acc_per_class[p][2] += 1\n",
    "            if a == p:\n",
    "                acc_per_class[a][0] += 1\n",
    "        \n",
    "    print('Student with true dataset:')\n",
    "    print(f'test_loss = {sum(test_loss)/len(test_loss):.4f}')                  # 1.7439;  1.6199\n",
    "    print(f'test_accuracy = {100*acc/len(true_dataset.test_dataset):.2f}%')    # 46.09%;  48.57%\n",
    "    print()\n",
    "    \n",
    "for k,v in acc_per_class.items():\n",
    "    print(f'Class {label_mapper_inv[k]}: pred={v[0]}, actual={v[1]} => acc={v[0]*100/v[1]:.2f}%, total_pred={v[2]}')"
   ]
  },
  {
   "cell_type": "code",
   "execution_count": 14,
   "metadata": {
    "colab": {
     "base_uri": "https://localhost:8080/"
    },
    "id": "c3nKp8h6GZa1",
    "outputId": "48b21216-dc14-4b6e-e232-ce727f9771fb"
   },
   "outputs": [
    {
     "name": "stdout",
     "output_type": "stream",
     "text": [
      "Student with true dataset:\n",
      "test_loss = 1.7566\n",
      "test_accuracy = 48.24%\n",
      "\n",
      "Class airplane: pred=478, actual=1038 => acc=46.05%, total_pred=837\n",
      "Class automobile: pred=560, actual=1002 => acc=55.89%, total_pred=742\n",
      "Class bird: pred=468, actual=965 => acc=48.50%, total_pred=1286\n",
      "Class cat: pred=507, actual=938 => acc=54.05%, total_pred=1718\n",
      "Class deer: pred=506, actual=1108 => acc=45.67%, total_pred=1057\n",
      "Class dog: pred=355, actual=913 => acc=38.88%, total_pred=1036\n",
      "Class frog: pred=216, actual=996 => acc=21.69%, total_pred=288\n",
      "Class horse: pred=565, actual=1063 => acc=53.15%, total_pred=1361\n",
      "Class ship: pred=433, actual=939 => acc=46.11%, total_pred=571\n",
      "Class truck: pred=736, actual=1038 => acc=70.91%, total_pred=1104\n"
     ]
    }
   ],
   "source": [
    "# Testing using labels predicted with teacher\n",
    "true_dataloader = true_dataset.test_dataloader()\n",
    "acc_per_class = {k:[0,0,0] for k,v in label_mapper_inv.items()}\n",
    "\n",
    "student_model.eval()\n",
    "teacher_model.eval()\n",
    "with torch.no_grad():\n",
    "    test_loss = []\n",
    "    acc = 0\n",
    "    for x,y in true_dataloader:\n",
    "        x = x.to(device=device)\n",
    "        # y = y.to(device=device)\n",
    "\n",
    "        teacher_pred = softmax(teacher_model(x), dim=1)\n",
    "        _, y = torch.max(teacher_pred, dim=1)\n",
    "    \n",
    "        logits = student_model(x)\n",
    "        pred = softmax(logits, dim=1)\n",
    "        \n",
    "        confidence,y_hat = torch.max(pred, dim=1)\n",
    "        \n",
    "        loss = criterion(input=logits, target=y)\n",
    "        test_loss.append(loss.item())\n",
    "        \n",
    "        acc += torch.sum(y_hat==y)\n",
    "        \n",
    "        for i in range(len(y)):\n",
    "            a = y[i].item()\n",
    "            p = y_hat[i].item()\n",
    "            \n",
    "            \n",
    "            acc_per_class[a][1] += 1\n",
    "            acc_per_class[p][2] += 1\n",
    "            if a == p:\n",
    "                acc_per_class[a][0] += 1\n",
    "        \n",
    "    print('Student with true dataset:')\n",
    "    print(f'test_loss = {sum(test_loss)/len(test_loss):.4f}')                  # 1.7439;  1.6199\n",
    "    print(f'test_accuracy = {100*acc/len(true_dataset.test_dataset):.2f}%')    # 46.09%;  48.57%\n",
    "    print()\n",
    "    \n",
    "for k,v in acc_per_class.items():\n",
    "    print(f'Class {label_mapper_inv[k]}: pred={v[0]}, actual={v[1]} => acc={v[0]*100/v[1]:.2f}%, total_pred={v[2]}')"
   ]
  },
  {
   "cell_type": "code",
   "execution_count": 15,
   "metadata": {
    "id": "iEGZLvslraqe"
   },
   "outputs": [],
   "source": [
    "# Redefine training dataset and dataloader with no augmentation\n",
    "proxy_train_dataset = ProxyDataset(train_images, train_labels, valid_transforms, False, train_soft_labels)\n",
    "train_dataloader = DataLoader(proxy_train_dataset, batch_size=BATCH_SIZE, shuffle=True)\n",
    "\n",
    "\n",
    "student_model.return_feature_domain = True\n",
    "\n",
    "if os.path.exists('images_db'):\n",
    "  rmtree('images_db')\n",
    "db_path = 'images_db'\n",
    "images_path = os.path.join(db_path,'images')\n",
    "labels_path = os.path.join(db_path,'labels')\n",
    "\n",
    "images_db = []\n",
    "labels_db = []\n",
    "\n",
    "if not os.path.exists('images_db'):\n",
    "  os.makedirs(db_path)\n",
    "  os.makedirs(images_path)\n",
    "  os.makedirs(labels_path)\n",
    "\n",
    "  for i in range(10):\n",
    "    os.makedirs(os.path.join(images_path,f'class{i}'))\n",
    "    os.makedirs(os.path.join(labels_path,f'class{i}'))\n",
    "\n",
    "# Create the database\n",
    "student_model.eval()\n",
    "with torch.no_grad():\n",
    "  for dataloader in [train_dataloader, valid_dataloader, test_dataloader]:\n",
    "    for x,y,soft_y in dataloader:\n",
    "      x = x.to(device=device)\n",
    "\n",
    "      _,latent_fm = student_model(x)\n",
    "\n",
    "      for i in range(latent_fm.shape[0]):\n",
    "        label = y[i].item()\n",
    "        path_image = f'{images_path}/class{label}'\n",
    "        path_label = f'{labels_path}/class{label}'\n",
    "        \n",
    "        idx = len(os.listdir(path_image))\n",
    "\n",
    "        # torch.save(latent_fm[i].cpu(), f'{path_image}/t{idx}.pt')\n",
    "        # torch.save(soft_y[i].cpu(), f'{path_label}/t{idx}.pt')\n",
    "\n",
    "        images_db.append(latent_fm[i])\n",
    "        labels_db.append(soft_y[i])"
   ]
  },
  {
   "cell_type": "code",
   "execution_count": 16,
   "metadata": {
    "id": "h9vnLo2DZ3ts"
   },
   "outputs": [],
   "source": [
    "class DBDataset(Dataset):\n",
    "  def __init__(self, images_db, labels_db):\n",
    "    self.images_db = images_db\n",
    "    self.labels_db = labels_db\n",
    "\n",
    "  def __len__(self):\n",
    "    return len(self.images_db)\n",
    "\n",
    "  def __getitem__(self, idx):\n",
    "    image = self.images_db[idx]\n",
    "    label = self.labels_db[idx]\n",
    "\n",
    "    return image, label\n",
    "\n",
    "db_dataset = DBDataset(images_db=images_db, labels_db=labels_db)\n",
    "db_dataloader = DataLoader(db_dataset, batch_size=128)"
   ]
  },
  {
   "cell_type": "code",
   "execution_count": 17,
   "metadata": {
    "id": "IvlP1VQBhiEO"
   },
   "outputs": [],
   "source": [
    "proxy_unused_dataset  = ProxyDataset(filtered_images_unused,  filtered_labels_unused,  valid_transforms, True, filtered_soft_labels_unused)"
   ]
  },
  {
   "cell_type": "code",
   "execution_count": 18,
   "metadata": {
    "colab": {
     "base_uri": "https://localhost:8080/",
     "height": 290,
     "referenced_widgets": [
      "a8f2e2541be5409e86fae758d5f69b6a",
      "72ff93bf4145408b801f99485950f2da",
      "2c46b959bee7429f8da5394790591907",
      "e6cea5484f5444a8aae4b68e4cca9677",
      "c848b3bad8924d55976b7a3c3b6acde8",
      "6b2c1311df4c4fa3a60d3a466d809e66",
      "c86c144c3c9e41358633aa78509d3de7",
      "55ddff88b8b3439dab43efc612bce63e",
      "3d62cb4fdf2a4dca91cf7669f75826f9",
      "41f1cf625859422092090d52e3794b68",
      "41ff2b73bc49402fbd500c9124cf55b9"
     ]
    },
    "id": "XCrGt6GLi0qY",
    "outputId": "ee493077-af4b-46b2-eece-38b0fd28a410"
   },
   "outputs": [
    {
     "data": {
      "application/vnd.jupyter.widget-view+json": {
       "model_id": "48c18e8c2e06447385854192e85e621e",
       "version_major": 2,
       "version_minor": 0
      },
      "text/plain": [
       "  0%|          | 0/50176 [00:00<?, ?it/s]"
      ]
     },
     "metadata": {},
     "output_type": "display_data"
    },
    {
     "name": "stdout",
     "output_type": "stream",
     "text": [
      "811 / 1001\n",
      "1623 / 2001\n",
      "2413 / 3001\n",
      "3191 / 4001\n",
      "3977 / 5001\n",
      "4766 / 6001\n",
      "5561 / 7001\n",
      "6372 / 8001\n",
      "7157 / 9001\n",
      "7945 / 10001\n",
      "8740 / 11001\n",
      "9525 / 12001\n",
      "10315 / 13001\n",
      "11128 / 14001\n",
      "11928 / 15001\n",
      "12728 / 16001\n",
      "13506 / 17001\n",
      "14279 / 18001\n",
      "15053 / 19001\n",
      "15853 / 20001\n",
      "16649 / 21001\n",
      "17443 / 22001\n",
      "18254 / 23001\n",
      "19039 / 24001\n",
      "19852 / 25001\n",
      "20662 / 26001\n",
      "21465 / 27001\n",
      "22271 / 28001\n",
      "23083 / 29001\n",
      "23891 / 30001\n",
      "24684 / 31001\n",
      "25486 / 32001\n",
      "26303 / 33001\n",
      "27102 / 34001\n",
      "27894 / 35001\n",
      "28680 / 36001\n",
      "29452 / 37001\n",
      "30237 / 38001\n",
      "31030 / 39001\n",
      "31847 / 40001\n",
      "32656 / 41001\n",
      "33441 / 42001\n",
      "34226 / 43001\n",
      "35025 / 44001\n",
      "35827 / 45001\n",
      "36616 / 46001\n",
      "37409 / 47001\n",
      "38198 / 48001\n",
      "38975 / 49001\n",
      "39776 / 50001\n",
      "Final score: 39916 / 50176\n"
     ]
    }
   ],
   "source": [
    "estimations = []\n",
    "ground_truth = []\n",
    "\n",
    "with torch.no_grad():\n",
    "  for i in trange(len(proxy_unused_dataset)):\n",
    "    image, label, image_path, soft_label = proxy_unused_dataset[i]\n",
    "    image = image.to(device=device)\n",
    "\n",
    "    _,latent_fm = student_model(image.unsqueeze(dim=0))\n",
    "\n",
    "    norm_unkwn = torch.sqrt(torch.sum(torch.square(latent_fm), dim=(-1,-2,-3), keepdim=True))\n",
    "\n",
    "    # Calculate distances\n",
    "    distances = []\n",
    "    for img_db, softl_db in db_dataloader:\n",
    "      img_db = img_db.to(device=device)\n",
    "\n",
    "      norm_db = torch.sqrt(torch.sum(torch.square(img_db), dim=(-1,-2,-3), keepdim=True))\n",
    "\n",
    "      dot_prod = torch.tensordot(img_db, latent_fm, dims=[[-1,-2,-3],[-1,-2,-3]])\n",
    "      denominator = (norm_db * norm_unkwn).squeeze(dim=-1).squeeze(dim=-1)\n",
    "      cosine_similarities = (dot_prod / denominator).squeeze(dim=-1)\n",
    "\n",
    "      distances.extend(cosine_similarities.cpu().tolist())\n",
    "\n",
    "    # Get indices of smallest distances\n",
    "    distances = np.array(distances)\n",
    "    k = 3\n",
    "    smallest_indices = np.argpartition(distances, -k)[-k:]\n",
    "\n",
    "    smallest_d, smallest_slabels = [], []\n",
    "    for small_idx in smallest_indices:\n",
    "      img_db, softl_db = db_dataset[small_idx]\n",
    "      smallest_d.append(img_db.cpu().numpy())\n",
    "      smallest_slabels.append(softl_db.cpu().numpy())\n",
    "\n",
    "    smallest_d = np.array(smallest_d)\n",
    "    smallest_slabels = np.array(smallest_slabels)\n",
    "\n",
    "    estimated_soft_label = smallest_slabels.mean(0)\n",
    "    estimated_hard_label = estimated_soft_label.argmax()\n",
    "    \n",
    "    train_images.append(image_path)\n",
    "    train_labels.append(estimated_hard_label.item())\n",
    "    train_soft_labels.append(torch.Tensor(estimated_soft_label).to(device=device))\n",
    "\n",
    "    estimations.append(estimated_hard_label)\n",
    "    ground_truth.append(soft_label.argmax().cpu().item())\n",
    "    # print(f'Estimated hard label: {estimations[-1]}')\n",
    "    # print(f'Actual hard label: {ground_truth[-1]}')\n",
    "\n",
    "    if i % 1000 == 0 and i != 0:\n",
    "      # Display results\n",
    "      correct = (np.array(estimations) == np.array(ground_truth)).sum()\n",
    "      print(f'{correct} / {len(estimations)}')\n",
    "\n",
    "correct = (np.array(estimations) == np.array(ground_truth)).sum()\n",
    "print(f'Final score: {correct} / {len(estimations)}')"
   ]
  },
  {
   "cell_type": "code",
   "execution_count": 19,
   "metadata": {},
   "outputs": [
    {
     "name": "stdout",
     "output_type": "stream",
     "text": [
      "Final score: 39916 / 50176\n"
     ]
    }
   ],
   "source": [
    "correct = (np.array(estimations) == np.array(ground_truth)).sum()\n",
    "print(f'Final score: {correct} / {len(estimations)}')"
   ]
  },
  {
   "cell_type": "code",
   "execution_count": 20,
   "metadata": {},
   "outputs": [
    {
     "data": {
      "application/vnd.jupyter.widget-view+json": {
       "model_id": "8fe845d9f6ca46568df6796881c05ded",
       "version_major": 2,
       "version_minor": 0
      },
      "text/plain": [
       "  0%|          | 0/1594 [00:00<?, ?it/s]"
      ]
     },
     "metadata": {},
     "output_type": "display_data"
    },
    {
     "name": "stdout",
     "output_type": "stream",
     "text": [
      "validation_loss on proxy = 0.4980\n",
      "validation_accuracy on proxy = 84.31%\n",
      "validation_loss on true ds = 1.6012\n",
      "validation_accuracy on true ds = 51.77%\n"
     ]
    },
    {
     "data": {
      "application/vnd.jupyter.widget-view+json": {
       "model_id": "400ec57dc4c5417190eafc5fac5181c8",
       "version_major": 2,
       "version_minor": 0
      },
      "text/plain": [
       "  0%|          | 0/1594 [00:00<?, ?it/s]"
      ]
     },
     "metadata": {},
     "output_type": "display_data"
    },
    {
     "name": "stdout",
     "output_type": "stream",
     "text": [
      "validation_loss on proxy = 0.6084\n",
      "validation_accuracy on proxy = 82.35%\n",
      "validation_loss on true ds = 1.6800\n",
      "validation_accuracy on true ds = 50.04%\n"
     ]
    },
    {
     "data": {
      "application/vnd.jupyter.widget-view+json": {
       "model_id": "e10c1d64d0fa4f0bac2d68119c1e107a",
       "version_major": 2,
       "version_minor": 0
      },
      "text/plain": [
       "  0%|          | 0/1594 [00:00<?, ?it/s]"
      ]
     },
     "metadata": {},
     "output_type": "display_data"
    },
    {
     "name": "stdout",
     "output_type": "stream",
     "text": [
      "validation_loss on proxy = 0.4988\n",
      "validation_accuracy on proxy = 82.35%\n",
      "validation_loss on true ds = 1.7245\n",
      "validation_accuracy on true ds = 49.85%\n"
     ]
    },
    {
     "data": {
      "application/vnd.jupyter.widget-view+json": {
       "model_id": "73a440ed85714116a0908ca4160b091d",
       "version_major": 2,
       "version_minor": 0
      },
      "text/plain": [
       "  0%|          | 0/1594 [00:00<?, ?it/s]"
      ]
     },
     "metadata": {},
     "output_type": "display_data"
    },
    {
     "name": "stdout",
     "output_type": "stream",
     "text": [
      "validation_loss on proxy = 0.5373\n",
      "validation_accuracy on proxy = 84.31%\n",
      "validation_loss on true ds = 1.6481\n",
      "validation_accuracy on true ds = 51.74%\n"
     ]
    },
    {
     "data": {
      "application/vnd.jupyter.widget-view+json": {
       "model_id": "7f1e2476da034e1691540effb1b06d44",
       "version_major": 2,
       "version_minor": 0
      },
      "text/plain": [
       "  0%|          | 0/1594 [00:00<?, ?it/s]"
      ]
     },
     "metadata": {},
     "output_type": "display_data"
    },
    {
     "name": "stdout",
     "output_type": "stream",
     "text": [
      "validation_loss on proxy = 0.5300\n",
      "validation_accuracy on proxy = 84.31%\n",
      "validation_loss on true ds = 1.6821\n",
      "validation_accuracy on true ds = 49.92%\n"
     ]
    },
    {
     "data": {
      "application/vnd.jupyter.widget-view+json": {
       "model_id": "f8647d876cf24fc09384d91a57b96827",
       "version_major": 2,
       "version_minor": 0
      },
      "text/plain": [
       "  0%|          | 0/1594 [00:00<?, ?it/s]"
      ]
     },
     "metadata": {},
     "output_type": "display_data"
    },
    {
     "name": "stdout",
     "output_type": "stream",
     "text": [
      "validation_loss on proxy = 0.4932\n",
      "validation_accuracy on proxy = 84.31%\n",
      "validation_loss on true ds = 1.6166\n",
      "validation_accuracy on true ds = 52.81%\n"
     ]
    },
    {
     "data": {
      "application/vnd.jupyter.widget-view+json": {
       "model_id": "7213dcd75e624b73b03fa21aa28bcb65",
       "version_major": 2,
       "version_minor": 0
      },
      "text/plain": [
       "  0%|          | 0/1594 [00:00<?, ?it/s]"
      ]
     },
     "metadata": {},
     "output_type": "display_data"
    },
    {
     "name": "stdout",
     "output_type": "stream",
     "text": [
      "validation_loss on proxy = 0.5126\n",
      "validation_accuracy on proxy = 84.31%\n",
      "validation_loss on true ds = 1.6941\n",
      "validation_accuracy on true ds = 50.08%\n"
     ]
    },
    {
     "data": {
      "application/vnd.jupyter.widget-view+json": {
       "model_id": "ca526e3faabb4b519bd9c5fd379cf439",
       "version_major": 2,
       "version_minor": 0
      },
      "text/plain": [
       "  0%|          | 0/1594 [00:00<?, ?it/s]"
      ]
     },
     "metadata": {},
     "output_type": "display_data"
    },
    {
     "name": "stdout",
     "output_type": "stream",
     "text": [
      "validation_loss on proxy = 0.5213\n",
      "validation_accuracy on proxy = 84.31%\n",
      "validation_loss on true ds = 1.7141\n",
      "validation_accuracy on true ds = 50.92%\n"
     ]
    },
    {
     "data": {
      "application/vnd.jupyter.widget-view+json": {
       "model_id": "1f71187a0fbb485d9d309313926beca3",
       "version_major": 2,
       "version_minor": 0
      },
      "text/plain": [
       "  0%|          | 0/1594 [00:00<?, ?it/s]"
      ]
     },
     "metadata": {},
     "output_type": "display_data"
    },
    {
     "name": "stdout",
     "output_type": "stream",
     "text": [
      "validation_loss on proxy = 0.4800\n",
      "validation_accuracy on proxy = 87.25%\n",
      "validation_loss on true ds = 1.7531\n",
      "validation_accuracy on true ds = 50.08%\n"
     ]
    },
    {
     "data": {
      "application/vnd.jupyter.widget-view+json": {
       "model_id": "e55d697cc60b4043a264cc7b9d84b473",
       "version_major": 2,
       "version_minor": 0
      },
      "text/plain": [
       "  0%|          | 0/1594 [00:00<?, ?it/s]"
      ]
     },
     "metadata": {},
     "output_type": "display_data"
    },
    {
     "name": "stdout",
     "output_type": "stream",
     "text": [
      "validation_loss on proxy = 0.5753\n",
      "validation_accuracy on proxy = 83.33%\n",
      "validation_loss on true ds = 1.7276\n",
      "validation_accuracy on true ds = 50.83%\n"
     ]
    },
    {
     "data": {
      "application/vnd.jupyter.widget-view+json": {
       "model_id": "7c2d13937d1b4816b31f85b0af16e6d9",
       "version_major": 2,
       "version_minor": 0
      },
      "text/plain": [
       "  0%|          | 0/1594 [00:00<?, ?it/s]"
      ]
     },
     "metadata": {},
     "output_type": "display_data"
    },
    {
     "name": "stdout",
     "output_type": "stream",
     "text": [
      "validation_loss on proxy = 0.5849\n",
      "validation_accuracy on proxy = 83.33%\n",
      "validation_loss on true ds = 1.7437\n",
      "validation_accuracy on true ds = 52.21%\n"
     ]
    },
    {
     "data": {
      "application/vnd.jupyter.widget-view+json": {
       "model_id": "51f932d9050e4af7a4c6ad4fc62d3220",
       "version_major": 2,
       "version_minor": 0
      },
      "text/plain": [
       "  0%|          | 0/1594 [00:00<?, ?it/s]"
      ]
     },
     "metadata": {},
     "output_type": "display_data"
    },
    {
     "name": "stdout",
     "output_type": "stream",
     "text": [
      "validation_loss on proxy = 0.5334\n",
      "validation_accuracy on proxy = 82.35%\n",
      "validation_loss on true ds = 1.8100\n",
      "validation_accuracy on true ds = 49.67%\n"
     ]
    },
    {
     "data": {
      "application/vnd.jupyter.widget-view+json": {
       "model_id": "2806b3cc26ca474b87024cd39ad0c861",
       "version_major": 2,
       "version_minor": 0
      },
      "text/plain": [
       "  0%|          | 0/1594 [00:00<?, ?it/s]"
      ]
     },
     "metadata": {},
     "output_type": "display_data"
    },
    {
     "name": "stdout",
     "output_type": "stream",
     "text": [
      "validation_loss on proxy = 0.5597\n",
      "validation_accuracy on proxy = 82.35%\n",
      "validation_loss on true ds = 1.7276\n",
      "validation_accuracy on true ds = 51.47%\n"
     ]
    },
    {
     "data": {
      "application/vnd.jupyter.widget-view+json": {
       "model_id": "1d503e074a3546b6a30ea39da1b029ab",
       "version_major": 2,
       "version_minor": 0
      },
      "text/plain": [
       "  0%|          | 0/1594 [00:00<?, ?it/s]"
      ]
     },
     "metadata": {},
     "output_type": "display_data"
    },
    {
     "name": "stdout",
     "output_type": "stream",
     "text": [
      "validation_loss on proxy = 0.5665\n",
      "validation_accuracy on proxy = 84.31%\n",
      "validation_loss on true ds = 1.8617\n",
      "validation_accuracy on true ds = 49.44%\n"
     ]
    },
    {
     "data": {
      "application/vnd.jupyter.widget-view+json": {
       "model_id": "04f14e7878e94e1f812ff57b9c5d27be",
       "version_major": 2,
       "version_minor": 0
      },
      "text/plain": [
       "  0%|          | 0/1594 [00:00<?, ?it/s]"
      ]
     },
     "metadata": {},
     "output_type": "display_data"
    },
    {
     "name": "stdout",
     "output_type": "stream",
     "text": [
      "validation_loss on proxy = 0.5507\n",
      "validation_accuracy on proxy = 83.33%\n",
      "validation_loss on true ds = 1.8770\n",
      "validation_accuracy on true ds = 50.38%\n"
     ]
    },
    {
     "data": {
      "application/vnd.jupyter.widget-view+json": {
       "model_id": "5e047dfc6e4a46a6b06985c3d3e2375d",
       "version_major": 2,
       "version_minor": 0
      },
      "text/plain": [
       "  0%|          | 0/1594 [00:00<?, ?it/s]"
      ]
     },
     "metadata": {},
     "output_type": "display_data"
    },
    {
     "name": "stdout",
     "output_type": "stream",
     "text": [
      "validation_loss on proxy = 0.5355\n",
      "validation_accuracy on proxy = 83.33%\n",
      "validation_loss on true ds = 1.7022\n",
      "validation_accuracy on true ds = 52.28%\n"
     ]
    },
    {
     "data": {
      "application/vnd.jupyter.widget-view+json": {
       "model_id": "2aa96c51bf5743828158fa72ac088511",
       "version_major": 2,
       "version_minor": 0
      },
      "text/plain": [
       "  0%|          | 0/1594 [00:00<?, ?it/s]"
      ]
     },
     "metadata": {},
     "output_type": "display_data"
    },
    {
     "name": "stdout",
     "output_type": "stream",
     "text": [
      "validation_loss on proxy = 0.5567\n",
      "validation_accuracy on proxy = 85.29%\n",
      "validation_loss on true ds = 1.8041\n",
      "validation_accuracy on true ds = 51.67%\n"
     ]
    },
    {
     "data": {
      "application/vnd.jupyter.widget-view+json": {
       "model_id": "82ec49789a0f47d88280f70fd50c88fb",
       "version_major": 2,
       "version_minor": 0
      },
      "text/plain": [
       "  0%|          | 0/1594 [00:00<?, ?it/s]"
      ]
     },
     "metadata": {},
     "output_type": "display_data"
    },
    {
     "name": "stdout",
     "output_type": "stream",
     "text": [
      "validation_loss on proxy = 0.5482\n",
      "validation_accuracy on proxy = 86.27%\n",
      "validation_loss on true ds = 1.7243\n",
      "validation_accuracy on true ds = 51.58%\n"
     ]
    },
    {
     "data": {
      "application/vnd.jupyter.widget-view+json": {
       "model_id": "ae541529743d446689299a6d526216ba",
       "version_major": 2,
       "version_minor": 0
      },
      "text/plain": [
       "  0%|          | 0/1594 [00:00<?, ?it/s]"
      ]
     },
     "metadata": {},
     "output_type": "display_data"
    },
    {
     "name": "stdout",
     "output_type": "stream",
     "text": [
      "validation_loss on proxy = 0.5064\n",
      "validation_accuracy on proxy = 83.33%\n",
      "validation_loss on true ds = 1.9045\n",
      "validation_accuracy on true ds = 50.65%\n"
     ]
    },
    {
     "data": {
      "application/vnd.jupyter.widget-view+json": {
       "model_id": "bf1bed7174cd41a7acfdcd1c044d6351",
       "version_major": 2,
       "version_minor": 0
      },
      "text/plain": [
       "  0%|          | 0/1594 [00:00<?, ?it/s]"
      ]
     },
     "metadata": {},
     "output_type": "display_data"
    },
    {
     "name": "stdout",
     "output_type": "stream",
     "text": [
      "validation_loss on proxy = 0.6494\n",
      "validation_accuracy on proxy = 84.31%\n",
      "validation_loss on true ds = 1.8053\n",
      "validation_accuracy on true ds = 52.05%\n"
     ]
    },
    {
     "data": {
      "application/vnd.jupyter.widget-view+json": {
       "model_id": "8d11d3b804c2487abbaf2944ad8f0c23",
       "version_major": 2,
       "version_minor": 0
      },
      "text/plain": [
       "  0%|          | 0/1594 [00:00<?, ?it/s]"
      ]
     },
     "metadata": {},
     "output_type": "display_data"
    },
    {
     "name": "stdout",
     "output_type": "stream",
     "text": [
      "validation_loss on proxy = 0.5335\n",
      "validation_accuracy on proxy = 86.27%\n",
      "validation_loss on true ds = 1.9247\n",
      "validation_accuracy on true ds = 50.57%\n"
     ]
    },
    {
     "data": {
      "application/vnd.jupyter.widget-view+json": {
       "model_id": "0eff3f1c3dca4e2d86ecb89bce1ff65b",
       "version_major": 2,
       "version_minor": 0
      },
      "text/plain": [
       "  0%|          | 0/1594 [00:00<?, ?it/s]"
      ]
     },
     "metadata": {},
     "output_type": "display_data"
    },
    {
     "name": "stdout",
     "output_type": "stream",
     "text": [
      "validation_loss on proxy = 0.5205\n",
      "validation_accuracy on proxy = 85.29%\n",
      "validation_loss on true ds = 1.8493\n",
      "validation_accuracy on true ds = 51.04%\n"
     ]
    },
    {
     "data": {
      "application/vnd.jupyter.widget-view+json": {
       "model_id": "dba34035b9d845c3b705cdf9955a2908",
       "version_major": 2,
       "version_minor": 0
      },
      "text/plain": [
       "  0%|          | 0/1594 [00:00<?, ?it/s]"
      ]
     },
     "metadata": {},
     "output_type": "display_data"
    },
    {
     "name": "stdout",
     "output_type": "stream",
     "text": [
      "validation_loss on proxy = 0.5281\n",
      "validation_accuracy on proxy = 83.33%\n",
      "validation_loss on true ds = 1.7492\n",
      "validation_accuracy on true ds = 51.95%\n"
     ]
    },
    {
     "data": {
      "application/vnd.jupyter.widget-view+json": {
       "model_id": "b31b766dde3c4f5795adeb87778ff3eb",
       "version_major": 2,
       "version_minor": 0
      },
      "text/plain": [
       "  0%|          | 0/1594 [00:00<?, ?it/s]"
      ]
     },
     "metadata": {},
     "output_type": "display_data"
    },
    {
     "name": "stdout",
     "output_type": "stream",
     "text": [
      "validation_loss on proxy = 0.5246\n",
      "validation_accuracy on proxy = 86.27%\n",
      "validation_loss on true ds = 1.9533\n",
      "validation_accuracy on true ds = 50.27%\n",
      "We are at epoch 23\n"
     ]
    }
   ],
   "source": [
    "student_model.return_feature_domain = False\n",
    "\n",
    "proxy_train_dataset = ProxyDataset(train_images, train_labels, train_transforms, False, train_soft_labels)\n",
    "train_dataloader = DataLoader(proxy_train_dataset, batch_size=BATCH_SIZE, shuffle=True)\n",
    "\n",
    "early_stopping = EarlyStopping(tolerance=20, min_delta=0.001)\n",
    "# early_stopping = EarlyStopping(tolerance=5, min_delta=0.001)\n",
    "\n",
    "# Training the student\n",
    "for epoch in range(EPOCHS):\n",
    "    # Define progress bar\n",
    "    loop = tqdm(enumerate(train_dataloader), total=len(train_dataloader))\n",
    "    \n",
    "    # Training loop\n",
    "    student_model.train()\n",
    "    training_loss_epoch = []\n",
    "    for batch_idx, (x,y,soft_y) in loop:\n",
    "        optimizer.zero_grad()\n",
    "        \n",
    "        x = x.to(device=device)\n",
    "        y = y.to(device=device)\n",
    "        soft_y = soft_y.to(device=device)\n",
    "        \n",
    "        # Forward pass\n",
    "        logits = student_model(x)\n",
    "        # Backward pass\n",
    "        loss = criterion(input=logits, target=y)\n",
    "        # loss = criterion(input=logits, target=soft_y)\n",
    "        training_loss_epoch.append(loss.item())\n",
    "        # Prob trb inlocuit criterionul, sa adaugi soft-labels\n",
    "        loss.backward()\n",
    "        \n",
    "        # Optimize\n",
    "        optimizer.step()\n",
    "        \n",
    "        # Update progress bar\n",
    "        loop.set_description(f'Epoch {epoch+1}/{EPOCHS}')\n",
    "        loop.set_postfix(training_loss=loss.item())\n",
    "    \n",
    "    # Validation loop on proxy validation dataset\n",
    "    student_model.eval()\n",
    "    validation_loss_epoch = []  \n",
    "    acc = 0\n",
    "    with torch.no_grad():\n",
    "        for x,y,_ in valid_dataloader:\n",
    "            x = x.to(device=device)\n",
    "            y = y.to(device=device)\n",
    "        \n",
    "            logits = student_model(x)\n",
    "            pred = softmax(logits, dim=1)\n",
    "            \n",
    "            confidence,y_hat = torch.max(pred, dim=1)\n",
    "            \n",
    "            loss = criterion(input=logits, target=y)\n",
    "            validation_loss_epoch.append(loss.item())\n",
    "            \n",
    "            acc += torch.sum(y_hat==y).item()\n",
    "        \n",
    "    loop.write(f'validation_loss on proxy = {sum(validation_loss_epoch)/len(validation_loss_epoch):.4f}')\n",
    "    loop.write(f'validation_accuracy on proxy = {100*acc/len(proxy_valid_dataset):.2f}%')\n",
    "\n",
    "    if validate_on_trueds:\n",
    "        # Validation loop on proxy validation dataset\n",
    "        student_model.eval()\n",
    "        with torch.no_grad():\n",
    "            val_loss = []\n",
    "            acc = 0\n",
    "            for x,y in true_valid_ds:\n",
    "                x = x.to(device=device)\n",
    "                y = y.to(device=device)\n",
    "            \n",
    "                logits = student_model(x)\n",
    "                pred = softmax(logits, dim=1)\n",
    "                \n",
    "                confidence,y_hat = torch.max(pred, dim=1)\n",
    "                \n",
    "                loss = criterion(input=logits, target=y)\n",
    "                val_loss.append(loss.item())\n",
    "                \n",
    "                acc += torch.sum(y_hat==y).item()\n",
    "            \n",
    "        loop.write(f'validation_loss on true ds = {sum(val_loss)/len(val_loss):.4f}')\n",
    "        loop.write(f'validation_accuracy on true ds = {100*acc/len(true_dataset.test_dataset):.2f}%')\n",
    "\n",
    "    early_stopping(sum(validation_loss_epoch)/len(validation_loss_epoch))\n",
    "    if early_stopping.early_stop:\n",
    "      print(f\"We are at epoch {epoch}\")\n",
    "      break"
   ]
  },
  {
   "cell_type": "code",
   "execution_count": 21,
   "metadata": {},
   "outputs": [
    {
     "name": "stdout",
     "output_type": "stream",
     "text": [
      "Student with true dataset:\n",
      "test_loss = 1.9533\n",
      "test_accuracy = 50.27%\n",
      "\n",
      "Class airplane: pred=538, actual=1000 => acc=53.80%, total_pred=960\n",
      "Class automobile: pred=518, actual=1000 => acc=51.80%, total_pred=647\n",
      "Class bird: pred=557, actual=1000 => acc=55.70%, total_pred=1569\n",
      "Class cat: pred=491, actual=1000 => acc=49.10%, total_pred=1360\n",
      "Class deer: pred=547, actual=1000 => acc=54.70%, total_pred=1207\n",
      "Class dog: pred=403, actual=1000 => acc=40.30%, total_pred=1131\n",
      "Class frog: pred=342, actual=1000 => acc=34.20%, total_pred=463\n",
      "Class horse: pred=454, actual=1000 => acc=45.40%, total_pred=961\n",
      "Class ship: pred=455, actual=1000 => acc=45.50%, total_pred=581\n",
      "Class truck: pred=722, actual=1000 => acc=72.20%, total_pred=1121\n"
     ]
    }
   ],
   "source": [
    "# Testing on CIFAR10 ground truth\n",
    "true_dataloader = true_dataset.test_dataloader()\n",
    "acc_per_class = {k:[0,0,0] for k,v in label_mapper_inv.items()}\n",
    "\n",
    "student_model.eval()\n",
    "with torch.no_grad():\n",
    "    test_loss = []\n",
    "    acc = 0\n",
    "    for x,y in true_dataloader:\n",
    "        x = x.to(device=device)\n",
    "        y = y.to(device=device)\n",
    "    \n",
    "        logits = student_model(x)\n",
    "        pred = softmax(logits, dim=1)\n",
    "        \n",
    "        confidence,y_hat = torch.max(pred, dim=1)\n",
    "        \n",
    "        loss = criterion(input=logits, target=y)\n",
    "        test_loss.append(loss.item())\n",
    "        \n",
    "        acc += torch.sum(y_hat==y)\n",
    "        \n",
    "        for i in range(len(y)):\n",
    "            a = y[i].item()\n",
    "            p = y_hat[i].item()\n",
    "            \n",
    "            \n",
    "            acc_per_class[a][1] += 1\n",
    "            acc_per_class[p][2] += 1\n",
    "            if a == p:\n",
    "                acc_per_class[a][0] += 1\n",
    "        \n",
    "    print('Student with true dataset:')\n",
    "    print(f'test_loss = {sum(test_loss)/len(test_loss):.4f}')                  # 1.7439;  1.6199\n",
    "    print(f'test_accuracy = {100*acc/len(true_dataset.test_dataset):.2f}%')    # 46.09%;  48.57%\n",
    "    print()\n",
    "    \n",
    "for k,v in acc_per_class.items():\n",
    "    print(f'Class {label_mapper_inv[k]}: pred={v[0]}, actual={v[1]} => acc={v[0]*100/v[1]:.2f}%, total_pred={v[2]}')"
   ]
  },
  {
   "cell_type": "code",
   "execution_count": 22,
   "metadata": {},
   "outputs": [
    {
     "name": "stdout",
     "output_type": "stream",
     "text": [
      "Student with true dataset:\n",
      "test_loss = 1.9204\n",
      "test_accuracy = 50.62%\n",
      "\n",
      "Class airplane: pred=543, actual=1038 => acc=52.31%, total_pred=960\n",
      "Class automobile: pred=519, actual=1002 => acc=51.80%, total_pred=647\n",
      "Class bird: pred=544, actual=965 => acc=56.37%, total_pred=1569\n",
      "Class cat: pred=485, actual=938 => acc=51.71%, total_pred=1360\n",
      "Class deer: pred=578, actual=1108 => acc=52.17%, total_pred=1207\n",
      "Class dog: pred=402, actual=913 => acc=44.03%, total_pred=1131\n",
      "Class frog: pred=337, actual=996 => acc=33.84%, total_pred=463\n",
      "Class horse: pred=465, actual=1063 => acc=43.74%, total_pred=961\n",
      "Class ship: pred=445, actual=939 => acc=47.39%, total_pred=581\n",
      "Class truck: pred=744, actual=1038 => acc=71.68%, total_pred=1121\n"
     ]
    }
   ],
   "source": [
    "# Testing using labels predicted with teacher\n",
    "true_dataloader = true_dataset.test_dataloader()\n",
    "acc_per_class = {k:[0,0,0] for k,v in label_mapper_inv.items()}\n",
    "\n",
    "student_model.eval()\n",
    "teacher_model.eval()\n",
    "with torch.no_grad():\n",
    "    test_loss = []\n",
    "    acc = 0\n",
    "    for x,y in true_dataloader:\n",
    "        x = x.to(device=device)\n",
    "        # y = y.to(device=device)\n",
    "\n",
    "        teacher_pred = softmax(teacher_model(x), dim=1)\n",
    "        _, y = torch.max(teacher_pred, dim=1)\n",
    "    \n",
    "        logits = student_model(x)\n",
    "        pred = softmax(logits, dim=1)\n",
    "        \n",
    "        confidence,y_hat = torch.max(pred, dim=1)\n",
    "        \n",
    "        loss = criterion(input=logits, target=y)\n",
    "        test_loss.append(loss.item())\n",
    "        \n",
    "        acc += torch.sum(y_hat==y)\n",
    "        \n",
    "        for i in range(len(y)):\n",
    "            a = y[i].item()\n",
    "            p = y_hat[i].item()\n",
    "            \n",
    "            \n",
    "            acc_per_class[a][1] += 1\n",
    "            acc_per_class[p][2] += 1\n",
    "            if a == p:\n",
    "                acc_per_class[a][0] += 1\n",
    "        \n",
    "    print('Student with true dataset:')\n",
    "    print(f'test_loss = {sum(test_loss)/len(test_loss):.4f}')                  # 1.7439;  1.6199\n",
    "    print(f'test_accuracy = {100*acc/len(true_dataset.test_dataset):.2f}%')    # 46.09%;  48.57%\n",
    "    print()\n",
    "    \n",
    "for k,v in acc_per_class.items():\n",
    "    print(f'Class {label_mapper_inv[k]}: pred={v[0]}, actual={v[1]} => acc={v[0]*100/v[1]:.2f}%, total_pred={v[2]}')"
   ]
  },
  {
   "cell_type": "code",
   "execution_count": null,
   "metadata": {},
   "outputs": [],
   "source": []
  },
  {
   "cell_type": "code",
   "execution_count": null,
   "metadata": {},
   "outputs": [],
   "source": []
  },
  {
   "cell_type": "code",
   "execution_count": null,
   "metadata": {},
   "outputs": [],
   "source": []
  },
  {
   "cell_type": "code",
   "execution_count": 23,
   "metadata": {
    "id": "B_lJlsr0JlVs"
   },
   "outputs": [],
   "source": [
    "# import matplotlib.pyplot as plt\n",
    "\n",
    "\n",
    "# def plot_db(X_embedded, labels_cpu):\n",
    "#   # scale and move the coordinates so they fit [0; 1] range\n",
    "#   def scale_to_01_range(x):\n",
    "#       # compute the distribution range\n",
    "#       value_range = (np.max(x) - np.min(x))\n",
    "  \n",
    "#       # move the distribution so that it starts from zero\n",
    "#       # by extracting the minimal value from all its values\n",
    "#       starts_from_zero = x - np.min(x)\n",
    "  \n",
    "#       # make the distribution fit [0; 1] by dividing by its range\n",
    "#       return starts_from_zero / value_range\n",
    "  \n",
    "#   # extract x and y coordinates representing the positions of the images on T-SNE plot\n",
    "#   tx = X_embedded[:, 0]\n",
    "#   ty = X_embedded[:, 1]\n",
    "  \n",
    "#   tx = scale_to_01_range(tx)\n",
    "#   ty = scale_to_01_range(ty)\n",
    "\n",
    "#   # initialize a matplotlib plot\n",
    "#   fig = plt.figure(figsize=(6, 6), dpi=144)\n",
    "#   ax = fig.add_subplot(111)\n",
    "  \n",
    "#   # for every class, we'll add a scatter plot separately\n",
    "#   for label in range(10):\n",
    "#       # find the samples of the current class in the data\n",
    "#       indices = [i for i, l in enumerate(labels_cpu) if l == label]\n",
    "  \n",
    "#       # extract the coordinates of the points of this class only\n",
    "#       current_tx = np.take(tx, indices)\n",
    "#       current_ty = np.take(ty, indices)\n",
    "  \n",
    "#       # add a scatter plot with the corresponding color and label\n",
    "#       ax.scatter(current_tx, current_ty, label=label)\n",
    "  \n",
    "#   # build a legend using the labels we set previously\n",
    "#   ax.legend(loc='best')\n",
    "  \n",
    "#   # finally, show the plot\n",
    "#   plt.show()"
   ]
  },
  {
   "cell_type": "code",
   "execution_count": 24,
   "metadata": {
    "colab": {
     "base_uri": "https://localhost:8080/",
     "height": 802
    },
    "id": "We2WHCULH9nX",
    "outputId": "7ffd8af2-c076-41e5-ad6c-d30c6f2a5ab7"
   },
   "outputs": [],
   "source": [
    "# from sklearn.manifold import TSNE\n",
    "\n",
    "\n",
    "# tsne = TSNE()\n",
    "# images_cpu = [im.cpu().numpy().flatten() for im in images_db]\n",
    "# labels_cpu = [l.cpu().numpy().argmax() for l in labels_db]\n",
    "# X_embedded = tsne.fit_transform(np.array(images_cpu), np.array(labels_cpu))\n",
    "\n",
    "# plot_db(X_embedded, labels_cpu)"
   ]
  },
  {
   "cell_type": "code",
   "execution_count": null,
   "metadata": {},
   "outputs": [],
   "source": []
  }
 ],
 "metadata": {
  "accelerator": "GPU",
  "colab": {
   "provenance": []
  },
  "gpuClass": "standard",
  "kernelspec": {
   "display_name": "Python 3",
   "language": "python",
   "name": "python3"
  },
  "language_info": {
   "codemirror_mode": {
    "name": "ipython",
    "version": 3
   },
   "file_extension": ".py",
   "mimetype": "text/x-python",
   "name": "python",
   "nbconvert_exporter": "python",
   "pygments_lexer": "ipython3",
   "version": "3.10.6"
  },
  "vscode": {
   "interpreter": {
    "hash": "916dbcbb3f70747c44a77c7bcd40155683ae19c65e1c03b4aa3499c5328201f1"
   }
  },
  "widgets": {
   "application/vnd.jupyter.widget-state+json": {
    "058124347df04f2a81d75544c5fb8809": {
     "model_module": "@jupyter-widgets/base",
     "model_module_version": "1.2.0",
     "model_name": "LayoutModel",
     "state": {
      "_model_module": "@jupyter-widgets/base",
      "_model_module_version": "1.2.0",
      "_model_name": "LayoutModel",
      "_view_count": null,
      "_view_module": "@jupyter-widgets/base",
      "_view_module_version": "1.2.0",
      "_view_name": "LayoutView",
      "align_content": null,
      "align_items": null,
      "align_self": null,
      "border": null,
      "bottom": null,
      "display": null,
      "flex": null,
      "flex_flow": null,
      "grid_area": null,
      "grid_auto_columns": null,
      "grid_auto_flow": null,
      "grid_auto_rows": null,
      "grid_column": null,
      "grid_gap": null,
      "grid_row": null,
      "grid_template_areas": null,
      "grid_template_columns": null,
      "grid_template_rows": null,
      "height": null,
      "justify_content": null,
      "justify_items": null,
      "left": null,
      "margin": null,
      "max_height": null,
      "max_width": null,
      "min_height": null,
      "min_width": null,
      "object_fit": null,
      "object_position": null,
      "order": null,
      "overflow": null,
      "overflow_x": null,
      "overflow_y": null,
      "padding": null,
      "right": null,
      "top": null,
      "visibility": null,
      "width": null
     }
    },
    "0d4acd03fa734e9db4bb7389ae2f19b4": {
     "model_module": "@jupyter-widgets/base",
     "model_module_version": "1.2.0",
     "model_name": "LayoutModel",
     "state": {
      "_model_module": "@jupyter-widgets/base",
      "_model_module_version": "1.2.0",
      "_model_name": "LayoutModel",
      "_view_count": null,
      "_view_module": "@jupyter-widgets/base",
      "_view_module_version": "1.2.0",
      "_view_name": "LayoutView",
      "align_content": null,
      "align_items": null,
      "align_self": null,
      "border": null,
      "bottom": null,
      "display": null,
      "flex": null,
      "flex_flow": null,
      "grid_area": null,
      "grid_auto_columns": null,
      "grid_auto_flow": null,
      "grid_auto_rows": null,
      "grid_column": null,
      "grid_gap": null,
      "grid_row": null,
      "grid_template_areas": null,
      "grid_template_columns": null,
      "grid_template_rows": null,
      "height": null,
      "justify_content": null,
      "justify_items": null,
      "left": null,
      "margin": null,
      "max_height": null,
      "max_width": null,
      "min_height": null,
      "min_width": null,
      "object_fit": null,
      "object_position": null,
      "order": null,
      "overflow": null,
      "overflow_x": null,
      "overflow_y": null,
      "padding": null,
      "right": null,
      "top": null,
      "visibility": null,
      "width": null
     }
    },
    "0dc49d11d2434b568a3f6c3ad5b05c09": {
     "model_module": "@jupyter-widgets/controls",
     "model_module_version": "1.5.0",
     "model_name": "HTMLModel",
     "state": {
      "_dom_classes": [],
      "_model_module": "@jupyter-widgets/controls",
      "_model_module_version": "1.5.0",
      "_model_name": "HTMLModel",
      "_view_count": null,
      "_view_module": "@jupyter-widgets/controls",
      "_view_module_version": "1.5.0",
      "_view_name": "HTMLView",
      "description": "",
      "description_tooltip": null,
      "layout": "IPY_MODEL_0d4acd03fa734e9db4bb7389ae2f19b4",
      "placeholder": "​",
      "style": "IPY_MODEL_81d6479563414e36ae8103bbb16bd9a3",
      "value": " 1600/1600 [00:40&lt;00:00, 55.51it/s]"
     }
    },
    "18d7a2f2052141c9aaa53bf57a3bc1b3": {
     "model_module": "@jupyter-widgets/base",
     "model_module_version": "1.2.0",
     "model_name": "LayoutModel",
     "state": {
      "_model_module": "@jupyter-widgets/base",
      "_model_module_version": "1.2.0",
      "_model_name": "LayoutModel",
      "_view_count": null,
      "_view_module": "@jupyter-widgets/base",
      "_view_module_version": "1.2.0",
      "_view_name": "LayoutView",
      "align_content": null,
      "align_items": null,
      "align_self": null,
      "border": null,
      "bottom": null,
      "display": null,
      "flex": null,
      "flex_flow": null,
      "grid_area": null,
      "grid_auto_columns": null,
      "grid_auto_flow": null,
      "grid_auto_rows": null,
      "grid_column": null,
      "grid_gap": null,
      "grid_row": null,
      "grid_template_areas": null,
      "grid_template_columns": null,
      "grid_template_rows": null,
      "height": null,
      "justify_content": null,
      "justify_items": null,
      "left": null,
      "margin": null,
      "max_height": null,
      "max_width": null,
      "min_height": null,
      "min_width": null,
      "object_fit": null,
      "object_position": null,
      "order": null,
      "overflow": null,
      "overflow_x": null,
      "overflow_y": null,
      "padding": null,
      "right": null,
      "top": null,
      "visibility": null,
      "width": null
     }
    },
    "2c46b959bee7429f8da5394790591907": {
     "model_module": "@jupyter-widgets/controls",
     "model_module_version": "1.5.0",
     "model_name": "FloatProgressModel",
     "state": {
      "_dom_classes": [],
      "_model_module": "@jupyter-widgets/controls",
      "_model_module_version": "1.5.0",
      "_model_name": "FloatProgressModel",
      "_view_count": null,
      "_view_module": "@jupyter-widgets/controls",
      "_view_module_version": "1.5.0",
      "_view_name": "ProgressView",
      "bar_style": "danger",
      "description": "",
      "description_tooltip": null,
      "layout": "IPY_MODEL_55ddff88b8b3439dab43efc612bce63e",
      "max": 18432,
      "min": 0,
      "orientation": "horizontal",
      "style": "IPY_MODEL_3d62cb4fdf2a4dca91cf7669f75826f9",
      "value": 1815
     }
    },
    "3336807a7d144bbb9283a68a327852d5": {
     "model_module": "@jupyter-widgets/controls",
     "model_module_version": "1.5.0",
     "model_name": "DescriptionStyleModel",
     "state": {
      "_model_module": "@jupyter-widgets/controls",
      "_model_module_version": "1.5.0",
      "_model_name": "DescriptionStyleModel",
      "_view_count": null,
      "_view_module": "@jupyter-widgets/base",
      "_view_module_version": "1.2.0",
      "_view_name": "StyleView",
      "description_width": ""
     }
    },
    "3d62cb4fdf2a4dca91cf7669f75826f9": {
     "model_module": "@jupyter-widgets/controls",
     "model_module_version": "1.5.0",
     "model_name": "ProgressStyleModel",
     "state": {
      "_model_module": "@jupyter-widgets/controls",
      "_model_module_version": "1.5.0",
      "_model_name": "ProgressStyleModel",
      "_view_count": null,
      "_view_module": "@jupyter-widgets/base",
      "_view_module_version": "1.2.0",
      "_view_name": "StyleView",
      "bar_color": null,
      "description_width": ""
     }
    },
    "41f1cf625859422092090d52e3794b68": {
     "model_module": "@jupyter-widgets/base",
     "model_module_version": "1.2.0",
     "model_name": "LayoutModel",
     "state": {
      "_model_module": "@jupyter-widgets/base",
      "_model_module_version": "1.2.0",
      "_model_name": "LayoutModel",
      "_view_count": null,
      "_view_module": "@jupyter-widgets/base",
      "_view_module_version": "1.2.0",
      "_view_name": "LayoutView",
      "align_content": null,
      "align_items": null,
      "align_self": null,
      "border": null,
      "bottom": null,
      "display": null,
      "flex": null,
      "flex_flow": null,
      "grid_area": null,
      "grid_auto_columns": null,
      "grid_auto_flow": null,
      "grid_auto_rows": null,
      "grid_column": null,
      "grid_gap": null,
      "grid_row": null,
      "grid_template_areas": null,
      "grid_template_columns": null,
      "grid_template_rows": null,
      "height": null,
      "justify_content": null,
      "justify_items": null,
      "left": null,
      "margin": null,
      "max_height": null,
      "max_width": null,
      "min_height": null,
      "min_width": null,
      "object_fit": null,
      "object_position": null,
      "order": null,
      "overflow": null,
      "overflow_x": null,
      "overflow_y": null,
      "padding": null,
      "right": null,
      "top": null,
      "visibility": null,
      "width": null
     }
    },
    "41ff2b73bc49402fbd500c9124cf55b9": {
     "model_module": "@jupyter-widgets/controls",
     "model_module_version": "1.5.0",
     "model_name": "DescriptionStyleModel",
     "state": {
      "_model_module": "@jupyter-widgets/controls",
      "_model_module_version": "1.5.0",
      "_model_name": "DescriptionStyleModel",
      "_view_count": null,
      "_view_module": "@jupyter-widgets/base",
      "_view_module_version": "1.2.0",
      "_view_name": "StyleView",
      "description_width": ""
     }
    },
    "4a9fb0df830a43d798a94a9e00cfe022": {
     "model_module": "@jupyter-widgets/controls",
     "model_module_version": "1.5.0",
     "model_name": "DescriptionStyleModel",
     "state": {
      "_model_module": "@jupyter-widgets/controls",
      "_model_module_version": "1.5.0",
      "_model_name": "DescriptionStyleModel",
      "_view_count": null,
      "_view_module": "@jupyter-widgets/base",
      "_view_module_version": "1.2.0",
      "_view_name": "StyleView",
      "description_width": ""
     }
    },
    "50e7dda7941449cfb47e8d3945208fdb": {
     "model_module": "@jupyter-widgets/base",
     "model_module_version": "1.2.0",
     "model_name": "LayoutModel",
     "state": {
      "_model_module": "@jupyter-widgets/base",
      "_model_module_version": "1.2.0",
      "_model_name": "LayoutModel",
      "_view_count": null,
      "_view_module": "@jupyter-widgets/base",
      "_view_module_version": "1.2.0",
      "_view_name": "LayoutView",
      "align_content": null,
      "align_items": null,
      "align_self": null,
      "border": null,
      "bottom": null,
      "display": null,
      "flex": null,
      "flex_flow": null,
      "grid_area": null,
      "grid_auto_columns": null,
      "grid_auto_flow": null,
      "grid_auto_rows": null,
      "grid_column": null,
      "grid_gap": null,
      "grid_row": null,
      "grid_template_areas": null,
      "grid_template_columns": null,
      "grid_template_rows": null,
      "height": null,
      "justify_content": null,
      "justify_items": null,
      "left": null,
      "margin": null,
      "max_height": null,
      "max_width": null,
      "min_height": null,
      "min_width": null,
      "object_fit": null,
      "object_position": null,
      "order": null,
      "overflow": null,
      "overflow_x": null,
      "overflow_y": null,
      "padding": null,
      "right": null,
      "top": null,
      "visibility": null,
      "width": null
     }
    },
    "530f03e592b04992ad8864021b2d6033": {
     "model_module": "@jupyter-widgets/controls",
     "model_module_version": "1.5.0",
     "model_name": "HTMLModel",
     "state": {
      "_dom_classes": [],
      "_model_module": "@jupyter-widgets/controls",
      "_model_module_version": "1.5.0",
      "_model_name": "HTMLModel",
      "_view_count": null,
      "_view_module": "@jupyter-widgets/controls",
      "_view_module_version": "1.5.0",
      "_view_name": "HTMLView",
      "description": "",
      "description_tooltip": null,
      "layout": "IPY_MODEL_ce773a8dc12b4920b3a9f6c46e2a6ea4",
      "placeholder": "​",
      "style": "IPY_MODEL_a5d582694fb04c6fac9d10f2c6ef29d4",
      "value": "100%"
     }
    },
    "5392c16b86e84cceb68915753a0531cb": {
     "model_module": "@jupyter-widgets/controls",
     "model_module_version": "1.5.0",
     "model_name": "HTMLModel",
     "state": {
      "_dom_classes": [],
      "_model_module": "@jupyter-widgets/controls",
      "_model_module_version": "1.5.0",
      "_model_name": "HTMLModel",
      "_view_count": null,
      "_view_module": "@jupyter-widgets/controls",
      "_view_module_version": "1.5.0",
      "_view_name": "HTMLView",
      "description": "",
      "description_tooltip": null,
      "layout": "IPY_MODEL_50e7dda7941449cfb47e8d3945208fdb",
      "placeholder": "​",
      "style": "IPY_MODEL_4a9fb0df830a43d798a94a9e00cfe022",
      "value": " 170498071/170498071 [00:05&lt;00:00, 33555457.81it/s]"
     }
    },
    "551ec62854e64a6a89e2550b4eb22e52": {
     "model_module": "@jupyter-widgets/base",
     "model_module_version": "1.2.0",
     "model_name": "LayoutModel",
     "state": {
      "_model_module": "@jupyter-widgets/base",
      "_model_module_version": "1.2.0",
      "_model_name": "LayoutModel",
      "_view_count": null,
      "_view_module": "@jupyter-widgets/base",
      "_view_module_version": "1.2.0",
      "_view_name": "LayoutView",
      "align_content": null,
      "align_items": null,
      "align_self": null,
      "border": null,
      "bottom": null,
      "display": null,
      "flex": null,
      "flex_flow": null,
      "grid_area": null,
      "grid_auto_columns": null,
      "grid_auto_flow": null,
      "grid_auto_rows": null,
      "grid_column": null,
      "grid_gap": null,
      "grid_row": null,
      "grid_template_areas": null,
      "grid_template_columns": null,
      "grid_template_rows": null,
      "height": null,
      "justify_content": null,
      "justify_items": null,
      "left": null,
      "margin": null,
      "max_height": null,
      "max_width": null,
      "min_height": null,
      "min_width": null,
      "object_fit": null,
      "object_position": null,
      "order": null,
      "overflow": null,
      "overflow_x": null,
      "overflow_y": null,
      "padding": null,
      "right": null,
      "top": null,
      "visibility": null,
      "width": null
     }
    },
    "55ddff88b8b3439dab43efc612bce63e": {
     "model_module": "@jupyter-widgets/base",
     "model_module_version": "1.2.0",
     "model_name": "LayoutModel",
     "state": {
      "_model_module": "@jupyter-widgets/base",
      "_model_module_version": "1.2.0",
      "_model_name": "LayoutModel",
      "_view_count": null,
      "_view_module": "@jupyter-widgets/base",
      "_view_module_version": "1.2.0",
      "_view_name": "LayoutView",
      "align_content": null,
      "align_items": null,
      "align_self": null,
      "border": null,
      "bottom": null,
      "display": null,
      "flex": null,
      "flex_flow": null,
      "grid_area": null,
      "grid_auto_columns": null,
      "grid_auto_flow": null,
      "grid_auto_rows": null,
      "grid_column": null,
      "grid_gap": null,
      "grid_row": null,
      "grid_template_areas": null,
      "grid_template_columns": null,
      "grid_template_rows": null,
      "height": null,
      "justify_content": null,
      "justify_items": null,
      "left": null,
      "margin": null,
      "max_height": null,
      "max_width": null,
      "min_height": null,
      "min_width": null,
      "object_fit": null,
      "object_position": null,
      "order": null,
      "overflow": null,
      "overflow_x": null,
      "overflow_y": null,
      "padding": null,
      "right": null,
      "top": null,
      "visibility": null,
      "width": null
     }
    },
    "591ae5d8878a4378aae207c92ed81f4f": {
     "model_module": "@jupyter-widgets/controls",
     "model_module_version": "1.5.0",
     "model_name": "HBoxModel",
     "state": {
      "_dom_classes": [],
      "_model_module": "@jupyter-widgets/controls",
      "_model_module_version": "1.5.0",
      "_model_name": "HBoxModel",
      "_view_count": null,
      "_view_module": "@jupyter-widgets/controls",
      "_view_module_version": "1.5.0",
      "_view_name": "HBoxView",
      "box_style": "",
      "children": [
       "IPY_MODEL_530f03e592b04992ad8864021b2d6033",
       "IPY_MODEL_94031723b8be497f952269c328453ed4",
       "IPY_MODEL_5392c16b86e84cceb68915753a0531cb"
      ],
      "layout": "IPY_MODEL_90c6aca45b9d42fcb3d6e5be3a7728f2"
     }
    },
    "6b2c1311df4c4fa3a60d3a466d809e66": {
     "model_module": "@jupyter-widgets/base",
     "model_module_version": "1.2.0",
     "model_name": "LayoutModel",
     "state": {
      "_model_module": "@jupyter-widgets/base",
      "_model_module_version": "1.2.0",
      "_model_name": "LayoutModel",
      "_view_count": null,
      "_view_module": "@jupyter-widgets/base",
      "_view_module_version": "1.2.0",
      "_view_name": "LayoutView",
      "align_content": null,
      "align_items": null,
      "align_self": null,
      "border": null,
      "bottom": null,
      "display": null,
      "flex": null,
      "flex_flow": null,
      "grid_area": null,
      "grid_auto_columns": null,
      "grid_auto_flow": null,
      "grid_auto_rows": null,
      "grid_column": null,
      "grid_gap": null,
      "grid_row": null,
      "grid_template_areas": null,
      "grid_template_columns": null,
      "grid_template_rows": null,
      "height": null,
      "justify_content": null,
      "justify_items": null,
      "left": null,
      "margin": null,
      "max_height": null,
      "max_width": null,
      "min_height": null,
      "min_width": null,
      "object_fit": null,
      "object_position": null,
      "order": null,
      "overflow": null,
      "overflow_x": null,
      "overflow_y": null,
      "padding": null,
      "right": null,
      "top": null,
      "visibility": null,
      "width": null
     }
    },
    "6dc31f9f92cc4ecb847630272fff1758": {
     "model_module": "@jupyter-widgets/controls",
     "model_module_version": "1.5.0",
     "model_name": "ProgressStyleModel",
     "state": {
      "_model_module": "@jupyter-widgets/controls",
      "_model_module_version": "1.5.0",
      "_model_name": "ProgressStyleModel",
      "_view_count": null,
      "_view_module": "@jupyter-widgets/base",
      "_view_module_version": "1.2.0",
      "_view_name": "StyleView",
      "bar_color": null,
      "description_width": ""
     }
    },
    "72ff93bf4145408b801f99485950f2da": {
     "model_module": "@jupyter-widgets/controls",
     "model_module_version": "1.5.0",
     "model_name": "HTMLModel",
     "state": {
      "_dom_classes": [],
      "_model_module": "@jupyter-widgets/controls",
      "_model_module_version": "1.5.0",
      "_model_name": "HTMLModel",
      "_view_count": null,
      "_view_module": "@jupyter-widgets/controls",
      "_view_module_version": "1.5.0",
      "_view_name": "HTMLView",
      "description": "",
      "description_tooltip": null,
      "layout": "IPY_MODEL_6b2c1311df4c4fa3a60d3a466d809e66",
      "placeholder": "​",
      "style": "IPY_MODEL_c86c144c3c9e41358633aa78509d3de7",
      "value": " 10%"
     }
    },
    "81d6479563414e36ae8103bbb16bd9a3": {
     "model_module": "@jupyter-widgets/controls",
     "model_module_version": "1.5.0",
     "model_name": "DescriptionStyleModel",
     "state": {
      "_model_module": "@jupyter-widgets/controls",
      "_model_module_version": "1.5.0",
      "_model_name": "DescriptionStyleModel",
      "_view_count": null,
      "_view_module": "@jupyter-widgets/base",
      "_view_module_version": "1.2.0",
      "_view_name": "StyleView",
      "description_width": ""
     }
    },
    "8282f6bd64d344e9aa0e2cdc5deedb50": {
     "model_module": "@jupyter-widgets/controls",
     "model_module_version": "1.5.0",
     "model_name": "HBoxModel",
     "state": {
      "_dom_classes": [],
      "_model_module": "@jupyter-widgets/controls",
      "_model_module_version": "1.5.0",
      "_model_name": "HBoxModel",
      "_view_count": null,
      "_view_module": "@jupyter-widgets/controls",
      "_view_module_version": "1.5.0",
      "_view_name": "HBoxView",
      "box_style": "",
      "children": [
       "IPY_MODEL_b7c4c95db21e4c4dbb6cd50f4bb22a1a",
       "IPY_MODEL_9aa9c5d37cbb4a7987c84c6061cbafa6",
       "IPY_MODEL_0dc49d11d2434b568a3f6c3ad5b05c09"
      ],
      "layout": "IPY_MODEL_18d7a2f2052141c9aaa53bf57a3bc1b3"
     }
    },
    "90c6aca45b9d42fcb3d6e5be3a7728f2": {
     "model_module": "@jupyter-widgets/base",
     "model_module_version": "1.2.0",
     "model_name": "LayoutModel",
     "state": {
      "_model_module": "@jupyter-widgets/base",
      "_model_module_version": "1.2.0",
      "_model_name": "LayoutModel",
      "_view_count": null,
      "_view_module": "@jupyter-widgets/base",
      "_view_module_version": "1.2.0",
      "_view_name": "LayoutView",
      "align_content": null,
      "align_items": null,
      "align_self": null,
      "border": null,
      "bottom": null,
      "display": null,
      "flex": null,
      "flex_flow": null,
      "grid_area": null,
      "grid_auto_columns": null,
      "grid_auto_flow": null,
      "grid_auto_rows": null,
      "grid_column": null,
      "grid_gap": null,
      "grid_row": null,
      "grid_template_areas": null,
      "grid_template_columns": null,
      "grid_template_rows": null,
      "height": null,
      "justify_content": null,
      "justify_items": null,
      "left": null,
      "margin": null,
      "max_height": null,
      "max_width": null,
      "min_height": null,
      "min_width": null,
      "object_fit": null,
      "object_position": null,
      "order": null,
      "overflow": null,
      "overflow_x": null,
      "overflow_y": null,
      "padding": null,
      "right": null,
      "top": null,
      "visibility": null,
      "width": null
     }
    },
    "94031723b8be497f952269c328453ed4": {
     "model_module": "@jupyter-widgets/controls",
     "model_module_version": "1.5.0",
     "model_name": "FloatProgressModel",
     "state": {
      "_dom_classes": [],
      "_model_module": "@jupyter-widgets/controls",
      "_model_module_version": "1.5.0",
      "_model_name": "FloatProgressModel",
      "_view_count": null,
      "_view_module": "@jupyter-widgets/controls",
      "_view_module_version": "1.5.0",
      "_view_name": "ProgressView",
      "bar_style": "success",
      "description": "",
      "description_tooltip": null,
      "layout": "IPY_MODEL_d4cdc9b0b6cb4ba5ab63630a8bb01ba4",
      "max": 170498071,
      "min": 0,
      "orientation": "horizontal",
      "style": "IPY_MODEL_6dc31f9f92cc4ecb847630272fff1758",
      "value": 170498071
     }
    },
    "9aa9c5d37cbb4a7987c84c6061cbafa6": {
     "model_module": "@jupyter-widgets/controls",
     "model_module_version": "1.5.0",
     "model_name": "FloatProgressModel",
     "state": {
      "_dom_classes": [],
      "_model_module": "@jupyter-widgets/controls",
      "_model_module_version": "1.5.0",
      "_model_name": "FloatProgressModel",
      "_view_count": null,
      "_view_module": "@jupyter-widgets/controls",
      "_view_module_version": "1.5.0",
      "_view_name": "ProgressView",
      "bar_style": "success",
      "description": "",
      "description_tooltip": null,
      "layout": "IPY_MODEL_058124347df04f2a81d75544c5fb8809",
      "max": 1600,
      "min": 0,
      "orientation": "horizontal",
      "style": "IPY_MODEL_f0f5ea82811c49bfb0a55154cc9cd30d",
      "value": 1600
     }
    },
    "a5d582694fb04c6fac9d10f2c6ef29d4": {
     "model_module": "@jupyter-widgets/controls",
     "model_module_version": "1.5.0",
     "model_name": "DescriptionStyleModel",
     "state": {
      "_model_module": "@jupyter-widgets/controls",
      "_model_module_version": "1.5.0",
      "_model_name": "DescriptionStyleModel",
      "_view_count": null,
      "_view_module": "@jupyter-widgets/base",
      "_view_module_version": "1.2.0",
      "_view_name": "StyleView",
      "description_width": ""
     }
    },
    "a8f2e2541be5409e86fae758d5f69b6a": {
     "model_module": "@jupyter-widgets/controls",
     "model_module_version": "1.5.0",
     "model_name": "HBoxModel",
     "state": {
      "_dom_classes": [],
      "_model_module": "@jupyter-widgets/controls",
      "_model_module_version": "1.5.0",
      "_model_name": "HBoxModel",
      "_view_count": null,
      "_view_module": "@jupyter-widgets/controls",
      "_view_module_version": "1.5.0",
      "_view_name": "HBoxView",
      "box_style": "",
      "children": [
       "IPY_MODEL_72ff93bf4145408b801f99485950f2da",
       "IPY_MODEL_2c46b959bee7429f8da5394790591907",
       "IPY_MODEL_e6cea5484f5444a8aae4b68e4cca9677"
      ],
      "layout": "IPY_MODEL_c848b3bad8924d55976b7a3c3b6acde8"
     }
    },
    "b7c4c95db21e4c4dbb6cd50f4bb22a1a": {
     "model_module": "@jupyter-widgets/controls",
     "model_module_version": "1.5.0",
     "model_name": "HTMLModel",
     "state": {
      "_dom_classes": [],
      "_model_module": "@jupyter-widgets/controls",
      "_model_module_version": "1.5.0",
      "_model_name": "HTMLModel",
      "_view_count": null,
      "_view_module": "@jupyter-widgets/controls",
      "_view_module_version": "1.5.0",
      "_view_name": "HTMLView",
      "description": "",
      "description_tooltip": null,
      "layout": "IPY_MODEL_551ec62854e64a6a89e2550b4eb22e52",
      "placeholder": "​",
      "style": "IPY_MODEL_3336807a7d144bbb9283a68a327852d5",
      "value": "100%"
     }
    },
    "c848b3bad8924d55976b7a3c3b6acde8": {
     "model_module": "@jupyter-widgets/base",
     "model_module_version": "1.2.0",
     "model_name": "LayoutModel",
     "state": {
      "_model_module": "@jupyter-widgets/base",
      "_model_module_version": "1.2.0",
      "_model_name": "LayoutModel",
      "_view_count": null,
      "_view_module": "@jupyter-widgets/base",
      "_view_module_version": "1.2.0",
      "_view_name": "LayoutView",
      "align_content": null,
      "align_items": null,
      "align_self": null,
      "border": null,
      "bottom": null,
      "display": null,
      "flex": null,
      "flex_flow": null,
      "grid_area": null,
      "grid_auto_columns": null,
      "grid_auto_flow": null,
      "grid_auto_rows": null,
      "grid_column": null,
      "grid_gap": null,
      "grid_row": null,
      "grid_template_areas": null,
      "grid_template_columns": null,
      "grid_template_rows": null,
      "height": null,
      "justify_content": null,
      "justify_items": null,
      "left": null,
      "margin": null,
      "max_height": null,
      "max_width": null,
      "min_height": null,
      "min_width": null,
      "object_fit": null,
      "object_position": null,
      "order": null,
      "overflow": null,
      "overflow_x": null,
      "overflow_y": null,
      "padding": null,
      "right": null,
      "top": null,
      "visibility": null,
      "width": null
     }
    },
    "c86c144c3c9e41358633aa78509d3de7": {
     "model_module": "@jupyter-widgets/controls",
     "model_module_version": "1.5.0",
     "model_name": "DescriptionStyleModel",
     "state": {
      "_model_module": "@jupyter-widgets/controls",
      "_model_module_version": "1.5.0",
      "_model_name": "DescriptionStyleModel",
      "_view_count": null,
      "_view_module": "@jupyter-widgets/base",
      "_view_module_version": "1.2.0",
      "_view_name": "StyleView",
      "description_width": ""
     }
    },
    "ce773a8dc12b4920b3a9f6c46e2a6ea4": {
     "model_module": "@jupyter-widgets/base",
     "model_module_version": "1.2.0",
     "model_name": "LayoutModel",
     "state": {
      "_model_module": "@jupyter-widgets/base",
      "_model_module_version": "1.2.0",
      "_model_name": "LayoutModel",
      "_view_count": null,
      "_view_module": "@jupyter-widgets/base",
      "_view_module_version": "1.2.0",
      "_view_name": "LayoutView",
      "align_content": null,
      "align_items": null,
      "align_self": null,
      "border": null,
      "bottom": null,
      "display": null,
      "flex": null,
      "flex_flow": null,
      "grid_area": null,
      "grid_auto_columns": null,
      "grid_auto_flow": null,
      "grid_auto_rows": null,
      "grid_column": null,
      "grid_gap": null,
      "grid_row": null,
      "grid_template_areas": null,
      "grid_template_columns": null,
      "grid_template_rows": null,
      "height": null,
      "justify_content": null,
      "justify_items": null,
      "left": null,
      "margin": null,
      "max_height": null,
      "max_width": null,
      "min_height": null,
      "min_width": null,
      "object_fit": null,
      "object_position": null,
      "order": null,
      "overflow": null,
      "overflow_x": null,
      "overflow_y": null,
      "padding": null,
      "right": null,
      "top": null,
      "visibility": null,
      "width": null
     }
    },
    "d4cdc9b0b6cb4ba5ab63630a8bb01ba4": {
     "model_module": "@jupyter-widgets/base",
     "model_module_version": "1.2.0",
     "model_name": "LayoutModel",
     "state": {
      "_model_module": "@jupyter-widgets/base",
      "_model_module_version": "1.2.0",
      "_model_name": "LayoutModel",
      "_view_count": null,
      "_view_module": "@jupyter-widgets/base",
      "_view_module_version": "1.2.0",
      "_view_name": "LayoutView",
      "align_content": null,
      "align_items": null,
      "align_self": null,
      "border": null,
      "bottom": null,
      "display": null,
      "flex": null,
      "flex_flow": null,
      "grid_area": null,
      "grid_auto_columns": null,
      "grid_auto_flow": null,
      "grid_auto_rows": null,
      "grid_column": null,
      "grid_gap": null,
      "grid_row": null,
      "grid_template_areas": null,
      "grid_template_columns": null,
      "grid_template_rows": null,
      "height": null,
      "justify_content": null,
      "justify_items": null,
      "left": null,
      "margin": null,
      "max_height": null,
      "max_width": null,
      "min_height": null,
      "min_width": null,
      "object_fit": null,
      "object_position": null,
      "order": null,
      "overflow": null,
      "overflow_x": null,
      "overflow_y": null,
      "padding": null,
      "right": null,
      "top": null,
      "visibility": null,
      "width": null
     }
    },
    "e6cea5484f5444a8aae4b68e4cca9677": {
     "model_module": "@jupyter-widgets/controls",
     "model_module_version": "1.5.0",
     "model_name": "HTMLModel",
     "state": {
      "_dom_classes": [],
      "_model_module": "@jupyter-widgets/controls",
      "_model_module_version": "1.5.0",
      "_model_name": "HTMLModel",
      "_view_count": null,
      "_view_module": "@jupyter-widgets/controls",
      "_view_module_version": "1.5.0",
      "_view_name": "HTMLView",
      "description": "",
      "description_tooltip": null,
      "layout": "IPY_MODEL_41f1cf625859422092090d52e3794b68",
      "placeholder": "​",
      "style": "IPY_MODEL_41ff2b73bc49402fbd500c9124cf55b9",
      "value": " 1815/18432 [04:20&lt;37:30,  7.38it/s]"
     }
    },
    "f0f5ea82811c49bfb0a55154cc9cd30d": {
     "model_module": "@jupyter-widgets/controls",
     "model_module_version": "1.5.0",
     "model_name": "ProgressStyleModel",
     "state": {
      "_model_module": "@jupyter-widgets/controls",
      "_model_module_version": "1.5.0",
      "_model_name": "ProgressStyleModel",
      "_view_count": null,
      "_view_module": "@jupyter-widgets/base",
      "_view_module_version": "1.2.0",
      "_view_name": "StyleView",
      "bar_color": null,
      "description_width": ""
     }
    }
   }
  }
 },
 "nbformat": 4,
 "nbformat_minor": 4
}
