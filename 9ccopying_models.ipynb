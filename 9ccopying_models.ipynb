{
 "cells": [
  {
   "cell_type": "code",
   "execution_count": 1,
   "metadata": {
    "id": "1RlCqi-d0eTG"
   },
   "outputs": [],
   "source": [
    "%load_ext autoreload\n",
    "%autoreload 2"
   ]
  },
  {
   "cell_type": "code",
   "execution_count": 2,
   "metadata": {
    "id": "zsEy0GL2zk0A"
   },
   "outputs": [],
   "source": [
    "import os\n",
    "import numpy as np\n",
    "import torch\n",
    "import torchvision.transforms as T\n",
    "from shutil import rmtree\n",
    "from sklearn.model_selection import train_test_split\n",
    "from tqdm.autonotebook import tqdm, trange\n",
    "from torch.nn.functional import softmax\n",
    "from torch.utils.data import Dataset, DataLoader\n",
    "from torchvision.io import read_image\n",
    "from torchvision.datasets import ImageFolder\n",
    "\n",
    "\n",
    "from predictors.alexnet import Alexnet\n",
    "from predictors.half_alexnet import HalfAlexnet\n",
    "\n",
    "from datasets import CIFAR10, ProxyDataset\n",
    "\n",
    "%matplotlib inline"
   ]
  },
  {
   "cell_type": "code",
   "execution_count": 3,
   "metadata": {
    "id": "z2QTVln9zk0D"
   },
   "outputs": [
    {
     "data": {
      "text/plain": [
       "device(type='cpu')"
      ]
     },
     "execution_count": 3,
     "metadata": {},
     "output_type": "execute_result"
    }
   ],
   "source": [
    "LR = 0.001\n",
    "EPOCHS = 200\n",
    "BATCH_SIZE = 32\n",
    "CONFIDENCE_TH = 0.8\n",
    "\n",
    "DATASET_PATH = '.'\n",
    "\n",
    "# Set random seed for replicating testing results\n",
    "RANDOM_SEED = 0\n",
    "np.random.seed(0)\n",
    "torch.manual_seed(0)\n",
    "if torch.cuda.is_available():\n",
    "    torch.cuda.manual_seed(0)\n",
    "\n",
    "device = torch.device('cuda' if torch.cuda.is_available() else 'cpu')\n",
    "device"
   ]
  },
  {
   "cell_type": "code",
   "execution_count": 4,
   "metadata": {
    "colab": {
     "base_uri": "https://localhost:8080/"
    },
    "id": "77r9b28lzk0E",
    "outputId": "75c25c0a-02b7-4cb9-e295-6d9916e0aeb7"
   },
   "outputs": [],
   "source": [
    "# Teacher\n",
    "teacher_model = Alexnet(name=None, n_outputs=10)\n",
    "\n",
    "ckpt_path = 'checkpoints/teacher_alexnet_for_cifar10_state_dict'\n",
    "teacher_model.load_state_dict(torch.load(ckpt_path, map_location=device))\n",
    "teacher_model.eval()\n",
    "teacher_model = teacher_model.to(device)"
   ]
  },
  {
   "cell_type": "code",
   "execution_count": 5,
   "metadata": {
    "id": "J0bOFnMSzk0F"
   },
   "outputs": [],
   "source": [
    "# Define dataset\n",
    "label_mapper = {\n",
    "    'airplane': 0,\n",
    "    'automobile': 1,\n",
    "    'bird': 2,\n",
    "    'cat': 3,\n",
    "    'deer': 4,\n",
    "    'dog': 5,\n",
    "    'frog': 6,\n",
    "    'horse': 7,\n",
    "    'ship': 8,\n",
    "    'truck': 9\n",
    "}\n",
    "label_mapper_inv = {v:k for k,v in label_mapper.items()}\n",
    "\n",
    "# Get images paths and labels\n",
    "images = []\n",
    "labels = []\n",
    "\n",
    "folders_path = os.path.join(DATASET_PATH,'images_generated')\n",
    "for folder in os.listdir(folders_path):\n",
    "    if 'imagenet' in folder:\n",
    "      continue\n",
    "    class_path = os.path.join(folders_path,folder)\n",
    "    images_names = os.listdir(class_path)\n",
    "    \n",
    "    for image_name in images_names:\n",
    "        images.append(os.path.join(class_path,image_name))\n",
    "        labels.append(label_mapper[folder])"
   ]
  },
  {
   "cell_type": "code",
   "execution_count": 6,
   "metadata": {
    "colab": {
     "base_uri": "https://localhost:8080/",
     "height": 263,
     "referenced_widgets": [
      "8282f6bd64d344e9aa0e2cdc5deedb50",
      "b7c4c95db21e4c4dbb6cd50f4bb22a1a",
      "9aa9c5d37cbb4a7987c84c6061cbafa6",
      "0dc49d11d2434b568a3f6c3ad5b05c09",
      "18d7a2f2052141c9aaa53bf57a3bc1b3",
      "551ec62854e64a6a89e2550b4eb22e52",
      "3336807a7d144bbb9283a68a327852d5",
      "058124347df04f2a81d75544c5fb8809",
      "f0f5ea82811c49bfb0a55154cc9cd30d",
      "0d4acd03fa734e9db4bb7389ae2f19b4",
      "81d6479563414e36ae8103bbb16bd9a3"
     ]
    },
    "id": "ovpstIXDzk0G",
    "outputId": "91d3a8be-f9f7-450a-8514-97478cb2da87"
   },
   "outputs": [
    {
     "data": {
      "application/vnd.jupyter.widget-view+json": {
       "model_id": "261a25135c874729947a272130956b00",
       "version_major": 2,
       "version_minor": 0
      },
      "text/plain": [
       "  0%|          | 0/1600 [00:00<?, ?it/s]"
      ]
     },
     "metadata": {},
     "output_type": "display_data"
    },
    {
     "name": "stdout",
     "output_type": "stream",
     "text": [
      "A total of 51200 remained out of 51200\n",
      "\n",
      "Class 0(airplane) has 6384 entries\n",
      "Class 1(automobile) has 5145 entries\n",
      "Class 2(bird) has 4796 entries\n",
      "Class 3(cat) has 5329 entries\n",
      "Class 4(deer) has 5571 entries\n",
      "Class 5(dog) has 4287 entries\n",
      "Class 6(frog) has 4553 entries\n",
      "Class 7(horse) has 5025 entries\n",
      "Class 8(ship) has 5178 entries\n",
      "Class 9(truck) has 4932 entries\n"
     ]
    }
   ],
   "source": [
    "proxy_transforms = T.Compose([\n",
    "    T.Resize((32,32)),\n",
    "    T.Normalize((0.5,), (0.5,))\n",
    "])\n",
    "\n",
    "proxy_dataset = ProxyDataset(images, labels, proxy_transforms, True)\n",
    "proxy_dataloader  = DataLoader(proxy_dataset,  batch_size=BATCH_SIZE)\n",
    "\n",
    "# Obtain teacher predictions\n",
    "filtered_images = []\n",
    "filtered_labels = []\n",
    "filtered_soft_labels = []\n",
    "\n",
    "with torch.no_grad():\n",
    "    for img,label,path,_ in tqdm(proxy_dataloader):\n",
    "        img = img.to(device=device)\n",
    "        label = label.to(device=device)\n",
    "\n",
    "        logits = teacher_model(img)\n",
    "        pred = softmax(logits, dim=1)\n",
    "        \n",
    "        confidence,y_hat = torch.max(pred, dim=1)\n",
    "\n",
    "        filtered_images.extend(list(path))\n",
    "        filtered_labels.extend(y_hat.tolist())\n",
    "        filtered_soft_labels.extend(pred)\n",
    "        \n",
    "# Display results of filtering\n",
    "print(f'A total of {len(filtered_images)} remained out of {len(proxy_dataset)}')\n",
    "print()\n",
    "counter_per_class = {v:0 for k,v in label_mapper.items()}\n",
    "for label in filtered_labels:\n",
    "    counter_per_class[label] += 1\n",
    "for clasa in counter_per_class:\n",
    "    print(f'Class {clasa}({label_mapper_inv[clasa]}) has {counter_per_class[clasa]} entries')"
   ]
  },
  {
   "cell_type": "code",
   "execution_count": 7,
   "metadata": {
    "id": "UxE8HVQSzk0F"
   },
   "outputs": [],
   "source": [
    "# Define the student model\n",
    "student_model = HalfAlexnet(name=None, n_outputs=10)\n",
    "\n",
    "path_to_save = 'pretrained_student.pt'\n",
    "if torch.cuda.is_available():\n",
    "    student_model.load_state_dict(torch.load(path_to_save))\n",
    "else:\n",
    "    student_model.load_state_dict(torch.load(path_to_save, map_location ='cpu'))\n",
    "student_model.to(device)\n",
    "\n",
    "# Define optimizer\n",
    "optimizer = torch.optim.Adam(student_model.parameters(), lr=LR)\n",
    "\n",
    "# Define loss function\n",
    "criterion = torch.nn.CrossEntropyLoss(reduction='mean')"
   ]
  },
  {
   "cell_type": "code",
   "execution_count": 8,
   "metadata": {
    "id": "yS1V_-cdL9Ku"
   },
   "outputs": [],
   "source": [
    "try:\n",
    "  # raise\n",
    "  # Do a stratified split of the data\n",
    "  NO_IMGS_TO_USE = 4096\n",
    "  \n",
    "  filtered_images_subset, filtered_images_unused, filtered_labels_subset, filtered_labels_unused, filtered_soft_labels_subset, filtered_soft_labels_unused = \\\n",
    "      train_test_split(filtered_images, filtered_labels, filtered_soft_labels, train_size=NO_IMGS_TO_USE, stratify=filtered_labels, random_state=RANDOM_SEED)  \n",
    "\n",
    "  train_images, validation_images, train_labels, validation_labels, train_soft_labels, validation_soft_labels = \\\n",
    "      train_test_split(filtered_images_subset, filtered_labels_subset, filtered_soft_labels_subset, train_size=0.8, stratify=filtered_labels_subset, random_state=RANDOM_SEED)\n",
    "  valid_images, test_images, valid_labels, test_labels, valid_soft_labels, test_soft_labels = \\\n",
    "      train_test_split(validation_images, validation_labels, validation_soft_labels, test_size=0.5, stratify=validation_labels, random_state=RANDOM_SEED)\n",
    "except:\n",
    "  # For small datasets \n",
    "  print('Small dataset')\n",
    "  NO_IMGS_TO_USE = 30\n",
    "  NO_TRAIN_IMGS = 10\n",
    "\n",
    "  \"\"\" DEV - train_test_split fails, need to manually introduce 1 sample\n",
    "  \"\"\"\n",
    "  for i in range(len(filtered_labels)-1,-1,-1):\n",
    "    if filtered_labels[i] == 5:\n",
    "      img_dev = filtered_images[i]\n",
    "      soft_label_dev = filtered_soft_labels[i]\n",
    "      break\n",
    "\n",
    "  filtered_images_subset, filtered_images_unused, filtered_labels_subset, filtered_labels_unused, filtered_soft_labels_subset, filtered_soft_labels_unused = \\\n",
    "    train_test_split(filtered_images, filtered_labels, filtered_soft_labels, train_size=NO_IMGS_TO_USE, stratify=filtered_labels, random_state=RANDOM_SEED)  \n",
    "  train_images, validation_images, train_labels, validation_labels, train_soft_labels, validation_soft_labels = \\\n",
    "    train_test_split(filtered_images_subset, filtered_labels_subset, filtered_soft_labels_subset, train_size=NO_TRAIN_IMGS, stratify=filtered_labels_subset, random_state=RANDOM_SEED)\n",
    "  \n",
    "  \"\"\" DEV - interchange an image\n",
    "  \"\"\"\n",
    "  for i in range(len(validation_images)):\n",
    "    if validation_labels[i] == 0:\n",
    "      validation_images[i] = img_dev\n",
    "      validation_labels[i] = 5\n",
    "      validation_soft_labels[i] = soft_label_dev\n",
    "      break\n",
    "\n",
    "  valid_images, test_images, valid_labels, test_labels, valid_soft_labels, test_soft_labels = \\\n",
    "      train_test_split(validation_images, validation_labels, validation_soft_labels, test_size=0.5, stratify=validation_labels)"
   ]
  },
  {
   "cell_type": "code",
   "execution_count": 9,
   "metadata": {
    "id": "AGYrWL_Zzk0H"
   },
   "outputs": [
    {
     "name": "stdout",
     "output_type": "stream",
     "text": [
      "Files already downloaded and verified\n",
      "Files already downloaded and verified\n"
     ]
    }
   ],
   "source": [
    "# Define the transformations\n",
    "train_transforms = T.Compose([\n",
    "    T.Resize((32,32)),\n",
    "    T.RandomCrop(32, padding=4),\n",
    "    T.RandomHorizontalFlip(p=0.5),\n",
    "    T.Normalize((0.5,), (0.5,))\n",
    "])\n",
    "valid_transforms = T.Compose([\n",
    "    T.Resize((32,32)),\n",
    "    T.Normalize((0.5,), (0.5,))\n",
    "])\n",
    "\n",
    "# Define the proxy datasets\n",
    "proxy_train_dataset = ProxyDataset(train_images, train_labels, train_transforms, False, train_soft_labels)\n",
    "proxy_valid_dataset = ProxyDataset(valid_images, valid_labels, valid_transforms, False, valid_soft_labels)\n",
    "proxy_test_dataset  = ProxyDataset(test_images,  test_labels,  valid_transforms, False, test_soft_labels)\n",
    "\n",
    "# Define the proxy dataloaders\n",
    "train_dataloader = DataLoader(proxy_train_dataset, batch_size=BATCH_SIZE, shuffle=True)\n",
    "valid_dataloader = DataLoader(proxy_valid_dataset, batch_size=BATCH_SIZE)\n",
    "test_dataloader  = DataLoader(proxy_test_dataset,  batch_size=BATCH_SIZE)\n",
    "\n",
    "# Define true dataset\n",
    "true_dataset = CIFAR10(input_size = 32)\n",
    "\n",
    "validate_on_trueds = True\n",
    "if validate_on_trueds:\n",
    "    true_valid_ds = true_dataset.test_dataloader()"
   ]
  },
  {
   "cell_type": "code",
   "execution_count": 10,
   "metadata": {
    "id": "UiU_sPFAZh9P"
   },
   "outputs": [],
   "source": [
    "# Class for early stopping\n",
    "class EarlyStopping():\n",
    "    def __init__(self, tolerance=5, min_delta=0):\n",
    "\n",
    "        self.tolerance = tolerance\n",
    "        self.min_delta = min_delta\n",
    "        self.counter = 0\n",
    "        self.best_score = None\n",
    "        self.early_stop = False\n",
    "\n",
    "    def __call__(self, validation_loss):\n",
    "        if self.best_score is None:\n",
    "          self.best_score = validation_loss\n",
    "        elif validation_loss - self.best_score < self.min_delta:\n",
    "          self.best_score = validation_loss\n",
    "        else:\n",
    "          self.counter +=1\n",
    "          if self.counter >= self.tolerance:  \n",
    "              self.early_stop = True"
   ]
  },
  {
   "cell_type": "code",
   "execution_count": 11,
   "metadata": {
    "id": "6Upn77I0zk0I"
   },
   "outputs": [
    {
     "data": {
      "application/vnd.jupyter.widget-view+json": {
       "model_id": "a01656f1084343c1afc1a80019db54ea",
       "version_major": 2,
       "version_minor": 0
      },
      "text/plain": [
       "  0%|          | 0/103 [00:00<?, ?it/s]"
      ]
     },
     "metadata": {},
     "output_type": "display_data"
    },
    {
     "name": "stdout",
     "output_type": "stream",
     "text": [
      "validation_loss on proxy = 0.9834\n",
      "validation_accuracy on proxy = 71.46%\n",
      "validation_loss on true ds = 1.6351\n",
      "validation_accuracy on true ds = 40.28%\n"
     ]
    },
    {
     "data": {
      "application/vnd.jupyter.widget-view+json": {
       "model_id": "d9470229fef24498be0f3ca186bc1aa9",
       "version_major": 2,
       "version_minor": 0
      },
      "text/plain": [
       "  0%|          | 0/103 [00:00<?, ?it/s]"
      ]
     },
     "metadata": {},
     "output_type": "display_data"
    },
    {
     "name": "stdout",
     "output_type": "stream",
     "text": [
      "validation_loss on proxy = 0.7034\n",
      "validation_accuracy on proxy = 77.32%\n",
      "validation_loss on true ds = 1.4906\n",
      "validation_accuracy on true ds = 45.55%\n"
     ]
    },
    {
     "data": {
      "application/vnd.jupyter.widget-view+json": {
       "model_id": "5de1d7f35a314edeb1b57a216b847438",
       "version_major": 2,
       "version_minor": 0
      },
      "text/plain": [
       "  0%|          | 0/103 [00:00<?, ?it/s]"
      ]
     },
     "metadata": {},
     "output_type": "display_data"
    },
    {
     "name": "stdout",
     "output_type": "stream",
     "text": [
      "validation_loss on proxy = 0.6513\n",
      "validation_accuracy on proxy = 80.24%\n",
      "validation_loss on true ds = 1.5728\n",
      "validation_accuracy on true ds = 44.90%\n"
     ]
    },
    {
     "data": {
      "application/vnd.jupyter.widget-view+json": {
       "model_id": "8f37184433c84019a50b2d6cc5df2183",
       "version_major": 2,
       "version_minor": 0
      },
      "text/plain": [
       "  0%|          | 0/103 [00:00<?, ?it/s]"
      ]
     },
     "metadata": {},
     "output_type": "display_data"
    },
    {
     "name": "stdout",
     "output_type": "stream",
     "text": [
      "validation_loss on proxy = 0.6198\n",
      "validation_accuracy on proxy = 81.95%\n",
      "validation_loss on true ds = 1.4617\n",
      "validation_accuracy on true ds = 49.10%\n"
     ]
    },
    {
     "data": {
      "application/vnd.jupyter.widget-view+json": {
       "model_id": "65a5a90b2a014c2a87e82a119bb10c61",
       "version_major": 2,
       "version_minor": 0
      },
      "text/plain": [
       "  0%|          | 0/103 [00:00<?, ?it/s]"
      ]
     },
     "metadata": {},
     "output_type": "display_data"
    },
    {
     "name": "stdout",
     "output_type": "stream",
     "text": [
      "validation_loss on proxy = 0.5811\n",
      "validation_accuracy on proxy = 83.66%\n",
      "validation_loss on true ds = 1.6199\n",
      "validation_accuracy on true ds = 47.50%\n"
     ]
    },
    {
     "data": {
      "application/vnd.jupyter.widget-view+json": {
       "model_id": "72a69b644e6b428180bf196ebd790e43",
       "version_major": 2,
       "version_minor": 0
      },
      "text/plain": [
       "  0%|          | 0/103 [00:00<?, ?it/s]"
      ]
     },
     "metadata": {},
     "output_type": "display_data"
    },
    {
     "name": "stdout",
     "output_type": "stream",
     "text": [
      "validation_loss on proxy = 0.5722\n",
      "validation_accuracy on proxy = 83.90%\n",
      "validation_loss on true ds = 1.5034\n",
      "validation_accuracy on true ds = 49.86%\n"
     ]
    },
    {
     "data": {
      "application/vnd.jupyter.widget-view+json": {
       "model_id": "913caea538244134ad25272f6d7dda9d",
       "version_major": 2,
       "version_minor": 0
      },
      "text/plain": [
       "  0%|          | 0/103 [00:00<?, ?it/s]"
      ]
     },
     "metadata": {},
     "output_type": "display_data"
    },
    {
     "ename": "KeyboardInterrupt",
     "evalue": "",
     "output_type": "error",
     "traceback": [
      "\u001b[0;31m---------------------------------------------------------------------------\u001b[0m",
      "\u001b[0;31mKeyboardInterrupt\u001b[0m                         Traceback (most recent call last)",
      "\u001b[1;32m/Users/vlad/Vlad/phd/framework_copiere/black-box-ripper/9ccopying_models.ipynb Cell 11\u001b[0m in \u001b[0;36m<module>\u001b[0;34m\u001b[0m\n\u001b[1;32m     <a href='vscode-notebook-cell:/Users/vlad/Vlad/phd/framework_copiere/black-box-ripper/9ccopying_models.ipynb#X13sZmlsZQ%3D%3D?line=16'>17</a>\u001b[0m soft_y \u001b[39m=\u001b[39m soft_y\u001b[39m.\u001b[39mto(device\u001b[39m=\u001b[39mdevice)\n\u001b[1;32m     <a href='vscode-notebook-cell:/Users/vlad/Vlad/phd/framework_copiere/black-box-ripper/9ccopying_models.ipynb#X13sZmlsZQ%3D%3D?line=18'>19</a>\u001b[0m \u001b[39m# Forward pass\u001b[39;00m\n\u001b[0;32m---> <a href='vscode-notebook-cell:/Users/vlad/Vlad/phd/framework_copiere/black-box-ripper/9ccopying_models.ipynb#X13sZmlsZQ%3D%3D?line=19'>20</a>\u001b[0m logits \u001b[39m=\u001b[39m student_model(x)\n\u001b[1;32m     <a href='vscode-notebook-cell:/Users/vlad/Vlad/phd/framework_copiere/black-box-ripper/9ccopying_models.ipynb#X13sZmlsZQ%3D%3D?line=20'>21</a>\u001b[0m \u001b[39m# Backward pass\u001b[39;00m\n\u001b[1;32m     <a href='vscode-notebook-cell:/Users/vlad/Vlad/phd/framework_copiere/black-box-ripper/9ccopying_models.ipynb#X13sZmlsZQ%3D%3D?line=21'>22</a>\u001b[0m loss \u001b[39m=\u001b[39m criterion(\u001b[39minput\u001b[39m\u001b[39m=\u001b[39mlogits, target\u001b[39m=\u001b[39msoft_y)\n",
      "File \u001b[0;32m/Library/Frameworks/Python.framework/Versions/3.9/lib/python3.9/site-packages/torch/nn/modules/module.py:1102\u001b[0m, in \u001b[0;36mModule._call_impl\u001b[0;34m(self, *input, **kwargs)\u001b[0m\n\u001b[1;32m   1098\u001b[0m \u001b[39m# If we don't have any hooks, we want to skip the rest of the logic in\u001b[39;00m\n\u001b[1;32m   1099\u001b[0m \u001b[39m# this function, and just call forward.\u001b[39;00m\n\u001b[1;32m   1100\u001b[0m \u001b[39mif\u001b[39;00m \u001b[39mnot\u001b[39;00m (\u001b[39mself\u001b[39m\u001b[39m.\u001b[39m_backward_hooks \u001b[39mor\u001b[39;00m \u001b[39mself\u001b[39m\u001b[39m.\u001b[39m_forward_hooks \u001b[39mor\u001b[39;00m \u001b[39mself\u001b[39m\u001b[39m.\u001b[39m_forward_pre_hooks \u001b[39mor\u001b[39;00m _global_backward_hooks\n\u001b[1;32m   1101\u001b[0m         \u001b[39mor\u001b[39;00m _global_forward_hooks \u001b[39mor\u001b[39;00m _global_forward_pre_hooks):\n\u001b[0;32m-> 1102\u001b[0m     \u001b[39mreturn\u001b[39;00m forward_call(\u001b[39m*\u001b[39;49m\u001b[39minput\u001b[39;49m, \u001b[39m*\u001b[39;49m\u001b[39m*\u001b[39;49mkwargs)\n\u001b[1;32m   1103\u001b[0m \u001b[39m# Do not call functions when jit is used\u001b[39;00m\n\u001b[1;32m   1104\u001b[0m full_backward_hooks, non_full_backward_hooks \u001b[39m=\u001b[39m [], []\n",
      "File \u001b[0;32m~/Vlad/phd/framework_copiere/black-box-ripper/predictors/half_alexnet.py:68\u001b[0m, in \u001b[0;36mHalfAlexnet.forward\u001b[0;34m(self, x)\u001b[0m\n\u001b[1;32m     66\u001b[0m \u001b[39mdef\u001b[39;00m \u001b[39mforward\u001b[39m(\u001b[39mself\u001b[39m, x):\n\u001b[1;32m     67\u001b[0m     layer1 \u001b[39m=\u001b[39m \u001b[39mself\u001b[39m\u001b[39m.\u001b[39mbatch_norm1(\u001b[39mself\u001b[39m\u001b[39m.\u001b[39mpad(\u001b[39mself\u001b[39m\u001b[39m.\u001b[39mlrn(\u001b[39mself\u001b[39m\u001b[39m.\u001b[39mrelu(\u001b[39mself\u001b[39m\u001b[39m.\u001b[39mconv1(x)))))\n\u001b[0;32m---> 68\u001b[0m     layer2 \u001b[39m=\u001b[39m \u001b[39mself\u001b[39m\u001b[39m.\u001b[39mbatch_norm2(\u001b[39mself\u001b[39m\u001b[39m.\u001b[39mpad(\u001b[39mself\u001b[39;49m\u001b[39m.\u001b[39;49mlrn(\u001b[39mself\u001b[39;49m\u001b[39m.\u001b[39;49mrelu(\u001b[39mself\u001b[39;49m\u001b[39m.\u001b[39;49mconv2(layer1)))))\n\u001b[1;32m     69\u001b[0m     layer3 \u001b[39m=\u001b[39m \u001b[39mself\u001b[39m\u001b[39m.\u001b[39mbatch_norm3(\u001b[39mself\u001b[39m\u001b[39m.\u001b[39mrelu(\u001b[39mself\u001b[39m\u001b[39m.\u001b[39mconv3(layer2)))\n\u001b[1;32m     70\u001b[0m     layer4 \u001b[39m=\u001b[39m \u001b[39mself\u001b[39m\u001b[39m.\u001b[39mbatch_norm4(\u001b[39mself\u001b[39m\u001b[39m.\u001b[39mrelu(\u001b[39mself\u001b[39m\u001b[39m.\u001b[39mconv4(layer3)))\n",
      "File \u001b[0;32m/Library/Frameworks/Python.framework/Versions/3.9/lib/python3.9/site-packages/torch/nn/modules/module.py:1102\u001b[0m, in \u001b[0;36mModule._call_impl\u001b[0;34m(self, *input, **kwargs)\u001b[0m\n\u001b[1;32m   1098\u001b[0m \u001b[39m# If we don't have any hooks, we want to skip the rest of the logic in\u001b[39;00m\n\u001b[1;32m   1099\u001b[0m \u001b[39m# this function, and just call forward.\u001b[39;00m\n\u001b[1;32m   1100\u001b[0m \u001b[39mif\u001b[39;00m \u001b[39mnot\u001b[39;00m (\u001b[39mself\u001b[39m\u001b[39m.\u001b[39m_backward_hooks \u001b[39mor\u001b[39;00m \u001b[39mself\u001b[39m\u001b[39m.\u001b[39m_forward_hooks \u001b[39mor\u001b[39;00m \u001b[39mself\u001b[39m\u001b[39m.\u001b[39m_forward_pre_hooks \u001b[39mor\u001b[39;00m _global_backward_hooks\n\u001b[1;32m   1101\u001b[0m         \u001b[39mor\u001b[39;00m _global_forward_hooks \u001b[39mor\u001b[39;00m _global_forward_pre_hooks):\n\u001b[0;32m-> 1102\u001b[0m     \u001b[39mreturn\u001b[39;00m forward_call(\u001b[39m*\u001b[39;49m\u001b[39minput\u001b[39;49m, \u001b[39m*\u001b[39;49m\u001b[39m*\u001b[39;49mkwargs)\n\u001b[1;32m   1103\u001b[0m \u001b[39m# Do not call functions when jit is used\u001b[39;00m\n\u001b[1;32m   1104\u001b[0m full_backward_hooks, non_full_backward_hooks \u001b[39m=\u001b[39m [], []\n",
      "File \u001b[0;32m/Library/Frameworks/Python.framework/Versions/3.9/lib/python3.9/site-packages/torch/nn/modules/normalization.py:55\u001b[0m, in \u001b[0;36mLocalResponseNorm.forward\u001b[0;34m(self, input)\u001b[0m\n\u001b[1;32m     54\u001b[0m \u001b[39mdef\u001b[39;00m \u001b[39mforward\u001b[39m(\u001b[39mself\u001b[39m, \u001b[39minput\u001b[39m: Tensor) \u001b[39m-\u001b[39m\u001b[39m>\u001b[39m Tensor:\n\u001b[0;32m---> 55\u001b[0m     \u001b[39mreturn\u001b[39;00m F\u001b[39m.\u001b[39;49mlocal_response_norm(\u001b[39minput\u001b[39;49m, \u001b[39mself\u001b[39;49m\u001b[39m.\u001b[39;49msize, \u001b[39mself\u001b[39;49m\u001b[39m.\u001b[39;49malpha, \u001b[39mself\u001b[39;49m\u001b[39m.\u001b[39;49mbeta,\n\u001b[1;32m     56\u001b[0m                                  \u001b[39mself\u001b[39;49m\u001b[39m.\u001b[39;49mk)\n",
      "File \u001b[0;32m/Library/Frameworks/Python.framework/Versions/3.9/lib/python3.9/site-packages/torch/nn/functional.py:2394\u001b[0m, in \u001b[0;36mlocal_response_norm\u001b[0;34m(input, size, alpha, beta, k)\u001b[0m\n\u001b[1;32m   2392\u001b[0m     div \u001b[39m=\u001b[39m avg_pool3d(div, (size, \u001b[39m1\u001b[39m, \u001b[39m1\u001b[39m), stride\u001b[39m=\u001b[39m\u001b[39m1\u001b[39m)\u001b[39m.\u001b[39msqueeze(\u001b[39m1\u001b[39m)\n\u001b[1;32m   2393\u001b[0m     div \u001b[39m=\u001b[39m div\u001b[39m.\u001b[39mview(sizes)\n\u001b[0;32m-> 2394\u001b[0m div \u001b[39m=\u001b[39m div\u001b[39m.\u001b[39;49mmul(alpha)\u001b[39m.\u001b[39;49madd(k)\u001b[39m.\u001b[39mpow(beta)\n\u001b[1;32m   2395\u001b[0m \u001b[39mreturn\u001b[39;00m \u001b[39minput\u001b[39m \u001b[39m/\u001b[39m div\n",
      "\u001b[0;31mKeyboardInterrupt\u001b[0m: "
     ]
    }
   ],
   "source": [
    "early_stopping = EarlyStopping(tolerance=20, min_delta=0.001)\n",
    "# early_stopping = EarlyStopping(tolerance=5, min_delta=0.001)\n",
    "\n",
    "# Training the student\n",
    "for epoch in range(EPOCHS):\n",
    "    # Define progress bar\n",
    "    loop = tqdm(enumerate(train_dataloader), total=len(train_dataloader))\n",
    "    \n",
    "    # Training loop\n",
    "    student_model.train()\n",
    "    training_loss_epoch = []\n",
    "    for batch_idx, (x,y,soft_y) in loop:\n",
    "        optimizer.zero_grad()\n",
    "        \n",
    "        x = x.to(device=device)\n",
    "        y = y.to(device=device)\n",
    "        soft_y = soft_y.to(device=device)\n",
    "        \n",
    "        # Forward pass\n",
    "        logits = student_model(x)\n",
    "        # Backward pass\n",
    "        loss = criterion(input=logits, target=soft_y)\n",
    "        training_loss_epoch.append(loss.item())\n",
    "        # Prob trb inlocuit criterionul, sa adaugi soft-labels\n",
    "        loss.backward()\n",
    "        \n",
    "        # Optimize\n",
    "        optimizer.step()\n",
    "        \n",
    "        # Update progress bar\n",
    "        loop.set_description(f'Epoch {epoch+1}/{EPOCHS}')\n",
    "        loop.set_postfix(training_loss=loss.item())\n",
    "    \n",
    "    # Validation loop on proxy validation dataset\n",
    "    student_model.eval()\n",
    "    validation_loss_epoch = []  \n",
    "    acc = 0\n",
    "    with torch.no_grad():\n",
    "        for x,y,_ in valid_dataloader:\n",
    "            x = x.to(device=device)\n",
    "            y = y.to(device=device)\n",
    "        \n",
    "            logits = student_model(x)\n",
    "            pred = softmax(logits, dim=1)\n",
    "            \n",
    "            confidence,y_hat = torch.max(pred, dim=1)\n",
    "            \n",
    "            loss = criterion(input=logits, target=y)\n",
    "            validation_loss_epoch.append(loss.item())\n",
    "            \n",
    "            acc += torch.sum(y_hat==y).item()\n",
    "        \n",
    "    loop.write(f'validation_loss on proxy = {sum(validation_loss_epoch)/len(validation_loss_epoch):.4f}')\n",
    "    loop.write(f'validation_accuracy on proxy = {100*acc/len(proxy_valid_dataset):.2f}%')\n",
    "\n",
    "    if validate_on_trueds:\n",
    "        # Validation loop on proxy validation dataset\n",
    "        student_model.eval()\n",
    "        with torch.no_grad():\n",
    "            val_loss = []\n",
    "            acc = 0\n",
    "            for x,y in true_valid_ds:\n",
    "                x = x.to(device=device)\n",
    "                y = y.to(device=device)\n",
    "            \n",
    "                logits = student_model(x)\n",
    "                pred = softmax(logits, dim=1)\n",
    "                \n",
    "                confidence,y_hat = torch.max(pred, dim=1)\n",
    "                \n",
    "                loss = criterion(input=logits, target=y)\n",
    "                val_loss.append(loss.item())\n",
    "                \n",
    "                acc += torch.sum(y_hat==y).item()\n",
    "            \n",
    "        loop.write(f'validation_loss on true ds = {sum(val_loss)/len(val_loss):.4f}')\n",
    "        loop.write(f'validation_accuracy on true ds = {100*acc/len(true_dataset.test_dataset):.2f}%')\n",
    "\n",
    "    early_stopping(sum(validation_loss_epoch)/len(validation_loss_epoch))\n",
    "    if early_stopping.early_stop:\n",
    "      print(f\"We are at epoch {epoch}\")\n",
    "      break"
   ]
  },
  {
   "cell_type": "code",
   "execution_count": 12,
   "metadata": {
    "colab": {
     "base_uri": "https://localhost:8080/"
    },
    "id": "YN6xau7Lzk0K",
    "outputId": "85cb31f5-2fd3-4b8d-edab-8c23f25b9a40"
   },
   "outputs": [
    {
     "name": "stdout",
     "output_type": "stream",
     "text": [
      "Student with true dataset:\n",
      "test_loss = 1.4548\n",
      "test_accuracy = 51.73%\n",
      "\n",
      "Class airplane: correct_pred=395, actual=1000 => acc=39.50%, total_pred=559\n",
      "Class automobile: correct_pred=586, actual=1000 => acc=58.60%, total_pred=797\n",
      "Class bird: correct_pred=496, actual=1000 => acc=49.60%, total_pred=1197\n",
      "Class cat: correct_pred=609, actual=1000 => acc=60.90%, total_pred=2060\n",
      "Class deer: correct_pred=484, actual=1000 => acc=48.40%, total_pred=874\n",
      "Class dog: correct_pred=599, actual=1000 => acc=59.90%, total_pred=1465\n",
      "Class frog: correct_pred=163, actual=1000 => acc=16.30%, total_pred=197\n",
      "Class horse: correct_pred=541, actual=1000 => acc=54.10%, total_pred=889\n",
      "Class ship: correct_pred=516, actual=1000 => acc=51.60%, total_pred=657\n",
      "Class truck: correct_pred=784, actual=1000 => acc=78.40%, total_pred=1305\n"
     ]
    }
   ],
   "source": [
    "# Testing on CIFAR10 ground truth\n",
    "true_dataloader = true_dataset.test_dataloader()\n",
    "acc_per_class = {k:[0,0,0] for k,v in label_mapper_inv.items()}\n",
    "\n",
    "student_model.eval()\n",
    "student_model.return_feature_domain = False\n",
    "with torch.no_grad():\n",
    "    test_loss = []\n",
    "    acc = 0\n",
    "    for x,y in true_dataloader:\n",
    "        x = x.to(device=device)\n",
    "        y = y.to(device=device)\n",
    "    \n",
    "        logits = student_model(x)\n",
    "        pred = softmax(logits, dim=1)\n",
    "        \n",
    "        confidence,y_hat = torch.max(pred, dim=1)\n",
    "        \n",
    "        loss = criterion(input=logits, target=y)\n",
    "        test_loss.append(loss.item())\n",
    "        \n",
    "        acc += torch.sum(y_hat==y)\n",
    "        \n",
    "        for i in range(len(y)):\n",
    "            a = y[i].item()\n",
    "            p = y_hat[i].item()\n",
    "            \n",
    "            \n",
    "            if a == p:\n",
    "                acc_per_class[a][0] += 1 # correct predictions\n",
    "            acc_per_class[a][1] += 1     # total number \n",
    "            acc_per_class[p][2] += 1     # predictions of class\n",
    "        \n",
    "    print('Student with true dataset:')\n",
    "    print(f'test_loss = {sum(test_loss)/len(test_loss):.4f}')                  # 1.7439;  1.6199\n",
    "    print(f'test_accuracy = {100*acc/len(true_dataset.test_dataset):.2f}%')    # 46.09%;  48.57%\n",
    "    print()\n",
    "    \n",
    "for k,v in acc_per_class.items():\n",
    "    print(f'Class {label_mapper_inv[k]}: correct_pred={v[0]}, actual={v[1]} => acc={v[0]*100/v[1]:.2f}%, total_pred={v[2]}')"
   ]
  },
  {
   "cell_type": "code",
   "execution_count": null,
   "metadata": {
    "colab": {
     "base_uri": "https://localhost:8080/"
    },
    "id": "c3nKp8h6GZa1",
    "outputId": "48b21216-dc14-4b6e-e232-ce727f9771fb"
   },
   "outputs": [
    {
     "name": "stdout",
     "output_type": "stream",
     "text": [
      "Student with true dataset:\n",
      "test_loss = 1.4893\n",
      "test_accuracy = 52.48%\n",
      "\n",
      "Class airplane: correct_pred=569, actual=1038 => acc=54.82%, total_pred=886\n",
      "Class automobile: correct_pred=606, actual=1002 => acc=60.48%, total_pred=779\n",
      "Class bird: correct_pred=449, actual=965 => acc=46.53%, total_pred=1085\n",
      "Class cat: correct_pred=679, actual=938 => acc=72.39%, total_pred=2427\n",
      "Class deer: correct_pred=472, actual=1108 => acc=42.60%, total_pred=805\n",
      "Class dog: correct_pred=425, actual=913 => acc=46.55%, total_pred=1077\n",
      "Class frog: correct_pred=334, actual=996 => acc=33.53%, total_pred=442\n",
      "Class horse: correct_pred=397, actual=1063 => acc=37.35%, total_pred=529\n",
      "Class ship: correct_pred=587, actual=939 => acc=62.51%, total_pred=901\n",
      "Class truck: correct_pred=730, actual=1038 => acc=70.33%, total_pred=1069\n"
     ]
    }
   ],
   "source": [
    "# Testing using labels predicted with teacher\n",
    "true_dataloader = true_dataset.test_dataloader()\n",
    "acc_per_class = {k:[0,0,0] for k,v in label_mapper_inv.items()}\n",
    "\n",
    "student_model.eval()\n",
    "teacher_model.eval()\n",
    "with torch.no_grad():\n",
    "    test_loss = []\n",
    "    acc = 0\n",
    "    for x,y in true_dataloader:\n",
    "        x = x.to(device=device)\n",
    "        # y = y.to(device=device)\n",
    "\n",
    "        teacher_pred = softmax(teacher_model(x), dim=1)\n",
    "        _, y = torch.max(teacher_pred, dim=1)\n",
    "    \n",
    "        logits = student_model(x)\n",
    "        pred = softmax(logits, dim=1)\n",
    "        \n",
    "        confidence,y_hat = torch.max(pred, dim=1)\n",
    "        \n",
    "        loss = criterion(input=logits, target=y)\n",
    "        test_loss.append(loss.item())\n",
    "        \n",
    "        acc += torch.sum(y_hat==y)\n",
    "        \n",
    "        for i in range(len(y)):\n",
    "            a = y[i].item()\n",
    "            p = y_hat[i].item()\n",
    "            \n",
    "            \n",
    "            if a == p:\n",
    "                acc_per_class[a][0] += 1\n",
    "            acc_per_class[a][1] += 1\n",
    "            acc_per_class[p][2] += 1\n",
    "        \n",
    "    print('Student with true dataset:')\n",
    "    print(f'test_loss = {sum(test_loss)/len(test_loss):.4f}')                  # 1.7439;  1.6199\n",
    "    print(f'test_accuracy = {100*acc/len(true_dataset.test_dataset):.2f}%')    # 46.09%;  48.57%\n",
    "    print()\n",
    "    \n",
    "for k,v in acc_per_class.items():\n",
    "    print(f'Class {label_mapper_inv[k]}: correct_pred={v[0]}, actual={v[1]} => acc={v[0]*100/v[1]:.2f}%, total_pred={v[2]}')"
   ]
  },
  {
   "cell_type": "code",
   "execution_count": 18,
   "metadata": {
    "id": "iEGZLvslraqe"
   },
   "outputs": [],
   "source": [
    "# Redefine training dataset and dataloader with no augmentation\n",
    "proxy_train_dataset = ProxyDataset(train_images, train_labels, valid_transforms, False, train_soft_labels)\n",
    "train_dataloader = DataLoader(proxy_train_dataset, batch_size=BATCH_SIZE, shuffle=False)\n",
    "\n",
    "\n",
    "student_model.return_feature_domain = True\n",
    "\n",
    "if os.path.exists('images_db'):\n",
    "  rmtree('images_db')\n",
    "db_path = 'images_db'\n",
    "images_path = os.path.join(db_path,'images')\n",
    "labels_path = os.path.join(db_path,'labels')\n",
    "\n",
    "images_db = []\n",
    "labels_db = []\n",
    "\n",
    "if not os.path.exists('images_db'):\n",
    "  os.makedirs(db_path)\n",
    "  os.makedirs(images_path)\n",
    "  os.makedirs(labels_path)\n",
    "\n",
    "  for i in range(10):\n",
    "    os.makedirs(os.path.join(images_path,f'class{i}'))\n",
    "    os.makedirs(os.path.join(labels_path,f'class{i}'))\n",
    "\n",
    "# Create the database\n",
    "student_model.eval()\n",
    "with torch.no_grad():\n",
    "  # for dataloader in [train_dataloader, valid_dataloader, test_dataloader]:\n",
    "  for dataloader in [train_dataloader]:\n",
    "    for x,y,soft_y in dataloader:\n",
    "      x = x.to(device=device)\n",
    "\n",
    "      _,latent_fm = student_model(x)\n",
    "\n",
    "      for i in range(latent_fm.shape[0]):\n",
    "        # label = y[i].item()\n",
    "        # path_image = f'{images_path}/class{label}'\n",
    "        # path_label = f'{labels_path}/class{label}'\n",
    "        # idx = len(os.listdir(path_image))\n",
    "        # torch.save(latent_fm[i].cpu(), f'{path_image}/t{idx}.pt')\n",
    "        # torch.save(soft_y[i].cpu(), f'{path_label}/t{idx}.pt')\n",
    "\n",
    "        images_db.append(latent_fm[i])\n",
    "        labels_db.append(soft_y[i])"
   ]
  },
  {
   "cell_type": "code",
   "execution_count": 19,
   "metadata": {
    "id": "h9vnLo2DZ3ts"
   },
   "outputs": [],
   "source": [
    "class DBDataset(Dataset):\n",
    "  def __init__(self, images_db, labels_db):\n",
    "    self.images_db = images_db\n",
    "    self.labels_db = labels_db\n",
    "\n",
    "  def __len__(self):\n",
    "    return len(self.images_db)\n",
    "\n",
    "  def __getitem__(self, idx):\n",
    "    image = self.images_db[idx]\n",
    "    label = self.labels_db[idx]\n",
    "\n",
    "    return image, label\n",
    "\n",
    "db_dataset = DBDataset(images_db=images_db, labels_db=labels_db)\n",
    "db_dataloader = DataLoader(db_dataset, batch_size=128, shuffle=False)"
   ]
  },
  {
   "cell_type": "code",
   "execution_count": 23,
   "metadata": {
    "id": "IvlP1VQBhiEO"
   },
   "outputs": [],
   "source": [
    "proxy_unused_dataset  = ProxyDataset(filtered_images_unused,  filtered_labels_unused,  valid_transforms, True, filtered_soft_labels_unused)"
   ]
  },
  {
   "cell_type": "code",
   "execution_count": 34,
   "metadata": {},
   "outputs": [
    {
     "data": {
      "application/vnd.jupyter.widget-view+json": {
       "model_id": "f4653659ea69416ba59bb937783cf66e",
       "version_major": 2,
       "version_minor": 0
      },
      "text/plain": [
       "  0%|          | 0/47104 [00:00<?, ?it/s]"
      ]
     },
     "metadata": {},
     "output_type": "display_data"
    },
    {
     "ename": "KeyboardInterrupt",
     "evalue": "",
     "output_type": "error",
     "traceback": [
      "\u001b[0;31m---------------------------------------------------------------------------\u001b[0m",
      "\u001b[0;31mKeyboardInterrupt\u001b[0m                         Traceback (most recent call last)",
      "\u001b[1;32m/Users/vlad/Vlad/phd/framework_copiere/black-box-ripper/9ccopying_models.ipynb Cell 17\u001b[0m in \u001b[0;36m<module>\u001b[0;34m\u001b[0m\n\u001b[1;32m      <a href='vscode-notebook-cell:/Users/vlad/Vlad/phd/framework_copiere/black-box-ripper/9ccopying_models.ipynb#X22sZmlsZQ%3D%3D?line=6'>7</a>\u001b[0m image, label, image_path, soft_label \u001b[39m=\u001b[39m proxy_unused_dataset[i]\n\u001b[1;32m      <a href='vscode-notebook-cell:/Users/vlad/Vlad/phd/framework_copiere/black-box-ripper/9ccopying_models.ipynb#X22sZmlsZQ%3D%3D?line=7'>8</a>\u001b[0m image \u001b[39m=\u001b[39m image\u001b[39m.\u001b[39mto(device\u001b[39m=\u001b[39mdevice)\n\u001b[0;32m---> <a href='vscode-notebook-cell:/Users/vlad/Vlad/phd/framework_copiere/black-box-ripper/9ccopying_models.ipynb#X22sZmlsZQ%3D%3D?line=9'>10</a>\u001b[0m _,latent_fm \u001b[39m=\u001b[39m student_model(image\u001b[39m.\u001b[39;49munsqueeze(dim\u001b[39m=\u001b[39;49m\u001b[39m0\u001b[39;49m))\n\u001b[1;32m     <a href='vscode-notebook-cell:/Users/vlad/Vlad/phd/framework_copiere/black-box-ripper/9ccopying_models.ipynb#X22sZmlsZQ%3D%3D?line=11'>12</a>\u001b[0m norm_unkwn \u001b[39m=\u001b[39m torch\u001b[39m.\u001b[39msqrt(torch\u001b[39m.\u001b[39msum(torch\u001b[39m.\u001b[39msquare(latent_fm), dim\u001b[39m=\u001b[39m(\u001b[39m-\u001b[39m\u001b[39m1\u001b[39m,\u001b[39m-\u001b[39m\u001b[39m2\u001b[39m,\u001b[39m-\u001b[39m\u001b[39m3\u001b[39m), keepdim\u001b[39m=\u001b[39m\u001b[39mTrue\u001b[39;00m))\n\u001b[1;32m     <a href='vscode-notebook-cell:/Users/vlad/Vlad/phd/framework_copiere/black-box-ripper/9ccopying_models.ipynb#X22sZmlsZQ%3D%3D?line=13'>14</a>\u001b[0m \u001b[39m# Calculate distances\u001b[39;00m\n",
      "File \u001b[0;32m/Library/Frameworks/Python.framework/Versions/3.9/lib/python3.9/site-packages/torch/nn/modules/module.py:1102\u001b[0m, in \u001b[0;36mModule._call_impl\u001b[0;34m(self, *input, **kwargs)\u001b[0m\n\u001b[1;32m   1098\u001b[0m \u001b[39m# If we don't have any hooks, we want to skip the rest of the logic in\u001b[39;00m\n\u001b[1;32m   1099\u001b[0m \u001b[39m# this function, and just call forward.\u001b[39;00m\n\u001b[1;32m   1100\u001b[0m \u001b[39mif\u001b[39;00m \u001b[39mnot\u001b[39;00m (\u001b[39mself\u001b[39m\u001b[39m.\u001b[39m_backward_hooks \u001b[39mor\u001b[39;00m \u001b[39mself\u001b[39m\u001b[39m.\u001b[39m_forward_hooks \u001b[39mor\u001b[39;00m \u001b[39mself\u001b[39m\u001b[39m.\u001b[39m_forward_pre_hooks \u001b[39mor\u001b[39;00m _global_backward_hooks\n\u001b[1;32m   1101\u001b[0m         \u001b[39mor\u001b[39;00m _global_forward_hooks \u001b[39mor\u001b[39;00m _global_forward_pre_hooks):\n\u001b[0;32m-> 1102\u001b[0m     \u001b[39mreturn\u001b[39;00m forward_call(\u001b[39m*\u001b[39;49m\u001b[39minput\u001b[39;49m, \u001b[39m*\u001b[39;49m\u001b[39m*\u001b[39;49mkwargs)\n\u001b[1;32m   1103\u001b[0m \u001b[39m# Do not call functions when jit is used\u001b[39;00m\n\u001b[1;32m   1104\u001b[0m full_backward_hooks, non_full_backward_hooks \u001b[39m=\u001b[39m [], []\n",
      "File \u001b[0;32m~/Vlad/phd/framework_copiere/black-box-ripper/predictors/half_alexnet.py:67\u001b[0m, in \u001b[0;36mHalfAlexnet.forward\u001b[0;34m(self, x)\u001b[0m\n\u001b[1;32m     66\u001b[0m \u001b[39mdef\u001b[39;00m \u001b[39mforward\u001b[39m(\u001b[39mself\u001b[39m, x):\n\u001b[0;32m---> 67\u001b[0m     layer1 \u001b[39m=\u001b[39m \u001b[39mself\u001b[39m\u001b[39m.\u001b[39mbatch_norm1(\u001b[39mself\u001b[39m\u001b[39m.\u001b[39mpad(\u001b[39mself\u001b[39;49m\u001b[39m.\u001b[39;49mlrn(\u001b[39mself\u001b[39;49m\u001b[39m.\u001b[39;49mrelu(\u001b[39mself\u001b[39;49m\u001b[39m.\u001b[39;49mconv1(x)))))\n\u001b[1;32m     68\u001b[0m     layer2 \u001b[39m=\u001b[39m \u001b[39mself\u001b[39m\u001b[39m.\u001b[39mbatch_norm2(\u001b[39mself\u001b[39m\u001b[39m.\u001b[39mpad(\u001b[39mself\u001b[39m\u001b[39m.\u001b[39mlrn(\u001b[39mself\u001b[39m\u001b[39m.\u001b[39mrelu(\u001b[39mself\u001b[39m\u001b[39m.\u001b[39mconv2(layer1)))))\n\u001b[1;32m     69\u001b[0m     layer3 \u001b[39m=\u001b[39m \u001b[39mself\u001b[39m\u001b[39m.\u001b[39mbatch_norm3(\u001b[39mself\u001b[39m\u001b[39m.\u001b[39mrelu(\u001b[39mself\u001b[39m\u001b[39m.\u001b[39mconv3(layer2)))\n",
      "File \u001b[0;32m/Library/Frameworks/Python.framework/Versions/3.9/lib/python3.9/site-packages/torch/nn/modules/module.py:1102\u001b[0m, in \u001b[0;36mModule._call_impl\u001b[0;34m(self, *input, **kwargs)\u001b[0m\n\u001b[1;32m   1098\u001b[0m \u001b[39m# If we don't have any hooks, we want to skip the rest of the logic in\u001b[39;00m\n\u001b[1;32m   1099\u001b[0m \u001b[39m# this function, and just call forward.\u001b[39;00m\n\u001b[1;32m   1100\u001b[0m \u001b[39mif\u001b[39;00m \u001b[39mnot\u001b[39;00m (\u001b[39mself\u001b[39m\u001b[39m.\u001b[39m_backward_hooks \u001b[39mor\u001b[39;00m \u001b[39mself\u001b[39m\u001b[39m.\u001b[39m_forward_hooks \u001b[39mor\u001b[39;00m \u001b[39mself\u001b[39m\u001b[39m.\u001b[39m_forward_pre_hooks \u001b[39mor\u001b[39;00m _global_backward_hooks\n\u001b[1;32m   1101\u001b[0m         \u001b[39mor\u001b[39;00m _global_forward_hooks \u001b[39mor\u001b[39;00m _global_forward_pre_hooks):\n\u001b[0;32m-> 1102\u001b[0m     \u001b[39mreturn\u001b[39;00m forward_call(\u001b[39m*\u001b[39;49m\u001b[39minput\u001b[39;49m, \u001b[39m*\u001b[39;49m\u001b[39m*\u001b[39;49mkwargs)\n\u001b[1;32m   1103\u001b[0m \u001b[39m# Do not call functions when jit is used\u001b[39;00m\n\u001b[1;32m   1104\u001b[0m full_backward_hooks, non_full_backward_hooks \u001b[39m=\u001b[39m [], []\n",
      "File \u001b[0;32m/Library/Frameworks/Python.framework/Versions/3.9/lib/python3.9/site-packages/torch/nn/modules/normalization.py:55\u001b[0m, in \u001b[0;36mLocalResponseNorm.forward\u001b[0;34m(self, input)\u001b[0m\n\u001b[1;32m     54\u001b[0m \u001b[39mdef\u001b[39;00m \u001b[39mforward\u001b[39m(\u001b[39mself\u001b[39m, \u001b[39minput\u001b[39m: Tensor) \u001b[39m-\u001b[39m\u001b[39m>\u001b[39m Tensor:\n\u001b[0;32m---> 55\u001b[0m     \u001b[39mreturn\u001b[39;00m F\u001b[39m.\u001b[39;49mlocal_response_norm(\u001b[39minput\u001b[39;49m, \u001b[39mself\u001b[39;49m\u001b[39m.\u001b[39;49msize, \u001b[39mself\u001b[39;49m\u001b[39m.\u001b[39;49malpha, \u001b[39mself\u001b[39;49m\u001b[39m.\u001b[39;49mbeta,\n\u001b[1;32m     56\u001b[0m                                  \u001b[39mself\u001b[39;49m\u001b[39m.\u001b[39;49mk)\n",
      "File \u001b[0;32m/Library/Frameworks/Python.framework/Versions/3.9/lib/python3.9/site-packages/torch/nn/functional.py:2394\u001b[0m, in \u001b[0;36mlocal_response_norm\u001b[0;34m(input, size, alpha, beta, k)\u001b[0m\n\u001b[1;32m   2392\u001b[0m     div \u001b[39m=\u001b[39m avg_pool3d(div, (size, \u001b[39m1\u001b[39m, \u001b[39m1\u001b[39m), stride\u001b[39m=\u001b[39m\u001b[39m1\u001b[39m)\u001b[39m.\u001b[39msqueeze(\u001b[39m1\u001b[39m)\n\u001b[1;32m   2393\u001b[0m     div \u001b[39m=\u001b[39m div\u001b[39m.\u001b[39mview(sizes)\n\u001b[0;32m-> 2394\u001b[0m div \u001b[39m=\u001b[39m div\u001b[39m.\u001b[39;49mmul(alpha)\u001b[39m.\u001b[39;49madd(k)\u001b[39m.\u001b[39;49mpow(beta)\n\u001b[1;32m   2395\u001b[0m \u001b[39mreturn\u001b[39;00m \u001b[39minput\u001b[39m \u001b[39m/\u001b[39m div\n",
      "\u001b[0;31mKeyboardInterrupt\u001b[0m: "
     ]
    }
   ],
   "source": [
    "estimations = []\n",
    "ground_truth = []\n",
    "\n",
    "student_model.eval()\n",
    "with torch.no_grad():\n",
    "  for i in trange(len(proxy_unused_dataset)):\n",
    "    image, label, image_path, soft_label = proxy_unused_dataset[i]\n",
    "    image = image.to(device=device)\n",
    "\n",
    "    _,latent_fm = student_model(image.unsqueeze(dim=0))\n",
    "\n",
    "    norm_unkwn = torch.sqrt(torch.sum(torch.square(latent_fm), dim=(-1,-2,-3), keepdim=True))\n",
    "\n",
    "    # Calculate distances\n",
    "    distances = torch.zeros(size=(len(db_dataset),), device=device)\n",
    "    for j, (img_db, softl_db) in enumerate(db_dataloader):\n",
    "      img_db = img_db.to(device=device)\n",
    "\n",
    "      norm_db = torch.sqrt(torch.sum(torch.square(img_db), dim=(-1,-2,-3), keepdim=True))\n",
    "\n",
    "      dot_prod = torch.tensordot(img_db, latent_fm, dims=[[-1,-2,-3],[-1,-2,-3]])\n",
    "      denominator = (norm_db * norm_unkwn).squeeze(dim=-1).squeeze(dim=-1)\n",
    "      cosine_similarities = (dot_prod / denominator).squeeze(dim=-1)\n",
    "      \n",
    "      distances[j*128:(j+1)*128] = cosine_similarities\n",
    "      # distances.extend(cosine_similarities.cpu().tolist())\n",
    "      \n",
    "    smallest_d, smallest_d_indices = torch.topk(distances, k=3, largest=True)\n",
    "    closest_slabels = torch.vstack([db_dataset[l][1] for l in smallest_d_indices])\n",
    "    \n",
    "    estimated_soft_label = closest_slabels.mean(0)\n",
    "    estimated_hard_label = estimated_soft_label.argmax().item()\n",
    "    \n",
    "    # print(f'Ground truth soft_label = {soft_label}')\n",
    "    # print(f'Estimated soft_label = {estimated_soft_label}')\n",
    "    # print(f'Ground truth hard_label = {label}')\n",
    "    # print(f'Estimated hard_label = {estimated_hard_label}')\n",
    "    \n",
    "    # print(f'Smallest 3 distances: {smallest_d}')\n",
    "    # print(f'Smallest 3 indices: {smallest_d_indices}')\n",
    "    # print(f'Closest 3 slabels = {closest_slabels}')\n",
    "    \n",
    "    train_images.append(image_path)\n",
    "    train_labels.append(estimated_hard_label)\n",
    "    train_soft_labels.append(estimated_soft_label)\n",
    "\n",
    "    estimations.append(estimated_hard_label)\n",
    "    ground_truth.append(label)\n",
    "\n",
    "    if i % 1000 == 0 and i != 0:\n",
    "      # Display results\n",
    "      correct = (np.array(estimations) == np.array(ground_truth)).sum()\n",
    "      print(f'{correct} / {len(estimations)}')\n",
    "\n",
    "correct = (np.array(estimations) == np.array(ground_truth)).sum()\n",
    "print(f'Final score: {correct} / {len(estimations)}')"
   ]
  },
  {
   "cell_type": "code",
   "execution_count": null,
   "metadata": {},
   "outputs": [
    {
     "data": {
      "application/vnd.jupyter.widget-view+json": {
       "model_id": "465c06582bd9423aa19d1f794397c016",
       "version_major": 2,
       "version_minor": 0
      },
      "text/plain": [
       "  0%|          | 0/1588 [00:00<?, ?it/s]"
      ]
     },
     "metadata": {},
     "output_type": "display_data"
    },
    {
     "name": "stdout",
     "output_type": "stream",
     "text": [
      "validation_loss on proxy = 2.0144\n",
      "validation_accuracy on proxy = 30.24%\n",
      "validation_loss on true ds = 2.1671\n",
      "validation_accuracy on true ds = 22.15%\n"
     ]
    },
    {
     "data": {
      "application/vnd.jupyter.widget-view+json": {
       "model_id": "6d05fd4285b1496588927c1abb960f3d",
       "version_major": 2,
       "version_minor": 0
      },
      "text/plain": [
       "  0%|          | 0/1588 [00:00<?, ?it/s]"
      ]
     },
     "metadata": {},
     "output_type": "display_data"
    },
    {
     "name": "stdout",
     "output_type": "stream",
     "text": [
      "validation_loss on proxy = 2.0239\n",
      "validation_accuracy on proxy = 26.34%\n",
      "validation_loss on true ds = 2.1718\n",
      "validation_accuracy on true ds = 21.03%\n"
     ]
    },
    {
     "data": {
      "application/vnd.jupyter.widget-view+json": {
       "model_id": "817c026b673f49baae570e4f4310a242",
       "version_major": 2,
       "version_minor": 0
      },
      "text/plain": [
       "  0%|          | 0/1588 [00:00<?, ?it/s]"
      ]
     },
     "metadata": {},
     "output_type": "display_data"
    },
    {
     "name": "stdout",
     "output_type": "stream",
     "text": [
      "validation_loss on proxy = 2.0502\n",
      "validation_accuracy on proxy = 23.41%\n",
      "validation_loss on true ds = 2.1999\n",
      "validation_accuracy on true ds = 19.72%\n"
     ]
    },
    {
     "data": {
      "application/vnd.jupyter.widget-view+json": {
       "model_id": "36422765752441aba1a55c3b0ed60e8c",
       "version_major": 2,
       "version_minor": 0
      },
      "text/plain": [
       "  0%|          | 0/1588 [00:00<?, ?it/s]"
      ]
     },
     "metadata": {},
     "output_type": "display_data"
    },
    {
     "name": "stdout",
     "output_type": "stream",
     "text": [
      "validation_loss on proxy = 2.0307\n",
      "validation_accuracy on proxy = 23.90%\n",
      "validation_loss on true ds = 2.2049\n",
      "validation_accuracy on true ds = 18.17%\n"
     ]
    },
    {
     "data": {
      "application/vnd.jupyter.widget-view+json": {
       "model_id": "2add9695018f4105a661fd4b29ed4459",
       "version_major": 2,
       "version_minor": 0
      },
      "text/plain": [
       "  0%|          | 0/1588 [00:00<?, ?it/s]"
      ]
     },
     "metadata": {},
     "output_type": "display_data"
    },
    {
     "name": "stdout",
     "output_type": "stream",
     "text": [
      "validation_loss on proxy = 2.0293\n",
      "validation_accuracy on proxy = 27.32%\n",
      "validation_loss on true ds = 2.1922\n",
      "validation_accuracy on true ds = 19.36%\n"
     ]
    },
    {
     "data": {
      "application/vnd.jupyter.widget-view+json": {
       "model_id": "88d6eaae694240958e68a6b6702f0b0e",
       "version_major": 2,
       "version_minor": 0
      },
      "text/plain": [
       "  0%|          | 0/1588 [00:00<?, ?it/s]"
      ]
     },
     "metadata": {},
     "output_type": "display_data"
    },
    {
     "name": "stdout",
     "output_type": "stream",
     "text": [
      "validation_loss on proxy = 2.1402\n",
      "validation_accuracy on proxy = 20.49%\n",
      "validation_loss on true ds = 2.2455\n",
      "validation_accuracy on true ds = 16.43%\n"
     ]
    },
    {
     "data": {
      "application/vnd.jupyter.widget-view+json": {
       "model_id": "4ec7b41447554c4da95afa42727173cd",
       "version_major": 2,
       "version_minor": 0
      },
      "text/plain": [
       "  0%|          | 0/1588 [00:00<?, ?it/s]"
      ]
     },
     "metadata": {},
     "output_type": "display_data"
    },
    {
     "name": "stdout",
     "output_type": "stream",
     "text": [
      "validation_loss on proxy = 2.1162\n",
      "validation_accuracy on proxy = 18.05%\n",
      "validation_loss on true ds = 2.2553\n",
      "validation_accuracy on true ds = 16.37%\n"
     ]
    },
    {
     "data": {
      "application/vnd.jupyter.widget-view+json": {
       "model_id": "a5664df62d7b4e009d68c2a03328f12a",
       "version_major": 2,
       "version_minor": 0
      },
      "text/plain": [
       "  0%|          | 0/1588 [00:00<?, ?it/s]"
      ]
     },
     "metadata": {},
     "output_type": "display_data"
    },
    {
     "name": "stdout",
     "output_type": "stream",
     "text": [
      "validation_loss on proxy = 2.0446\n",
      "validation_accuracy on proxy = 25.37%\n",
      "validation_loss on true ds = 2.2300\n",
      "validation_accuracy on true ds = 17.56%\n"
     ]
    },
    {
     "data": {
      "application/vnd.jupyter.widget-view+json": {
       "model_id": "260ccbeffc3c430fbc13fd3f36770483",
       "version_major": 2,
       "version_minor": 0
      },
      "text/plain": [
       "  0%|          | 0/1588 [00:00<?, ?it/s]"
      ]
     },
     "metadata": {},
     "output_type": "display_data"
    },
    {
     "name": "stdout",
     "output_type": "stream",
     "text": [
      "validation_loss on proxy = 2.1065\n",
      "validation_accuracy on proxy = 18.05%\n",
      "validation_loss on true ds = 2.2212\n",
      "validation_accuracy on true ds = 17.71%\n"
     ]
    },
    {
     "data": {
      "application/vnd.jupyter.widget-view+json": {
       "model_id": "8c77cfdf1d434c9eab55abcdf587bb8e",
       "version_major": 2,
       "version_minor": 0
      },
      "text/plain": [
       "  0%|          | 0/1588 [00:00<?, ?it/s]"
      ]
     },
     "metadata": {},
     "output_type": "display_data"
    },
    {
     "name": "stdout",
     "output_type": "stream",
     "text": [
      "validation_loss on proxy = 2.1580\n",
      "validation_accuracy on proxy = 14.15%\n",
      "validation_loss on true ds = 2.2693\n",
      "validation_accuracy on true ds = 14.12%\n"
     ]
    },
    {
     "data": {
      "application/vnd.jupyter.widget-view+json": {
       "model_id": "a369deaccafa4bd6bd31d214a2bc0f82",
       "version_major": 2,
       "version_minor": 0
      },
      "text/plain": [
       "  0%|          | 0/1588 [00:00<?, ?it/s]"
      ]
     },
     "metadata": {},
     "output_type": "display_data"
    },
    {
     "name": "stdout",
     "output_type": "stream",
     "text": [
      "validation_loss on proxy = 2.0850\n",
      "validation_accuracy on proxy = 19.02%\n",
      "validation_loss on true ds = 2.2401\n",
      "validation_accuracy on true ds = 16.62%\n"
     ]
    },
    {
     "data": {
      "application/vnd.jupyter.widget-view+json": {
       "model_id": "22cb3001fb574b99bf08c80432b0f4e8",
       "version_major": 2,
       "version_minor": 0
      },
      "text/plain": [
       "  0%|          | 0/1588 [00:00<?, ?it/s]"
      ]
     },
     "metadata": {},
     "output_type": "display_data"
    },
    {
     "name": "stdout",
     "output_type": "stream",
     "text": [
      "validation_loss on proxy = 2.1178\n",
      "validation_accuracy on proxy = 19.02%\n",
      "validation_loss on true ds = 2.2478\n",
      "validation_accuracy on true ds = 16.23%\n"
     ]
    },
    {
     "data": {
      "application/vnd.jupyter.widget-view+json": {
       "model_id": "28dbc74656654efa8efb4cdc1694f8e1",
       "version_major": 2,
       "version_minor": 0
      },
      "text/plain": [
       "  0%|          | 0/1588 [00:00<?, ?it/s]"
      ]
     },
     "metadata": {},
     "output_type": "display_data"
    },
    {
     "name": "stdout",
     "output_type": "stream",
     "text": [
      "validation_loss on proxy = 2.2207\n",
      "validation_accuracy on proxy = 15.12%\n",
      "validation_loss on true ds = 2.2725\n",
      "validation_accuracy on true ds = 15.25%\n"
     ]
    },
    {
     "data": {
      "application/vnd.jupyter.widget-view+json": {
       "model_id": "f6ac515f730c4965b2eee066d807bce7",
       "version_major": 2,
       "version_minor": 0
      },
      "text/plain": [
       "  0%|          | 0/1588 [00:00<?, ?it/s]"
      ]
     },
     "metadata": {},
     "output_type": "display_data"
    },
    {
     "name": "stdout",
     "output_type": "stream",
     "text": [
      "validation_loss on proxy = 2.1540\n",
      "validation_accuracy on proxy = 16.59%\n",
      "validation_loss on true ds = 2.2737\n",
      "validation_accuracy on true ds = 14.40%\n"
     ]
    },
    {
     "data": {
      "application/vnd.jupyter.widget-view+json": {
       "model_id": "253c6637e25b484aa9dd76f19f7e54b7",
       "version_major": 2,
       "version_minor": 0
      },
      "text/plain": [
       "  0%|          | 0/1588 [00:00<?, ?it/s]"
      ]
     },
     "metadata": {},
     "output_type": "display_data"
    },
    {
     "name": "stdout",
     "output_type": "stream",
     "text": [
      "validation_loss on proxy = 2.1038\n",
      "validation_accuracy on proxy = 18.54%\n",
      "validation_loss on true ds = 2.2467\n",
      "validation_accuracy on true ds = 16.46%\n"
     ]
    },
    {
     "data": {
      "application/vnd.jupyter.widget-view+json": {
       "model_id": "5e8947011078408d9d8e96bfc899f47c",
       "version_major": 2,
       "version_minor": 0
      },
      "text/plain": [
       "  0%|          | 0/1588 [00:00<?, ?it/s]"
      ]
     },
     "metadata": {},
     "output_type": "display_data"
    },
    {
     "name": "stdout",
     "output_type": "stream",
     "text": [
      "validation_loss on proxy = 2.1629\n",
      "validation_accuracy on proxy = 16.59%\n",
      "validation_loss on true ds = 2.2753\n",
      "validation_accuracy on true ds = 15.86%\n"
     ]
    },
    {
     "data": {
      "application/vnd.jupyter.widget-view+json": {
       "model_id": "ef3ac786a685492d9418bef08ef49005",
       "version_major": 2,
       "version_minor": 0
      },
      "text/plain": [
       "  0%|          | 0/1588 [00:00<?, ?it/s]"
      ]
     },
     "metadata": {},
     "output_type": "display_data"
    },
    {
     "name": "stdout",
     "output_type": "stream",
     "text": [
      "validation_loss on proxy = 2.0964\n",
      "validation_accuracy on proxy = 21.95%\n",
      "validation_loss on true ds = 2.2451\n",
      "validation_accuracy on true ds = 17.08%\n"
     ]
    },
    {
     "data": {
      "application/vnd.jupyter.widget-view+json": {
       "model_id": "4fcbfbd21b0b4fe591ba7bf4becbc512",
       "version_major": 2,
       "version_minor": 0
      },
      "text/plain": [
       "  0%|          | 0/1588 [00:00<?, ?it/s]"
      ]
     },
     "metadata": {},
     "output_type": "display_data"
    },
    {
     "name": "stdout",
     "output_type": "stream",
     "text": [
      "validation_loss on proxy = 2.1106\n",
      "validation_accuracy on proxy = 18.05%\n",
      "validation_loss on true ds = 2.2823\n",
      "validation_accuracy on true ds = 15.32%\n"
     ]
    },
    {
     "data": {
      "application/vnd.jupyter.widget-view+json": {
       "model_id": "9445d3066d4d44b48647538afef5822c",
       "version_major": 2,
       "version_minor": 0
      },
      "text/plain": [
       "  0%|          | 0/1588 [00:00<?, ?it/s]"
      ]
     },
     "metadata": {},
     "output_type": "display_data"
    },
    {
     "name": "stdout",
     "output_type": "stream",
     "text": [
      "validation_loss on proxy = 2.1797\n",
      "validation_accuracy on proxy = 20.00%\n",
      "validation_loss on true ds = 2.2829\n",
      "validation_accuracy on true ds = 15.50%\n"
     ]
    },
    {
     "data": {
      "application/vnd.jupyter.widget-view+json": {
       "model_id": "0aab787d52144ae4aa73e91a964b361e",
       "version_major": 2,
       "version_minor": 0
      },
      "text/plain": [
       "  0%|          | 0/1588 [00:00<?, ?it/s]"
      ]
     },
     "metadata": {},
     "output_type": "display_data"
    },
    {
     "name": "stdout",
     "output_type": "stream",
     "text": [
      "validation_loss on proxy = 2.1625\n",
      "validation_accuracy on proxy = 20.98%\n",
      "validation_loss on true ds = 2.2745\n",
      "validation_accuracy on true ds = 15.75%\n"
     ]
    },
    {
     "data": {
      "application/vnd.jupyter.widget-view+json": {
       "model_id": "f87066ca2b7c4e878af4cc4a48670179",
       "version_major": 2,
       "version_minor": 0
      },
      "text/plain": [
       "  0%|          | 0/1588 [00:00<?, ?it/s]"
      ]
     },
     "metadata": {},
     "output_type": "display_data"
    },
    {
     "name": "stdout",
     "output_type": "stream",
     "text": [
      "validation_loss on proxy = 2.1658\n",
      "validation_accuracy on proxy = 15.61%\n",
      "validation_loss on true ds = 2.2513\n",
      "validation_accuracy on true ds = 16.87%\n",
      "We are at epoch 20\n"
     ]
    }
   ],
   "source": [
    "student_model.return_feature_domain = False\n",
    "\n",
    "proxy_train_dataset = ProxyDataset(train_images, train_labels, train_transforms, False, train_soft_labels)\n",
    "train_dataloader = DataLoader(proxy_train_dataset, batch_size=BATCH_SIZE, shuffle=True)\n",
    "\n",
    "early_stopping = EarlyStopping(tolerance=20, min_delta=0.001)\n",
    "# early_stopping = EarlyStopping(tolerance=5, min_delta=0.001)\n",
    "\n",
    "# Training the student\n",
    "for epoch in range(EPOCHS):\n",
    "    # Define progress bar\n",
    "    loop = tqdm(enumerate(train_dataloader), total=len(train_dataloader))\n",
    "    \n",
    "    # Training loop\n",
    "    student_model.train()\n",
    "    training_loss_epoch = []\n",
    "    for batch_idx, (x,y,soft_y) in loop:\n",
    "        optimizer.zero_grad()\n",
    "        \n",
    "        x = x.to(device=device)\n",
    "        y = y.to(device=device)\n",
    "        soft_y = soft_y.to(device=device)\n",
    "        \n",
    "        # Forward pass\n",
    "        logits = student_model(x)\n",
    "        # Backward pass\n",
    "        loss = criterion(input=logits, target=y)\n",
    "        # loss = criterion(input=logits, target=soft_y)\n",
    "        training_loss_epoch.append(loss.item())\n",
    "        # Prob trb inlocuit criterionul, sa adaugi soft-labels\n",
    "        loss.backward()\n",
    "        \n",
    "        # Optimize\n",
    "        optimizer.step()\n",
    "        \n",
    "        # Update progress bar\n",
    "        loop.set_description(f'Epoch {epoch+1}/{EPOCHS}')\n",
    "        loop.set_postfix(training_loss=loss.item())\n",
    "    \n",
    "    # Validation loop on proxy validation dataset\n",
    "    student_model.eval()\n",
    "    validation_loss_epoch = []  \n",
    "    acc = 0\n",
    "    with torch.no_grad():\n",
    "        for x,y,_ in valid_dataloader:\n",
    "            x = x.to(device=device)\n",
    "            y = y.to(device=device)\n",
    "        \n",
    "            logits = student_model(x)\n",
    "            pred = softmax(logits, dim=1)\n",
    "            \n",
    "            confidence,y_hat = torch.max(pred, dim=1)\n",
    "            \n",
    "            loss = criterion(input=logits, target=y)\n",
    "            validation_loss_epoch.append(loss.item())\n",
    "            \n",
    "            acc += torch.sum(y_hat==y).item()\n",
    "        \n",
    "    loop.write(f'validation_loss on proxy = {sum(validation_loss_epoch)/len(validation_loss_epoch):.4f}')\n",
    "    loop.write(f'validation_accuracy on proxy = {100*acc/len(proxy_valid_dataset):.2f}%')\n",
    "\n",
    "    if validate_on_trueds:\n",
    "        # Validation loop on proxy validation dataset\n",
    "        student_model.eval()\n",
    "        with torch.no_grad():\n",
    "            val_loss = []\n",
    "            acc = 0\n",
    "            for x,y in true_valid_ds:\n",
    "                x = x.to(device=device)\n",
    "                y = y.to(device=device)\n",
    "            \n",
    "                logits = student_model(x)\n",
    "                pred = softmax(logits, dim=1)\n",
    "                \n",
    "                confidence,y_hat = torch.max(pred, dim=1)\n",
    "                \n",
    "                loss = criterion(input=logits, target=y)\n",
    "                val_loss.append(loss.item())\n",
    "                \n",
    "                acc += torch.sum(y_hat==y).item()\n",
    "            \n",
    "        loop.write(f'validation_loss on true ds = {sum(val_loss)/len(val_loss):.4f}')\n",
    "        loop.write(f'validation_accuracy on true ds = {100*acc/len(true_dataset.test_dataset):.2f}%')\n",
    "\n",
    "    early_stopping(sum(validation_loss_epoch)/len(validation_loss_epoch))\n",
    "    if early_stopping.early_stop:\n",
    "      print(f\"We are at epoch {epoch}\")\n",
    "      break"
   ]
  },
  {
   "cell_type": "code",
   "execution_count": null,
   "metadata": {},
   "outputs": [
    {
     "name": "stdout",
     "output_type": "stream",
     "text": [
      "Student with true dataset:\n",
      "test_loss = 2.2513\n",
      "test_accuracy = 16.87%\n",
      "\n",
      "Class airplane: pred=366, actual=1000 => acc=36.60%, total_pred=2711\n",
      "Class automobile: pred=301, actual=1000 => acc=30.10%, total_pred=702\n",
      "Class bird: pred=53, actual=1000 => acc=5.30%, total_pred=307\n",
      "Class cat: pred=54, actual=1000 => acc=5.40%, total_pred=274\n",
      "Class deer: pred=206, actual=1000 => acc=20.60%, total_pred=1885\n",
      "Class dog: pred=11, actual=1000 => acc=1.10%, total_pred=205\n",
      "Class frog: pred=39, actual=1000 => acc=3.90%, total_pred=164\n",
      "Class horse: pred=216, actual=1000 => acc=21.60%, total_pred=999\n",
      "Class ship: pred=44, actual=1000 => acc=4.40%, total_pred=427\n",
      "Class truck: pred=397, actual=1000 => acc=39.70%, total_pred=2326\n"
     ]
    }
   ],
   "source": [
    "# Testing on CIFAR10 ground truth\n",
    "true_dataloader = true_dataset.test_dataloader()\n",
    "acc_per_class = {k:[0,0,0] for k,v in label_mapper_inv.items()}\n",
    "\n",
    "student_model.eval()\n",
    "with torch.no_grad():\n",
    "    test_loss = []\n",
    "    acc = 0\n",
    "    for x,y in true_dataloader:\n",
    "        x = x.to(device=device)\n",
    "        y = y.to(device=device)\n",
    "    \n",
    "        logits = student_model(x)\n",
    "        pred = softmax(logits, dim=1)\n",
    "        \n",
    "        confidence,y_hat = torch.max(pred, dim=1)\n",
    "        \n",
    "        loss = criterion(input=logits, target=y)\n",
    "        test_loss.append(loss.item())\n",
    "        \n",
    "        acc += torch.sum(y_hat==y)\n",
    "        \n",
    "        for i in range(len(y)):\n",
    "            a = y[i].item()\n",
    "            p = y_hat[i].item()\n",
    "            \n",
    "            \n",
    "            acc_per_class[a][1] += 1\n",
    "            acc_per_class[p][2] += 1\n",
    "            if a == p:\n",
    "                acc_per_class[a][0] += 1\n",
    "        \n",
    "    print('Student with true dataset:')\n",
    "    print(f'test_loss = {sum(test_loss)/len(test_loss):.4f}')                  # 1.7439;  1.6199\n",
    "    print(f'test_accuracy = {100*acc/len(true_dataset.test_dataset):.2f}%')    # 46.09%;  48.57%\n",
    "    print()\n",
    "    \n",
    "for k,v in acc_per_class.items():\n",
    "    print(f'Class {label_mapper_inv[k]}: pred={v[0]}, actual={v[1]} => acc={v[0]*100/v[1]:.2f}%, total_pred={v[2]}')"
   ]
  },
  {
   "cell_type": "code",
   "execution_count": null,
   "metadata": {},
   "outputs": [
    {
     "name": "stdout",
     "output_type": "stream",
     "text": [
      "Student with true dataset:\n",
      "test_loss = 2.2429\n",
      "test_accuracy = 17.48%\n",
      "\n",
      "Class airplane: pred=379, actual=1038 => acc=36.51%, total_pred=2711\n",
      "Class automobile: pred=299, actual=1002 => acc=29.84%, total_pred=702\n",
      "Class bird: pred=54, actual=965 => acc=5.60%, total_pred=307\n",
      "Class cat: pred=54, actual=938 => acc=5.76%, total_pred=274\n",
      "Class deer: pred=231, actual=1108 => acc=20.85%, total_pred=1885\n",
      "Class dog: pred=6, actual=913 => acc=0.66%, total_pred=205\n",
      "Class frog: pred=43, actual=996 => acc=4.32%, total_pred=164\n",
      "Class horse: pred=226, actual=1063 => acc=21.26%, total_pred=999\n",
      "Class ship: pred=40, actual=939 => acc=4.26%, total_pred=427\n",
      "Class truck: pred=416, actual=1038 => acc=40.08%, total_pred=2326\n"
     ]
    }
   ],
   "source": [
    "# Testing using labels predicted with teacher\n",
    "true_dataloader = true_dataset.test_dataloader()\n",
    "acc_per_class = {k:[0,0,0] for k,v in label_mapper_inv.items()}\n",
    "\n",
    "student_model.eval()\n",
    "teacher_model.eval()\n",
    "with torch.no_grad():\n",
    "    test_loss = []\n",
    "    acc = 0\n",
    "    for x,y in true_dataloader:\n",
    "        x = x.to(device=device)\n",
    "        # y = y.to(device=device)\n",
    "\n",
    "        teacher_pred = softmax(teacher_model(x), dim=1)\n",
    "        _, y = torch.max(teacher_pred, dim=1)\n",
    "    \n",
    "        logits = student_model(x)\n",
    "        pred = softmax(logits, dim=1)\n",
    "        \n",
    "        confidence,y_hat = torch.max(pred, dim=1)\n",
    "        \n",
    "        loss = criterion(input=logits, target=y)\n",
    "        test_loss.append(loss.item())\n",
    "        \n",
    "        acc += torch.sum(y_hat==y)\n",
    "        \n",
    "        for i in range(len(y)):\n",
    "            a = y[i].item()\n",
    "            p = y_hat[i].item()\n",
    "            \n",
    "            \n",
    "            acc_per_class[a][1] += 1\n",
    "            acc_per_class[p][2] += 1\n",
    "            if a == p:\n",
    "                acc_per_class[a][0] += 1\n",
    "        \n",
    "    print('Student with true dataset:')\n",
    "    print(f'test_loss = {sum(test_loss)/len(test_loss):.4f}')                  # 1.7439;  1.6199\n",
    "    print(f'test_accuracy = {100*acc/len(true_dataset.test_dataset):.2f}%')    # 46.09%;  48.57%\n",
    "    print()\n",
    "    \n",
    "for k,v in acc_per_class.items():\n",
    "    print(f'Class {label_mapper_inv[k]}: pred={v[0]}, actual={v[1]} => acc={v[0]*100/v[1]:.2f}%, total_pred={v[2]}')"
   ]
  },
  {
   "cell_type": "code",
   "execution_count": null,
   "metadata": {
    "id": "B_lJlsr0JlVs"
   },
   "outputs": [],
   "source": [
    "import matplotlib.pyplot as plt\n",
    "\n",
    "\n",
    "def plot_db(X_embedded, labels_cpu):\n",
    "  # scale and move the coordinates so they fit [0; 1] range\n",
    "  def scale_to_01_range(x):\n",
    "      # compute the distribution range\n",
    "      value_range = (np.max(x) - np.min(x))\n",
    "  \n",
    "      # move the distribution so that it starts from zero\n",
    "      # by extracting the minimal value from all its values\n",
    "      starts_from_zero = x - np.min(x)\n",
    "  \n",
    "      # make the distribution fit [0; 1] by dividing by its range\n",
    "      return starts_from_zero / value_range\n",
    "  \n",
    "  # extract x and y coordinates representing the positions of the images on T-SNE plot\n",
    "  tx = X_embedded[:, 0]\n",
    "  ty = X_embedded[:, 1]\n",
    "  \n",
    "  tx = scale_to_01_range(tx)\n",
    "  ty = scale_to_01_range(ty)\n",
    "\n",
    "  # initialize a matplotlib plot\n",
    "  fig = plt.figure(figsize=(6, 6), dpi=144)\n",
    "  ax = fig.add_subplot(111)\n",
    "  \n",
    "  # for every class, we'll add a scatter plot separately\n",
    "  for label in range(10):\n",
    "      # find the samples of the current class in the data\n",
    "      indices = [i for i, l in enumerate(labels_cpu) if l == label]\n",
    "  \n",
    "      # extract the coordinates of the points of this class only\n",
    "      current_tx = np.take(tx, indices)\n",
    "      current_ty = np.take(ty, indices)\n",
    "  \n",
    "      # add a scatter plot with the corresponding color and label\n",
    "      ax.scatter(current_tx, current_ty, label=label)\n",
    "  \n",
    "  # build a legend using the labels we set previously\n",
    "  ax.legend(loc='best')\n",
    "  \n",
    "  # finally, show the plot\n",
    "  plt.show()"
   ]
  },
  {
   "cell_type": "code",
   "execution_count": null,
   "metadata": {
    "colab": {
     "base_uri": "https://localhost:8080/",
     "height": 802
    },
    "id": "We2WHCULH9nX",
    "outputId": "7ffd8af2-c076-41e5-ad6c-d30c6f2a5ab7"
   },
   "outputs": [
    {
     "name": "stderr",
     "output_type": "stream",
     "text": [
      "/home/vhondru/.local/lib/python3.10/site-packages/sklearn/manifold/_t_sne.py:800: FutureWarning: The default initialization in TSNE will change from 'random' to 'pca' in 1.2.\n",
      "  warnings.warn(\n",
      "/home/vhondru/.local/lib/python3.10/site-packages/sklearn/manifold/_t_sne.py:810: FutureWarning: The default learning rate in TSNE will change from 200.0 to 'auto' in 1.2.\n",
      "  warnings.warn(\n"
     ]
    },
    {
     "data": {
      "image/png": "[encoded data removed]",
      "text/plain": [
       "<Figure size 864x864 with 1 Axes>"
      ]
     },
     "metadata": {},
     "output_type": "display_data"
    }
   ],
   "source": [
    "from sklearn.manifold import TSNE\n",
    "\n",
    "\n",
    "tsne = TSNE()\n",
    "images_cpu = [im.cpu().numpy().flatten() for im in images_db]\n",
    "labels_cpu = [l.cpu().numpy().argmax() for l in labels_db]\n",
    "X_embedded = tsne.fit_transform(np.array(images_cpu), np.array(labels_cpu))\n",
    "\n",
    "plot_db(X_embedded, labels_cpu)"
   ]
  },
  {
   "cell_type": "code",
   "execution_count": null,
   "metadata": {},
   "outputs": [],
   "source": []
  }
 ],
 "metadata": {
  "accelerator": "GPU",
  "colab": {
   "provenance": []
  },
  "gpuClass": "standard",
  "kernelspec": {
   "display_name": "Python 3",
   "language": "python",
   "name": "python3"
  },
  "language_info": {
   "codemirror_mode": {
    "name": "ipython",
    "version": 3
   },
   "file_extension": ".py",
   "mimetype": "text/x-python",
   "name": "python",
   "nbconvert_exporter": "python",
   "pygments_lexer": "ipython3",
   "version": "3.9.9"
  },
  "vscode": {
   "interpreter": {
    "hash": "aee8b7b246df8f9039afb4144a1f6fd8d2ca17a180786b69acc140d282b71a49"
   }
  },
  "widgets": {
   "application/vnd.jupyter.widget-state+json": {
    "058124347df04f2a81d75544c5fb8809": {
     "model_module": "@jupyter-widgets/base",
     "model_module_version": "1.2.0",
     "model_name": "LayoutModel",
     "state": {
      "_model_module": "@jupyter-widgets/base",
      "_model_module_version": "1.2.0",
      "_model_name": "LayoutModel",
      "_view_count": null,
      "_view_module": "@jupyter-widgets/base",
      "_view_module_version": "1.2.0",
      "_view_name": "LayoutView",
      "align_content": null,
      "align_items": null,
      "align_self": null,
      "border": null,
      "bottom": null,
      "display": null,
      "flex": null,
      "flex_flow": null,
      "grid_area": null,
      "grid_auto_columns": null,
      "grid_auto_flow": null,
      "grid_auto_rows": null,
      "grid_column": null,
      "grid_gap": null,
      "grid_row": null,
      "grid_template_areas": null,
      "grid_template_columns": null,
      "grid_template_rows": null,
      "height": null,
      "justify_content": null,
      "justify_items": null,
      "left": null,
      "margin": null,
      "max_height": null,
      "max_width": null,
      "min_height": null,
      "min_width": null,
      "object_fit": null,
      "object_position": null,
      "order": null,
      "overflow": null,
      "overflow_x": null,
      "overflow_y": null,
      "padding": null,
      "right": null,
      "top": null,
      "visibility": null,
      "width": null
     }
    },
    "0d4acd03fa734e9db4bb7389ae2f19b4": {
     "model_module": "@jupyter-widgets/base",
     "model_module_version": "1.2.0",
     "model_name": "LayoutModel",
     "state": {
      "_model_module": "@jupyter-widgets/base",
      "_model_module_version": "1.2.0",
      "_model_name": "LayoutModel",
      "_view_count": null,
      "_view_module": "@jupyter-widgets/base",
      "_view_module_version": "1.2.0",
      "_view_name": "LayoutView",
      "align_content": null,
      "align_items": null,
      "align_self": null,
      "border": null,
      "bottom": null,
      "display": null,
      "flex": null,
      "flex_flow": null,
      "grid_area": null,
      "grid_auto_columns": null,
      "grid_auto_flow": null,
      "grid_auto_rows": null,
      "grid_column": null,
      "grid_gap": null,
      "grid_row": null,
      "grid_template_areas": null,
      "grid_template_columns": null,
      "grid_template_rows": null,
      "height": null,
      "justify_content": null,
      "justify_items": null,
      "left": null,
      "margin": null,
      "max_height": null,
      "max_width": null,
      "min_height": null,
      "min_width": null,
      "object_fit": null,
      "object_position": null,
      "order": null,
      "overflow": null,
      "overflow_x": null,
      "overflow_y": null,
      "padding": null,
      "right": null,
      "top": null,
      "visibility": null,
      "width": null
     }
    },
    "0dc49d11d2434b568a3f6c3ad5b05c09": {
     "model_module": "@jupyter-widgets/controls",
     "model_module_version": "1.5.0",
     "model_name": "HTMLModel",
     "state": {
      "_dom_classes": [],
      "_model_module": "@jupyter-widgets/controls",
      "_model_module_version": "1.5.0",
      "_model_name": "HTMLModel",
      "_view_count": null,
      "_view_module": "@jupyter-widgets/controls",
      "_view_module_version": "1.5.0",
      "_view_name": "HTMLView",
      "description": "",
      "description_tooltip": null,
      "layout": "IPY_MODEL_0d4acd03fa734e9db4bb7389ae2f19b4",
      "placeholder": "​",
      "style": "IPY_MODEL_81d6479563414e36ae8103bbb16bd9a3",
      "value": " 1600/1600 [00:40&lt;00:00, 55.51it/s]"
     }
    },
    "18d7a2f2052141c9aaa53bf57a3bc1b3": {
     "model_module": "@jupyter-widgets/base",
     "model_module_version": "1.2.0",
     "model_name": "LayoutModel",
     "state": {
      "_model_module": "@jupyter-widgets/base",
      "_model_module_version": "1.2.0",
      "_model_name": "LayoutModel",
      "_view_count": null,
      "_view_module": "@jupyter-widgets/base",
      "_view_module_version": "1.2.0",
      "_view_name": "LayoutView",
      "align_content": null,
      "align_items": null,
      "align_self": null,
      "border": null,
      "bottom": null,
      "display": null,
      "flex": null,
      "flex_flow": null,
      "grid_area": null,
      "grid_auto_columns": null,
      "grid_auto_flow": null,
      "grid_auto_rows": null,
      "grid_column": null,
      "grid_gap": null,
      "grid_row": null,
      "grid_template_areas": null,
      "grid_template_columns": null,
      "grid_template_rows": null,
      "height": null,
      "justify_content": null,
      "justify_items": null,
      "left": null,
      "margin": null,
      "max_height": null,
      "max_width": null,
      "min_height": null,
      "min_width": null,
      "object_fit": null,
      "object_position": null,
      "order": null,
      "overflow": null,
      "overflow_x": null,
      "overflow_y": null,
      "padding": null,
      "right": null,
      "top": null,
      "visibility": null,
      "width": null
     }
    },
    "2c46b959bee7429f8da5394790591907": {
     "model_module": "@jupyter-widgets/controls",
     "model_module_version": "1.5.0",
     "model_name": "FloatProgressModel",
     "state": {
      "_dom_classes": [],
      "_model_module": "@jupyter-widgets/controls",
      "_model_module_version": "1.5.0",
      "_model_name": "FloatProgressModel",
      "_view_count": null,
      "_view_module": "@jupyter-widgets/controls",
      "_view_module_version": "1.5.0",
      "_view_name": "ProgressView",
      "bar_style": "danger",
      "description": "",
      "description_tooltip": null,
      "layout": "IPY_MODEL_55ddff88b8b3439dab43efc612bce63e",
      "max": 18432,
      "min": 0,
      "orientation": "horizontal",
      "style": "IPY_MODEL_3d62cb4fdf2a4dca91cf7669f75826f9",
      "value": 1815
     }
    },
    "3336807a7d144bbb9283a68a327852d5": {
     "model_module": "@jupyter-widgets/controls",
     "model_module_version": "1.5.0",
     "model_name": "DescriptionStyleModel",
     "state": {
      "_model_module": "@jupyter-widgets/controls",
      "_model_module_version": "1.5.0",
      "_model_name": "DescriptionStyleModel",
      "_view_count": null,
      "_view_module": "@jupyter-widgets/base",
      "_view_module_version": "1.2.0",
      "_view_name": "StyleView",
      "description_width": ""
     }
    },
    "3d62cb4fdf2a4dca91cf7669f75826f9": {
     "model_module": "@jupyter-widgets/controls",
     "model_module_version": "1.5.0",
     "model_name": "ProgressStyleModel",
     "state": {
      "_model_module": "@jupyter-widgets/controls",
      "_model_module_version": "1.5.0",
      "_model_name": "ProgressStyleModel",
      "_view_count": null,
      "_view_module": "@jupyter-widgets/base",
      "_view_module_version": "1.2.0",
      "_view_name": "StyleView",
      "bar_color": null,
      "description_width": ""
     }
    },
    "41f1cf625859422092090d52e3794b68": {
     "model_module": "@jupyter-widgets/base",
     "model_module_version": "1.2.0",
     "model_name": "LayoutModel",
     "state": {
      "_model_module": "@jupyter-widgets/base",
      "_model_module_version": "1.2.0",
      "_model_name": "LayoutModel",
      "_view_count": null,
      "_view_module": "@jupyter-widgets/base",
      "_view_module_version": "1.2.0",
      "_view_name": "LayoutView",
      "align_content": null,
      "align_items": null,
      "align_self": null,
      "border": null,
      "bottom": null,
      "display": null,
      "flex": null,
      "flex_flow": null,
      "grid_area": null,
      "grid_auto_columns": null,
      "grid_auto_flow": null,
      "grid_auto_rows": null,
      "grid_column": null,
      "grid_gap": null,
      "grid_row": null,
      "grid_template_areas": null,
      "grid_template_columns": null,
      "grid_template_rows": null,
      "height": null,
      "justify_content": null,
      "justify_items": null,
      "left": null,
      "margin": null,
      "max_height": null,
      "max_width": null,
      "min_height": null,
      "min_width": null,
      "object_fit": null,
      "object_position": null,
      "order": null,
      "overflow": null,
      "overflow_x": null,
      "overflow_y": null,
      "padding": null,
      "right": null,
      "top": null,
      "visibility": null,
      "width": null
     }
    },
    "41ff2b73bc49402fbd500c9124cf55b9": {
     "model_module": "@jupyter-widgets/controls",
     "model_module_version": "1.5.0",
     "model_name": "DescriptionStyleModel",
     "state": {
      "_model_module": "@jupyter-widgets/controls",
      "_model_module_version": "1.5.0",
      "_model_name": "DescriptionStyleModel",
      "_view_count": null,
      "_view_module": "@jupyter-widgets/base",
      "_view_module_version": "1.2.0",
      "_view_name": "StyleView",
      "description_width": ""
     }
    },
    "4a9fb0df830a43d798a94a9e00cfe022": {
     "model_module": "@jupyter-widgets/controls",
     "model_module_version": "1.5.0",
     "model_name": "DescriptionStyleModel",
     "state": {
      "_model_module": "@jupyter-widgets/controls",
      "_model_module_version": "1.5.0",
      "_model_name": "DescriptionStyleModel",
      "_view_count": null,
      "_view_module": "@jupyter-widgets/base",
      "_view_module_version": "1.2.0",
      "_view_name": "StyleView",
      "description_width": ""
     }
    },
    "50e7dda7941449cfb47e8d3945208fdb": {
     "model_module": "@jupyter-widgets/base",
     "model_module_version": "1.2.0",
     "model_name": "LayoutModel",
     "state": {
      "_model_module": "@jupyter-widgets/base",
      "_model_module_version": "1.2.0",
      "_model_name": "LayoutModel",
      "_view_count": null,
      "_view_module": "@jupyter-widgets/base",
      "_view_module_version": "1.2.0",
      "_view_name": "LayoutView",
      "align_content": null,
      "align_items": null,
      "align_self": null,
      "border": null,
      "bottom": null,
      "display": null,
      "flex": null,
      "flex_flow": null,
      "grid_area": null,
      "grid_auto_columns": null,
      "grid_auto_flow": null,
      "grid_auto_rows": null,
      "grid_column": null,
      "grid_gap": null,
      "grid_row": null,
      "grid_template_areas": null,
      "grid_template_columns": null,
      "grid_template_rows": null,
      "height": null,
      "justify_content": null,
      "justify_items": null,
      "left": null,
      "margin": null,
      "max_height": null,
      "max_width": null,
      "min_height": null,
      "min_width": null,
      "object_fit": null,
      "object_position": null,
      "order": null,
      "overflow": null,
      "overflow_x": null,
      "overflow_y": null,
      "padding": null,
      "right": null,
      "top": null,
      "visibility": null,
      "width": null
     }
    },
    "530f03e592b04992ad8864021b2d6033": {
     "model_module": "@jupyter-widgets/controls",
     "model_module_version": "1.5.0",
     "model_name": "HTMLModel",
     "state": {
      "_dom_classes": [],
      "_model_module": "@jupyter-widgets/controls",
      "_model_module_version": "1.5.0",
      "_model_name": "HTMLModel",
      "_view_count": null,
      "_view_module": "@jupyter-widgets/controls",
      "_view_module_version": "1.5.0",
      "_view_name": "HTMLView",
      "description": "",
      "description_tooltip": null,
      "layout": "IPY_MODEL_ce773a8dc12b4920b3a9f6c46e2a6ea4",
      "placeholder": "​",
      "style": "IPY_MODEL_a5d582694fb04c6fac9d10f2c6ef29d4",
      "value": "100%"
     }
    },
    "5392c16b86e84cceb68915753a0531cb": {
     "model_module": "@jupyter-widgets/controls",
     "model_module_version": "1.5.0",
     "model_name": "HTMLModel",
     "state": {
      "_dom_classes": [],
      "_model_module": "@jupyter-widgets/controls",
      "_model_module_version": "1.5.0",
      "_model_name": "HTMLModel",
      "_view_count": null,
      "_view_module": "@jupyter-widgets/controls",
      "_view_module_version": "1.5.0",
      "_view_name": "HTMLView",
      "description": "",
      "description_tooltip": null,
      "layout": "IPY_MODEL_50e7dda7941449cfb47e8d3945208fdb",
      "placeholder": "​",
      "style": "IPY_MODEL_4a9fb0df830a43d798a94a9e00cfe022",
      "value": " 170498071/170498071 [00:05&lt;00:00, 33555457.81it/s]"
     }
    },
    "551ec62854e64a6a89e2550b4eb22e52": {
     "model_module": "@jupyter-widgets/base",
     "model_module_version": "1.2.0",
     "model_name": "LayoutModel",
     "state": {
      "_model_module": "@jupyter-widgets/base",
      "_model_module_version": "1.2.0",
      "_model_name": "LayoutModel",
      "_view_count": null,
      "_view_module": "@jupyter-widgets/base",
      "_view_module_version": "1.2.0",
      "_view_name": "LayoutView",
      "align_content": null,
      "align_items": null,
      "align_self": null,
      "border": null,
      "bottom": null,
      "display": null,
      "flex": null,
      "flex_flow": null,
      "grid_area": null,
      "grid_auto_columns": null,
      "grid_auto_flow": null,
      "grid_auto_rows": null,
      "grid_column": null,
      "grid_gap": null,
      "grid_row": null,
      "grid_template_areas": null,
      "grid_template_columns": null,
      "grid_template_rows": null,
      "height": null,
      "justify_content": null,
      "justify_items": null,
      "left": null,
      "margin": null,
      "max_height": null,
      "max_width": null,
      "min_height": null,
      "min_width": null,
      "object_fit": null,
      "object_position": null,
      "order": null,
      "overflow": null,
      "overflow_x": null,
      "overflow_y": null,
      "padding": null,
      "right": null,
      "top": null,
      "visibility": null,
      "width": null
     }
    },
    "55ddff88b8b3439dab43efc612bce63e": {
     "model_module": "@jupyter-widgets/base",
     "model_module_version": "1.2.0",
     "model_name": "LayoutModel",
     "state": {
      "_model_module": "@jupyter-widgets/base",
      "_model_module_version": "1.2.0",
      "_model_name": "LayoutModel",
      "_view_count": null,
      "_view_module": "@jupyter-widgets/base",
      "_view_module_version": "1.2.0",
      "_view_name": "LayoutView",
      "align_content": null,
      "align_items": null,
      "align_self": null,
      "border": null,
      "bottom": null,
      "display": null,
      "flex": null,
      "flex_flow": null,
      "grid_area": null,
      "grid_auto_columns": null,
      "grid_auto_flow": null,
      "grid_auto_rows": null,
      "grid_column": null,
      "grid_gap": null,
      "grid_row": null,
      "grid_template_areas": null,
      "grid_template_columns": null,
      "grid_template_rows": null,
      "height": null,
      "justify_content": null,
      "justify_items": null,
      "left": null,
      "margin": null,
      "max_height": null,
      "max_width": null,
      "min_height": null,
      "min_width": null,
      "object_fit": null,
      "object_position": null,
      "order": null,
      "overflow": null,
      "overflow_x": null,
      "overflow_y": null,
      "padding": null,
      "right": null,
      "top": null,
      "visibility": null,
      "width": null
     }
    },
    "591ae5d8878a4378aae207c92ed81f4f": {
     "model_module": "@jupyter-widgets/controls",
     "model_module_version": "1.5.0",
     "model_name": "HBoxModel",
     "state": {
      "_dom_classes": [],
      "_model_module": "@jupyter-widgets/controls",
      "_model_module_version": "1.5.0",
      "_model_name": "HBoxModel",
      "_view_count": null,
      "_view_module": "@jupyter-widgets/controls",
      "_view_module_version": "1.5.0",
      "_view_name": "HBoxView",
      "box_style": "",
      "children": [
       "IPY_MODEL_530f03e592b04992ad8864021b2d6033",
       "IPY_MODEL_94031723b8be497f952269c328453ed4",
       "IPY_MODEL_5392c16b86e84cceb68915753a0531cb"
      ],
      "layout": "IPY_MODEL_90c6aca45b9d42fcb3d6e5be3a7728f2"
     }
    },
    "6b2c1311df4c4fa3a60d3a466d809e66": {
     "model_module": "@jupyter-widgets/base",
     "model_module_version": "1.2.0",
     "model_name": "LayoutModel",
     "state": {
      "_model_module": "@jupyter-widgets/base",
      "_model_module_version": "1.2.0",
      "_model_name": "LayoutModel",
      "_view_count": null,
      "_view_module": "@jupyter-widgets/base",
      "_view_module_version": "1.2.0",
      "_view_name": "LayoutView",
      "align_content": null,
      "align_items": null,
      "align_self": null,
      "border": null,
      "bottom": null,
      "display": null,
      "flex": null,
      "flex_flow": null,
      "grid_area": null,
      "grid_auto_columns": null,
      "grid_auto_flow": null,
      "grid_auto_rows": null,
      "grid_column": null,
      "grid_gap": null,
      "grid_row": null,
      "grid_template_areas": null,
      "grid_template_columns": null,
      "grid_template_rows": null,
      "height": null,
      "justify_content": null,
      "justify_items": null,
      "left": null,
      "margin": null,
      "max_height": null,
      "max_width": null,
      "min_height": null,
      "min_width": null,
      "object_fit": null,
      "object_position": null,
      "order": null,
      "overflow": null,
      "overflow_x": null,
      "overflow_y": null,
      "padding": null,
      "right": null,
      "top": null,
      "visibility": null,
      "width": null
     }
    },
    "6dc31f9f92cc4ecb847630272fff1758": {
     "model_module": "@jupyter-widgets/controls",
     "model_module_version": "1.5.0",
     "model_name": "ProgressStyleModel",
     "state": {
      "_model_module": "@jupyter-widgets/controls",
      "_model_module_version": "1.5.0",
      "_model_name": "ProgressStyleModel",
      "_view_count": null,
      "_view_module": "@jupyter-widgets/base",
      "_view_module_version": "1.2.0",
      "_view_name": "StyleView",
      "bar_color": null,
      "description_width": ""
     }
    },
    "72ff93bf4145408b801f99485950f2da": {
     "model_module": "@jupyter-widgets/controls",
     "model_module_version": "1.5.0",
     "model_name": "HTMLModel",
     "state": {
      "_dom_classes": [],
      "_model_module": "@jupyter-widgets/controls",
      "_model_module_version": "1.5.0",
      "_model_name": "HTMLModel",
      "_view_count": null,
      "_view_module": "@jupyter-widgets/controls",
      "_view_module_version": "1.5.0",
      "_view_name": "HTMLView",
      "description": "",
      "description_tooltip": null,
      "layout": "IPY_MODEL_6b2c1311df4c4fa3a60d3a466d809e66",
      "placeholder": "​",
      "style": "IPY_MODEL_c86c144c3c9e41358633aa78509d3de7",
      "value": " 10%"
     }
    },
    "81d6479563414e36ae8103bbb16bd9a3": {
     "model_module": "@jupyter-widgets/controls",
     "model_module_version": "1.5.0",
     "model_name": "DescriptionStyleModel",
     "state": {
      "_model_module": "@jupyter-widgets/controls",
      "_model_module_version": "1.5.0",
      "_model_name": "DescriptionStyleModel",
      "_view_count": null,
      "_view_module": "@jupyter-widgets/base",
      "_view_module_version": "1.2.0",
      "_view_name": "StyleView",
      "description_width": ""
     }
    },
    "8282f6bd64d344e9aa0e2cdc5deedb50": {
     "model_module": "@jupyter-widgets/controls",
     "model_module_version": "1.5.0",
     "model_name": "HBoxModel",
     "state": {
      "_dom_classes": [],
      "_model_module": "@jupyter-widgets/controls",
      "_model_module_version": "1.5.0",
      "_model_name": "HBoxModel",
      "_view_count": null,
      "_view_module": "@jupyter-widgets/controls",
      "_view_module_version": "1.5.0",
      "_view_name": "HBoxView",
      "box_style": "",
      "children": [
       "IPY_MODEL_b7c4c95db21e4c4dbb6cd50f4bb22a1a",
       "IPY_MODEL_9aa9c5d37cbb4a7987c84c6061cbafa6",
       "IPY_MODEL_0dc49d11d2434b568a3f6c3ad5b05c09"
      ],
      "layout": "IPY_MODEL_18d7a2f2052141c9aaa53bf57a3bc1b3"
     }
    },
    "90c6aca45b9d42fcb3d6e5be3a7728f2": {
     "model_module": "@jupyter-widgets/base",
     "model_module_version": "1.2.0",
     "model_name": "LayoutModel",
     "state": {
      "_model_module": "@jupyter-widgets/base",
      "_model_module_version": "1.2.0",
      "_model_name": "LayoutModel",
      "_view_count": null,
      "_view_module": "@jupyter-widgets/base",
      "_view_module_version": "1.2.0",
      "_view_name": "LayoutView",
      "align_content": null,
      "align_items": null,
      "align_self": null,
      "border": null,
      "bottom": null,
      "display": null,
      "flex": null,
      "flex_flow": null,
      "grid_area": null,
      "grid_auto_columns": null,
      "grid_auto_flow": null,
      "grid_auto_rows": null,
      "grid_column": null,
      "grid_gap": null,
      "grid_row": null,
      "grid_template_areas": null,
      "grid_template_columns": null,
      "grid_template_rows": null,
      "height": null,
      "justify_content": null,
      "justify_items": null,
      "left": null,
      "margin": null,
      "max_height": null,
      "max_width": null,
      "min_height": null,
      "min_width": null,
      "object_fit": null,
      "object_position": null,
      "order": null,
      "overflow": null,
      "overflow_x": null,
      "overflow_y": null,
      "padding": null,
      "right": null,
      "top": null,
      "visibility": null,
      "width": null
     }
    },
    "94031723b8be497f952269c328453ed4": {
     "model_module": "@jupyter-widgets/controls",
     "model_module_version": "1.5.0",
     "model_name": "FloatProgressModel",
     "state": {
      "_dom_classes": [],
      "_model_module": "@jupyter-widgets/controls",
      "_model_module_version": "1.5.0",
      "_model_name": "FloatProgressModel",
      "_view_count": null,
      "_view_module": "@jupyter-widgets/controls",
      "_view_module_version": "1.5.0",
      "_view_name": "ProgressView",
      "bar_style": "success",
      "description": "",
      "description_tooltip": null,
      "layout": "IPY_MODEL_d4cdc9b0b6cb4ba5ab63630a8bb01ba4",
      "max": 170498071,
      "min": 0,
      "orientation": "horizontal",
      "style": "IPY_MODEL_6dc31f9f92cc4ecb847630272fff1758",
      "value": 170498071
     }
    },
    "9aa9c5d37cbb4a7987c84c6061cbafa6": {
     "model_module": "@jupyter-widgets/controls",
     "model_module_version": "1.5.0",
     "model_name": "FloatProgressModel",
     "state": {
      "_dom_classes": [],
      "_model_module": "@jupyter-widgets/controls",
      "_model_module_version": "1.5.0",
      "_model_name": "FloatProgressModel",
      "_view_count": null,
      "_view_module": "@jupyter-widgets/controls",
      "_view_module_version": "1.5.0",
      "_view_name": "ProgressView",
      "bar_style": "success",
      "description": "",
      "description_tooltip": null,
      "layout": "IPY_MODEL_058124347df04f2a81d75544c5fb8809",
      "max": 1600,
      "min": 0,
      "orientation": "horizontal",
      "style": "IPY_MODEL_f0f5ea82811c49bfb0a55154cc9cd30d",
      "value": 1600
     }
    },
    "a5d582694fb04c6fac9d10f2c6ef29d4": {
     "model_module": "@jupyter-widgets/controls",
     "model_module_version": "1.5.0",
     "model_name": "DescriptionStyleModel",
     "state": {
      "_model_module": "@jupyter-widgets/controls",
      "_model_module_version": "1.5.0",
      "_model_name": "DescriptionStyleModel",
      "_view_count": null,
      "_view_module": "@jupyter-widgets/base",
      "_view_module_version": "1.2.0",
      "_view_name": "StyleView",
      "description_width": ""
     }
    },
    "a8f2e2541be5409e86fae758d5f69b6a": {
     "model_module": "@jupyter-widgets/controls",
     "model_module_version": "1.5.0",
     "model_name": "HBoxModel",
     "state": {
      "_dom_classes": [],
      "_model_module": "@jupyter-widgets/controls",
      "_model_module_version": "1.5.0",
      "_model_name": "HBoxModel",
      "_view_count": null,
      "_view_module": "@jupyter-widgets/controls",
      "_view_module_version": "1.5.0",
      "_view_name": "HBoxView",
      "box_style": "",
      "children": [
       "IPY_MODEL_72ff93bf4145408b801f99485950f2da",
       "IPY_MODEL_2c46b959bee7429f8da5394790591907",
       "IPY_MODEL_e6cea5484f5444a8aae4b68e4cca9677"
      ],
      "layout": "IPY_MODEL_c848b3bad8924d55976b7a3c3b6acde8"
     }
    },
    "b7c4c95db21e4c4dbb6cd50f4bb22a1a": {
     "model_module": "@jupyter-widgets/controls",
     "model_module_version": "1.5.0",
     "model_name": "HTMLModel",
     "state": {
      "_dom_classes": [],
      "_model_module": "@jupyter-widgets/controls",
      "_model_module_version": "1.5.0",
      "_model_name": "HTMLModel",
      "_view_count": null,
      "_view_module": "@jupyter-widgets/controls",
      "_view_module_version": "1.5.0",
      "_view_name": "HTMLView",
      "description": "",
      "description_tooltip": null,
      "layout": "IPY_MODEL_551ec62854e64a6a89e2550b4eb22e52",
      "placeholder": "​",
      "style": "IPY_MODEL_3336807a7d144bbb9283a68a327852d5",
      "value": "100%"
     }
    },
    "c848b3bad8924d55976b7a3c3b6acde8": {
     "model_module": "@jupyter-widgets/base",
     "model_module_version": "1.2.0",
     "model_name": "LayoutModel",
     "state": {
      "_model_module": "@jupyter-widgets/base",
      "_model_module_version": "1.2.0",
      "_model_name": "LayoutModel",
      "_view_count": null,
      "_view_module": "@jupyter-widgets/base",
      "_view_module_version": "1.2.0",
      "_view_name": "LayoutView",
      "align_content": null,
      "align_items": null,
      "align_self": null,
      "border": null,
      "bottom": null,
      "display": null,
      "flex": null,
      "flex_flow": null,
      "grid_area": null,
      "grid_auto_columns": null,
      "grid_auto_flow": null,
      "grid_auto_rows": null,
      "grid_column": null,
      "grid_gap": null,
      "grid_row": null,
      "grid_template_areas": null,
      "grid_template_columns": null,
      "grid_template_rows": null,
      "height": null,
      "justify_content": null,
      "justify_items": null,
      "left": null,
      "margin": null,
      "max_height": null,
      "max_width": null,
      "min_height": null,
      "min_width": null,
      "object_fit": null,
      "object_position": null,
      "order": null,
      "overflow": null,
      "overflow_x": null,
      "overflow_y": null,
      "padding": null,
      "right": null,
      "top": null,
      "visibility": null,
      "width": null
     }
    },
    "c86c144c3c9e41358633aa78509d3de7": {
     "model_module": "@jupyter-widgets/controls",
     "model_module_version": "1.5.0",
     "model_name": "DescriptionStyleModel",
     "state": {
      "_model_module": "@jupyter-widgets/controls",
      "_model_module_version": "1.5.0",
      "_model_name": "DescriptionStyleModel",
      "_view_count": null,
      "_view_module": "@jupyter-widgets/base",
      "_view_module_version": "1.2.0",
      "_view_name": "StyleView",
      "description_width": ""
     }
    },
    "ce773a8dc12b4920b3a9f6c46e2a6ea4": {
     "model_module": "@jupyter-widgets/base",
     "model_module_version": "1.2.0",
     "model_name": "LayoutModel",
     "state": {
      "_model_module": "@jupyter-widgets/base",
      "_model_module_version": "1.2.0",
      "_model_name": "LayoutModel",
      "_view_count": null,
      "_view_module": "@jupyter-widgets/base",
      "_view_module_version": "1.2.0",
      "_view_name": "LayoutView",
      "align_content": null,
      "align_items": null,
      "align_self": null,
      "border": null,
      "bottom": null,
      "display": null,
      "flex": null,
      "flex_flow": null,
      "grid_area": null,
      "grid_auto_columns": null,
      "grid_auto_flow": null,
      "grid_auto_rows": null,
      "grid_column": null,
      "grid_gap": null,
      "grid_row": null,
      "grid_template_areas": null,
      "grid_template_columns": null,
      "grid_template_rows": null,
      "height": null,
      "justify_content": null,
      "justify_items": null,
      "left": null,
      "margin": null,
      "max_height": null,
      "max_width": null,
      "min_height": null,
      "min_width": null,
      "object_fit": null,
      "object_position": null,
      "order": null,
      "overflow": null,
      "overflow_x": null,
      "overflow_y": null,
      "padding": null,
      "right": null,
      "top": null,
      "visibility": null,
      "width": null
     }
    },
    "d4cdc9b0b6cb4ba5ab63630a8bb01ba4": {
     "model_module": "@jupyter-widgets/base",
     "model_module_version": "1.2.0",
     "model_name": "LayoutModel",
     "state": {
      "_model_module": "@jupyter-widgets/base",
      "_model_module_version": "1.2.0",
      "_model_name": "LayoutModel",
      "_view_count": null,
      "_view_module": "@jupyter-widgets/base",
      "_view_module_version": "1.2.0",
      "_view_name": "LayoutView",
      "align_content": null,
      "align_items": null,
      "align_self": null,
      "border": null,
      "bottom": null,
      "display": null,
      "flex": null,
      "flex_flow": null,
      "grid_area": null,
      "grid_auto_columns": null,
      "grid_auto_flow": null,
      "grid_auto_rows": null,
      "grid_column": null,
      "grid_gap": null,
      "grid_row": null,
      "grid_template_areas": null,
      "grid_template_columns": null,
      "grid_template_rows": null,
      "height": null,
      "justify_content": null,
      "justify_items": null,
      "left": null,
      "margin": null,
      "max_height": null,
      "max_width": null,
      "min_height": null,
      "min_width": null,
      "object_fit": null,
      "object_position": null,
      "order": null,
      "overflow": null,
      "overflow_x": null,
      "overflow_y": null,
      "padding": null,
      "right": null,
      "top": null,
      "visibility": null,
      "width": null
     }
    },
    "e6cea5484f5444a8aae4b68e4cca9677": {
     "model_module": "@jupyter-widgets/controls",
     "model_module_version": "1.5.0",
     "model_name": "HTMLModel",
     "state": {
      "_dom_classes": [],
      "_model_module": "@jupyter-widgets/controls",
      "_model_module_version": "1.5.0",
      "_model_name": "HTMLModel",
      "_view_count": null,
      "_view_module": "@jupyter-widgets/controls",
      "_view_module_version": "1.5.0",
      "_view_name": "HTMLView",
      "description": "",
      "description_tooltip": null,
      "layout": "IPY_MODEL_41f1cf625859422092090d52e3794b68",
      "placeholder": "​",
      "style": "IPY_MODEL_41ff2b73bc49402fbd500c9124cf55b9",
      "value": " 1815/18432 [04:20&lt;37:30,  7.38it/s]"
     }
    },
    "f0f5ea82811c49bfb0a55154cc9cd30d": {
     "model_module": "@jupyter-widgets/controls",
     "model_module_version": "1.5.0",
     "model_name": "ProgressStyleModel",
     "state": {
      "_model_module": "@jupyter-widgets/controls",
      "_model_module_version": "1.5.0",
      "_model_name": "ProgressStyleModel",
      "_view_count": null,
      "_view_module": "@jupyter-widgets/base",
      "_view_module_version": "1.2.0",
      "_view_name": "StyleView",
      "bar_color": null,
      "description_width": ""
     }
    }
   }
  }
 },
 "nbformat": 4,
 "nbformat_minor": 4
}
