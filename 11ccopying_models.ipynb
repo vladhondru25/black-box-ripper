{
 "cells": [
  {
   "cell_type": "code",
   "execution_count": 1,
   "metadata": {
    "id": "1RlCqi-d0eTG"
   },
   "outputs": [],
   "source": [
    "%load_ext autoreload\n",
    "%autoreload 2"
   ]
  },
  {
   "cell_type": "code",
   "execution_count": 2,
   "metadata": {
    "id": "zsEy0GL2zk0A"
   },
   "outputs": [],
   "source": [
    "import os\n",
    "import numpy as np\n",
    "import torch\n",
    "import torchvision.transforms as T\n",
    "from shutil import rmtree\n",
    "from sklearn.model_selection import train_test_split\n",
    "from tqdm.autonotebook import tqdm, trange\n",
    "from torch.nn.functional import softmax\n",
    "from torch.utils.data import Dataset, DataLoader\n",
    "from torchvision.io import read_image\n",
    "from torchvision.datasets import ImageFolder\n",
    "\n",
    "from predictors.alexnet import Alexnet\n",
    "from predictors.half_alexnet import HalfAlexnet\n",
    "\n",
    "from datasets import CIFAR10, ProxyDataset\n",
    "\n",
    "%matplotlib inline"
   ]
  },
  {
   "cell_type": "code",
   "execution_count": 3,
   "metadata": {
    "id": "z2QTVln9zk0D"
   },
   "outputs": [
    {
     "data": {
      "text/plain": [
       "device(type='cuda')"
      ]
     },
     "execution_count": 3,
     "metadata": {},
     "output_type": "execute_result"
    }
   ],
   "source": [
    "LR = 0.001\n",
    "EPOCHS = 200\n",
    "BATCH_SIZE = 32\n",
    "CONFIDENCE_TH = 0.8\n",
    "\n",
    "DATASET_PATH = '.'\n",
    "TEMP_BEST_MODEL = 'cosine_imagespace_experiments'\n",
    "\n",
    "# Set random seed for replicating testing results\n",
    "RANDOM_SEED = 0\n",
    "np.random.seed(0)\n",
    "torch.manual_seed(0)\n",
    "if torch.cuda.is_available():\n",
    "    torch.cuda.manual_seed(0)\n",
    "\n",
    "device = torch.device('cuda' if torch.cuda.is_available() else 'cpu')\n",
    "device"
   ]
  },
  {
   "cell_type": "code",
   "execution_count": 4,
   "metadata": {
    "colab": {
     "base_uri": "https://localhost:8080/"
    },
    "id": "77r9b28lzk0E",
    "outputId": "75c25c0a-02b7-4cb9-e295-6d9916e0aeb7"
   },
   "outputs": [],
   "source": [
    "# Teacher\n",
    "teacher_model = Alexnet(name=None, n_outputs=10)\n",
    "\n",
    "ckpt_path = 'checkpoints/teacher_alexnet_for_cifar10_state_dict'\n",
    "teacher_model.load_state_dict(torch.load(ckpt_path, map_location=device))\n",
    "teacher_model.eval()\n",
    "teacher_model = teacher_model.to(device)"
   ]
  },
  {
   "cell_type": "code",
   "execution_count": 5,
   "metadata": {
    "id": "J0bOFnMSzk0F"
   },
   "outputs": [],
   "source": [
    "# Define dataset\n",
    "label_mapper = {\n",
    "    'airplane': 0,\n",
    "    'automobile': 1,\n",
    "    'bird': 2,\n",
    "    'cat': 3,\n",
    "    'deer': 4,\n",
    "    'dog': 5,\n",
    "    'frog': 6,\n",
    "    'horse': 7,\n",
    "    'ship': 8,\n",
    "    'truck': 9\n",
    "}\n",
    "label_mapper_inv = {v:k for k,v in label_mapper.items()}\n",
    "\n",
    "# Get images paths and labels\n",
    "images = []\n",
    "labels = []\n",
    "\n",
    "folders_path = os.path.join(DATASET_PATH,'images_generated')\n",
    "for folder in os.listdir(folders_path):\n",
    "    if 'imagenet' in folder:\n",
    "      continue\n",
    "    class_path = os.path.join(folders_path,folder)\n",
    "    images_names = os.listdir(class_path)\n",
    "    \n",
    "    for image_name in images_names:\n",
    "        images.append(os.path.join(class_path,image_name))\n",
    "        labels.append(label_mapper[folder])"
   ]
  },
  {
   "cell_type": "code",
   "execution_count": 6,
   "metadata": {
    "colab": {
     "base_uri": "https://localhost:8080/",
     "height": 263,
     "referenced_widgets": [
      "8282f6bd64d344e9aa0e2cdc5deedb50",
      "b7c4c95db21e4c4dbb6cd50f4bb22a1a",
      "9aa9c5d37cbb4a7987c84c6061cbafa6",
      "0dc49d11d2434b568a3f6c3ad5b05c09",
      "18d7a2f2052141c9aaa53bf57a3bc1b3",
      "551ec62854e64a6a89e2550b4eb22e52",
      "3336807a7d144bbb9283a68a327852d5",
      "058124347df04f2a81d75544c5fb8809",
      "f0f5ea82811c49bfb0a55154cc9cd30d",
      "0d4acd03fa734e9db4bb7389ae2f19b4",
      "81d6479563414e36ae8103bbb16bd9a3"
     ]
    },
    "id": "ovpstIXDzk0G",
    "outputId": "91d3a8be-f9f7-450a-8514-97478cb2da87"
   },
   "outputs": [
    {
     "data": {
      "application/vnd.jupyter.widget-view+json": {
       "model_id": "2bff25569d20431497ff825cd6b8bec0",
       "version_major": 2,
       "version_minor": 0
      },
      "text/plain": [
       "  0%|          | 0/1600 [00:00<?, ?it/s]"
      ]
     },
     "metadata": {},
     "output_type": "display_data"
    },
    {
     "name": "stdout",
     "output_type": "stream",
     "text": [
      "A total of 51200 remained out of 51200\n",
      "\n",
      "Class 0(airplane) has 6384 entries\n",
      "Class 1(automobile) has 5145 entries\n",
      "Class 2(bird) has 4795 entries\n",
      "Class 3(cat) has 5331 entries\n",
      "Class 4(deer) has 5571 entries\n",
      "Class 5(dog) has 4286 entries\n",
      "Class 6(frog) has 4553 entries\n",
      "Class 7(horse) has 5025 entries\n",
      "Class 8(ship) has 5178 entries\n",
      "Class 9(truck) has 4932 entries\n"
     ]
    }
   ],
   "source": [
    "proxy_transforms = T.Compose([\n",
    "    T.Resize((32,32)),\n",
    "    T.Normalize((0.5,), (0.5,))\n",
    "])\n",
    "\n",
    "proxy_dataset = ProxyDataset(images, labels, proxy_transforms, True)\n",
    "proxy_dataloader  = DataLoader(proxy_dataset,  batch_size=BATCH_SIZE)\n",
    "\n",
    "# Obtain teacher predictions\n",
    "filtered_images = []\n",
    "filtered_labels = []\n",
    "filtered_soft_labels = []\n",
    "\n",
    "with torch.no_grad():\n",
    "    for img,label,path,_ in tqdm(proxy_dataloader):\n",
    "        img = img.to(device=device)\n",
    "        label = label.to(device=device)\n",
    "\n",
    "        logits = teacher_model(img)\n",
    "        pred = softmax(logits, dim=1)\n",
    "        \n",
    "        confidence,y_hat = torch.max(pred, dim=1)\n",
    "\n",
    "        filtered_images.extend(list(path))\n",
    "        filtered_labels.extend(y_hat.tolist())\n",
    "        filtered_soft_labels.extend(pred)\n",
    "        \n",
    "# Display results of filtering\n",
    "print(f'A total of {len(filtered_images)} remained out of {len(proxy_dataset)}')\n",
    "print()\n",
    "counter_per_class = {v:0 for k,v in label_mapper.items()}\n",
    "for label in filtered_labels:\n",
    "    counter_per_class[label] += 1\n",
    "for clasa in counter_per_class:\n",
    "    print(f'Class {clasa}({label_mapper_inv[clasa]}) has {counter_per_class[clasa]} entries')"
   ]
  },
  {
   "cell_type": "code",
   "execution_count": 7,
   "metadata": {
    "id": "UxE8HVQSzk0F"
   },
   "outputs": [],
   "source": [
    "# Define the student model\n",
    "student_model = HalfAlexnet(name=None, n_outputs=10)\n",
    "\n",
    "path_to_save = 'pretrained_student.pt'\n",
    "if torch.cuda.is_available():\n",
    "    student_model.load_state_dict(torch.load(path_to_save))\n",
    "else:\n",
    "    student_model.load_state_dict(torch.load(path_to_save, map_location ='cpu'))\n",
    "student_model.to(device)\n",
    "\n",
    "# Define optimizer\n",
    "optimizer = torch.optim.Adam(student_model.parameters(), lr=LR)\n",
    "\n",
    "# Define loss function\n",
    "criterion = torch.nn.CrossEntropyLoss(reduction='mean')"
   ]
  },
  {
   "cell_type": "code",
   "execution_count": 8,
   "metadata": {
    "id": "yS1V_-cdL9Ku"
   },
   "outputs": [],
   "source": [
    "try:\n",
    "  # raise\n",
    "  # Do a stratified split of the data\n",
    "  NO_IMGS_TO_USE = 32768\n",
    "  \n",
    "  filtered_images_subset, filtered_images_unused, filtered_labels_subset, filtered_labels_unused, filtered_soft_labels_subset, filtered_soft_labels_unused = \\\n",
    "      train_test_split(filtered_images, filtered_labels, filtered_soft_labels, train_size=NO_IMGS_TO_USE, stratify=filtered_labels, random_state=RANDOM_SEED)  \n",
    "\n",
    "  train_images, validation_images, train_labels, validation_labels, train_soft_labels, validation_soft_labels = \\\n",
    "      train_test_split(filtered_images_subset, filtered_labels_subset, filtered_soft_labels_subset, train_size=0.8, stratify=filtered_labels_subset, random_state=RANDOM_SEED)\n",
    "  valid_images, test_images, valid_labels, test_labels, valid_soft_labels, test_soft_labels = \\\n",
    "      train_test_split(validation_images, validation_labels, validation_soft_labels, test_size=0.5, stratify=validation_labels, random_state=RANDOM_SEED)\n",
    "except:\n",
    "  # For small datasets \n",
    "  print('Small dataset')\n",
    "  NO_IMGS_TO_USE = 60\n",
    "  NO_TRAIN_IMGS = 40\n",
    "\n",
    "  \"\"\" DEV - train_test_split fails, need to manually introduce 1 sample\n",
    "  \"\"\"\n",
    "  for i in range(len(filtered_labels)-1,-1,-1):\n",
    "    if filtered_labels[i] == 5:\n",
    "      img_dev = filtered_images[i]\n",
    "      soft_label_dev = filtered_soft_labels[i]\n",
    "      break\n",
    "\n",
    "  filtered_images_subset, filtered_images_unused, filtered_labels_subset, filtered_labels_unused, filtered_soft_labels_subset, filtered_soft_labels_unused = \\\n",
    "    train_test_split(filtered_images, filtered_labels, filtered_soft_labels, train_size=NO_IMGS_TO_USE, stratify=filtered_labels, random_state=RANDOM_SEED)  \n",
    "  train_images, validation_images, train_labels, validation_labels, train_soft_labels, validation_soft_labels = \\\n",
    "    train_test_split(filtered_images_subset, filtered_labels_subset, filtered_soft_labels_subset, train_size=NO_TRAIN_IMGS, stratify=filtered_labels_subset, random_state=RANDOM_SEED)\n",
    "  \n",
    "  \"\"\" DEV - interchange an image\n",
    "  \"\"\"\n",
    "  for i in range(len(validation_images)):\n",
    "    if validation_labels[i] == 0:\n",
    "      validation_images[i] = img_dev\n",
    "      validation_labels[i] = 5\n",
    "      validation_soft_labels[i] = soft_label_dev\n",
    "      break\n",
    "\n",
    "  valid_images, test_images, valid_labels, test_labels, valid_soft_labels, test_soft_labels = \\\n",
    "      train_test_split(validation_images, validation_labels, validation_soft_labels, test_size=0.5, stratify=validation_labels)"
   ]
  },
  {
   "cell_type": "code",
   "execution_count": 9,
   "metadata": {
    "id": "AGYrWL_Zzk0H"
   },
   "outputs": [
    {
     "name": "stdout",
     "output_type": "stream",
     "text": [
      "Files already downloaded and verified\n",
      "Files already downloaded and verified\n"
     ]
    }
   ],
   "source": [
    "# Define the transformations\n",
    "train_transforms = T.Compose([\n",
    "    T.Resize((32,32)),\n",
    "    T.RandomCrop(32, padding=4),\n",
    "    T.RandomHorizontalFlip(p=0.5),\n",
    "    T.Normalize((0.5,), (0.5,))\n",
    "])\n",
    "valid_transforms = T.Compose([\n",
    "    T.Resize((32,32)),\n",
    "    T.Normalize((0.5,), (0.5,))\n",
    "])\n",
    "\n",
    "# Define the proxy datasets\n",
    "proxy_train_dataset = ProxyDataset(train_images, train_labels, train_transforms, False, train_soft_labels)\n",
    "proxy_valid_dataset = ProxyDataset(valid_images, valid_labels, valid_transforms, False, valid_soft_labels)\n",
    "proxy_test_dataset  = ProxyDataset(test_images,  test_labels,  valid_transforms, False, test_soft_labels)\n",
    "\n",
    "# Define the proxy dataloaders\n",
    "train_dataloader = DataLoader(proxy_train_dataset, batch_size=BATCH_SIZE, shuffle=True)\n",
    "valid_dataloader = DataLoader(proxy_valid_dataset, batch_size=BATCH_SIZE)\n",
    "test_dataloader  = DataLoader(proxy_test_dataset,  batch_size=BATCH_SIZE)\n",
    "\n",
    "# Define true dataset\n",
    "true_dataset = CIFAR10(input_size = 32)\n",
    "\n",
    "validate_on_trueds = True\n",
    "if validate_on_trueds:\n",
    "    true_valid_ds = true_dataset.test_dataloader()"
   ]
  },
  {
   "cell_type": "code",
   "execution_count": 10,
   "metadata": {
    "id": "UiU_sPFAZh9P"
   },
   "outputs": [],
   "source": [
    "# Class for early stopping\n",
    "class EarlyStopping():\n",
    "    def __init__(self, tolerance=5, min_delta=0):\n",
    "\n",
    "        self.tolerance = tolerance\n",
    "        self.min_delta = min_delta\n",
    "        self.counter = 0\n",
    "        self.min_valid_loss = np.inf\n",
    "        self.early_stop = False\n",
    "\n",
    "    def __call__(self, validation_loss):\n",
    "        if validation_loss < self.min_valid_loss:\n",
    "          self.min_valid_loss = validation_loss\n",
    "          self.counter = 0\n",
    "        elif validation_loss > self.min_valid_loss + self.min_delta:\n",
    "          self.counter +=1\n",
    "          \n",
    "          if self.counter >= self.tolerance:  \n",
    "              self.early_stop = True"
   ]
  },
  {
   "cell_type": "code",
   "execution_count": 11,
   "metadata": {
    "id": "6Upn77I0zk0I"
   },
   "outputs": [
    {
     "data": {
      "application/vnd.jupyter.widget-view+json": {
       "model_id": "580615710bd84d69aa72d82722be1ef4",
       "version_major": 2,
       "version_minor": 0
      },
      "text/plain": [
       "  0%|          | 0/820 [00:00<?, ?it/s]"
      ]
     },
     "metadata": {},
     "output_type": "display_data"
    },
    {
     "name": "stdout",
     "output_type": "stream",
     "text": [
      "validation_loss on proxy = 0.5477\n",
      "validation_accuracy on proxy = 83.22%\n",
      "Saved at epoch 0\n",
      "validation_loss on true ds = 1.3466\n",
      "validation_accuracy on true ds = 53.13%\n"
     ]
    },
    {
     "data": {
      "application/vnd.jupyter.widget-view+json": {
       "model_id": "8ca0a6c45f1e4e63a7c52ecae95d018b",
       "version_major": 2,
       "version_minor": 0
      },
      "text/plain": [
       "  0%|          | 0/820 [00:00<?, ?it/s]"
      ]
     },
     "metadata": {},
     "output_type": "display_data"
    },
    {
     "name": "stdout",
     "output_type": "stream",
     "text": [
      "validation_loss on proxy = 0.5379\n",
      "validation_accuracy on proxy = 83.95%\n",
      "Saved at epoch 1\n",
      "validation_loss on true ds = 1.4322\n",
      "validation_accuracy on true ds = 52.70%\n"
     ]
    },
    {
     "data": {
      "application/vnd.jupyter.widget-view+json": {
       "model_id": "a5e81b76c1db4e84ace8af632831ee8f",
       "version_major": 2,
       "version_minor": 0
      },
      "text/plain": [
       "  0%|          | 0/820 [00:00<?, ?it/s]"
      ]
     },
     "metadata": {},
     "output_type": "display_data"
    },
    {
     "name": "stdout",
     "output_type": "stream",
     "text": [
      "validation_loss on proxy = 0.4959\n",
      "validation_accuracy on proxy = 84.93%\n",
      "Saved at epoch 2\n",
      "validation_loss on true ds = 1.2455\n",
      "validation_accuracy on true ds = 56.92%\n"
     ]
    },
    {
     "data": {
      "application/vnd.jupyter.widget-view+json": {
       "model_id": "88ecec53793745c2bd732a31f4d4ada8",
       "version_major": 2,
       "version_minor": 0
      },
      "text/plain": [
       "  0%|          | 0/820 [00:00<?, ?it/s]"
      ]
     },
     "metadata": {},
     "output_type": "display_data"
    },
    {
     "name": "stdout",
     "output_type": "stream",
     "text": [
      "validation_loss on proxy = 0.4953\n",
      "validation_accuracy on proxy = 85.14%\n",
      "Saved at epoch 3\n",
      "validation_loss on true ds = 1.2372\n",
      "validation_accuracy on true ds = 57.42%\n"
     ]
    },
    {
     "data": {
      "application/vnd.jupyter.widget-view+json": {
       "model_id": "a3c2b9c4d81346bfa2ee2b1a300ed9c1",
       "version_major": 2,
       "version_minor": 0
      },
      "text/plain": [
       "  0%|          | 0/820 [00:00<?, ?it/s]"
      ]
     },
     "metadata": {},
     "output_type": "display_data"
    },
    {
     "name": "stdout",
     "output_type": "stream",
     "text": [
      "validation_loss on proxy = 0.4853\n",
      "validation_accuracy on proxy = 85.23%\n",
      "Saved at epoch 4\n",
      "validation_loss on true ds = 1.1187\n",
      "validation_accuracy on true ds = 61.13%\n"
     ]
    },
    {
     "data": {
      "application/vnd.jupyter.widget-view+json": {
       "model_id": "6e0f0d88033541b694e55fbaee464a33",
       "version_major": 2,
       "version_minor": 0
      },
      "text/plain": [
       "  0%|          | 0/820 [00:00<?, ?it/s]"
      ]
     },
     "metadata": {},
     "output_type": "display_data"
    },
    {
     "name": "stdout",
     "output_type": "stream",
     "text": [
      "validation_loss on proxy = 0.5089\n",
      "validation_accuracy on proxy = 85.32%\n",
      "Saved at epoch 5\n",
      "validation_loss on true ds = 1.2482\n",
      "validation_accuracy on true ds = 58.78%\n"
     ]
    },
    {
     "data": {
      "application/vnd.jupyter.widget-view+json": {
       "model_id": "9fa921a16f0948c7936cc212ef194cba",
       "version_major": 2,
       "version_minor": 0
      },
      "text/plain": [
       "  0%|          | 0/820 [00:00<?, ?it/s]"
      ]
     },
     "metadata": {},
     "output_type": "display_data"
    },
    {
     "name": "stdout",
     "output_type": "stream",
     "text": [
      "validation_loss on proxy = 0.4756\n",
      "validation_accuracy on proxy = 85.60%\n",
      "Saved at epoch 6\n",
      "validation_loss on true ds = 1.0728\n",
      "validation_accuracy on true ds = 62.46%\n"
     ]
    },
    {
     "data": {
      "application/vnd.jupyter.widget-view+json": {
       "model_id": "d9602a9047de40699a7f412ff769173c",
       "version_major": 2,
       "version_minor": 0
      },
      "text/plain": [
       "  0%|          | 0/820 [00:00<?, ?it/s]"
      ]
     },
     "metadata": {},
     "output_type": "display_data"
    },
    {
     "name": "stdout",
     "output_type": "stream",
     "text": [
      "validation_loss on proxy = 0.4660\n",
      "validation_accuracy on proxy = 86.36%\n",
      "Saved at epoch 7\n",
      "validation_loss on true ds = 1.0722\n",
      "validation_accuracy on true ds = 62.86%\n"
     ]
    },
    {
     "data": {
      "application/vnd.jupyter.widget-view+json": {
       "model_id": "ce3cbe4a54384d45ab9dc7412dc52aa0",
       "version_major": 2,
       "version_minor": 0
      },
      "text/plain": [
       "  0%|          | 0/820 [00:00<?, ?it/s]"
      ]
     },
     "metadata": {},
     "output_type": "display_data"
    },
    {
     "name": "stdout",
     "output_type": "stream",
     "text": [
      "validation_loss on proxy = 0.4495\n",
      "validation_accuracy on proxy = 86.54%\n",
      "Saved at epoch 8\n",
      "validation_loss on true ds = 1.0697\n",
      "validation_accuracy on true ds = 63.15%\n"
     ]
    },
    {
     "data": {
      "application/vnd.jupyter.widget-view+json": {
       "model_id": "9081394ee5574fa09f0339d79b83b56b",
       "version_major": 2,
       "version_minor": 0
      },
      "text/plain": [
       "  0%|          | 0/820 [00:00<?, ?it/s]"
      ]
     },
     "metadata": {},
     "output_type": "display_data"
    },
    {
     "name": "stdout",
     "output_type": "stream",
     "text": [
      "validation_loss on proxy = 0.4744\n",
      "validation_accuracy on proxy = 85.99%\n",
      "validation_loss on true ds = 1.1285\n",
      "validation_accuracy on true ds = 61.85%\n"
     ]
    },
    {
     "data": {
      "application/vnd.jupyter.widget-view+json": {
       "model_id": "520ba18dc3e041deb914df15ba1c28b5",
       "version_major": 2,
       "version_minor": 0
      },
      "text/plain": [
       "  0%|          | 0/820 [00:00<?, ?it/s]"
      ]
     },
     "metadata": {},
     "output_type": "display_data"
    },
    {
     "name": "stdout",
     "output_type": "stream",
     "text": [
      "validation_loss on proxy = 0.4795\n",
      "validation_accuracy on proxy = 85.84%\n",
      "validation_loss on true ds = 1.0972\n",
      "validation_accuracy on true ds = 62.22%\n"
     ]
    },
    {
     "data": {
      "application/vnd.jupyter.widget-view+json": {
       "model_id": "bbae4a678ec8439bb381c465d025f9c9",
       "version_major": 2,
       "version_minor": 0
      },
      "text/plain": [
       "  0%|          | 0/820 [00:00<?, ?it/s]"
      ]
     },
     "metadata": {},
     "output_type": "display_data"
    },
    {
     "name": "stdout",
     "output_type": "stream",
     "text": [
      "validation_loss on proxy = 0.4634\n",
      "validation_accuracy on proxy = 85.78%\n",
      "validation_loss on true ds = 1.1061\n",
      "validation_accuracy on true ds = 62.58%\n"
     ]
    },
    {
     "data": {
      "application/vnd.jupyter.widget-view+json": {
       "model_id": "bb5bb43173aa4f2a87f2abb374a07aa2",
       "version_major": 2,
       "version_minor": 0
      },
      "text/plain": [
       "  0%|          | 0/820 [00:00<?, ?it/s]"
      ]
     },
     "metadata": {},
     "output_type": "display_data"
    },
    {
     "name": "stdout",
     "output_type": "stream",
     "text": [
      "validation_loss on proxy = 0.4468\n",
      "validation_accuracy on proxy = 85.93%\n",
      "validation_loss on true ds = 1.0097\n",
      "validation_accuracy on true ds = 64.97%\n"
     ]
    },
    {
     "data": {
      "application/vnd.jupyter.widget-view+json": {
       "model_id": "71e68ba94df5418db9190e8e24a6d520",
       "version_major": 2,
       "version_minor": 0
      },
      "text/plain": [
       "  0%|          | 0/820 [00:00<?, ?it/s]"
      ]
     },
     "metadata": {},
     "output_type": "display_data"
    },
    {
     "name": "stdout",
     "output_type": "stream",
     "text": [
      "validation_loss on proxy = 0.4441\n",
      "validation_accuracy on proxy = 86.33%\n",
      "validation_loss on true ds = 0.9950\n",
      "validation_accuracy on true ds = 65.88%\n"
     ]
    },
    {
     "data": {
      "application/vnd.jupyter.widget-view+json": {
       "model_id": "c837f6e047bc46f68a074cf5f8cbf35e",
       "version_major": 2,
       "version_minor": 0
      },
      "text/plain": [
       "  0%|          | 0/820 [00:00<?, ?it/s]"
      ]
     },
     "metadata": {},
     "output_type": "display_data"
    },
    {
     "name": "stdout",
     "output_type": "stream",
     "text": [
      "validation_loss on proxy = 0.4558\n",
      "validation_accuracy on proxy = 86.30%\n",
      "validation_loss on true ds = 0.9750\n",
      "validation_accuracy on true ds = 66.70%\n"
     ]
    },
    {
     "data": {
      "application/vnd.jupyter.widget-view+json": {
       "model_id": "b6605938f601487d844c539f6c9f5fff",
       "version_major": 2,
       "version_minor": 0
      },
      "text/plain": [
       "  0%|          | 0/820 [00:00<?, ?it/s]"
      ]
     },
     "metadata": {},
     "output_type": "display_data"
    },
    {
     "name": "stdout",
     "output_type": "stream",
     "text": [
      "validation_loss on proxy = 0.4394\n",
      "validation_accuracy on proxy = 86.82%\n",
      "Saved at epoch 15\n",
      "validation_loss on true ds = 1.0959\n",
      "validation_accuracy on true ds = 62.87%\n"
     ]
    },
    {
     "data": {
      "application/vnd.jupyter.widget-view+json": {
       "model_id": "e7ac09ef7eb349b48c460b5619cf04c2",
       "version_major": 2,
       "version_minor": 0
      },
      "text/plain": [
       "  0%|          | 0/820 [00:00<?, ?it/s]"
      ]
     },
     "metadata": {},
     "output_type": "display_data"
    },
    {
     "name": "stdout",
     "output_type": "stream",
     "text": [
      "validation_loss on proxy = 0.4575\n",
      "validation_accuracy on proxy = 86.36%\n",
      "validation_loss on true ds = 0.9918\n",
      "validation_accuracy on true ds = 66.33%\n"
     ]
    },
    {
     "data": {
      "application/vnd.jupyter.widget-view+json": {
       "model_id": "d3f30a8b6559455c98d1b0199f81318e",
       "version_major": 2,
       "version_minor": 0
      },
      "text/plain": [
       "  0%|          | 0/820 [00:00<?, ?it/s]"
      ]
     },
     "metadata": {},
     "output_type": "display_data"
    },
    {
     "name": "stdout",
     "output_type": "stream",
     "text": [
      "validation_loss on proxy = 0.4293\n",
      "validation_accuracy on proxy = 86.60%\n",
      "validation_loss on true ds = 0.9745\n",
      "validation_accuracy on true ds = 66.28%\n"
     ]
    },
    {
     "data": {
      "application/vnd.jupyter.widget-view+json": {
       "model_id": "d3657c75deaa4945b2326213ee4d78bf",
       "version_major": 2,
       "version_minor": 0
      },
      "text/plain": [
       "  0%|          | 0/820 [00:00<?, ?it/s]"
      ]
     },
     "metadata": {},
     "output_type": "display_data"
    },
    {
     "name": "stdout",
     "output_type": "stream",
     "text": [
      "validation_loss on proxy = 0.4348\n",
      "validation_accuracy on proxy = 86.60%\n",
      "validation_loss on true ds = 0.9598\n",
      "validation_accuracy on true ds = 66.89%\n"
     ]
    },
    {
     "data": {
      "application/vnd.jupyter.widget-view+json": {
       "model_id": "39766b2afa924d9f937ec974e5bc75f5",
       "version_major": 2,
       "version_minor": 0
      },
      "text/plain": [
       "  0%|          | 0/820 [00:00<?, ?it/s]"
      ]
     },
     "metadata": {},
     "output_type": "display_data"
    },
    {
     "name": "stdout",
     "output_type": "stream",
     "text": [
      "validation_loss on proxy = 0.4366\n",
      "validation_accuracy on proxy = 86.08%\n",
      "validation_loss on true ds = 0.9645\n",
      "validation_accuracy on true ds = 66.65%\n"
     ]
    },
    {
     "data": {
      "application/vnd.jupyter.widget-view+json": {
       "model_id": "83ab39339d92466ca0c320d34a8bdae2",
       "version_major": 2,
       "version_minor": 0
      },
      "text/plain": [
       "  0%|          | 0/820 [00:00<?, ?it/s]"
      ]
     },
     "metadata": {},
     "output_type": "display_data"
    },
    {
     "name": "stdout",
     "output_type": "stream",
     "text": [
      "validation_loss on proxy = 0.4227\n",
      "validation_accuracy on proxy = 87.00%\n",
      "Saved at epoch 20\n",
      "validation_loss on true ds = 0.9500\n",
      "validation_accuracy on true ds = 66.82%\n"
     ]
    },
    {
     "data": {
      "application/vnd.jupyter.widget-view+json": {
       "model_id": "2b64e1e6bb3046d28d199d0ec66ff97a",
       "version_major": 2,
       "version_minor": 0
      },
      "text/plain": [
       "  0%|          | 0/820 [00:00<?, ?it/s]"
      ]
     },
     "metadata": {},
     "output_type": "display_data"
    },
    {
     "name": "stdout",
     "output_type": "stream",
     "text": [
      "validation_loss on proxy = 0.4437\n",
      "validation_accuracy on proxy = 86.79%\n",
      "validation_loss on true ds = 1.0229\n",
      "validation_accuracy on true ds = 65.07%\n"
     ]
    },
    {
     "data": {
      "application/vnd.jupyter.widget-view+json": {
       "model_id": "bc47e3166a7c46cda6c826d7cfdee770",
       "version_major": 2,
       "version_minor": 0
      },
      "text/plain": [
       "  0%|          | 0/820 [00:00<?, ?it/s]"
      ]
     },
     "metadata": {},
     "output_type": "display_data"
    },
    {
     "name": "stdout",
     "output_type": "stream",
     "text": [
      "validation_loss on proxy = 0.4258\n",
      "validation_accuracy on proxy = 86.48%\n",
      "validation_loss on true ds = 0.9471\n",
      "validation_accuracy on true ds = 67.46%\n"
     ]
    },
    {
     "data": {
      "application/vnd.jupyter.widget-view+json": {
       "model_id": "69d7bfa4f20c4b68ba257e451b28ab31",
       "version_major": 2,
       "version_minor": 0
      },
      "text/plain": [
       "  0%|          | 0/820 [00:00<?, ?it/s]"
      ]
     },
     "metadata": {},
     "output_type": "display_data"
    },
    {
     "name": "stdout",
     "output_type": "stream",
     "text": [
      "validation_loss on proxy = 0.4492\n",
      "validation_accuracy on proxy = 86.54%\n",
      "validation_loss on true ds = 0.9844\n",
      "validation_accuracy on true ds = 66.71%\n"
     ]
    },
    {
     "data": {
      "application/vnd.jupyter.widget-view+json": {
       "model_id": "cf8ea6a8dca646bd99182721007ade59",
       "version_major": 2,
       "version_minor": 0
      },
      "text/plain": [
       "  0%|          | 0/820 [00:00<?, ?it/s]"
      ]
     },
     "metadata": {},
     "output_type": "display_data"
    },
    {
     "name": "stdout",
     "output_type": "stream",
     "text": [
      "validation_loss on proxy = 0.4452\n",
      "validation_accuracy on proxy = 86.24%\n",
      "validation_loss on true ds = 0.9649\n",
      "validation_accuracy on true ds = 67.02%\n"
     ]
    },
    {
     "data": {
      "application/vnd.jupyter.widget-view+json": {
       "model_id": "473a3bea5c024e239e0d69d3b184bd0b",
       "version_major": 2,
       "version_minor": 0
      },
      "text/plain": [
       "  0%|          | 0/820 [00:00<?, ?it/s]"
      ]
     },
     "metadata": {},
     "output_type": "display_data"
    },
    {
     "name": "stdout",
     "output_type": "stream",
     "text": [
      "validation_loss on proxy = 0.4465\n",
      "validation_accuracy on proxy = 86.88%\n",
      "validation_loss on true ds = 0.9356\n",
      "validation_accuracy on true ds = 67.50%\n"
     ]
    },
    {
     "data": {
      "application/vnd.jupyter.widget-view+json": {
       "model_id": "9550bd3f5db24650bd06e113f8023c02",
       "version_major": 2,
       "version_minor": 0
      },
      "text/plain": [
       "  0%|          | 0/820 [00:00<?, ?it/s]"
      ]
     },
     "metadata": {},
     "output_type": "display_data"
    },
    {
     "name": "stdout",
     "output_type": "stream",
     "text": [
      "validation_loss on proxy = 0.4328\n",
      "validation_accuracy on proxy = 86.85%\n",
      "validation_loss on true ds = 0.9488\n",
      "validation_accuracy on true ds = 68.01%\n"
     ]
    },
    {
     "data": {
      "application/vnd.jupyter.widget-view+json": {
       "model_id": "67802ff82f254f5e9bbd0c8f79d423a8",
       "version_major": 2,
       "version_minor": 0
      },
      "text/plain": [
       "  0%|          | 0/820 [00:00<?, ?it/s]"
      ]
     },
     "metadata": {},
     "output_type": "display_data"
    },
    {
     "name": "stdout",
     "output_type": "stream",
     "text": [
      "validation_loss on proxy = 0.4334\n",
      "validation_accuracy on proxy = 86.45%\n",
      "validation_loss on true ds = 0.9477\n",
      "validation_accuracy on true ds = 67.19%\n"
     ]
    },
    {
     "data": {
      "application/vnd.jupyter.widget-view+json": {
       "model_id": "a9f30e04764d4858af904962cb9f9769",
       "version_major": 2,
       "version_minor": 0
      },
      "text/plain": [
       "  0%|          | 0/820 [00:00<?, ?it/s]"
      ]
     },
     "metadata": {},
     "output_type": "display_data"
    },
    {
     "name": "stdout",
     "output_type": "stream",
     "text": [
      "validation_loss on proxy = 0.4502\n",
      "validation_accuracy on proxy = 86.12%\n",
      "validation_loss on true ds = 0.9721\n",
      "validation_accuracy on true ds = 66.97%\n"
     ]
    },
    {
     "data": {
      "application/vnd.jupyter.widget-view+json": {
       "model_id": "114c07c175e04d74a5f19625818716e7",
       "version_major": 2,
       "version_minor": 0
      },
      "text/plain": [
       "  0%|          | 0/820 [00:00<?, ?it/s]"
      ]
     },
     "metadata": {},
     "output_type": "display_data"
    },
    {
     "name": "stdout",
     "output_type": "stream",
     "text": [
      "validation_loss on proxy = 0.4362\n",
      "validation_accuracy on proxy = 86.79%\n",
      "validation_loss on true ds = 0.9570\n",
      "validation_accuracy on true ds = 67.55%\n"
     ]
    },
    {
     "data": {
      "application/vnd.jupyter.widget-view+json": {
       "model_id": "7b56cc67c7a54f45932e754a9316adde",
       "version_major": 2,
       "version_minor": 0
      },
      "text/plain": [
       "  0%|          | 0/820 [00:00<?, ?it/s]"
      ]
     },
     "metadata": {},
     "output_type": "display_data"
    },
    {
     "name": "stdout",
     "output_type": "stream",
     "text": [
      "validation_loss on proxy = 0.4534\n",
      "validation_accuracy on proxy = 86.63%\n",
      "validation_loss on true ds = 0.9612\n",
      "validation_accuracy on true ds = 67.62%\n"
     ]
    },
    {
     "data": {
      "application/vnd.jupyter.widget-view+json": {
       "model_id": "98a4dd235f494ab7b9da8783f4e7cb3e",
       "version_major": 2,
       "version_minor": 0
      },
      "text/plain": [
       "  0%|          | 0/820 [00:00<?, ?it/s]"
      ]
     },
     "metadata": {},
     "output_type": "display_data"
    },
    {
     "name": "stdout",
     "output_type": "stream",
     "text": [
      "validation_loss on proxy = 0.4267\n",
      "validation_accuracy on proxy = 87.03%\n",
      "Saved at epoch 31\n",
      "validation_loss on true ds = 0.9401\n",
      "validation_accuracy on true ds = 68.48%\n"
     ]
    },
    {
     "data": {
      "application/vnd.jupyter.widget-view+json": {
       "model_id": "e3eaa9026dc44a0fab333d219db65422",
       "version_major": 2,
       "version_minor": 0
      },
      "text/plain": [
       "  0%|          | 0/820 [00:00<?, ?it/s]"
      ]
     },
     "metadata": {},
     "output_type": "display_data"
    },
    {
     "name": "stdout",
     "output_type": "stream",
     "text": [
      "validation_loss on proxy = 0.4418\n",
      "validation_accuracy on proxy = 86.60%\n",
      "validation_loss on true ds = 0.9360\n",
      "validation_accuracy on true ds = 68.90%\n"
     ]
    },
    {
     "data": {
      "application/vnd.jupyter.widget-view+json": {
       "model_id": "fd09ef35acdd40fcb927e5e70a3f2279",
       "version_major": 2,
       "version_minor": 0
      },
      "text/plain": [
       "  0%|          | 0/820 [00:00<?, ?it/s]"
      ]
     },
     "metadata": {},
     "output_type": "display_data"
    },
    {
     "name": "stdout",
     "output_type": "stream",
     "text": [
      "validation_loss on proxy = 0.4356\n",
      "validation_accuracy on proxy = 87.09%\n",
      "Saved at epoch 33\n",
      "validation_loss on true ds = 0.9236\n",
      "validation_accuracy on true ds = 68.19%\n"
     ]
    },
    {
     "data": {
      "application/vnd.jupyter.widget-view+json": {
       "model_id": "3b2018cb060e41538555b46da7ec1b65",
       "version_major": 2,
       "version_minor": 0
      },
      "text/plain": [
       "  0%|          | 0/820 [00:00<?, ?it/s]"
      ]
     },
     "metadata": {},
     "output_type": "display_data"
    },
    {
     "name": "stdout",
     "output_type": "stream",
     "text": [
      "validation_loss on proxy = 0.4446\n",
      "validation_accuracy on proxy = 86.76%\n",
      "validation_loss on true ds = 0.9071\n",
      "validation_accuracy on true ds = 69.82%\n"
     ]
    },
    {
     "data": {
      "application/vnd.jupyter.widget-view+json": {
       "model_id": "b68a08d00ae7487bb71fa0cfb62d4261",
       "version_major": 2,
       "version_minor": 0
      },
      "text/plain": [
       "  0%|          | 0/820 [00:00<?, ?it/s]"
      ]
     },
     "metadata": {},
     "output_type": "display_data"
    },
    {
     "name": "stdout",
     "output_type": "stream",
     "text": [
      "validation_loss on proxy = 0.4375\n",
      "validation_accuracy on proxy = 87.00%\n",
      "validation_loss on true ds = 0.9576\n",
      "validation_accuracy on true ds = 67.92%\n"
     ]
    },
    {
     "data": {
      "application/vnd.jupyter.widget-view+json": {
       "model_id": "9a25f9c678334164b041f5ca9a58d10f",
       "version_major": 2,
       "version_minor": 0
      },
      "text/plain": [
       "  0%|          | 0/820 [00:00<?, ?it/s]"
      ]
     },
     "metadata": {},
     "output_type": "display_data"
    },
    {
     "name": "stdout",
     "output_type": "stream",
     "text": [
      "validation_loss on proxy = 0.4364\n",
      "validation_accuracy on proxy = 86.54%\n",
      "validation_loss on true ds = 0.9057\n",
      "validation_accuracy on true ds = 69.81%\n"
     ]
    },
    {
     "data": {
      "application/vnd.jupyter.widget-view+json": {
       "model_id": "1dc8337a0a234c4ea78e972346780982",
       "version_major": 2,
       "version_minor": 0
      },
      "text/plain": [
       "  0%|          | 0/820 [00:00<?, ?it/s]"
      ]
     },
     "metadata": {},
     "output_type": "display_data"
    },
    {
     "name": "stdout",
     "output_type": "stream",
     "text": [
      "validation_loss on proxy = 0.4463\n",
      "validation_accuracy on proxy = 86.45%\n",
      "validation_loss on true ds = 0.9045\n",
      "validation_accuracy on true ds = 70.14%\n"
     ]
    },
    {
     "data": {
      "application/vnd.jupyter.widget-view+json": {
       "model_id": "fd525cb99dc64603ad67ce24efa833fb",
       "version_major": 2,
       "version_minor": 0
      },
      "text/plain": [
       "  0%|          | 0/820 [00:00<?, ?it/s]"
      ]
     },
     "metadata": {},
     "output_type": "display_data"
    },
    {
     "name": "stdout",
     "output_type": "stream",
     "text": [
      "validation_loss on proxy = 0.4514\n",
      "validation_accuracy on proxy = 86.54%\n",
      "validation_loss on true ds = 0.9678\n",
      "validation_accuracy on true ds = 67.40%\n"
     ]
    },
    {
     "data": {
      "application/vnd.jupyter.widget-view+json": {
       "model_id": "cb7f77756932489fab0bdf26e050ad5f",
       "version_major": 2,
       "version_minor": 0
      },
      "text/plain": [
       "  0%|          | 0/820 [00:00<?, ?it/s]"
      ]
     },
     "metadata": {},
     "output_type": "display_data"
    },
    {
     "name": "stdout",
     "output_type": "stream",
     "text": [
      "validation_loss on proxy = 0.4408\n",
      "validation_accuracy on proxy = 86.60%\n",
      "validation_loss on true ds = 0.9694\n",
      "validation_accuracy on true ds = 67.36%\n"
     ]
    },
    {
     "data": {
      "application/vnd.jupyter.widget-view+json": {
       "model_id": "60ce49e7f3904dcc820c4e1ccc77136c",
       "version_major": 2,
       "version_minor": 0
      },
      "text/plain": [
       "  0%|          | 0/820 [00:00<?, ?it/s]"
      ]
     },
     "metadata": {},
     "output_type": "display_data"
    },
    {
     "name": "stdout",
     "output_type": "stream",
     "text": [
      "validation_loss on proxy = 0.4406\n",
      "validation_accuracy on proxy = 86.54%\n",
      "validation_loss on true ds = 0.9650\n",
      "validation_accuracy on true ds = 67.03%\n"
     ]
    },
    {
     "data": {
      "application/vnd.jupyter.widget-view+json": {
       "model_id": "55950e43b6744e27b7eaeb13dcbab3f4",
       "version_major": 2,
       "version_minor": 0
      },
      "text/plain": [
       "  0%|          | 0/820 [00:00<?, ?it/s]"
      ]
     },
     "metadata": {},
     "output_type": "display_data"
    },
    {
     "name": "stdout",
     "output_type": "stream",
     "text": [
      "validation_loss on proxy = 0.4344\n",
      "validation_accuracy on proxy = 86.51%\n",
      "validation_loss on true ds = 0.9206\n",
      "validation_accuracy on true ds = 69.42%\n"
     ]
    },
    {
     "data": {
      "application/vnd.jupyter.widget-view+json": {
       "model_id": "7a4048f5c0794cc29e2f9a5e1f613b9b",
       "version_major": 2,
       "version_minor": 0
      },
      "text/plain": [
       "  0%|          | 0/820 [00:00<?, ?it/s]"
      ]
     },
     "metadata": {},
     "output_type": "display_data"
    },
    {
     "name": "stdout",
     "output_type": "stream",
     "text": [
      "validation_loss on proxy = 0.4497\n",
      "validation_accuracy on proxy = 86.54%\n",
      "validation_loss on true ds = 0.9085\n",
      "validation_accuracy on true ds = 69.82%\n"
     ]
    },
    {
     "data": {
      "application/vnd.jupyter.widget-view+json": {
       "model_id": "97949c2202284f45affc614a4c1671ae",
       "version_major": 2,
       "version_minor": 0
      },
      "text/plain": [
       "  0%|          | 0/820 [00:00<?, ?it/s]"
      ]
     },
     "metadata": {},
     "output_type": "display_data"
    },
    {
     "name": "stdout",
     "output_type": "stream",
     "text": [
      "validation_loss on proxy = 0.4435\n",
      "validation_accuracy on proxy = 86.39%\n",
      "validation_loss on true ds = 0.9813\n",
      "validation_accuracy on true ds = 68.14%\n"
     ]
    },
    {
     "data": {
      "application/vnd.jupyter.widget-view+json": {
       "model_id": "4005405ae34f439e8790d367721ef30d",
       "version_major": 2,
       "version_minor": 0
      },
      "text/plain": [
       "  0%|          | 0/820 [00:00<?, ?it/s]"
      ]
     },
     "metadata": {},
     "output_type": "display_data"
    },
    {
     "name": "stdout",
     "output_type": "stream",
     "text": [
      "validation_loss on proxy = 0.4489\n",
      "validation_accuracy on proxy = 86.33%\n",
      "validation_loss on true ds = 0.9160\n",
      "validation_accuracy on true ds = 69.58%\n"
     ]
    },
    {
     "data": {
      "application/vnd.jupyter.widget-view+json": {
       "model_id": "d8e23a44d1f3437489a6963881c9f1ec",
       "version_major": 2,
       "version_minor": 0
      },
      "text/plain": [
       "  0%|          | 0/820 [00:00<?, ?it/s]"
      ]
     },
     "metadata": {},
     "output_type": "display_data"
    },
    {
     "name": "stdout",
     "output_type": "stream",
     "text": [
      "validation_loss on proxy = 0.4281\n",
      "validation_accuracy on proxy = 87.00%\n",
      "validation_loss on true ds = 0.9156\n",
      "validation_accuracy on true ds = 69.23%\n"
     ]
    },
    {
     "data": {
      "application/vnd.jupyter.widget-view+json": {
       "model_id": "8751fd4bbbec4cdc81befac714a52781",
       "version_major": 2,
       "version_minor": 0
      },
      "text/plain": [
       "  0%|          | 0/820 [00:00<?, ?it/s]"
      ]
     },
     "metadata": {},
     "output_type": "display_data"
    },
    {
     "name": "stdout",
     "output_type": "stream",
     "text": [
      "validation_loss on proxy = 0.4441\n",
      "validation_accuracy on proxy = 86.48%\n",
      "validation_loss on true ds = 0.9290\n",
      "validation_accuracy on true ds = 69.12%\n"
     ]
    },
    {
     "data": {
      "application/vnd.jupyter.widget-view+json": {
       "model_id": "3659ce5362684b0f92cfdbc2c46e2248",
       "version_major": 2,
       "version_minor": 0
      },
      "text/plain": [
       "  0%|          | 0/820 [00:00<?, ?it/s]"
      ]
     },
     "metadata": {},
     "output_type": "display_data"
    },
    {
     "name": "stdout",
     "output_type": "stream",
     "text": [
      "validation_loss on proxy = 0.4336\n",
      "validation_accuracy on proxy = 86.91%\n",
      "validation_loss on true ds = 0.9351\n",
      "validation_accuracy on true ds = 68.57%\n"
     ]
    },
    {
     "data": {
      "application/vnd.jupyter.widget-view+json": {
       "model_id": "e90e5e0cea3146d38d5f7d6bc1976b83",
       "version_major": 2,
       "version_minor": 0
      },
      "text/plain": [
       "  0%|          | 0/820 [00:00<?, ?it/s]"
      ]
     },
     "metadata": {},
     "output_type": "display_data"
    },
    {
     "name": "stdout",
     "output_type": "stream",
     "text": [
      "validation_loss on proxy = 0.4405\n",
      "validation_accuracy on proxy = 86.79%\n",
      "validation_loss on true ds = 0.9546\n",
      "validation_accuracy on true ds = 68.79%\n"
     ]
    },
    {
     "data": {
      "application/vnd.jupyter.widget-view+json": {
       "model_id": "894cdbace9b84a5792bd655226570423",
       "version_major": 2,
       "version_minor": 0
      },
      "text/plain": [
       "  0%|          | 0/820 [00:00<?, ?it/s]"
      ]
     },
     "metadata": {},
     "output_type": "display_data"
    },
    {
     "name": "stdout",
     "output_type": "stream",
     "text": [
      "validation_loss on proxy = 0.4314\n",
      "validation_accuracy on proxy = 86.66%\n",
      "validation_loss on true ds = 0.9355\n",
      "validation_accuracy on true ds = 68.93%\n"
     ]
    },
    {
     "data": {
      "application/vnd.jupyter.widget-view+json": {
       "model_id": "13161053d3f14484aa9e904bda82123a",
       "version_major": 2,
       "version_minor": 0
      },
      "text/plain": [
       "  0%|          | 0/820 [00:00<?, ?it/s]"
      ]
     },
     "metadata": {},
     "output_type": "display_data"
    },
    {
     "name": "stdout",
     "output_type": "stream",
     "text": [
      "validation_loss on proxy = 0.4549\n",
      "validation_accuracy on proxy = 86.45%\n",
      "validation_loss on true ds = 0.9495\n",
      "validation_accuracy on true ds = 68.39%\n"
     ]
    },
    {
     "data": {
      "application/vnd.jupyter.widget-view+json": {
       "model_id": "c6cb5b79d3d9454f9b96850c00733d82",
       "version_major": 2,
       "version_minor": 0
      },
      "text/plain": [
       "  0%|          | 0/820 [00:00<?, ?it/s]"
      ]
     },
     "metadata": {},
     "output_type": "display_data"
    },
    {
     "name": "stdout",
     "output_type": "stream",
     "text": [
      "validation_loss on proxy = 0.4451\n",
      "validation_accuracy on proxy = 86.42%\n",
      "validation_loss on true ds = 0.9132\n",
      "validation_accuracy on true ds = 69.34%\n"
     ]
    },
    {
     "data": {
      "application/vnd.jupyter.widget-view+json": {
       "model_id": "6646606f057349ec8f27b887e4c996b3",
       "version_major": 2,
       "version_minor": 0
      },
      "text/plain": [
       "  0%|          | 0/820 [00:00<?, ?it/s]"
      ]
     },
     "metadata": {},
     "output_type": "display_data"
    },
    {
     "name": "stdout",
     "output_type": "stream",
     "text": [
      "validation_loss on proxy = 0.4476\n",
      "validation_accuracy on proxy = 86.51%\n",
      "validation_loss on true ds = 0.9127\n",
      "validation_accuracy on true ds = 69.50%\n"
     ]
    },
    {
     "data": {
      "application/vnd.jupyter.widget-view+json": {
       "model_id": "b83e5f8664fa462ba84928808ac63555",
       "version_major": 2,
       "version_minor": 0
      },
      "text/plain": [
       "  0%|          | 0/820 [00:00<?, ?it/s]"
      ]
     },
     "metadata": {},
     "output_type": "display_data"
    },
    {
     "name": "stdout",
     "output_type": "stream",
     "text": [
      "validation_loss on proxy = 0.4322\n",
      "validation_accuracy on proxy = 86.97%\n",
      "validation_loss on true ds = 0.9206\n",
      "validation_accuracy on true ds = 69.31%\n"
     ]
    },
    {
     "data": {
      "application/vnd.jupyter.widget-view+json": {
       "model_id": "3dda7385c9414b5399e5cc927fb26523",
       "version_major": 2,
       "version_minor": 0
      },
      "text/plain": [
       "  0%|          | 0/820 [00:00<?, ?it/s]"
      ]
     },
     "metadata": {},
     "output_type": "display_data"
    },
    {
     "name": "stdout",
     "output_type": "stream",
     "text": [
      "validation_loss on proxy = 0.4439\n",
      "validation_accuracy on proxy = 86.79%\n",
      "validation_loss on true ds = 0.9096\n",
      "validation_accuracy on true ds = 69.79%\n"
     ]
    },
    {
     "data": {
      "application/vnd.jupyter.widget-view+json": {
       "model_id": "fb5a51a2ae25407290767a9b36fbc9f3",
       "version_major": 2,
       "version_minor": 0
      },
      "text/plain": [
       "  0%|          | 0/820 [00:00<?, ?it/s]"
      ]
     },
     "metadata": {},
     "output_type": "display_data"
    },
    {
     "name": "stdout",
     "output_type": "stream",
     "text": [
      "validation_loss on proxy = 0.4548\n",
      "validation_accuracy on proxy = 86.18%\n",
      "validation_loss on true ds = 0.9626\n",
      "validation_accuracy on true ds = 68.44%\n"
     ]
    },
    {
     "data": {
      "application/vnd.jupyter.widget-view+json": {
       "model_id": "1672d059d9ad4fc685877f42a6bec0a8",
       "version_major": 2,
       "version_minor": 0
      },
      "text/plain": [
       "  0%|          | 0/820 [00:00<?, ?it/s]"
      ]
     },
     "metadata": {},
     "output_type": "display_data"
    },
    {
     "name": "stdout",
     "output_type": "stream",
     "text": [
      "validation_loss on proxy = 0.4586\n",
      "validation_accuracy on proxy = 86.76%\n",
      "validation_loss on true ds = 0.9714\n",
      "validation_accuracy on true ds = 67.99%\n"
     ]
    },
    {
     "data": {
      "application/vnd.jupyter.widget-view+json": {
       "model_id": "713b1a9ef8a84297ac8b15af6136f884",
       "version_major": 2,
       "version_minor": 0
      },
      "text/plain": [
       "  0%|          | 0/820 [00:00<?, ?it/s]"
      ]
     },
     "metadata": {},
     "output_type": "display_data"
    },
    {
     "name": "stdout",
     "output_type": "stream",
     "text": [
      "validation_loss on proxy = 0.4548\n",
      "validation_accuracy on proxy = 86.54%\n",
      "validation_loss on true ds = 0.9203\n",
      "validation_accuracy on true ds = 69.22%\n"
     ]
    },
    {
     "data": {
      "application/vnd.jupyter.widget-view+json": {
       "model_id": "282ab74384dd44e1b5a9704c22ef5f46",
       "version_major": 2,
       "version_minor": 0
      },
      "text/plain": [
       "  0%|          | 0/820 [00:00<?, ?it/s]"
      ]
     },
     "metadata": {},
     "output_type": "display_data"
    },
    {
     "name": "stdout",
     "output_type": "stream",
     "text": [
      "validation_loss on proxy = 0.4495\n",
      "validation_accuracy on proxy = 86.12%\n",
      "validation_loss on true ds = 0.9675\n",
      "validation_accuracy on true ds = 68.55%\n"
     ]
    },
    {
     "data": {
      "application/vnd.jupyter.widget-view+json": {
       "model_id": "bc7f6f6d44a747e8af352b150d9eae5c",
       "version_major": 2,
       "version_minor": 0
      },
      "text/plain": [
       "  0%|          | 0/820 [00:00<?, ?it/s]"
      ]
     },
     "metadata": {},
     "output_type": "display_data"
    },
    {
     "name": "stdout",
     "output_type": "stream",
     "text": [
      "validation_loss on proxy = 0.4500\n",
      "validation_accuracy on proxy = 86.66%\n",
      "validation_loss on true ds = 0.9296\n",
      "validation_accuracy on true ds = 69.51%\n"
     ]
    },
    {
     "data": {
      "application/vnd.jupyter.widget-view+json": {
       "model_id": "449095125cc74ed89025dd6dbd5179a4",
       "version_major": 2,
       "version_minor": 0
      },
      "text/plain": [
       "  0%|          | 0/820 [00:00<?, ?it/s]"
      ]
     },
     "metadata": {},
     "output_type": "display_data"
    },
    {
     "name": "stdout",
     "output_type": "stream",
     "text": [
      "validation_loss on proxy = 0.4546\n",
      "validation_accuracy on proxy = 86.91%\n",
      "validation_loss on true ds = 0.9667\n",
      "validation_accuracy on true ds = 69.05%\n"
     ]
    },
    {
     "data": {
      "application/vnd.jupyter.widget-view+json": {
       "model_id": "142604d026004cdc850688e6832d31e0",
       "version_major": 2,
       "version_minor": 0
      },
      "text/plain": [
       "  0%|          | 0/820 [00:00<?, ?it/s]"
      ]
     },
     "metadata": {},
     "output_type": "display_data"
    },
    {
     "name": "stdout",
     "output_type": "stream",
     "text": [
      "validation_loss on proxy = 0.4570\n",
      "validation_accuracy on proxy = 86.57%\n",
      "validation_loss on true ds = 0.9186\n",
      "validation_accuracy on true ds = 69.82%\n"
     ]
    },
    {
     "data": {
      "application/vnd.jupyter.widget-view+json": {
       "model_id": "b85f57c81010428cb7ea511f3d11fe3b",
       "version_major": 2,
       "version_minor": 0
      },
      "text/plain": [
       "  0%|          | 0/820 [00:00<?, ?it/s]"
      ]
     },
     "metadata": {},
     "output_type": "display_data"
    },
    {
     "name": "stdout",
     "output_type": "stream",
     "text": [
      "validation_loss on proxy = 0.4589\n",
      "validation_accuracy on proxy = 86.66%\n",
      "validation_loss on true ds = 0.9309\n",
      "validation_accuracy on true ds = 69.46%\n"
     ]
    },
    {
     "data": {
      "application/vnd.jupyter.widget-view+json": {
       "model_id": "fe23378d71ae4b9b9f194304008a24df",
       "version_major": 2,
       "version_minor": 0
      },
      "text/plain": [
       "  0%|          | 0/820 [00:00<?, ?it/s]"
      ]
     },
     "metadata": {},
     "output_type": "display_data"
    },
    {
     "name": "stdout",
     "output_type": "stream",
     "text": [
      "validation_loss on proxy = 0.4576\n",
      "validation_accuracy on proxy = 86.91%\n",
      "validation_loss on true ds = 0.9220\n",
      "validation_accuracy on true ds = 69.43%\n"
     ]
    },
    {
     "data": {
      "application/vnd.jupyter.widget-view+json": {
       "model_id": "83fd6598f1ca42a3a1f09402242a410a",
       "version_major": 2,
       "version_minor": 0
      },
      "text/plain": [
       "  0%|          | 0/820 [00:00<?, ?it/s]"
      ]
     },
     "metadata": {},
     "output_type": "display_data"
    },
    {
     "name": "stdout",
     "output_type": "stream",
     "text": [
      "validation_loss on proxy = 0.4660\n",
      "validation_accuracy on proxy = 86.08%\n",
      "validation_loss on true ds = 1.0159\n",
      "validation_accuracy on true ds = 67.43%\n"
     ]
    },
    {
     "data": {
      "application/vnd.jupyter.widget-view+json": {
       "model_id": "45bec298c8b54644a182de287368185a",
       "version_major": 2,
       "version_minor": 0
      },
      "text/plain": [
       "  0%|          | 0/820 [00:00<?, ?it/s]"
      ]
     },
     "metadata": {},
     "output_type": "display_data"
    },
    {
     "name": "stdout",
     "output_type": "stream",
     "text": [
      "validation_loss on proxy = 0.4639\n",
      "validation_accuracy on proxy = 87.09%\n",
      "validation_loss on true ds = 0.9931\n",
      "validation_accuracy on true ds = 67.69%\n"
     ]
    },
    {
     "data": {
      "application/vnd.jupyter.widget-view+json": {
       "model_id": "05a5a1b5b94e4dba8a6f6af90fa65fff",
       "version_major": 2,
       "version_minor": 0
      },
      "text/plain": [
       "  0%|          | 0/820 [00:00<?, ?it/s]"
      ]
     },
     "metadata": {},
     "output_type": "display_data"
    },
    {
     "name": "stdout",
     "output_type": "stream",
     "text": [
      "validation_loss on proxy = 0.4555\n",
      "validation_accuracy on proxy = 86.88%\n",
      "validation_loss on true ds = 0.9625\n",
      "validation_accuracy on true ds = 68.26%\n"
     ]
    },
    {
     "data": {
      "application/vnd.jupyter.widget-view+json": {
       "model_id": "56c3e09be76b406189a38142d1c39c21",
       "version_major": 2,
       "version_minor": 0
      },
      "text/plain": [
       "  0%|          | 0/820 [00:00<?, ?it/s]"
      ]
     },
     "metadata": {},
     "output_type": "display_data"
    },
    {
     "name": "stdout",
     "output_type": "stream",
     "text": [
      "validation_loss on proxy = 0.4545\n",
      "validation_accuracy on proxy = 86.39%\n",
      "validation_loss on true ds = 0.9435\n",
      "validation_accuracy on true ds = 68.98%\n"
     ]
    },
    {
     "data": {
      "application/vnd.jupyter.widget-view+json": {
       "model_id": "5d4da40ea86f446ab0df32426ff5d405",
       "version_major": 2,
       "version_minor": 0
      },
      "text/plain": [
       "  0%|          | 0/820 [00:00<?, ?it/s]"
      ]
     },
     "metadata": {},
     "output_type": "display_data"
    },
    {
     "name": "stdout",
     "output_type": "stream",
     "text": [
      "validation_loss on proxy = 0.4503\n",
      "validation_accuracy on proxy = 86.97%\n",
      "validation_loss on true ds = 0.9334\n",
      "validation_accuracy on true ds = 69.39%\n"
     ]
    },
    {
     "data": {
      "application/vnd.jupyter.widget-view+json": {
       "model_id": "d0c1509da90d40c29c208b48704d93d2",
       "version_major": 2,
       "version_minor": 0
      },
      "text/plain": [
       "  0%|          | 0/820 [00:00<?, ?it/s]"
      ]
     },
     "metadata": {},
     "output_type": "display_data"
    },
    {
     "name": "stdout",
     "output_type": "stream",
     "text": [
      "validation_loss on proxy = 0.4613\n",
      "validation_accuracy on proxy = 86.33%\n",
      "validation_loss on true ds = 0.9128\n",
      "validation_accuracy on true ds = 70.13%\n"
     ]
    },
    {
     "data": {
      "application/vnd.jupyter.widget-view+json": {
       "model_id": "b97ab6ab64a34bd29f7f64ba2876a478",
       "version_major": 2,
       "version_minor": 0
      },
      "text/plain": [
       "  0%|          | 0/820 [00:00<?, ?it/s]"
      ]
     },
     "metadata": {},
     "output_type": "display_data"
    },
    {
     "name": "stdout",
     "output_type": "stream",
     "text": [
      "validation_loss on proxy = 0.4656\n",
      "validation_accuracy on proxy = 86.42%\n",
      "validation_loss on true ds = 0.9372\n",
      "validation_accuracy on true ds = 69.20%\n"
     ]
    },
    {
     "data": {
      "application/vnd.jupyter.widget-view+json": {
       "model_id": "afa0337981294b93b73f6ba955710130",
       "version_major": 2,
       "version_minor": 0
      },
      "text/plain": [
       "  0%|          | 0/820 [00:00<?, ?it/s]"
      ]
     },
     "metadata": {},
     "output_type": "display_data"
    },
    {
     "name": "stdout",
     "output_type": "stream",
     "text": [
      "validation_loss on proxy = 0.4679\n",
      "validation_accuracy on proxy = 86.48%\n",
      "validation_loss on true ds = 0.9334\n",
      "validation_accuracy on true ds = 69.19%\n"
     ]
    },
    {
     "data": {
      "application/vnd.jupyter.widget-view+json": {
       "model_id": "69f4d847198c4c3f90957ca506a8578a",
       "version_major": 2,
       "version_minor": 0
      },
      "text/plain": [
       "  0%|          | 0/820 [00:00<?, ?it/s]"
      ]
     },
     "metadata": {},
     "output_type": "display_data"
    },
    {
     "name": "stdout",
     "output_type": "stream",
     "text": [
      "validation_loss on proxy = 0.4625\n",
      "validation_accuracy on proxy = 86.82%\n",
      "validation_loss on true ds = 0.9257\n",
      "validation_accuracy on true ds = 70.30%\n"
     ]
    },
    {
     "data": {
      "application/vnd.jupyter.widget-view+json": {
       "model_id": "b588866eabe24ad28d8fa804ea1902dd",
       "version_major": 2,
       "version_minor": 0
      },
      "text/plain": [
       "  0%|          | 0/820 [00:00<?, ?it/s]"
      ]
     },
     "metadata": {},
     "output_type": "display_data"
    },
    {
     "name": "stdout",
     "output_type": "stream",
     "text": [
      "validation_loss on proxy = 0.4824\n",
      "validation_accuracy on proxy = 87.12%\n",
      "Saved at epoch 73\n",
      "validation_loss on true ds = 0.9402\n",
      "validation_accuracy on true ds = 70.01%\n"
     ]
    },
    {
     "data": {
      "application/vnd.jupyter.widget-view+json": {
       "model_id": "81d538738a144b8bba351b57d8063144",
       "version_major": 2,
       "version_minor": 0
      },
      "text/plain": [
       "  0%|          | 0/820 [00:00<?, ?it/s]"
      ]
     },
     "metadata": {},
     "output_type": "display_data"
    },
    {
     "name": "stdout",
     "output_type": "stream",
     "text": [
      "validation_loss on proxy = 0.4517\n",
      "validation_accuracy on proxy = 87.03%\n",
      "validation_loss on true ds = 0.9174\n",
      "validation_accuracy on true ds = 70.36%\n"
     ]
    },
    {
     "data": {
      "application/vnd.jupyter.widget-view+json": {
       "model_id": "ee678aa4683b4c8ea213cb77f2584d28",
       "version_major": 2,
       "version_minor": 0
      },
      "text/plain": [
       "  0%|          | 0/820 [00:00<?, ?it/s]"
      ]
     },
     "metadata": {},
     "output_type": "display_data"
    },
    {
     "name": "stdout",
     "output_type": "stream",
     "text": [
      "validation_loss on proxy = 0.4522\n",
      "validation_accuracy on proxy = 87.18%\n",
      "Saved at epoch 75\n",
      "validation_loss on true ds = 0.9771\n",
      "validation_accuracy on true ds = 67.70%\n"
     ]
    },
    {
     "data": {
      "application/vnd.jupyter.widget-view+json": {
       "model_id": "d170ced91bc0431b944873b362765bfd",
       "version_major": 2,
       "version_minor": 0
      },
      "text/plain": [
       "  0%|          | 0/820 [00:00<?, ?it/s]"
      ]
     },
     "metadata": {},
     "output_type": "display_data"
    },
    {
     "name": "stdout",
     "output_type": "stream",
     "text": [
      "validation_loss on proxy = 0.4478\n",
      "validation_accuracy on proxy = 86.48%\n",
      "validation_loss on true ds = 0.9266\n",
      "validation_accuracy on true ds = 69.87%\n"
     ]
    },
    {
     "data": {
      "application/vnd.jupyter.widget-view+json": {
       "model_id": "a35f0c8f8b08479094ff87cad939bbbb",
       "version_major": 2,
       "version_minor": 0
      },
      "text/plain": [
       "  0%|          | 0/820 [00:00<?, ?it/s]"
      ]
     },
     "metadata": {},
     "output_type": "display_data"
    },
    {
     "name": "stdout",
     "output_type": "stream",
     "text": [
      "validation_loss on proxy = 0.4643\n",
      "validation_accuracy on proxy = 86.54%\n",
      "validation_loss on true ds = 0.9609\n",
      "validation_accuracy on true ds = 69.49%\n"
     ]
    },
    {
     "data": {
      "application/vnd.jupyter.widget-view+json": {
       "model_id": "1a446b52dba343cf882ad9fcd7dc8d8b",
       "version_major": 2,
       "version_minor": 0
      },
      "text/plain": [
       "  0%|          | 0/820 [00:00<?, ?it/s]"
      ]
     },
     "metadata": {},
     "output_type": "display_data"
    },
    {
     "name": "stdout",
     "output_type": "stream",
     "text": [
      "validation_loss on proxy = 0.4578\n",
      "validation_accuracy on proxy = 86.66%\n",
      "validation_loss on true ds = 1.0015\n",
      "validation_accuracy on true ds = 68.07%\n"
     ]
    },
    {
     "data": {
      "application/vnd.jupyter.widget-view+json": {
       "model_id": "e632855d8cb14cfcb5df9190332f3d16",
       "version_major": 2,
       "version_minor": 0
      },
      "text/plain": [
       "  0%|          | 0/820 [00:00<?, ?it/s]"
      ]
     },
     "metadata": {},
     "output_type": "display_data"
    },
    {
     "name": "stdout",
     "output_type": "stream",
     "text": [
      "validation_loss on proxy = 0.4576\n",
      "validation_accuracy on proxy = 87.00%\n",
      "validation_loss on true ds = 0.9271\n",
      "validation_accuracy on true ds = 69.84%\n"
     ]
    },
    {
     "data": {
      "application/vnd.jupyter.widget-view+json": {
       "model_id": "7dedcf2922f0456eb5b347b61a9677f5",
       "version_major": 2,
       "version_minor": 0
      },
      "text/plain": [
       "  0%|          | 0/820 [00:00<?, ?it/s]"
      ]
     },
     "metadata": {},
     "output_type": "display_data"
    },
    {
     "name": "stdout",
     "output_type": "stream",
     "text": [
      "validation_loss on proxy = 0.4596\n",
      "validation_accuracy on proxy = 86.73%\n",
      "validation_loss on true ds = 0.9398\n",
      "validation_accuracy on true ds = 69.79%\n"
     ]
    },
    {
     "data": {
      "application/vnd.jupyter.widget-view+json": {
       "model_id": "d9e693c85450425587a7df7b92ba282a",
       "version_major": 2,
       "version_minor": 0
      },
      "text/plain": [
       "  0%|          | 0/820 [00:00<?, ?it/s]"
      ]
     },
     "metadata": {},
     "output_type": "display_data"
    },
    {
     "name": "stdout",
     "output_type": "stream",
     "text": [
      "validation_loss on proxy = 0.4753\n",
      "validation_accuracy on proxy = 85.75%\n",
      "validation_loss on true ds = 0.9620\n",
      "validation_accuracy on true ds = 69.59%\n"
     ]
    },
    {
     "data": {
      "application/vnd.jupyter.widget-view+json": {
       "model_id": "4f4adf613fc44dea9d9121833b961d2d",
       "version_major": 2,
       "version_minor": 0
      },
      "text/plain": [
       "  0%|          | 0/820 [00:00<?, ?it/s]"
      ]
     },
     "metadata": {},
     "output_type": "display_data"
    },
    {
     "name": "stdout",
     "output_type": "stream",
     "text": [
      "validation_loss on proxy = 0.4630\n",
      "validation_accuracy on proxy = 86.70%\n",
      "validation_loss on true ds = 0.9612\n",
      "validation_accuracy on true ds = 69.01%\n"
     ]
    },
    {
     "data": {
      "application/vnd.jupyter.widget-view+json": {
       "model_id": "61a788fc768f45e1a28f95e3cc840825",
       "version_major": 2,
       "version_minor": 0
      },
      "text/plain": [
       "  0%|          | 0/820 [00:00<?, ?it/s]"
      ]
     },
     "metadata": {},
     "output_type": "display_data"
    },
    {
     "name": "stdout",
     "output_type": "stream",
     "text": [
      "validation_loss on proxy = 0.4689\n",
      "validation_accuracy on proxy = 86.57%\n",
      "validation_loss on true ds = 0.9713\n",
      "validation_accuracy on true ds = 68.86%\n"
     ]
    },
    {
     "data": {
      "application/vnd.jupyter.widget-view+json": {
       "model_id": "8ef7f38b8af74415b44149d6633aaa79",
       "version_major": 2,
       "version_minor": 0
      },
      "text/plain": [
       "  0%|          | 0/820 [00:00<?, ?it/s]"
      ]
     },
     "metadata": {},
     "output_type": "display_data"
    },
    {
     "name": "stdout",
     "output_type": "stream",
     "text": [
      "validation_loss on proxy = 0.4602\n",
      "validation_accuracy on proxy = 87.09%\n",
      "validation_loss on true ds = 0.8886\n",
      "validation_accuracy on true ds = 70.57%\n"
     ]
    },
    {
     "data": {
      "application/vnd.jupyter.widget-view+json": {
       "model_id": "a0b985d702d842e59e2e4129848af20b",
       "version_major": 2,
       "version_minor": 0
      },
      "text/plain": [
       "  0%|          | 0/820 [00:00<?, ?it/s]"
      ]
     },
     "metadata": {},
     "output_type": "display_data"
    },
    {
     "name": "stdout",
     "output_type": "stream",
     "text": [
      "validation_loss on proxy = 0.4605\n",
      "validation_accuracy on proxy = 87.15%\n",
      "validation_loss on true ds = 0.9398\n",
      "validation_accuracy on true ds = 69.65%\n"
     ]
    },
    {
     "data": {
      "application/vnd.jupyter.widget-view+json": {
       "model_id": "5e74167adfd04c5589ec030846dde131",
       "version_major": 2,
       "version_minor": 0
      },
      "text/plain": [
       "  0%|          | 0/820 [00:00<?, ?it/s]"
      ]
     },
     "metadata": {},
     "output_type": "display_data"
    },
    {
     "name": "stdout",
     "output_type": "stream",
     "text": [
      "validation_loss on proxy = 0.4550\n",
      "validation_accuracy on proxy = 86.51%\n",
      "validation_loss on true ds = 0.9690\n",
      "validation_accuracy on true ds = 69.34%\n"
     ]
    },
    {
     "data": {
      "application/vnd.jupyter.widget-view+json": {
       "model_id": "4e561889ae3b48488f25572ec2f5b279",
       "version_major": 2,
       "version_minor": 0
      },
      "text/plain": [
       "  0%|          | 0/820 [00:00<?, ?it/s]"
      ]
     },
     "metadata": {},
     "output_type": "display_data"
    },
    {
     "name": "stdout",
     "output_type": "stream",
     "text": [
      "validation_loss on proxy = 0.4586\n",
      "validation_accuracy on proxy = 86.88%\n",
      "validation_loss on true ds = 0.9070\n",
      "validation_accuracy on true ds = 70.33%\n"
     ]
    },
    {
     "data": {
      "application/vnd.jupyter.widget-view+json": {
       "model_id": "2c2aba8ee84048149f616b06c15510d1",
       "version_major": 2,
       "version_minor": 0
      },
      "text/plain": [
       "  0%|          | 0/820 [00:00<?, ?it/s]"
      ]
     },
     "metadata": {},
     "output_type": "display_data"
    },
    {
     "name": "stdout",
     "output_type": "stream",
     "text": [
      "validation_loss on proxy = 0.4613\n",
      "validation_accuracy on proxy = 86.70%\n",
      "validation_loss on true ds = 0.9343\n",
      "validation_accuracy on true ds = 70.00%\n"
     ]
    },
    {
     "data": {
      "application/vnd.jupyter.widget-view+json": {
       "model_id": "5c58bdcbd31f44bbaa3b502ef431db6e",
       "version_major": 2,
       "version_minor": 0
      },
      "text/plain": [
       "  0%|          | 0/820 [00:00<?, ?it/s]"
      ]
     },
     "metadata": {},
     "output_type": "display_data"
    },
    {
     "name": "stdout",
     "output_type": "stream",
     "text": [
      "validation_loss on proxy = 0.4708\n",
      "validation_accuracy on proxy = 86.45%\n",
      "validation_loss on true ds = 1.0382\n",
      "validation_accuracy on true ds = 67.31%\n"
     ]
    },
    {
     "data": {
      "application/vnd.jupyter.widget-view+json": {
       "model_id": "a06d71f65c8e4ca0bd221452cf3f7cf7",
       "version_major": 2,
       "version_minor": 0
      },
      "text/plain": [
       "  0%|          | 0/820 [00:00<?, ?it/s]"
      ]
     },
     "metadata": {},
     "output_type": "display_data"
    },
    {
     "name": "stdout",
     "output_type": "stream",
     "text": [
      "validation_loss on proxy = 0.4680\n",
      "validation_accuracy on proxy = 86.30%\n",
      "validation_loss on true ds = 0.9526\n",
      "validation_accuracy on true ds = 69.46%\n"
     ]
    },
    {
     "data": {
      "application/vnd.jupyter.widget-view+json": {
       "model_id": "60ec226649bd4cd19aa2cc3d8b76de29",
       "version_major": 2,
       "version_minor": 0
      },
      "text/plain": [
       "  0%|          | 0/820 [00:00<?, ?it/s]"
      ]
     },
     "metadata": {},
     "output_type": "display_data"
    },
    {
     "name": "stdout",
     "output_type": "stream",
     "text": [
      "validation_loss on proxy = 0.4528\n",
      "validation_accuracy on proxy = 86.94%\n",
      "validation_loss on true ds = 0.9171\n",
      "validation_accuracy on true ds = 70.01%\n"
     ]
    },
    {
     "data": {
      "application/vnd.jupyter.widget-view+json": {
       "model_id": "2b16d1a679d345b5b0bc1f9ebba51931",
       "version_major": 2,
       "version_minor": 0
      },
      "text/plain": [
       "  0%|          | 0/820 [00:00<?, ?it/s]"
      ]
     },
     "metadata": {},
     "output_type": "display_data"
    },
    {
     "name": "stdout",
     "output_type": "stream",
     "text": [
      "validation_loss on proxy = 0.4454\n",
      "validation_accuracy on proxy = 86.70%\n",
      "validation_loss on true ds = 0.9266\n",
      "validation_accuracy on true ds = 69.88%\n"
     ]
    },
    {
     "data": {
      "application/vnd.jupyter.widget-view+json": {
       "model_id": "5401cc9323894ff8aacebef290da43bb",
       "version_major": 2,
       "version_minor": 0
      },
      "text/plain": [
       "  0%|          | 0/820 [00:00<?, ?it/s]"
      ]
     },
     "metadata": {},
     "output_type": "display_data"
    },
    {
     "name": "stdout",
     "output_type": "stream",
     "text": [
      "validation_loss on proxy = 0.4657\n",
      "validation_accuracy on proxy = 86.79%\n",
      "validation_loss on true ds = 0.9289\n",
      "validation_accuracy on true ds = 69.88%\n"
     ]
    },
    {
     "data": {
      "application/vnd.jupyter.widget-view+json": {
       "model_id": "5b8f8ec9036945d7b5379b8cfa8a6bdb",
       "version_major": 2,
       "version_minor": 0
      },
      "text/plain": [
       "  0%|          | 0/820 [00:00<?, ?it/s]"
      ]
     },
     "metadata": {},
     "output_type": "display_data"
    },
    {
     "name": "stdout",
     "output_type": "stream",
     "text": [
      "validation_loss on proxy = 0.4777\n",
      "validation_accuracy on proxy = 86.27%\n",
      "validation_loss on true ds = 0.9758\n",
      "validation_accuracy on true ds = 68.91%\n"
     ]
    },
    {
     "data": {
      "application/vnd.jupyter.widget-view+json": {
       "model_id": "5ca02249ddf547c5854d4aaedac92205",
       "version_major": 2,
       "version_minor": 0
      },
      "text/plain": [
       "  0%|          | 0/820 [00:00<?, ?it/s]"
      ]
     },
     "metadata": {},
     "output_type": "display_data"
    },
    {
     "name": "stdout",
     "output_type": "stream",
     "text": [
      "validation_loss on proxy = 0.4603\n",
      "validation_accuracy on proxy = 86.45%\n",
      "validation_loss on true ds = 0.9255\n",
      "validation_accuracy on true ds = 70.66%\n"
     ]
    },
    {
     "data": {
      "application/vnd.jupyter.widget-view+json": {
       "model_id": "851e74d799e043fea5488eb0784bc995",
       "version_major": 2,
       "version_minor": 0
      },
      "text/plain": [
       "  0%|          | 0/820 [00:00<?, ?it/s]"
      ]
     },
     "metadata": {},
     "output_type": "display_data"
    },
    {
     "name": "stdout",
     "output_type": "stream",
     "text": [
      "validation_loss on proxy = 0.4709\n",
      "validation_accuracy on proxy = 87.18%\n",
      "validation_loss on true ds = 0.9306\n",
      "validation_accuracy on true ds = 69.95%\n"
     ]
    },
    {
     "data": {
      "application/vnd.jupyter.widget-view+json": {
       "model_id": "6a16e23265c14ac2a228178953dfe55e",
       "version_major": 2,
       "version_minor": 0
      },
      "text/plain": [
       "  0%|          | 0/820 [00:00<?, ?it/s]"
      ]
     },
     "metadata": {},
     "output_type": "display_data"
    },
    {
     "name": "stdout",
     "output_type": "stream",
     "text": [
      "validation_loss on proxy = 0.4630\n",
      "validation_accuracy on proxy = 86.42%\n",
      "validation_loss on true ds = 0.9896\n",
      "validation_accuracy on true ds = 68.24%\n"
     ]
    },
    {
     "data": {
      "application/vnd.jupyter.widget-view+json": {
       "model_id": "a150610280894132be0bd1a88114f389",
       "version_major": 2,
       "version_minor": 0
      },
      "text/plain": [
       "  0%|          | 0/820 [00:00<?, ?it/s]"
      ]
     },
     "metadata": {},
     "output_type": "display_data"
    },
    {
     "name": "stdout",
     "output_type": "stream",
     "text": [
      "validation_loss on proxy = 0.4593\n",
      "validation_accuracy on proxy = 86.54%\n",
      "validation_loss on true ds = 0.9707\n",
      "validation_accuracy on true ds = 68.66%\n"
     ]
    },
    {
     "data": {
      "application/vnd.jupyter.widget-view+json": {
       "model_id": "7265fc9f82e448d8949fd592679f2f93",
       "version_major": 2,
       "version_minor": 0
      },
      "text/plain": [
       "  0%|          | 0/820 [00:00<?, ?it/s]"
      ]
     },
     "metadata": {},
     "output_type": "display_data"
    },
    {
     "name": "stdout",
     "output_type": "stream",
     "text": [
      "validation_loss on proxy = 0.4792\n",
      "validation_accuracy on proxy = 85.32%\n",
      "validation_loss on true ds = 1.0519\n",
      "validation_accuracy on true ds = 67.45%\n"
     ]
    },
    {
     "data": {
      "application/vnd.jupyter.widget-view+json": {
       "model_id": "b523ba0c1dd14c5793f036a75dadc88c",
       "version_major": 2,
       "version_minor": 0
      },
      "text/plain": [
       "  0%|          | 0/820 [00:00<?, ?it/s]"
      ]
     },
     "metadata": {},
     "output_type": "display_data"
    },
    {
     "name": "stdout",
     "output_type": "stream",
     "text": [
      "validation_loss on proxy = 0.4626\n",
      "validation_accuracy on proxy = 86.82%\n",
      "validation_loss on true ds = 0.9287\n",
      "validation_accuracy on true ds = 70.17%\n"
     ]
    },
    {
     "data": {
      "application/vnd.jupyter.widget-view+json": {
       "model_id": "9535222f6cfe463b9575ccdcd1bd2727",
       "version_major": 2,
       "version_minor": 0
      },
      "text/plain": [
       "  0%|          | 0/820 [00:00<?, ?it/s]"
      ]
     },
     "metadata": {},
     "output_type": "display_data"
    },
    {
     "name": "stdout",
     "output_type": "stream",
     "text": [
      "validation_loss on proxy = 0.4797\n",
      "validation_accuracy on proxy = 85.84%\n",
      "validation_loss on true ds = 0.9744\n",
      "validation_accuracy on true ds = 68.50%\n",
      "We are at epoch 101\n"
     ]
    },
    {
     "data": {
      "text/plain": [
       "<All keys matched successfully>"
      ]
     },
     "execution_count": 11,
     "metadata": {},
     "output_type": "execute_result"
    }
   ],
   "source": [
    "early_stopping = EarlyStopping(tolerance=5, min_delta=0.05)\n",
    "# early_stopping = EarlyStopping(tolerance=5, min_delta=0.001)\n",
    "\n",
    "best_accuracy = 0.0\n",
    "# Training the student\n",
    "for epoch in range(EPOCHS):\n",
    "    # Define progress bar\n",
    "    loop = tqdm(enumerate(train_dataloader), total=len(train_dataloader))\n",
    "    \n",
    "    # Training loop\n",
    "    student_model.train()\n",
    "    training_loss_epoch = []\n",
    "    for batch_idx, (x,y,soft_y) in loop:\n",
    "        optimizer.zero_grad()\n",
    "        \n",
    "        x = x.to(device=device)\n",
    "        y = y.to(device=device)\n",
    "        soft_y = soft_y.to(device=device)\n",
    "        \n",
    "        # Forward pass\n",
    "        logits = student_model(x)\n",
    "        # Backward pass\n",
    "        loss = criterion(input=logits, target=soft_y)\n",
    "        training_loss_epoch.append(loss.item())\n",
    "        # Prob trb inlocuit criterionul, sa adaugi soft-labels\n",
    "        loss.backward()\n",
    "        \n",
    "        # Optimize\n",
    "        optimizer.step()\n",
    "        \n",
    "        # Update progress bar\n",
    "        loop.set_description(f'Epoch {epoch+1}/{EPOCHS}')\n",
    "        loop.set_postfix(training_loss=loss.item())\n",
    "    \n",
    "    # Validation loop on proxy validation dataset\n",
    "    student_model.eval()\n",
    "    validation_loss_epoch = []  \n",
    "    acc = 0\n",
    "    with torch.no_grad():\n",
    "        for x,y,_ in valid_dataloader:\n",
    "            x = x.to(device=device)\n",
    "            y = y.to(device=device)\n",
    "        \n",
    "            logits = student_model(x)\n",
    "            pred = softmax(logits, dim=1)\n",
    "            \n",
    "            confidence,y_hat = torch.max(pred, dim=1)\n",
    "            \n",
    "            loss = criterion(input=logits, target=y)\n",
    "            validation_loss_epoch.append(loss.item())\n",
    "            \n",
    "            acc += torch.sum(y_hat==y).item()\n",
    "        \n",
    "    loop.write(f'validation_loss on proxy = {sum(validation_loss_epoch)/len(validation_loss_epoch):.4f}')\n",
    "    loop.write(f'validation_accuracy on proxy = {100*acc/len(proxy_valid_dataset):.2f}%')\n",
    "\n",
    "    # Save best model\n",
    "    valid_proxy_acc = acc/len(proxy_valid_dataset)\n",
    "    if valid_proxy_acc > best_accuracy:\n",
    "        best_accuracy = valid_proxy_acc\n",
    "        torch.save(student_model.state_dict(), f'temp_models/{TEMP_BEST_MODEL}.pt')\n",
    "        print(f'Saved at epoch {epoch}')\n",
    "\n",
    "    if validate_on_trueds:\n",
    "        # Validation loop on proxy validation dataset\n",
    "        student_model.eval()\n",
    "        with torch.no_grad():\n",
    "            val_loss = []\n",
    "            acc = 0\n",
    "            for x,y in true_valid_ds:\n",
    "                x = x.to(device=device)\n",
    "                y = y.to(device=device)\n",
    "            \n",
    "                logits = student_model(x)\n",
    "                pred = softmax(logits, dim=1)\n",
    "                \n",
    "                confidence,y_hat = torch.max(pred, dim=1)\n",
    "                \n",
    "                loss = criterion(input=logits, target=y)\n",
    "                val_loss.append(loss.item())\n",
    "                \n",
    "                acc += torch.sum(y_hat==y).item()\n",
    "            \n",
    "        loop.write(f'validation_loss on true ds = {sum(val_loss)/len(val_loss):.4f}')\n",
    "        loop.write(f'validation_accuracy on true ds = {100*acc/len(true_dataset.test_dataset):.2f}%')\n",
    "\n",
    "        \n",
    "    early_stopping(sum(validation_loss_epoch)/len(validation_loss_epoch))\n",
    "    if early_stopping.early_stop:\n",
    "      print(f\"We are at epoch {epoch}\")\n",
    "      break\n",
    "\n",
    "student_model.load_state_dict(torch.load(f'temp_models/{TEMP_BEST_MODEL}.pt'))"
   ]
  },
  {
   "cell_type": "code",
   "execution_count": 12,
   "metadata": {
    "colab": {
     "base_uri": "https://localhost:8080/"
    },
    "id": "YN6xau7Lzk0K",
    "outputId": "85cb31f5-2fd3-4b8d-edab-8c23f25b9a40"
   },
   "outputs": [
    {
     "name": "stdout",
     "output_type": "stream",
     "text": [
      "Student with true dataset:\n",
      "test_loss = 0.9771\n",
      "test_accuracy = 67.70%\n",
      "\n",
      "Class airplane: correct_pred=645, actual=1000 => acc=64.50%, total_pred=849\n",
      "Class automobile: correct_pred=719, actual=1000 => acc=71.90%, total_pred=787\n",
      "Class bird: correct_pred=545, actual=1000 => acc=54.50%, total_pred=826\n",
      "Class cat: correct_pred=742, actual=1000 => acc=74.20%, total_pred=1886\n",
      "Class deer: correct_pred=554, actual=1000 => acc=55.40%, total_pred=743\n",
      "Class dog: correct_pred=633, actual=1000 => acc=63.30%, total_pred=1070\n",
      "Class frog: correct_pred=629, actual=1000 => acc=62.90%, total_pred=755\n",
      "Class horse: correct_pred=721, actual=1000 => acc=72.10%, total_pred=1037\n",
      "Class ship: correct_pred=774, actual=1000 => acc=77.40%, total_pred=994\n",
      "Class truck: correct_pred=808, actual=1000 => acc=80.80%, total_pred=1053\n"
     ]
    }
   ],
   "source": [
    "# Testing on CIFAR10 ground truth\n",
    "true_dataloader = true_dataset.test_dataloader()\n",
    "acc_per_class = {k:[0,0,0] for k,v in label_mapper_inv.items()}\n",
    "\n",
    "student_model.eval()\n",
    "student_model.return_feature_domain = False\n",
    "with torch.no_grad():\n",
    "    test_loss = []\n",
    "    acc = 0\n",
    "    for x,y in true_dataloader:\n",
    "        x = x.to(device=device)\n",
    "        y = y.to(device=device)\n",
    "    \n",
    "        logits = student_model(x)\n",
    "        pred = softmax(logits, dim=1)\n",
    "        \n",
    "        confidence,y_hat = torch.max(pred, dim=1)\n",
    "        \n",
    "        loss = criterion(input=logits, target=y)\n",
    "        test_loss.append(loss.item())\n",
    "        \n",
    "        acc += torch.sum(y_hat==y)\n",
    "        \n",
    "        for i in range(len(y)):\n",
    "            a = y[i].item()\n",
    "            p = y_hat[i].item()\n",
    "            \n",
    "            \n",
    "            if a == p:\n",
    "                acc_per_class[a][0] += 1 # correct predictions\n",
    "            acc_per_class[a][1] += 1     # total number \n",
    "            acc_per_class[p][2] += 1     # predictions of class\n",
    "        \n",
    "    print('Student with true dataset:')\n",
    "    print(f'test_loss = {sum(test_loss)/len(test_loss):.4f}')                  # 1.7439;  1.6199\n",
    "    print(f'test_accuracy = {100*acc/len(true_dataset.test_dataset):.2f}%')    # 46.09%;  48.57%\n",
    "    print()\n",
    "    \n",
    "for k,v in acc_per_class.items():\n",
    "    print(f'Class {label_mapper_inv[k]}: correct_pred={v[0]}, actual={v[1]} => acc={v[0]*100/v[1]:.2f}%, total_pred={v[2]}')"
   ]
  },
  {
   "cell_type": "code",
   "execution_count": 13,
   "metadata": {
    "colab": {
     "base_uri": "https://localhost:8080/"
    },
    "id": "c3nKp8h6GZa1",
    "outputId": "48b21216-dc14-4b6e-e232-ce727f9771fb"
   },
   "outputs": [
    {
     "name": "stdout",
     "output_type": "stream",
     "text": [
      "Student with true dataset:\n",
      "test_loss = 0.9482\n",
      "test_accuracy = 68.14%\n",
      "\n",
      "Class airplane: correct_pred=667, actual=1038 => acc=64.26%, total_pred=849\n",
      "Class automobile: correct_pred=726, actual=1002 => acc=72.46%, total_pred=787\n",
      "Class bird: correct_pred=550, actual=965 => acc=56.99%, total_pred=826\n",
      "Class cat: correct_pred=719, actual=938 => acc=76.65%, total_pred=1886\n",
      "Class deer: correct_pred=573, actual=1108 => acc=51.71%, total_pred=743\n",
      "Class dog: correct_pred=614, actual=913 => acc=67.25%, total_pred=1070\n",
      "Class frog: correct_pred=637, actual=996 => acc=63.96%, total_pred=755\n",
      "Class horse: correct_pred=748, actual=1063 => acc=70.37%, total_pred=1037\n",
      "Class ship: correct_pred=751, actual=939 => acc=79.98%, total_pred=994\n",
      "Class truck: correct_pred=829, actual=1038 => acc=79.87%, total_pred=1053\n"
     ]
    }
   ],
   "source": [
    "# Testing using labels predicted with teacher\n",
    "true_dataloader = true_dataset.test_dataloader()\n",
    "acc_per_class = {k:[0,0,0] for k,v in label_mapper_inv.items()}\n",
    "\n",
    "student_model.eval()\n",
    "teacher_model.eval()\n",
    "with torch.no_grad():\n",
    "    test_loss = []\n",
    "    acc = 0\n",
    "    for x,y in true_dataloader:\n",
    "        x = x.to(device=device)\n",
    "        # y = y.to(device=device)\n",
    "\n",
    "        teacher_pred = softmax(teacher_model(x), dim=1)\n",
    "        _, y = torch.max(teacher_pred, dim=1)\n",
    "    \n",
    "        logits = student_model(x)\n",
    "        pred = softmax(logits, dim=1)\n",
    "        \n",
    "        confidence,y_hat = torch.max(pred, dim=1)\n",
    "        \n",
    "        loss = criterion(input=logits, target=y)\n",
    "        test_loss.append(loss.item())\n",
    "        \n",
    "        acc += torch.sum(y_hat==y)\n",
    "        \n",
    "        for i in range(len(y)):\n",
    "            a = y[i].item()\n",
    "            p = y_hat[i].item()\n",
    "            \n",
    "            \n",
    "            if a == p:\n",
    "                acc_per_class[a][0] += 1\n",
    "            acc_per_class[a][1] += 1\n",
    "            acc_per_class[p][2] += 1\n",
    "        \n",
    "    print('Student with true dataset:')\n",
    "    print(f'test_loss = {sum(test_loss)/len(test_loss):.4f}')                  # 1.7439;  1.6199\n",
    "    print(f'test_accuracy = {100*acc/len(true_dataset.test_dataset):.2f}%')    # 46.09%;  48.57%\n",
    "    print()\n",
    "    \n",
    "for k,v in acc_per_class.items():\n",
    "    print(f'Class {label_mapper_inv[k]}: correct_pred={v[0]}, actual={v[1]} => acc={v[0]*100/v[1]:.2f}%, total_pred={v[2]}')"
   ]
  },
  {
   "cell_type": "code",
   "execution_count": 14,
   "metadata": {
    "id": "iEGZLvslraqe"
   },
   "outputs": [],
   "source": [
    "# Redefine training dataset and dataloader with no augmentation\n",
    "db_dataset_temp = ProxyDataset(train_images, train_labels, valid_transforms, False, train_soft_labels)\n",
    "images_db = []\n",
    "labels_db = []\n",
    "for i in range(len(db_dataset_temp)):\n",
    "    img, _, s_lbl = db_dataset_temp[i]\n",
    "    images_db.append(img)\n",
    "    labels_db.append(s_lbl)\n",
    "\n",
    "class DBDataset(Dataset):\n",
    "  def __init__(self, images_db, labels_db):\n",
    "    self.images_db = images_db\n",
    "    self.labels_db = labels_db\n",
    "\n",
    "  def __len__(self):\n",
    "    return len(self.images_db)\n",
    "\n",
    "  def __getitem__(self, idx):\n",
    "    image = self.images_db[idx]\n",
    "    label = self.labels_db[idx]\n",
    "\n",
    "    return image, label\n",
    "\n",
    "db_dataset = DBDataset(images_db=images_db, labels_db=labels_db)\n",
    "db_dataloader = DataLoader(db_dataset, batch_size=128, shuffle=False)\n",
    "\n",
    "proxy_unused_dataset  = ProxyDataset(filtered_images_unused,  filtered_labels_unused,  valid_transforms, True, filtered_soft_labels_unused)"
   ]
  },
  {
   "cell_type": "code",
   "execution_count": 15,
   "metadata": {},
   "outputs": [
    {
     "data": {
      "application/vnd.jupyter.widget-view+json": {
       "model_id": "6f282009f1574d5996fed5a7244cdf90",
       "version_major": 2,
       "version_minor": 0
      },
      "text/plain": [
       "  0%|          | 0/18432 [00:00<?, ?it/s]"
      ]
     },
     "metadata": {},
     "output_type": "display_data"
    },
    {
     "name": "stdout",
     "output_type": "stream",
     "text": [
      "Final score for k=3: 11737 / 18432, acc = 0.6367730034722222\n"
     ]
    }
   ],
   "source": [
    "k = 3\n",
    "estimations = []\n",
    "ground_truth = []\n",
    "\n",
    "for i in trange(len(proxy_unused_dataset)):\n",
    "  image, label, image_path, soft_label = proxy_unused_dataset[i]\n",
    "  image = image.to(device=device).unsqueeze(dim=0)\n",
    "\n",
    "  norm_unkwn = torch.sqrt(torch.sum(torch.square(image), dim=(-1,-2,-3), keepdim=True))\n",
    "\n",
    "  # Calculate distances\n",
    "  distances = torch.zeros(size=(len(db_dataset),), device=device)\n",
    "  for j, (img_db, _) in enumerate(db_dataloader):\n",
    "    img_db = img_db.to(device=device)\n",
    "    \n",
    "    norm_db = torch.sqrt(torch.sum(torch.square(img_db), dim=(-1,-2,-3), keepdim=True))\n",
    "\n",
    "    dot_prod = torch.tensordot(img_db, image, dims=[[-1,-2,-3],[-1,-2,-3]])\n",
    "    denominator = (norm_db * norm_unkwn).squeeze(dim=-1).squeeze(dim=-1)\n",
    "    cosine_similarities = (dot_prod / denominator).squeeze(dim=-1)\n",
    "    \n",
    "    distances[j*128:(j+1)*128] = cosine_similarities\n",
    "    \n",
    "  smallest_d, smallest_d_indices = torch.topk(distances, k=k, largest=True)\n",
    "  closest_slabels = torch.vstack([db_dataset[l][1] for l in smallest_d_indices])\n",
    "  \n",
    "  estimated_soft_label = closest_slabels.mean(0)\n",
    "  estimated_hard_label = estimated_soft_label.argmax().item()\n",
    "  \n",
    "  # print(f'Ground truth soft_label = {soft_label}')\n",
    "  # print(f'Estimated soft_label = {estimated_soft_label}')\n",
    "  # print(f'Ground truth hard_label = {label}')\n",
    "  # print(f'Estimated hard_label = {estimated_hard_label}')\n",
    "  \n",
    "  # print(f'Smallest 3 distances: {smallest_d}')\n",
    "  # print(f'Smallest 3 indices: {smallest_d_indices}')\n",
    "  # print(f'Closest 3 slabels = {closest_slabels}')\n",
    "  \n",
    "  train_images.append(image_path)\n",
    "  train_labels.append(estimated_hard_label)\n",
    "  train_soft_labels.append(estimated_soft_label)\n",
    "\n",
    "  estimations.append(estimated_hard_label)\n",
    "  ground_truth.append(label)\n",
    "\n",
    "correct = (np.array(estimations) == np.array(ground_truth)).sum()\n",
    "print(f'Final score for k={k}: {correct} / {len(estimations)}, acc = {correct/len(estimations)}')"
   ]
  },
  {
   "cell_type": "code",
   "execution_count": 16,
   "metadata": {},
   "outputs": [
    {
     "data": {
      "application/vnd.jupyter.widget-view+json": {
       "model_id": "2f25e18e955944ea844b69c0033f76e0",
       "version_major": 2,
       "version_minor": 0
      },
      "text/plain": [
       "  0%|          | 0/1396 [00:00<?, ?it/s]"
      ]
     },
     "metadata": {},
     "output_type": "display_data"
    },
    {
     "name": "stdout",
     "output_type": "stream",
     "text": [
      "validation_loss on proxy = 0.5018\n",
      "validation_accuracy on proxy = 86.45%\n",
      "Saved at epoch 0\n",
      "validation_loss on true ds = 1.0034\n",
      "validation_accuracy on true ds = 66.64%\n"
     ]
    },
    {
     "data": {
      "application/vnd.jupyter.widget-view+json": {
       "model_id": "9f24ecf46cc74c3d92d501fe9417bbd9",
       "version_major": 2,
       "version_minor": 0
      },
      "text/plain": [
       "  0%|          | 0/1396 [00:00<?, ?it/s]"
      ]
     },
     "metadata": {},
     "output_type": "display_data"
    },
    {
     "name": "stdout",
     "output_type": "stream",
     "text": [
      "validation_loss on proxy = 0.4901\n",
      "validation_accuracy on proxy = 86.08%\n",
      "validation_loss on true ds = 1.0553\n",
      "validation_accuracy on true ds = 63.72%\n"
     ]
    },
    {
     "data": {
      "application/vnd.jupyter.widget-view+json": {
       "model_id": "f9a69de1c73c4c9db996db9d9f71154d",
       "version_major": 2,
       "version_minor": 0
      },
      "text/plain": [
       "  0%|          | 0/1396 [00:00<?, ?it/s]"
      ]
     },
     "metadata": {},
     "output_type": "display_data"
    },
    {
     "name": "stdout",
     "output_type": "stream",
     "text": [
      "validation_loss on proxy = 0.4860\n",
      "validation_accuracy on proxy = 86.15%\n",
      "validation_loss on true ds = 1.0571\n",
      "validation_accuracy on true ds = 63.79%\n"
     ]
    },
    {
     "data": {
      "application/vnd.jupyter.widget-view+json": {
       "model_id": "edca9a43d0fe4b71af261039c4706e49",
       "version_major": 2,
       "version_minor": 0
      },
      "text/plain": [
       "  0%|          | 0/1396 [00:00<?, ?it/s]"
      ]
     },
     "metadata": {},
     "output_type": "display_data"
    },
    {
     "name": "stdout",
     "output_type": "stream",
     "text": [
      "validation_loss on proxy = 0.5023\n",
      "validation_accuracy on proxy = 86.48%\n",
      "Saved at epoch 3\n",
      "validation_loss on true ds = 1.0526\n",
      "validation_accuracy on true ds = 65.02%\n"
     ]
    },
    {
     "data": {
      "application/vnd.jupyter.widget-view+json": {
       "model_id": "d8b9af48ffdf4e02a1e3052b018c50ef",
       "version_major": 2,
       "version_minor": 0
      },
      "text/plain": [
       "  0%|          | 0/1396 [00:00<?, ?it/s]"
      ]
     },
     "metadata": {},
     "output_type": "display_data"
    },
    {
     "name": "stdout",
     "output_type": "stream",
     "text": [
      "validation_loss on proxy = 0.4951\n",
      "validation_accuracy on proxy = 86.36%\n",
      "validation_loss on true ds = 1.0685\n",
      "validation_accuracy on true ds = 64.10%\n"
     ]
    },
    {
     "data": {
      "application/vnd.jupyter.widget-view+json": {
       "model_id": "70b9d6bf22a54b93825122670f6eee5c",
       "version_major": 2,
       "version_minor": 0
      },
      "text/plain": [
       "  0%|          | 0/1396 [00:00<?, ?it/s]"
      ]
     },
     "metadata": {},
     "output_type": "display_data"
    },
    {
     "name": "stdout",
     "output_type": "stream",
     "text": [
      "validation_loss on proxy = 0.4912\n",
      "validation_accuracy on proxy = 86.45%\n",
      "validation_loss on true ds = 1.0075\n",
      "validation_accuracy on true ds = 66.19%\n"
     ]
    },
    {
     "data": {
      "application/vnd.jupyter.widget-view+json": {
       "model_id": "3b48c978a2d04d49bc7d06d9334ce860",
       "version_major": 2,
       "version_minor": 0
      },
      "text/plain": [
       "  0%|          | 0/1396 [00:00<?, ?it/s]"
      ]
     },
     "metadata": {},
     "output_type": "display_data"
    },
    {
     "name": "stdout",
     "output_type": "stream",
     "text": [
      "validation_loss on proxy = 0.4968\n",
      "validation_accuracy on proxy = 86.05%\n",
      "validation_loss on true ds = 1.0164\n",
      "validation_accuracy on true ds = 65.79%\n"
     ]
    },
    {
     "data": {
      "application/vnd.jupyter.widget-view+json": {
       "model_id": "9f771fffd22b4c22b605d2e6186ab2a1",
       "version_major": 2,
       "version_minor": 0
      },
      "text/plain": [
       "  0%|          | 0/1396 [00:00<?, ?it/s]"
      ]
     },
     "metadata": {},
     "output_type": "display_data"
    },
    {
     "name": "stdout",
     "output_type": "stream",
     "text": [
      "validation_loss on proxy = 0.4859\n",
      "validation_accuracy on proxy = 86.15%\n",
      "validation_loss on true ds = 1.0593\n",
      "validation_accuracy on true ds = 64.22%\n"
     ]
    },
    {
     "data": {
      "application/vnd.jupyter.widget-view+json": {
       "model_id": "928885bcd3434489be6709ff044e9cbf",
       "version_major": 2,
       "version_minor": 0
      },
      "text/plain": [
       "  0%|          | 0/1396 [00:00<?, ?it/s]"
      ]
     },
     "metadata": {},
     "output_type": "display_data"
    },
    {
     "name": "stdout",
     "output_type": "stream",
     "text": [
      "validation_loss on proxy = 0.5054\n",
      "validation_accuracy on proxy = 85.84%\n",
      "validation_loss on true ds = 1.0856\n",
      "validation_accuracy on true ds = 63.77%\n"
     ]
    },
    {
     "data": {
      "application/vnd.jupyter.widget-view+json": {
       "model_id": "fd8b46720a564fdb822ffba0d890144d",
       "version_major": 2,
       "version_minor": 0
      },
      "text/plain": [
       "  0%|          | 0/1396 [00:00<?, ?it/s]"
      ]
     },
     "metadata": {},
     "output_type": "display_data"
    },
    {
     "name": "stdout",
     "output_type": "stream",
     "text": [
      "validation_loss on proxy = 0.5024\n",
      "validation_accuracy on proxy = 85.75%\n",
      "validation_loss on true ds = 1.0746\n",
      "validation_accuracy on true ds = 63.75%\n"
     ]
    },
    {
     "data": {
      "application/vnd.jupyter.widget-view+json": {
       "model_id": "b3d4b07bf9e6479fbb28c8a34924c854",
       "version_major": 2,
       "version_minor": 0
      },
      "text/plain": [
       "  0%|          | 0/1396 [00:00<?, ?it/s]"
      ]
     },
     "metadata": {},
     "output_type": "display_data"
    },
    {
     "name": "stdout",
     "output_type": "stream",
     "text": [
      "validation_loss on proxy = 0.5068\n",
      "validation_accuracy on proxy = 85.60%\n",
      "validation_loss on true ds = 1.0237\n",
      "validation_accuracy on true ds = 65.93%\n"
     ]
    },
    {
     "data": {
      "application/vnd.jupyter.widget-view+json": {
       "model_id": "2c396afc7eb44985b21422ddf820a34c",
       "version_major": 2,
       "version_minor": 0
      },
      "text/plain": [
       "  0%|          | 0/1396 [00:00<?, ?it/s]"
      ]
     },
     "metadata": {},
     "output_type": "display_data"
    },
    {
     "name": "stdout",
     "output_type": "stream",
     "text": [
      "validation_loss on proxy = 0.5031\n",
      "validation_accuracy on proxy = 86.18%\n",
      "validation_loss on true ds = 1.0404\n",
      "validation_accuracy on true ds = 64.92%\n"
     ]
    },
    {
     "data": {
      "application/vnd.jupyter.widget-view+json": {
       "model_id": "e7485746cbf8493f886864536998dd04",
       "version_major": 2,
       "version_minor": 0
      },
      "text/plain": [
       "  0%|          | 0/1396 [00:00<?, ?it/s]"
      ]
     },
     "metadata": {},
     "output_type": "display_data"
    },
    {
     "name": "stdout",
     "output_type": "stream",
     "text": [
      "validation_loss on proxy = 0.5113\n",
      "validation_accuracy on proxy = 85.69%\n",
      "validation_loss on true ds = 1.0553\n",
      "validation_accuracy on true ds = 65.19%\n"
     ]
    },
    {
     "data": {
      "application/vnd.jupyter.widget-view+json": {
       "model_id": "5b91cc36d55e4f198007ede96cf46c8a",
       "version_major": 2,
       "version_minor": 0
      },
      "text/plain": [
       "  0%|          | 0/1396 [00:00<?, ?it/s]"
      ]
     },
     "metadata": {},
     "output_type": "display_data"
    },
    {
     "name": "stdout",
     "output_type": "stream",
     "text": [
      "validation_loss on proxy = 0.5144\n",
      "validation_accuracy on proxy = 85.11%\n",
      "validation_loss on true ds = 1.0609\n",
      "validation_accuracy on true ds = 64.60%\n"
     ]
    },
    {
     "data": {
      "application/vnd.jupyter.widget-view+json": {
       "model_id": "f1c655ad189e4788b5aca980ebc2699d",
       "version_major": 2,
       "version_minor": 0
      },
      "text/plain": [
       "  0%|          | 0/1396 [00:00<?, ?it/s]"
      ]
     },
     "metadata": {},
     "output_type": "display_data"
    },
    {
     "name": "stdout",
     "output_type": "stream",
     "text": [
      "validation_loss on proxy = 0.5002\n",
      "validation_accuracy on proxy = 85.54%\n",
      "validation_loss on true ds = 1.0611\n",
      "validation_accuracy on true ds = 64.38%\n"
     ]
    },
    {
     "data": {
      "application/vnd.jupyter.widget-view+json": {
       "model_id": "2ec4542fda9a4065ae875ad069e3900b",
       "version_major": 2,
       "version_minor": 0
      },
      "text/plain": [
       "  0%|          | 0/1396 [00:00<?, ?it/s]"
      ]
     },
     "metadata": {},
     "output_type": "display_data"
    },
    {
     "name": "stdout",
     "output_type": "stream",
     "text": [
      "validation_loss on proxy = 0.5146\n",
      "validation_accuracy on proxy = 85.11%\n",
      "validation_loss on true ds = 1.0982\n",
      "validation_accuracy on true ds = 63.55%\n"
     ]
    },
    {
     "data": {
      "application/vnd.jupyter.widget-view+json": {
       "model_id": "a0be12d7953e465cb479259cad2391f3",
       "version_major": 2,
       "version_minor": 0
      },
      "text/plain": [
       "  0%|          | 0/1396 [00:00<?, ?it/s]"
      ]
     },
     "metadata": {},
     "output_type": "display_data"
    },
    {
     "name": "stdout",
     "output_type": "stream",
     "text": [
      "validation_loss on proxy = 0.5088\n",
      "validation_accuracy on proxy = 85.47%\n",
      "validation_loss on true ds = 1.0791\n",
      "validation_accuracy on true ds = 63.85%\n"
     ]
    },
    {
     "data": {
      "application/vnd.jupyter.widget-view+json": {
       "model_id": "103bba04e1bb49ebab282b0bf8c1084e",
       "version_major": 2,
       "version_minor": 0
      },
      "text/plain": [
       "  0%|          | 0/1396 [00:00<?, ?it/s]"
      ]
     },
     "metadata": {},
     "output_type": "display_data"
    },
    {
     "name": "stdout",
     "output_type": "stream",
     "text": [
      "validation_loss on proxy = 0.5094\n",
      "validation_accuracy on proxy = 85.41%\n",
      "validation_loss on true ds = 1.0524\n",
      "validation_accuracy on true ds = 64.65%\n"
     ]
    },
    {
     "data": {
      "application/vnd.jupyter.widget-view+json": {
       "model_id": "f6d1b6a33acb4f86bdc50983e9b09520",
       "version_major": 2,
       "version_minor": 0
      },
      "text/plain": [
       "  0%|          | 0/1396 [00:00<?, ?it/s]"
      ]
     },
     "metadata": {},
     "output_type": "display_data"
    },
    {
     "name": "stdout",
     "output_type": "stream",
     "text": [
      "validation_loss on proxy = 0.5076\n",
      "validation_accuracy on proxy = 85.63%\n",
      "validation_loss on true ds = 1.0695\n",
      "validation_accuracy on true ds = 64.03%\n"
     ]
    },
    {
     "data": {
      "application/vnd.jupyter.widget-view+json": {
       "model_id": "cc9b40e1cf304550890f93a76a7f96c2",
       "version_major": 2,
       "version_minor": 0
      },
      "text/plain": [
       "  0%|          | 0/1396 [00:00<?, ?it/s]"
      ]
     },
     "metadata": {},
     "output_type": "display_data"
    },
    {
     "name": "stdout",
     "output_type": "stream",
     "text": [
      "validation_loss on proxy = 0.5101\n",
      "validation_accuracy on proxy = 85.63%\n",
      "validation_loss on true ds = 1.1242\n",
      "validation_accuracy on true ds = 62.46%\n"
     ]
    },
    {
     "data": {
      "application/vnd.jupyter.widget-view+json": {
       "model_id": "24845eb86c234dcfaa4feb3cc2c29902",
       "version_major": 2,
       "version_minor": 0
      },
      "text/plain": [
       "  0%|          | 0/1396 [00:00<?, ?it/s]"
      ]
     },
     "metadata": {},
     "output_type": "display_data"
    },
    {
     "name": "stdout",
     "output_type": "stream",
     "text": [
      "validation_loss on proxy = 0.5126\n",
      "validation_accuracy on proxy = 85.41%\n",
      "validation_loss on true ds = 1.0824\n",
      "validation_accuracy on true ds = 63.75%\n"
     ]
    },
    {
     "data": {
      "application/vnd.jupyter.widget-view+json": {
       "model_id": "e1ba14237ee54c71b3f10df57da5ecf8",
       "version_major": 2,
       "version_minor": 0
      },
      "text/plain": [
       "  0%|          | 0/1396 [00:00<?, ?it/s]"
      ]
     },
     "metadata": {},
     "output_type": "display_data"
    },
    {
     "name": "stdout",
     "output_type": "stream",
     "text": [
      "validation_loss on proxy = 0.5191\n",
      "validation_accuracy on proxy = 85.29%\n",
      "validation_loss on true ds = 1.0689\n",
      "validation_accuracy on true ds = 64.40%\n"
     ]
    },
    {
     "data": {
      "application/vnd.jupyter.widget-view+json": {
       "model_id": "31e97d7fb46e48c59088fb8936fbde34",
       "version_major": 2,
       "version_minor": 0
      },
      "text/plain": [
       "  0%|          | 0/1396 [00:00<?, ?it/s]"
      ]
     },
     "metadata": {},
     "output_type": "display_data"
    },
    {
     "name": "stdout",
     "output_type": "stream",
     "text": [
      "validation_loss on proxy = 0.5176\n",
      "validation_accuracy on proxy = 85.23%\n",
      "validation_loss on true ds = 1.0764\n",
      "validation_accuracy on true ds = 64.35%\n"
     ]
    },
    {
     "data": {
      "application/vnd.jupyter.widget-view+json": {
       "model_id": "0a6f2e7aabc540c4a3d06d1b729056a4",
       "version_major": 2,
       "version_minor": 0
      },
      "text/plain": [
       "  0%|          | 0/1396 [00:00<?, ?it/s]"
      ]
     },
     "metadata": {},
     "output_type": "display_data"
    },
    {
     "name": "stdout",
     "output_type": "stream",
     "text": [
      "validation_loss on proxy = 0.5139\n",
      "validation_accuracy on proxy = 85.20%\n",
      "validation_loss on true ds = 1.0749\n",
      "validation_accuracy on true ds = 63.64%\n"
     ]
    },
    {
     "data": {
      "application/vnd.jupyter.widget-view+json": {
       "model_id": "b2326700f6144fab9933f213cdae3104",
       "version_major": 2,
       "version_minor": 0
      },
      "text/plain": [
       "  0%|          | 0/1396 [00:00<?, ?it/s]"
      ]
     },
     "metadata": {},
     "output_type": "display_data"
    },
    {
     "name": "stdout",
     "output_type": "stream",
     "text": [
      "validation_loss on proxy = 0.5123\n",
      "validation_accuracy on proxy = 85.17%\n",
      "validation_loss on true ds = 1.0809\n",
      "validation_accuracy on true ds = 63.75%\n"
     ]
    },
    {
     "data": {
      "application/vnd.jupyter.widget-view+json": {
       "model_id": "e35c7c23d1a9484498573075ca5272ce",
       "version_major": 2,
       "version_minor": 0
      },
      "text/plain": [
       "  0%|          | 0/1396 [00:00<?, ?it/s]"
      ]
     },
     "metadata": {},
     "output_type": "display_data"
    },
    {
     "name": "stdout",
     "output_type": "stream",
     "text": [
      "validation_loss on proxy = 0.5248\n",
      "validation_accuracy on proxy = 84.62%\n",
      "validation_loss on true ds = 1.1048\n",
      "validation_accuracy on true ds = 62.85%\n"
     ]
    },
    {
     "data": {
      "application/vnd.jupyter.widget-view+json": {
       "model_id": "e0e1627cdfb24f588e770b2ecec712ae",
       "version_major": 2,
       "version_minor": 0
      },
      "text/plain": [
       "  0%|          | 0/1396 [00:00<?, ?it/s]"
      ]
     },
     "metadata": {},
     "output_type": "display_data"
    },
    {
     "name": "stdout",
     "output_type": "stream",
     "text": [
      "validation_loss on proxy = 0.5152\n",
      "validation_accuracy on proxy = 85.57%\n",
      "validation_loss on true ds = 1.0886\n",
      "validation_accuracy on true ds = 63.19%\n"
     ]
    },
    {
     "data": {
      "application/vnd.jupyter.widget-view+json": {
       "model_id": "0f3dcb47ce204d05ad84db1281c88e4f",
       "version_major": 2,
       "version_minor": 0
      },
      "text/plain": [
       "  0%|          | 0/1396 [00:00<?, ?it/s]"
      ]
     },
     "metadata": {},
     "output_type": "display_data"
    },
    {
     "name": "stdout",
     "output_type": "stream",
     "text": [
      "validation_loss on proxy = 0.5333\n",
      "validation_accuracy on proxy = 84.77%\n",
      "validation_loss on true ds = 1.0778\n",
      "validation_accuracy on true ds = 64.75%\n"
     ]
    },
    {
     "data": {
      "application/vnd.jupyter.widget-view+json": {
       "model_id": "0dfe623ba8c8430c98a95173b512830c",
       "version_major": 2,
       "version_minor": 0
      },
      "text/plain": [
       "  0%|          | 0/1396 [00:00<?, ?it/s]"
      ]
     },
     "metadata": {},
     "output_type": "display_data"
    },
    {
     "name": "stdout",
     "output_type": "stream",
     "text": [
      "validation_loss on proxy = 0.5284\n",
      "validation_accuracy on proxy = 84.93%\n",
      "validation_loss on true ds = 1.0891\n",
      "validation_accuracy on true ds = 63.51%\n"
     ]
    },
    {
     "data": {
      "application/vnd.jupyter.widget-view+json": {
       "model_id": "f9b5111bf8a24fc183f684596e93a920",
       "version_major": 2,
       "version_minor": 0
      },
      "text/plain": [
       "  0%|          | 0/1396 [00:00<?, ?it/s]"
      ]
     },
     "metadata": {},
     "output_type": "display_data"
    },
    {
     "name": "stdout",
     "output_type": "stream",
     "text": [
      "validation_loss on proxy = 0.5241\n",
      "validation_accuracy on proxy = 84.99%\n",
      "validation_loss on true ds = 1.0780\n",
      "validation_accuracy on true ds = 64.18%\n"
     ]
    },
    {
     "data": {
      "application/vnd.jupyter.widget-view+json": {
       "model_id": "c6247fab24534494a41ba4b5ea6718eb",
       "version_major": 2,
       "version_minor": 0
      },
      "text/plain": [
       "  0%|          | 0/1396 [00:00<?, ?it/s]"
      ]
     },
     "metadata": {},
     "output_type": "display_data"
    },
    {
     "name": "stdout",
     "output_type": "stream",
     "text": [
      "validation_loss on proxy = 0.5199\n",
      "validation_accuracy on proxy = 84.89%\n",
      "validation_loss on true ds = 1.0857\n",
      "validation_accuracy on true ds = 64.12%\n"
     ]
    },
    {
     "data": {
      "application/vnd.jupyter.widget-view+json": {
       "model_id": "6e715af0ffce434c8950626ebd2e40bd",
       "version_major": 2,
       "version_minor": 0
      },
      "text/plain": [
       "  0%|          | 0/1396 [00:00<?, ?it/s]"
      ]
     },
     "metadata": {},
     "output_type": "display_data"
    },
    {
     "name": "stdout",
     "output_type": "stream",
     "text": [
      "validation_loss on proxy = 0.5292\n",
      "validation_accuracy on proxy = 84.96%\n",
      "validation_loss on true ds = 1.1016\n",
      "validation_accuracy on true ds = 63.52%\n"
     ]
    },
    {
     "data": {
      "application/vnd.jupyter.widget-view+json": {
       "model_id": "c42b513155a54867a596a0de664b48f1",
       "version_major": 2,
       "version_minor": 0
      },
      "text/plain": [
       "  0%|          | 0/1396 [00:00<?, ?it/s]"
      ]
     },
     "metadata": {},
     "output_type": "display_data"
    },
    {
     "name": "stdout",
     "output_type": "stream",
     "text": [
      "validation_loss on proxy = 0.5136\n",
      "validation_accuracy on proxy = 85.38%\n",
      "validation_loss on true ds = 1.1011\n",
      "validation_accuracy on true ds = 62.85%\n"
     ]
    },
    {
     "data": {
      "application/vnd.jupyter.widget-view+json": {
       "model_id": "b80d1a8e9d0b4a22ba3aa4a4df23c602",
       "version_major": 2,
       "version_minor": 0
      },
      "text/plain": [
       "  0%|          | 0/1396 [00:00<?, ?it/s]"
      ]
     },
     "metadata": {},
     "output_type": "display_data"
    },
    {
     "name": "stdout",
     "output_type": "stream",
     "text": [
      "validation_loss on proxy = 0.5256\n",
      "validation_accuracy on proxy = 84.80%\n",
      "validation_loss on true ds = 1.1325\n",
      "validation_accuracy on true ds = 61.61%\n"
     ]
    },
    {
     "data": {
      "application/vnd.jupyter.widget-view+json": {
       "model_id": "4174a3e5023e42a1b6af4109aa272fcf",
       "version_major": 2,
       "version_minor": 0
      },
      "text/plain": [
       "  0%|          | 0/1396 [00:00<?, ?it/s]"
      ]
     },
     "metadata": {},
     "output_type": "display_data"
    },
    {
     "name": "stdout",
     "output_type": "stream",
     "text": [
      "validation_loss on proxy = 0.5273\n",
      "validation_accuracy on proxy = 84.83%\n",
      "validation_loss on true ds = 1.1097\n",
      "validation_accuracy on true ds = 62.88%\n"
     ]
    },
    {
     "data": {
      "application/vnd.jupyter.widget-view+json": {
       "model_id": "58a21c7865b74c3aa8e97eea13af55ee",
       "version_major": 2,
       "version_minor": 0
      },
      "text/plain": [
       "  0%|          | 0/1396 [00:00<?, ?it/s]"
      ]
     },
     "metadata": {},
     "output_type": "display_data"
    },
    {
     "name": "stdout",
     "output_type": "stream",
     "text": [
      "validation_loss on proxy = 0.5163\n",
      "validation_accuracy on proxy = 85.29%\n",
      "validation_loss on true ds = 1.1087\n",
      "validation_accuracy on true ds = 62.99%\n"
     ]
    },
    {
     "data": {
      "application/vnd.jupyter.widget-view+json": {
       "model_id": "9b74d124156c4f549429e9af6b479c37",
       "version_major": 2,
       "version_minor": 0
      },
      "text/plain": [
       "  0%|          | 0/1396 [00:00<?, ?it/s]"
      ]
     },
     "metadata": {},
     "output_type": "display_data"
    },
    {
     "name": "stdout",
     "output_type": "stream",
     "text": [
      "validation_loss on proxy = 0.5219\n",
      "validation_accuracy on proxy = 84.68%\n",
      "validation_loss on true ds = 1.1113\n",
      "validation_accuracy on true ds = 62.87%\n"
     ]
    },
    {
     "data": {
      "application/vnd.jupyter.widget-view+json": {
       "model_id": "9616c9304226409ebe1e27792f66a45f",
       "version_major": 2,
       "version_minor": 0
      },
      "text/plain": [
       "  0%|          | 0/1396 [00:00<?, ?it/s]"
      ]
     },
     "metadata": {},
     "output_type": "display_data"
    },
    {
     "name": "stdout",
     "output_type": "stream",
     "text": [
      "validation_loss on proxy = 0.5169\n",
      "validation_accuracy on proxy = 84.99%\n",
      "validation_loss on true ds = 1.0988\n",
      "validation_accuracy on true ds = 63.05%\n"
     ]
    },
    {
     "data": {
      "application/vnd.jupyter.widget-view+json": {
       "model_id": "c08bbc12676a4ae2a68771b72547e2b1",
       "version_major": 2,
       "version_minor": 0
      },
      "text/plain": [
       "  0%|          | 0/1396 [00:00<?, ?it/s]"
      ]
     },
     "metadata": {},
     "output_type": "display_data"
    },
    {
     "name": "stdout",
     "output_type": "stream",
     "text": [
      "validation_loss on proxy = 0.5159\n",
      "validation_accuracy on proxy = 84.56%\n",
      "validation_loss on true ds = 1.1131\n",
      "validation_accuracy on true ds = 62.57%\n"
     ]
    },
    {
     "data": {
      "application/vnd.jupyter.widget-view+json": {
       "model_id": "0372bfad4618475cbef296eb8bcae335",
       "version_major": 2,
       "version_minor": 0
      },
      "text/plain": [
       "  0%|          | 0/1396 [00:00<?, ?it/s]"
      ]
     },
     "metadata": {},
     "output_type": "display_data"
    },
    {
     "name": "stdout",
     "output_type": "stream",
     "text": [
      "validation_loss on proxy = 0.5194\n",
      "validation_accuracy on proxy = 85.17%\n",
      "validation_loss on true ds = 1.1035\n",
      "validation_accuracy on true ds = 62.65%\n"
     ]
    },
    {
     "data": {
      "application/vnd.jupyter.widget-view+json": {
       "model_id": "0e4a68bfdb6d4fec952cf5074e0f4c2b",
       "version_major": 2,
       "version_minor": 0
      },
      "text/plain": [
       "  0%|          | 0/1396 [00:00<?, ?it/s]"
      ]
     },
     "metadata": {},
     "output_type": "display_data"
    },
    {
     "name": "stdout",
     "output_type": "stream",
     "text": [
      "validation_loss on proxy = 0.5242\n",
      "validation_accuracy on proxy = 84.99%\n",
      "validation_loss on true ds = 1.0854\n",
      "validation_accuracy on true ds = 63.58%\n"
     ]
    },
    {
     "data": {
      "application/vnd.jupyter.widget-view+json": {
       "model_id": "51b42435152840fcb7c58337b9f9d197",
       "version_major": 2,
       "version_minor": 0
      },
      "text/plain": [
       "  0%|          | 0/1396 [00:00<?, ?it/s]"
      ]
     },
     "metadata": {},
     "output_type": "display_data"
    },
    {
     "name": "stdout",
     "output_type": "stream",
     "text": [
      "validation_loss on proxy = 0.5193\n",
      "validation_accuracy on proxy = 84.68%\n",
      "validation_loss on true ds = 1.1304\n",
      "validation_accuracy on true ds = 61.72%\n"
     ]
    },
    {
     "data": {
      "application/vnd.jupyter.widget-view+json": {
       "model_id": "9026eb973dc341a28bb7090d518de7a9",
       "version_major": 2,
       "version_minor": 0
      },
      "text/plain": [
       "  0%|          | 0/1396 [00:00<?, ?it/s]"
      ]
     },
     "metadata": {},
     "output_type": "display_data"
    },
    {
     "name": "stdout",
     "output_type": "stream",
     "text": [
      "validation_loss on proxy = 0.5220\n",
      "validation_accuracy on proxy = 84.80%\n",
      "validation_loss on true ds = 1.0995\n",
      "validation_accuracy on true ds = 63.08%\n"
     ]
    },
    {
     "data": {
      "application/vnd.jupyter.widget-view+json": {
       "model_id": "10056156a83e4aa195ac0b15249cc6be",
       "version_major": 2,
       "version_minor": 0
      },
      "text/plain": [
       "  0%|          | 0/1396 [00:00<?, ?it/s]"
      ]
     },
     "metadata": {},
     "output_type": "display_data"
    },
    {
     "name": "stdout",
     "output_type": "stream",
     "text": [
      "validation_loss on proxy = 0.5336\n",
      "validation_accuracy on proxy = 85.05%\n",
      "validation_loss on true ds = 1.1482\n",
      "validation_accuracy on true ds = 61.35%\n"
     ]
    },
    {
     "data": {
      "application/vnd.jupyter.widget-view+json": {
       "model_id": "53641be7007b420cb74884bd91bdb309",
       "version_major": 2,
       "version_minor": 0
      },
      "text/plain": [
       "  0%|          | 0/1396 [00:00<?, ?it/s]"
      ]
     },
     "metadata": {},
     "output_type": "display_data"
    },
    {
     "name": "stdout",
     "output_type": "stream",
     "text": [
      "validation_loss on proxy = 0.5230\n",
      "validation_accuracy on proxy = 84.68%\n",
      "validation_loss on true ds = 1.0700\n",
      "validation_accuracy on true ds = 64.44%\n"
     ]
    },
    {
     "data": {
      "application/vnd.jupyter.widget-view+json": {
       "model_id": "10b79e4a5fb54d19937d149f6e93e18c",
       "version_major": 2,
       "version_minor": 0
      },
      "text/plain": [
       "  0%|          | 0/1396 [00:00<?, ?it/s]"
      ]
     },
     "metadata": {},
     "output_type": "display_data"
    },
    {
     "name": "stdout",
     "output_type": "stream",
     "text": [
      "validation_loss on proxy = 0.5302\n",
      "validation_accuracy on proxy = 84.83%\n",
      "validation_loss on true ds = 1.1283\n",
      "validation_accuracy on true ds = 62.26%\n"
     ]
    },
    {
     "data": {
      "application/vnd.jupyter.widget-view+json": {
       "model_id": "6a19a44e2d214331a694841a68b8a1e6",
       "version_major": 2,
       "version_minor": 0
      },
      "text/plain": [
       "  0%|          | 0/1396 [00:00<?, ?it/s]"
      ]
     },
     "metadata": {},
     "output_type": "display_data"
    },
    {
     "name": "stdout",
     "output_type": "stream",
     "text": [
      "validation_loss on proxy = 0.5215\n",
      "validation_accuracy on proxy = 85.02%\n",
      "validation_loss on true ds = 1.0855\n",
      "validation_accuracy on true ds = 63.53%\n"
     ]
    },
    {
     "data": {
      "application/vnd.jupyter.widget-view+json": {
       "model_id": "bd2d7bd7ec2349acb0d0f64bdbf6fe42",
       "version_major": 2,
       "version_minor": 0
      },
      "text/plain": [
       "  0%|          | 0/1396 [00:00<?, ?it/s]"
      ]
     },
     "metadata": {},
     "output_type": "display_data"
    },
    {
     "name": "stdout",
     "output_type": "stream",
     "text": [
      "validation_loss on proxy = 0.5233\n",
      "validation_accuracy on proxy = 84.13%\n",
      "validation_loss on true ds = 1.0972\n",
      "validation_accuracy on true ds = 63.31%\n"
     ]
    },
    {
     "data": {
      "application/vnd.jupyter.widget-view+json": {
       "model_id": "20b737d0e8534604a0debe6e7dee9c69",
       "version_major": 2,
       "version_minor": 0
      },
      "text/plain": [
       "  0%|          | 0/1396 [00:00<?, ?it/s]"
      ]
     },
     "metadata": {},
     "output_type": "display_data"
    },
    {
     "name": "stdout",
     "output_type": "stream",
     "text": [
      "validation_loss on proxy = 0.5456\n",
      "validation_accuracy on proxy = 83.74%\n",
      "validation_loss on true ds = 1.1104\n",
      "validation_accuracy on true ds = 62.73%\n"
     ]
    },
    {
     "data": {
      "application/vnd.jupyter.widget-view+json": {
       "model_id": "7284c45d6c874b5e836d1ed6ebf29962",
       "version_major": 2,
       "version_minor": 0
      },
      "text/plain": [
       "  0%|          | 0/1396 [00:00<?, ?it/s]"
      ]
     },
     "metadata": {},
     "output_type": "display_data"
    },
    {
     "name": "stdout",
     "output_type": "stream",
     "text": [
      "validation_loss on proxy = 0.5326\n",
      "validation_accuracy on proxy = 84.10%\n",
      "validation_loss on true ds = 1.1173\n",
      "validation_accuracy on true ds = 62.81%\n"
     ]
    },
    {
     "data": {
      "application/vnd.jupyter.widget-view+json": {
       "model_id": "e5dda3674fe94171b7f2358c0069937a",
       "version_major": 2,
       "version_minor": 0
      },
      "text/plain": [
       "  0%|          | 0/1396 [00:00<?, ?it/s]"
      ]
     },
     "metadata": {},
     "output_type": "display_data"
    },
    {
     "name": "stdout",
     "output_type": "stream",
     "text": [
      "validation_loss on proxy = 0.5323\n",
      "validation_accuracy on proxy = 84.28%\n",
      "validation_loss on true ds = 1.1354\n",
      "validation_accuracy on true ds = 61.56%\n"
     ]
    },
    {
     "data": {
      "application/vnd.jupyter.widget-view+json": {
       "model_id": "12d6c242606447e7b29cc708dd3d04f0",
       "version_major": 2,
       "version_minor": 0
      },
      "text/plain": [
       "  0%|          | 0/1396 [00:00<?, ?it/s]"
      ]
     },
     "metadata": {},
     "output_type": "display_data"
    },
    {
     "name": "stdout",
     "output_type": "stream",
     "text": [
      "validation_loss on proxy = 0.5390\n",
      "validation_accuracy on proxy = 84.31%\n",
      "validation_loss on true ds = 1.1243\n",
      "validation_accuracy on true ds = 62.34%\n"
     ]
    },
    {
     "data": {
      "application/vnd.jupyter.widget-view+json": {
       "model_id": "f568539aa3154adc9b6ac984f204fce6",
       "version_major": 2,
       "version_minor": 0
      },
      "text/plain": [
       "  0%|          | 0/1396 [00:00<?, ?it/s]"
      ]
     },
     "metadata": {},
     "output_type": "display_data"
    },
    {
     "name": "stdout",
     "output_type": "stream",
     "text": [
      "validation_loss on proxy = 0.5273\n",
      "validation_accuracy on proxy = 84.93%\n",
      "validation_loss on true ds = 1.1258\n",
      "validation_accuracy on true ds = 62.12%\n"
     ]
    },
    {
     "data": {
      "application/vnd.jupyter.widget-view+json": {
       "model_id": "9fadffadc6d74a7ba77aa306bd5f9220",
       "version_major": 2,
       "version_minor": 0
      },
      "text/plain": [
       "  0%|          | 0/1396 [00:00<?, ?it/s]"
      ]
     },
     "metadata": {},
     "output_type": "display_data"
    },
    {
     "name": "stdout",
     "output_type": "stream",
     "text": [
      "validation_loss on proxy = 0.5277\n",
      "validation_accuracy on proxy = 84.56%\n",
      "validation_loss on true ds = 1.0902\n",
      "validation_accuracy on true ds = 63.62%\n"
     ]
    },
    {
     "data": {
      "application/vnd.jupyter.widget-view+json": {
       "model_id": "94300af4e9334322bb97cbf53b73bb0c",
       "version_major": 2,
       "version_minor": 0
      },
      "text/plain": [
       "  0%|          | 0/1396 [00:00<?, ?it/s]"
      ]
     },
     "metadata": {},
     "output_type": "display_data"
    },
    {
     "name": "stdout",
     "output_type": "stream",
     "text": [
      "validation_loss on proxy = 0.5302\n",
      "validation_accuracy on proxy = 84.59%\n",
      "validation_loss on true ds = 1.0994\n",
      "validation_accuracy on true ds = 63.02%\n"
     ]
    },
    {
     "data": {
      "application/vnd.jupyter.widget-view+json": {
       "model_id": "8e5044b678834dc581612abc3b9341e9",
       "version_major": 2,
       "version_minor": 0
      },
      "text/plain": [
       "  0%|          | 0/1396 [00:00<?, ?it/s]"
      ]
     },
     "metadata": {},
     "output_type": "display_data"
    },
    {
     "name": "stdout",
     "output_type": "stream",
     "text": [
      "validation_loss on proxy = 0.5301\n",
      "validation_accuracy on proxy = 84.74%\n",
      "validation_loss on true ds = 1.1006\n",
      "validation_accuracy on true ds = 63.36%\n"
     ]
    },
    {
     "data": {
      "application/vnd.jupyter.widget-view+json": {
       "model_id": "569970c0febf40769ab303679932e56d",
       "version_major": 2,
       "version_minor": 0
      },
      "text/plain": [
       "  0%|          | 0/1396 [00:00<?, ?it/s]"
      ]
     },
     "metadata": {},
     "output_type": "display_data"
    },
    {
     "name": "stdout",
     "output_type": "stream",
     "text": [
      "validation_loss on proxy = 0.5319\n",
      "validation_accuracy on proxy = 84.56%\n",
      "validation_loss on true ds = 1.1477\n",
      "validation_accuracy on true ds = 61.46%\n"
     ]
    },
    {
     "data": {
      "application/vnd.jupyter.widget-view+json": {
       "model_id": "0b55be2a55934ec68ca360269b2ddcc8",
       "version_major": 2,
       "version_minor": 0
      },
      "text/plain": [
       "  0%|          | 0/1396 [00:00<?, ?it/s]"
      ]
     },
     "metadata": {},
     "output_type": "display_data"
    },
    {
     "name": "stdout",
     "output_type": "stream",
     "text": [
      "validation_loss on proxy = 0.5418\n",
      "validation_accuracy on proxy = 83.86%\n",
      "validation_loss on true ds = 1.1828\n",
      "validation_accuracy on true ds = 60.73%\n"
     ]
    },
    {
     "data": {
      "application/vnd.jupyter.widget-view+json": {
       "model_id": "786eaca6dadb4e48b0e9fff2fd88de3a",
       "version_major": 2,
       "version_minor": 0
      },
      "text/plain": [
       "  0%|          | 0/1396 [00:00<?, ?it/s]"
      ]
     },
     "metadata": {},
     "output_type": "display_data"
    },
    {
     "name": "stdout",
     "output_type": "stream",
     "text": [
      "validation_loss on proxy = 0.5374\n",
      "validation_accuracy on proxy = 84.19%\n",
      "validation_loss on true ds = 1.1284\n",
      "validation_accuracy on true ds = 62.46%\n"
     ]
    },
    {
     "data": {
      "application/vnd.jupyter.widget-view+json": {
       "model_id": "4bb9f5289b6a46c7bc289510ee8ac4ad",
       "version_major": 2,
       "version_minor": 0
      },
      "text/plain": [
       "  0%|          | 0/1396 [00:00<?, ?it/s]"
      ]
     },
     "metadata": {},
     "output_type": "display_data"
    },
    {
     "name": "stdout",
     "output_type": "stream",
     "text": [
      "validation_loss on proxy = 0.5460\n",
      "validation_accuracy on proxy = 83.83%\n",
      "validation_loss on true ds = 1.1252\n",
      "validation_accuracy on true ds = 62.53%\n",
      "We are at epoch 59\n"
     ]
    },
    {
     "data": {
      "text/plain": [
       "<All keys matched successfully>"
      ]
     },
     "execution_count": 16,
     "metadata": {},
     "output_type": "execute_result"
    }
   ],
   "source": [
    "early_stopping = EarlyStopping(tolerance=5, min_delta=0.05)\n",
    "# early_stopping = EarlyStopping(tolerance=5, min_delta=0.001)\n",
    "\n",
    "best_accuracy = 0.0\n",
    "# Training the student\n",
    "for epoch in range(EPOCHS):\n",
    "    # Define progress bar\n",
    "    loop = tqdm(enumerate(train_dataloader), total=len(train_dataloader))\n",
    "    \n",
    "    # Training loop\n",
    "    student_model.train()\n",
    "    training_loss_epoch = []\n",
    "    for batch_idx, (x,y,soft_y) in loop:\n",
    "        optimizer.zero_grad()\n",
    "        \n",
    "        x = x.to(device=device)\n",
    "        y = y.to(device=device)\n",
    "        soft_y = soft_y.to(device=device)\n",
    "        \n",
    "        # Forward pass\n",
    "        logits = student_model(x)\n",
    "        # Backward pass\n",
    "        loss = criterion(input=logits, target=soft_y)\n",
    "        training_loss_epoch.append(loss.item())\n",
    "        # Prob trb inlocuit criterionul, sa adaugi soft-labels\n",
    "        loss.backward()\n",
    "        \n",
    "        # Optimize\n",
    "        optimizer.step()\n",
    "        \n",
    "        # Update progress bar\n",
    "        loop.set_description(f'Epoch {epoch+1}/{EPOCHS}')\n",
    "        loop.set_postfix(training_loss=loss.item())\n",
    "    \n",
    "    # Validation loop on proxy validation dataset\n",
    "    student_model.eval()\n",
    "    validation_loss_epoch = []  \n",
    "    acc = 0\n",
    "    with torch.no_grad():\n",
    "        for x,y,_ in valid_dataloader:\n",
    "            x = x.to(device=device)\n",
    "            y = y.to(device=device)\n",
    "        \n",
    "            logits = student_model(x)\n",
    "            pred = softmax(logits, dim=1)\n",
    "            \n",
    "            confidence,y_hat = torch.max(pred, dim=1)\n",
    "            \n",
    "            loss = criterion(input=logits, target=y)\n",
    "            validation_loss_epoch.append(loss.item())\n",
    "            \n",
    "            acc += torch.sum(y_hat==y).item()\n",
    "        \n",
    "    loop.write(f'validation_loss on proxy = {sum(validation_loss_epoch)/len(validation_loss_epoch):.4f}')\n",
    "    loop.write(f'validation_accuracy on proxy = {100*acc/len(proxy_valid_dataset):.2f}%')\n",
    "\n",
    "    # Save best model\n",
    "    valid_proxy_acc = acc/len(proxy_valid_dataset)\n",
    "    if valid_proxy_acc > best_accuracy:\n",
    "        best_accuracy = valid_proxy_acc\n",
    "        torch.save(student_model.state_dict(), f'temp_models/{TEMP_BEST_MODEL}.pt')\n",
    "        print(f'Saved at epoch {epoch}')\n",
    "\n",
    "    if validate_on_trueds:\n",
    "        # Validation loop on proxy validation dataset\n",
    "        student_model.eval()\n",
    "        with torch.no_grad():\n",
    "            val_loss = []\n",
    "            acc = 0\n",
    "            for x,y in true_valid_ds:\n",
    "                x = x.to(device=device)\n",
    "                y = y.to(device=device)\n",
    "            \n",
    "                logits = student_model(x)\n",
    "                pred = softmax(logits, dim=1)\n",
    "                \n",
    "                confidence,y_hat = torch.max(pred, dim=1)\n",
    "                \n",
    "                loss = criterion(input=logits, target=y)\n",
    "                val_loss.append(loss.item())\n",
    "                \n",
    "                acc += torch.sum(y_hat==y).item()\n",
    "            \n",
    "        loop.write(f'validation_loss on true ds = {sum(val_loss)/len(val_loss):.4f}')\n",
    "        loop.write(f'validation_accuracy on true ds = {100*acc/len(true_dataset.test_dataset):.2f}%')\n",
    "\n",
    "        \n",
    "    early_stopping(sum(validation_loss_epoch)/len(validation_loss_epoch))\n",
    "    if early_stopping.early_stop:\n",
    "      print(f\"We are at epoch {epoch}\")\n",
    "      break\n",
    "\n",
    "student_model.load_state_dict(torch.load(f'temp_models/{TEMP_BEST_MODEL}.pt'))"
   ]
  },
  {
   "cell_type": "code",
   "execution_count": 17,
   "metadata": {},
   "outputs": [
    {
     "name": "stdout",
     "output_type": "stream",
     "text": [
      "Student with true dataset:\n",
      "test_loss = 1.0526\n",
      "test_accuracy = 65.02%\n",
      "\n",
      "Class airplane: pred=689, actual=1000 => acc=68.90%, total_pred=1040\n",
      "Class automobile: pred=705, actual=1000 => acc=70.50%, total_pred=841\n",
      "Class bird: pred=521, actual=1000 => acc=52.10%, total_pred=840\n",
      "Class cat: pred=687, actual=1000 => acc=68.70%, total_pred=1768\n",
      "Class deer: pred=532, actual=1000 => acc=53.20%, total_pred=781\n",
      "Class dog: pred=608, actual=1000 => acc=60.80%, total_pred=1047\n",
      "Class frog: pred=663, actual=1000 => acc=66.30%, total_pred=898\n",
      "Class horse: pred=667, actual=1000 => acc=66.70%, total_pred=915\n",
      "Class ship: pred=770, actual=1000 => acc=77.00%, total_pred=1076\n",
      "Class truck: pred=660, actual=1000 => acc=66.00%, total_pred=794\n"
     ]
    }
   ],
   "source": [
    "# Testing on CIFAR10 ground truth\n",
    "true_dataloader = true_dataset.test_dataloader()\n",
    "acc_per_class = {k:[0,0,0] for k,v in label_mapper_inv.items()}\n",
    "\n",
    "student_model.eval()\n",
    "with torch.no_grad():\n",
    "    test_loss = []\n",
    "    acc = 0\n",
    "    for x,y in true_dataloader:\n",
    "        x = x.to(device=device)\n",
    "        y = y.to(device=device)\n",
    "    \n",
    "        logits = student_model(x)\n",
    "        pred = softmax(logits, dim=1)\n",
    "        \n",
    "        confidence,y_hat = torch.max(pred, dim=1)\n",
    "        \n",
    "        loss = criterion(input=logits, target=y)\n",
    "        test_loss.append(loss.item())\n",
    "        \n",
    "        acc += torch.sum(y_hat==y)\n",
    "        \n",
    "        for i in range(len(y)):\n",
    "            a = y[i].item()\n",
    "            p = y_hat[i].item()\n",
    "            \n",
    "            \n",
    "            acc_per_class[a][1] += 1\n",
    "            acc_per_class[p][2] += 1\n",
    "            if a == p:\n",
    "                acc_per_class[a][0] += 1\n",
    "        \n",
    "    print('Student with true dataset:')\n",
    "    print(f'test_loss = {sum(test_loss)/len(test_loss):.4f}')                  # 1.7439;  1.6199\n",
    "    print(f'test_accuracy = {100*acc/len(true_dataset.test_dataset):.2f}%')    # 46.09%;  48.57%\n",
    "    print()\n",
    "    \n",
    "for k,v in acc_per_class.items():\n",
    "    print(f'Class {label_mapper_inv[k]}: pred={v[0]}, actual={v[1]} => acc={v[0]*100/v[1]:.2f}%, total_pred={v[2]}')"
   ]
  },
  {
   "cell_type": "code",
   "execution_count": 18,
   "metadata": {},
   "outputs": [
    {
     "name": "stdout",
     "output_type": "stream",
     "text": [
      "Student with true dataset:\n",
      "test_loss = 1.0424\n",
      "test_accuracy = 65.31%\n",
      "\n",
      "Class airplane: pred=700, actual=1038 => acc=67.44%, total_pred=1040\n",
      "Class automobile: pred=713, actual=1002 => acc=71.16%, total_pred=841\n",
      "Class bird: pred=508, actual=965 => acc=52.64%, total_pred=840\n",
      "Class cat: pred=677, actual=938 => acc=72.17%, total_pred=1768\n",
      "Class deer: pred=558, actual=1108 => acc=50.36%, total_pred=781\n",
      "Class dog: pred=598, actual=913 => acc=65.50%, total_pred=1047\n",
      "Class frog: pred=663, actual=996 => acc=66.57%, total_pred=898\n",
      "Class horse: pred=694, actual=1063 => acc=65.29%, total_pred=915\n",
      "Class ship: pred=747, actual=939 => acc=79.55%, total_pred=1076\n",
      "Class truck: pred=673, actual=1038 => acc=64.84%, total_pred=794\n"
     ]
    }
   ],
   "source": [
    "# Testing using labels predicted with teacher\n",
    "true_dataloader = true_dataset.test_dataloader()\n",
    "acc_per_class = {k:[0,0,0] for k,v in label_mapper_inv.items()}\n",
    "\n",
    "student_model.eval()\n",
    "teacher_model.eval()\n",
    "with torch.no_grad():\n",
    "    test_loss = []\n",
    "    acc = 0\n",
    "    for x,y in true_dataloader:\n",
    "        x = x.to(device=device)\n",
    "        # y = y.to(device=device)\n",
    "\n",
    "        teacher_pred = softmax(teacher_model(x), dim=1)\n",
    "        _, y = torch.max(teacher_pred, dim=1)\n",
    "    \n",
    "        logits = student_model(x)\n",
    "        pred = softmax(logits, dim=1)\n",
    "        \n",
    "        confidence,y_hat = torch.max(pred, dim=1)\n",
    "        \n",
    "        loss = criterion(input=logits, target=y)\n",
    "        test_loss.append(loss.item())\n",
    "        \n",
    "        acc += torch.sum(y_hat==y)\n",
    "        \n",
    "        for i in range(len(y)):\n",
    "            a = y[i].item()\n",
    "            p = y_hat[i].item()\n",
    "            \n",
    "            \n",
    "            acc_per_class[a][1] += 1\n",
    "            acc_per_class[p][2] += 1\n",
    "            if a == p:\n",
    "                acc_per_class[a][0] += 1\n",
    "        \n",
    "    print('Student with true dataset:')\n",
    "    print(f'test_loss = {sum(test_loss)/len(test_loss):.4f}')                  # 1.7439;  1.6199\n",
    "    print(f'test_accuracy = {100*acc/len(true_dataset.test_dataset):.2f}%')    # 46.09%;  48.57%\n",
    "    print()\n",
    "    \n",
    "for k,v in acc_per_class.items():\n",
    "    print(f'Class {label_mapper_inv[k]}: pred={v[0]}, actual={v[1]} => acc={v[0]*100/v[1]:.2f}%, total_pred={v[2]}')"
   ]
  },
  {
   "cell_type": "code",
   "execution_count": 19,
   "metadata": {
    "id": "B_lJlsr0JlVs"
   },
   "outputs": [],
   "source": [
    "import matplotlib.pyplot as plt\n",
    "\n",
    "\n",
    "def plot_db(X_embedded, labels_cpu):\n",
    "  # scale and move the coordinates so they fit [0; 1] range\n",
    "  def scale_to_01_range(x):\n",
    "      # compute the distribution range\n",
    "      value_range = (np.max(x) - np.min(x))\n",
    "  \n",
    "      # move the distribution so that it starts from zero\n",
    "      # by extracting the minimal value from all its values\n",
    "      starts_from_zero = x - np.min(x)\n",
    "  \n",
    "      # make the distribution fit [0; 1] by dividing by its range\n",
    "      return starts_from_zero / value_range\n",
    "  \n",
    "  # extract x and y coordinates representing the positions of the images on T-SNE plot\n",
    "  tx = X_embedded[:, 0]\n",
    "  ty = X_embedded[:, 1]\n",
    "  \n",
    "  tx = scale_to_01_range(tx)\n",
    "  ty = scale_to_01_range(ty)\n",
    "\n",
    "  # initialize a matplotlib plot\n",
    "  fig = plt.figure(figsize=(6, 6), dpi=144)\n",
    "  ax = fig.add_subplot(111)\n",
    "  \n",
    "  # for every class, we'll add a scatter plot separately\n",
    "  for label in range(10):\n",
    "      # find the samples of the current class in the data\n",
    "      indices = [i for i, l in enumerate(labels_cpu) if l == label]\n",
    "  \n",
    "      # extract the coordinates of the points of this class only\n",
    "      current_tx = np.take(tx, indices)\n",
    "      current_ty = np.take(ty, indices)\n",
    "  \n",
    "      # add a scatter plot with the corresponding color and label\n",
    "      ax.scatter(current_tx, current_ty, label=label)\n",
    "  \n",
    "  # build a legend using the labels we set previously\n",
    "  ax.legend(loc='best')\n",
    "  \n",
    "  # finally, show the plot\n",
    "  plt.show()"
   ]
  },
  {
   "cell_type": "code",
   "execution_count": 20,
   "metadata": {
    "colab": {
     "base_uri": "https://localhost:8080/",
     "height": 802
    },
    "id": "We2WHCULH9nX",
    "outputId": "7ffd8af2-c076-41e5-ad6c-d30c6f2a5ab7"
   },
   "outputs": [
    {
     "name": "stderr",
     "output_type": "stream",
     "text": [
      "/home/vhondru/.local/lib/python3.10/site-packages/sklearn/manifold/_t_sne.py:800: FutureWarning: The default initialization in TSNE will change from 'random' to 'pca' in 1.2.\n",
      "  warnings.warn(\n",
      "/home/vhondru/.local/lib/python3.10/site-packages/sklearn/manifold/_t_sne.py:810: FutureWarning: The default learning rate in TSNE will change from 200.0 to 'auto' in 1.2.\n",
      "  warnings.warn(\n"
     ]
    },
    {
     "data": {
      "image/png": "[encoded data removed]",
      "text/plain": [
       "<Figure size 864x864 with 1 Axes>"
      ]
     },
     "metadata": {},
     "output_type": "display_data"
    }
   ],
   "source": [
    "from sklearn.manifold import TSNE\n",
    "\n",
    "\n",
    "tsne = TSNE()\n",
    "images_cpu = [im.cpu().numpy().flatten() for im in images_db]\n",
    "labels_cpu = [l.cpu().numpy().argmax() for l in labels_db]\n",
    "X_embedded = tsne.fit_transform(np.array(images_cpu), np.array(labels_cpu))\n",
    "\n",
    "plot_db(X_embedded, labels_cpu)"
   ]
  },
  {
   "cell_type": "code",
   "execution_count": null,
   "metadata": {},
   "outputs": [],
   "source": []
  }
 ],
 "metadata": {
  "accelerator": "GPU",
  "colab": {
   "provenance": []
  },
  "gpuClass": "standard",
  "kernelspec": {
   "display_name": "Python 3",
   "language": "python",
   "name": "python3"
  },
  "language_info": {
   "codemirror_mode": {
    "name": "ipython",
    "version": 3
   },
   "file_extension": ".py",
   "mimetype": "text/x-python",
   "name": "python",
   "nbconvert_exporter": "python",
   "pygments_lexer": "ipython3",
   "version": "3.10.6 (main, Nov 14 2022, 16:10:14) [GCC 11.3.0]"
  },
  "vscode": {
   "interpreter": {
    "hash": "916dbcbb3f70747c44a77c7bcd40155683ae19c65e1c03b4aa3499c5328201f1"
   }
  },
  "widgets": {
   "application/vnd.jupyter.widget-state+json": {
    "058124347df04f2a81d75544c5fb8809": {
     "model_module": "@jupyter-widgets/base",
     "model_module_version": "1.2.0",
     "model_name": "LayoutModel",
     "state": {
      "_model_module": "@jupyter-widgets/base",
      "_model_module_version": "1.2.0",
      "_model_name": "LayoutModel",
      "_view_count": null,
      "_view_module": "@jupyter-widgets/base",
      "_view_module_version": "1.2.0",
      "_view_name": "LayoutView",
      "align_content": null,
      "align_items": null,
      "align_self": null,
      "border": null,
      "bottom": null,
      "display": null,
      "flex": null,
      "flex_flow": null,
      "grid_area": null,
      "grid_auto_columns": null,
      "grid_auto_flow": null,
      "grid_auto_rows": null,
      "grid_column": null,
      "grid_gap": null,
      "grid_row": null,
      "grid_template_areas": null,
      "grid_template_columns": null,
      "grid_template_rows": null,
      "height": null,
      "justify_content": null,
      "justify_items": null,
      "left": null,
      "margin": null,
      "max_height": null,
      "max_width": null,
      "min_height": null,
      "min_width": null,
      "object_fit": null,
      "object_position": null,
      "order": null,
      "overflow": null,
      "overflow_x": null,
      "overflow_y": null,
      "padding": null,
      "right": null,
      "top": null,
      "visibility": null,
      "width": null
     }
    },
    "0d4acd03fa734e9db4bb7389ae2f19b4": {
     "model_module": "@jupyter-widgets/base",
     "model_module_version": "1.2.0",
     "model_name": "LayoutModel",
     "state": {
      "_model_module": "@jupyter-widgets/base",
      "_model_module_version": "1.2.0",
      "_model_name": "LayoutModel",
      "_view_count": null,
      "_view_module": "@jupyter-widgets/base",
      "_view_module_version": "1.2.0",
      "_view_name": "LayoutView",
      "align_content": null,
      "align_items": null,
      "align_self": null,
      "border": null,
      "bottom": null,
      "display": null,
      "flex": null,
      "flex_flow": null,
      "grid_area": null,
      "grid_auto_columns": null,
      "grid_auto_flow": null,
      "grid_auto_rows": null,
      "grid_column": null,
      "grid_gap": null,
      "grid_row": null,
      "grid_template_areas": null,
      "grid_template_columns": null,
      "grid_template_rows": null,
      "height": null,
      "justify_content": null,
      "justify_items": null,
      "left": null,
      "margin": null,
      "max_height": null,
      "max_width": null,
      "min_height": null,
      "min_width": null,
      "object_fit": null,
      "object_position": null,
      "order": null,
      "overflow": null,
      "overflow_x": null,
      "overflow_y": null,
      "padding": null,
      "right": null,
      "top": null,
      "visibility": null,
      "width": null
     }
    },
    "0dc49d11d2434b568a3f6c3ad5b05c09": {
     "model_module": "@jupyter-widgets/controls",
     "model_module_version": "1.5.0",
     "model_name": "HTMLModel",
     "state": {
      "_dom_classes": [],
      "_model_module": "@jupyter-widgets/controls",
      "_model_module_version": "1.5.0",
      "_model_name": "HTMLModel",
      "_view_count": null,
      "_view_module": "@jupyter-widgets/controls",
      "_view_module_version": "1.5.0",
      "_view_name": "HTMLView",
      "description": "",
      "description_tooltip": null,
      "layout": "IPY_MODEL_0d4acd03fa734e9db4bb7389ae2f19b4",
      "placeholder": "​",
      "style": "IPY_MODEL_81d6479563414e36ae8103bbb16bd9a3",
      "value": " 1600/1600 [00:40&lt;00:00, 55.51it/s]"
     }
    },
    "18d7a2f2052141c9aaa53bf57a3bc1b3": {
     "model_module": "@jupyter-widgets/base",
     "model_module_version": "1.2.0",
     "model_name": "LayoutModel",
     "state": {
      "_model_module": "@jupyter-widgets/base",
      "_model_module_version": "1.2.0",
      "_model_name": "LayoutModel",
      "_view_count": null,
      "_view_module": "@jupyter-widgets/base",
      "_view_module_version": "1.2.0",
      "_view_name": "LayoutView",
      "align_content": null,
      "align_items": null,
      "align_self": null,
      "border": null,
      "bottom": null,
      "display": null,
      "flex": null,
      "flex_flow": null,
      "grid_area": null,
      "grid_auto_columns": null,
      "grid_auto_flow": null,
      "grid_auto_rows": null,
      "grid_column": null,
      "grid_gap": null,
      "grid_row": null,
      "grid_template_areas": null,
      "grid_template_columns": null,
      "grid_template_rows": null,
      "height": null,
      "justify_content": null,
      "justify_items": null,
      "left": null,
      "margin": null,
      "max_height": null,
      "max_width": null,
      "min_height": null,
      "min_width": null,
      "object_fit": null,
      "object_position": null,
      "order": null,
      "overflow": null,
      "overflow_x": null,
      "overflow_y": null,
      "padding": null,
      "right": null,
      "top": null,
      "visibility": null,
      "width": null
     }
    },
    "2c46b959bee7429f8da5394790591907": {
     "model_module": "@jupyter-widgets/controls",
     "model_module_version": "1.5.0",
     "model_name": "FloatProgressModel",
     "state": {
      "_dom_classes": [],
      "_model_module": "@jupyter-widgets/controls",
      "_model_module_version": "1.5.0",
      "_model_name": "FloatProgressModel",
      "_view_count": null,
      "_view_module": "@jupyter-widgets/controls",
      "_view_module_version": "1.5.0",
      "_view_name": "ProgressView",
      "bar_style": "danger",
      "description": "",
      "description_tooltip": null,
      "layout": "IPY_MODEL_55ddff88b8b3439dab43efc612bce63e",
      "max": 18432,
      "min": 0,
      "orientation": "horizontal",
      "style": "IPY_MODEL_3d62cb4fdf2a4dca91cf7669f75826f9",
      "value": 1815
     }
    },
    "3336807a7d144bbb9283a68a327852d5": {
     "model_module": "@jupyter-widgets/controls",
     "model_module_version": "1.5.0",
     "model_name": "DescriptionStyleModel",
     "state": {
      "_model_module": "@jupyter-widgets/controls",
      "_model_module_version": "1.5.0",
      "_model_name": "DescriptionStyleModel",
      "_view_count": null,
      "_view_module": "@jupyter-widgets/base",
      "_view_module_version": "1.2.0",
      "_view_name": "StyleView",
      "description_width": ""
     }
    },
    "3d62cb4fdf2a4dca91cf7669f75826f9": {
     "model_module": "@jupyter-widgets/controls",
     "model_module_version": "1.5.0",
     "model_name": "ProgressStyleModel",
     "state": {
      "_model_module": "@jupyter-widgets/controls",
      "_model_module_version": "1.5.0",
      "_model_name": "ProgressStyleModel",
      "_view_count": null,
      "_view_module": "@jupyter-widgets/base",
      "_view_module_version": "1.2.0",
      "_view_name": "StyleView",
      "bar_color": null,
      "description_width": ""
     }
    },
    "41f1cf625859422092090d52e3794b68": {
     "model_module": "@jupyter-widgets/base",
     "model_module_version": "1.2.0",
     "model_name": "LayoutModel",
     "state": {
      "_model_module": "@jupyter-widgets/base",
      "_model_module_version": "1.2.0",
      "_model_name": "LayoutModel",
      "_view_count": null,
      "_view_module": "@jupyter-widgets/base",
      "_view_module_version": "1.2.0",
      "_view_name": "LayoutView",
      "align_content": null,
      "align_items": null,
      "align_self": null,
      "border": null,
      "bottom": null,
      "display": null,
      "flex": null,
      "flex_flow": null,
      "grid_area": null,
      "grid_auto_columns": null,
      "grid_auto_flow": null,
      "grid_auto_rows": null,
      "grid_column": null,
      "grid_gap": null,
      "grid_row": null,
      "grid_template_areas": null,
      "grid_template_columns": null,
      "grid_template_rows": null,
      "height": null,
      "justify_content": null,
      "justify_items": null,
      "left": null,
      "margin": null,
      "max_height": null,
      "max_width": null,
      "min_height": null,
      "min_width": null,
      "object_fit": null,
      "object_position": null,
      "order": null,
      "overflow": null,
      "overflow_x": null,
      "overflow_y": null,
      "padding": null,
      "right": null,
      "top": null,
      "visibility": null,
      "width": null
     }
    },
    "41ff2b73bc49402fbd500c9124cf55b9": {
     "model_module": "@jupyter-widgets/controls",
     "model_module_version": "1.5.0",
     "model_name": "DescriptionStyleModel",
     "state": {
      "_model_module": "@jupyter-widgets/controls",
      "_model_module_version": "1.5.0",
      "_model_name": "DescriptionStyleModel",
      "_view_count": null,
      "_view_module": "@jupyter-widgets/base",
      "_view_module_version": "1.2.0",
      "_view_name": "StyleView",
      "description_width": ""
     }
    },
    "4a9fb0df830a43d798a94a9e00cfe022": {
     "model_module": "@jupyter-widgets/controls",
     "model_module_version": "1.5.0",
     "model_name": "DescriptionStyleModel",
     "state": {
      "_model_module": "@jupyter-widgets/controls",
      "_model_module_version": "1.5.0",
      "_model_name": "DescriptionStyleModel",
      "_view_count": null,
      "_view_module": "@jupyter-widgets/base",
      "_view_module_version": "1.2.0",
      "_view_name": "StyleView",
      "description_width": ""
     }
    },
    "50e7dda7941449cfb47e8d3945208fdb": {
     "model_module": "@jupyter-widgets/base",
     "model_module_version": "1.2.0",
     "model_name": "LayoutModel",
     "state": {
      "_model_module": "@jupyter-widgets/base",
      "_model_module_version": "1.2.0",
      "_model_name": "LayoutModel",
      "_view_count": null,
      "_view_module": "@jupyter-widgets/base",
      "_view_module_version": "1.2.0",
      "_view_name": "LayoutView",
      "align_content": null,
      "align_items": null,
      "align_self": null,
      "border": null,
      "bottom": null,
      "display": null,
      "flex": null,
      "flex_flow": null,
      "grid_area": null,
      "grid_auto_columns": null,
      "grid_auto_flow": null,
      "grid_auto_rows": null,
      "grid_column": null,
      "grid_gap": null,
      "grid_row": null,
      "grid_template_areas": null,
      "grid_template_columns": null,
      "grid_template_rows": null,
      "height": null,
      "justify_content": null,
      "justify_items": null,
      "left": null,
      "margin": null,
      "max_height": null,
      "max_width": null,
      "min_height": null,
      "min_width": null,
      "object_fit": null,
      "object_position": null,
      "order": null,
      "overflow": null,
      "overflow_x": null,
      "overflow_y": null,
      "padding": null,
      "right": null,
      "top": null,
      "visibility": null,
      "width": null
     }
    },
    "530f03e592b04992ad8864021b2d6033": {
     "model_module": "@jupyter-widgets/controls",
     "model_module_version": "1.5.0",
     "model_name": "HTMLModel",
     "state": {
      "_dom_classes": [],
      "_model_module": "@jupyter-widgets/controls",
      "_model_module_version": "1.5.0",
      "_model_name": "HTMLModel",
      "_view_count": null,
      "_view_module": "@jupyter-widgets/controls",
      "_view_module_version": "1.5.0",
      "_view_name": "HTMLView",
      "description": "",
      "description_tooltip": null,
      "layout": "IPY_MODEL_ce773a8dc12b4920b3a9f6c46e2a6ea4",
      "placeholder": "​",
      "style": "IPY_MODEL_a5d582694fb04c6fac9d10f2c6ef29d4",
      "value": "100%"
     }
    },
    "5392c16b86e84cceb68915753a0531cb": {
     "model_module": "@jupyter-widgets/controls",
     "model_module_version": "1.5.0",
     "model_name": "HTMLModel",
     "state": {
      "_dom_classes": [],
      "_model_module": "@jupyter-widgets/controls",
      "_model_module_version": "1.5.0",
      "_model_name": "HTMLModel",
      "_view_count": null,
      "_view_module": "@jupyter-widgets/controls",
      "_view_module_version": "1.5.0",
      "_view_name": "HTMLView",
      "description": "",
      "description_tooltip": null,
      "layout": "IPY_MODEL_50e7dda7941449cfb47e8d3945208fdb",
      "placeholder": "​",
      "style": "IPY_MODEL_4a9fb0df830a43d798a94a9e00cfe022",
      "value": " 170498071/170498071 [00:05&lt;00:00, 33555457.81it/s]"
     }
    },
    "551ec62854e64a6a89e2550b4eb22e52": {
     "model_module": "@jupyter-widgets/base",
     "model_module_version": "1.2.0",
     "model_name": "LayoutModel",
     "state": {
      "_model_module": "@jupyter-widgets/base",
      "_model_module_version": "1.2.0",
      "_model_name": "LayoutModel",
      "_view_count": null,
      "_view_module": "@jupyter-widgets/base",
      "_view_module_version": "1.2.0",
      "_view_name": "LayoutView",
      "align_content": null,
      "align_items": null,
      "align_self": null,
      "border": null,
      "bottom": null,
      "display": null,
      "flex": null,
      "flex_flow": null,
      "grid_area": null,
      "grid_auto_columns": null,
      "grid_auto_flow": null,
      "grid_auto_rows": null,
      "grid_column": null,
      "grid_gap": null,
      "grid_row": null,
      "grid_template_areas": null,
      "grid_template_columns": null,
      "grid_template_rows": null,
      "height": null,
      "justify_content": null,
      "justify_items": null,
      "left": null,
      "margin": null,
      "max_height": null,
      "max_width": null,
      "min_height": null,
      "min_width": null,
      "object_fit": null,
      "object_position": null,
      "order": null,
      "overflow": null,
      "overflow_x": null,
      "overflow_y": null,
      "padding": null,
      "right": null,
      "top": null,
      "visibility": null,
      "width": null
     }
    },
    "55ddff88b8b3439dab43efc612bce63e": {
     "model_module": "@jupyter-widgets/base",
     "model_module_version": "1.2.0",
     "model_name": "LayoutModel",
     "state": {
      "_model_module": "@jupyter-widgets/base",
      "_model_module_version": "1.2.0",
      "_model_name": "LayoutModel",
      "_view_count": null,
      "_view_module": "@jupyter-widgets/base",
      "_view_module_version": "1.2.0",
      "_view_name": "LayoutView",
      "align_content": null,
      "align_items": null,
      "align_self": null,
      "border": null,
      "bottom": null,
      "display": null,
      "flex": null,
      "flex_flow": null,
      "grid_area": null,
      "grid_auto_columns": null,
      "grid_auto_flow": null,
      "grid_auto_rows": null,
      "grid_column": null,
      "grid_gap": null,
      "grid_row": null,
      "grid_template_areas": null,
      "grid_template_columns": null,
      "grid_template_rows": null,
      "height": null,
      "justify_content": null,
      "justify_items": null,
      "left": null,
      "margin": null,
      "max_height": null,
      "max_width": null,
      "min_height": null,
      "min_width": null,
      "object_fit": null,
      "object_position": null,
      "order": null,
      "overflow": null,
      "overflow_x": null,
      "overflow_y": null,
      "padding": null,
      "right": null,
      "top": null,
      "visibility": null,
      "width": null
     }
    },
    "591ae5d8878a4378aae207c92ed81f4f": {
     "model_module": "@jupyter-widgets/controls",
     "model_module_version": "1.5.0",
     "model_name": "HBoxModel",
     "state": {
      "_dom_classes": [],
      "_model_module": "@jupyter-widgets/controls",
      "_model_module_version": "1.5.0",
      "_model_name": "HBoxModel",
      "_view_count": null,
      "_view_module": "@jupyter-widgets/controls",
      "_view_module_version": "1.5.0",
      "_view_name": "HBoxView",
      "box_style": "",
      "children": [
       "IPY_MODEL_530f03e592b04992ad8864021b2d6033",
       "IPY_MODEL_94031723b8be497f952269c328453ed4",
       "IPY_MODEL_5392c16b86e84cceb68915753a0531cb"
      ],
      "layout": "IPY_MODEL_90c6aca45b9d42fcb3d6e5be3a7728f2"
     }
    },
    "6b2c1311df4c4fa3a60d3a466d809e66": {
     "model_module": "@jupyter-widgets/base",
     "model_module_version": "1.2.0",
     "model_name": "LayoutModel",
     "state": {
      "_model_module": "@jupyter-widgets/base",
      "_model_module_version": "1.2.0",
      "_model_name": "LayoutModel",
      "_view_count": null,
      "_view_module": "@jupyter-widgets/base",
      "_view_module_version": "1.2.0",
      "_view_name": "LayoutView",
      "align_content": null,
      "align_items": null,
      "align_self": null,
      "border": null,
      "bottom": null,
      "display": null,
      "flex": null,
      "flex_flow": null,
      "grid_area": null,
      "grid_auto_columns": null,
      "grid_auto_flow": null,
      "grid_auto_rows": null,
      "grid_column": null,
      "grid_gap": null,
      "grid_row": null,
      "grid_template_areas": null,
      "grid_template_columns": null,
      "grid_template_rows": null,
      "height": null,
      "justify_content": null,
      "justify_items": null,
      "left": null,
      "margin": null,
      "max_height": null,
      "max_width": null,
      "min_height": null,
      "min_width": null,
      "object_fit": null,
      "object_position": null,
      "order": null,
      "overflow": null,
      "overflow_x": null,
      "overflow_y": null,
      "padding": null,
      "right": null,
      "top": null,
      "visibility": null,
      "width": null
     }
    },
    "6dc31f9f92cc4ecb847630272fff1758": {
     "model_module": "@jupyter-widgets/controls",
     "model_module_version": "1.5.0",
     "model_name": "ProgressStyleModel",
     "state": {
      "_model_module": "@jupyter-widgets/controls",
      "_model_module_version": "1.5.0",
      "_model_name": "ProgressStyleModel",
      "_view_count": null,
      "_view_module": "@jupyter-widgets/base",
      "_view_module_version": "1.2.0",
      "_view_name": "StyleView",
      "bar_color": null,
      "description_width": ""
     }
    },
    "72ff93bf4145408b801f99485950f2da": {
     "model_module": "@jupyter-widgets/controls",
     "model_module_version": "1.5.0",
     "model_name": "HTMLModel",
     "state": {
      "_dom_classes": [],
      "_model_module": "@jupyter-widgets/controls",
      "_model_module_version": "1.5.0",
      "_model_name": "HTMLModel",
      "_view_count": null,
      "_view_module": "@jupyter-widgets/controls",
      "_view_module_version": "1.5.0",
      "_view_name": "HTMLView",
      "description": "",
      "description_tooltip": null,
      "layout": "IPY_MODEL_6b2c1311df4c4fa3a60d3a466d809e66",
      "placeholder": "​",
      "style": "IPY_MODEL_c86c144c3c9e41358633aa78509d3de7",
      "value": " 10%"
     }
    },
    "81d6479563414e36ae8103bbb16bd9a3": {
     "model_module": "@jupyter-widgets/controls",
     "model_module_version": "1.5.0",
     "model_name": "DescriptionStyleModel",
     "state": {
      "_model_module": "@jupyter-widgets/controls",
      "_model_module_version": "1.5.0",
      "_model_name": "DescriptionStyleModel",
      "_view_count": null,
      "_view_module": "@jupyter-widgets/base",
      "_view_module_version": "1.2.0",
      "_view_name": "StyleView",
      "description_width": ""
     }
    },
    "8282f6bd64d344e9aa0e2cdc5deedb50": {
     "model_module": "@jupyter-widgets/controls",
     "model_module_version": "1.5.0",
     "model_name": "HBoxModel",
     "state": {
      "_dom_classes": [],
      "_model_module": "@jupyter-widgets/controls",
      "_model_module_version": "1.5.0",
      "_model_name": "HBoxModel",
      "_view_count": null,
      "_view_module": "@jupyter-widgets/controls",
      "_view_module_version": "1.5.0",
      "_view_name": "HBoxView",
      "box_style": "",
      "children": [
       "IPY_MODEL_b7c4c95db21e4c4dbb6cd50f4bb22a1a",
       "IPY_MODEL_9aa9c5d37cbb4a7987c84c6061cbafa6",
       "IPY_MODEL_0dc49d11d2434b568a3f6c3ad5b05c09"
      ],
      "layout": "IPY_MODEL_18d7a2f2052141c9aaa53bf57a3bc1b3"
     }
    },
    "90c6aca45b9d42fcb3d6e5be3a7728f2": {
     "model_module": "@jupyter-widgets/base",
     "model_module_version": "1.2.0",
     "model_name": "LayoutModel",
     "state": {
      "_model_module": "@jupyter-widgets/base",
      "_model_module_version": "1.2.0",
      "_model_name": "LayoutModel",
      "_view_count": null,
      "_view_module": "@jupyter-widgets/base",
      "_view_module_version": "1.2.0",
      "_view_name": "LayoutView",
      "align_content": null,
      "align_items": null,
      "align_self": null,
      "border": null,
      "bottom": null,
      "display": null,
      "flex": null,
      "flex_flow": null,
      "grid_area": null,
      "grid_auto_columns": null,
      "grid_auto_flow": null,
      "grid_auto_rows": null,
      "grid_column": null,
      "grid_gap": null,
      "grid_row": null,
      "grid_template_areas": null,
      "grid_template_columns": null,
      "grid_template_rows": null,
      "height": null,
      "justify_content": null,
      "justify_items": null,
      "left": null,
      "margin": null,
      "max_height": null,
      "max_width": null,
      "min_height": null,
      "min_width": null,
      "object_fit": null,
      "object_position": null,
      "order": null,
      "overflow": null,
      "overflow_x": null,
      "overflow_y": null,
      "padding": null,
      "right": null,
      "top": null,
      "visibility": null,
      "width": null
     }
    },
    "94031723b8be497f952269c328453ed4": {
     "model_module": "@jupyter-widgets/controls",
     "model_module_version": "1.5.0",
     "model_name": "FloatProgressModel",
     "state": {
      "_dom_classes": [],
      "_model_module": "@jupyter-widgets/controls",
      "_model_module_version": "1.5.0",
      "_model_name": "FloatProgressModel",
      "_view_count": null,
      "_view_module": "@jupyter-widgets/controls",
      "_view_module_version": "1.5.0",
      "_view_name": "ProgressView",
      "bar_style": "success",
      "description": "",
      "description_tooltip": null,
      "layout": "IPY_MODEL_d4cdc9b0b6cb4ba5ab63630a8bb01ba4",
      "max": 170498071,
      "min": 0,
      "orientation": "horizontal",
      "style": "IPY_MODEL_6dc31f9f92cc4ecb847630272fff1758",
      "value": 170498071
     }
    },
    "9aa9c5d37cbb4a7987c84c6061cbafa6": {
     "model_module": "@jupyter-widgets/controls",
     "model_module_version": "1.5.0",
     "model_name": "FloatProgressModel",
     "state": {
      "_dom_classes": [],
      "_model_module": "@jupyter-widgets/controls",
      "_model_module_version": "1.5.0",
      "_model_name": "FloatProgressModel",
      "_view_count": null,
      "_view_module": "@jupyter-widgets/controls",
      "_view_module_version": "1.5.0",
      "_view_name": "ProgressView",
      "bar_style": "success",
      "description": "",
      "description_tooltip": null,
      "layout": "IPY_MODEL_058124347df04f2a81d75544c5fb8809",
      "max": 1600,
      "min": 0,
      "orientation": "horizontal",
      "style": "IPY_MODEL_f0f5ea82811c49bfb0a55154cc9cd30d",
      "value": 1600
     }
    },
    "a5d582694fb04c6fac9d10f2c6ef29d4": {
     "model_module": "@jupyter-widgets/controls",
     "model_module_version": "1.5.0",
     "model_name": "DescriptionStyleModel",
     "state": {
      "_model_module": "@jupyter-widgets/controls",
      "_model_module_version": "1.5.0",
      "_model_name": "DescriptionStyleModel",
      "_view_count": null,
      "_view_module": "@jupyter-widgets/base",
      "_view_module_version": "1.2.0",
      "_view_name": "StyleView",
      "description_width": ""
     }
    },
    "a8f2e2541be5409e86fae758d5f69b6a": {
     "model_module": "@jupyter-widgets/controls",
     "model_module_version": "1.5.0",
     "model_name": "HBoxModel",
     "state": {
      "_dom_classes": [],
      "_model_module": "@jupyter-widgets/controls",
      "_model_module_version": "1.5.0",
      "_model_name": "HBoxModel",
      "_view_count": null,
      "_view_module": "@jupyter-widgets/controls",
      "_view_module_version": "1.5.0",
      "_view_name": "HBoxView",
      "box_style": "",
      "children": [
       "IPY_MODEL_72ff93bf4145408b801f99485950f2da",
       "IPY_MODEL_2c46b959bee7429f8da5394790591907",
       "IPY_MODEL_e6cea5484f5444a8aae4b68e4cca9677"
      ],
      "layout": "IPY_MODEL_c848b3bad8924d55976b7a3c3b6acde8"
     }
    },
    "b7c4c95db21e4c4dbb6cd50f4bb22a1a": {
     "model_module": "@jupyter-widgets/controls",
     "model_module_version": "1.5.0",
     "model_name": "HTMLModel",
     "state": {
      "_dom_classes": [],
      "_model_module": "@jupyter-widgets/controls",
      "_model_module_version": "1.5.0",
      "_model_name": "HTMLModel",
      "_view_count": null,
      "_view_module": "@jupyter-widgets/controls",
      "_view_module_version": "1.5.0",
      "_view_name": "HTMLView",
      "description": "",
      "description_tooltip": null,
      "layout": "IPY_MODEL_551ec62854e64a6a89e2550b4eb22e52",
      "placeholder": "​",
      "style": "IPY_MODEL_3336807a7d144bbb9283a68a327852d5",
      "value": "100%"
     }
    },
    "c848b3bad8924d55976b7a3c3b6acde8": {
     "model_module": "@jupyter-widgets/base",
     "model_module_version": "1.2.0",
     "model_name": "LayoutModel",
     "state": {
      "_model_module": "@jupyter-widgets/base",
      "_model_module_version": "1.2.0",
      "_model_name": "LayoutModel",
      "_view_count": null,
      "_view_module": "@jupyter-widgets/base",
      "_view_module_version": "1.2.0",
      "_view_name": "LayoutView",
      "align_content": null,
      "align_items": null,
      "align_self": null,
      "border": null,
      "bottom": null,
      "display": null,
      "flex": null,
      "flex_flow": null,
      "grid_area": null,
      "grid_auto_columns": null,
      "grid_auto_flow": null,
      "grid_auto_rows": null,
      "grid_column": null,
      "grid_gap": null,
      "grid_row": null,
      "grid_template_areas": null,
      "grid_template_columns": null,
      "grid_template_rows": null,
      "height": null,
      "justify_content": null,
      "justify_items": null,
      "left": null,
      "margin": null,
      "max_height": null,
      "max_width": null,
      "min_height": null,
      "min_width": null,
      "object_fit": null,
      "object_position": null,
      "order": null,
      "overflow": null,
      "overflow_x": null,
      "overflow_y": null,
      "padding": null,
      "right": null,
      "top": null,
      "visibility": null,
      "width": null
     }
    },
    "c86c144c3c9e41358633aa78509d3de7": {
     "model_module": "@jupyter-widgets/controls",
     "model_module_version": "1.5.0",
     "model_name": "DescriptionStyleModel",
     "state": {
      "_model_module": "@jupyter-widgets/controls",
      "_model_module_version": "1.5.0",
      "_model_name": "DescriptionStyleModel",
      "_view_count": null,
      "_view_module": "@jupyter-widgets/base",
      "_view_module_version": "1.2.0",
      "_view_name": "StyleView",
      "description_width": ""
     }
    },
    "ce773a8dc12b4920b3a9f6c46e2a6ea4": {
     "model_module": "@jupyter-widgets/base",
     "model_module_version": "1.2.0",
     "model_name": "LayoutModel",
     "state": {
      "_model_module": "@jupyter-widgets/base",
      "_model_module_version": "1.2.0",
      "_model_name": "LayoutModel",
      "_view_count": null,
      "_view_module": "@jupyter-widgets/base",
      "_view_module_version": "1.2.0",
      "_view_name": "LayoutView",
      "align_content": null,
      "align_items": null,
      "align_self": null,
      "border": null,
      "bottom": null,
      "display": null,
      "flex": null,
      "flex_flow": null,
      "grid_area": null,
      "grid_auto_columns": null,
      "grid_auto_flow": null,
      "grid_auto_rows": null,
      "grid_column": null,
      "grid_gap": null,
      "grid_row": null,
      "grid_template_areas": null,
      "grid_template_columns": null,
      "grid_template_rows": null,
      "height": null,
      "justify_content": null,
      "justify_items": null,
      "left": null,
      "margin": null,
      "max_height": null,
      "max_width": null,
      "min_height": null,
      "min_width": null,
      "object_fit": null,
      "object_position": null,
      "order": null,
      "overflow": null,
      "overflow_x": null,
      "overflow_y": null,
      "padding": null,
      "right": null,
      "top": null,
      "visibility": null,
      "width": null
     }
    },
    "d4cdc9b0b6cb4ba5ab63630a8bb01ba4": {
     "model_module": "@jupyter-widgets/base",
     "model_module_version": "1.2.0",
     "model_name": "LayoutModel",
     "state": {
      "_model_module": "@jupyter-widgets/base",
      "_model_module_version": "1.2.0",
      "_model_name": "LayoutModel",
      "_view_count": null,
      "_view_module": "@jupyter-widgets/base",
      "_view_module_version": "1.2.0",
      "_view_name": "LayoutView",
      "align_content": null,
      "align_items": null,
      "align_self": null,
      "border": null,
      "bottom": null,
      "display": null,
      "flex": null,
      "flex_flow": null,
      "grid_area": null,
      "grid_auto_columns": null,
      "grid_auto_flow": null,
      "grid_auto_rows": null,
      "grid_column": null,
      "grid_gap": null,
      "grid_row": null,
      "grid_template_areas": null,
      "grid_template_columns": null,
      "grid_template_rows": null,
      "height": null,
      "justify_content": null,
      "justify_items": null,
      "left": null,
      "margin": null,
      "max_height": null,
      "max_width": null,
      "min_height": null,
      "min_width": null,
      "object_fit": null,
      "object_position": null,
      "order": null,
      "overflow": null,
      "overflow_x": null,
      "overflow_y": null,
      "padding": null,
      "right": null,
      "top": null,
      "visibility": null,
      "width": null
     }
    },
    "e6cea5484f5444a8aae4b68e4cca9677": {
     "model_module": "@jupyter-widgets/controls",
     "model_module_version": "1.5.0",
     "model_name": "HTMLModel",
     "state": {
      "_dom_classes": [],
      "_model_module": "@jupyter-widgets/controls",
      "_model_module_version": "1.5.0",
      "_model_name": "HTMLModel",
      "_view_count": null,
      "_view_module": "@jupyter-widgets/controls",
      "_view_module_version": "1.5.0",
      "_view_name": "HTMLView",
      "description": "",
      "description_tooltip": null,
      "layout": "IPY_MODEL_41f1cf625859422092090d52e3794b68",
      "placeholder": "​",
      "style": "IPY_MODEL_41ff2b73bc49402fbd500c9124cf55b9",
      "value": " 1815/18432 [04:20&lt;37:30,  7.38it/s]"
     }
    },
    "f0f5ea82811c49bfb0a55154cc9cd30d": {
     "model_module": "@jupyter-widgets/controls",
     "model_module_version": "1.5.0",
     "model_name": "ProgressStyleModel",
     "state": {
      "_model_module": "@jupyter-widgets/controls",
      "_model_module_version": "1.5.0",
      "_model_name": "ProgressStyleModel",
      "_view_count": null,
      "_view_module": "@jupyter-widgets/base",
      "_view_module_version": "1.2.0",
      "_view_name": "StyleView",
      "bar_color": null,
      "description_width": ""
     }
    }
   }
  }
 },
 "nbformat": 4,
 "nbformat_minor": 4
}
