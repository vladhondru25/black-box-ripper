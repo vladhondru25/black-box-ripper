{
 "cells": [
  {
   "cell_type": "code",
   "execution_count": 1,
   "metadata": {
    "id": "1RlCqi-d0eTG"
   },
   "outputs": [],
   "source": [
    "%load_ext autoreload\n",
    "%autoreload 2"
   ]
  },
  {
   "cell_type": "code",
   "execution_count": 2,
   "metadata": {
    "id": "zsEy0GL2zk0A"
   },
   "outputs": [],
   "source": [
    "import os\n",
    "import numpy as np\n",
    "import torch\n",
    "import torchvision.transforms as T\n",
    "from shutil import rmtree\n",
    "from sklearn.model_selection import train_test_split\n",
    "from tqdm.autonotebook import tqdm, trange\n",
    "from torch.nn.functional import softmax\n",
    "from torch.utils.data import Dataset, DataLoader\n",
    "from torchvision.io import read_image\n",
    "from torchvision.datasets import ImageFolder\n",
    "\n",
    "from predictors.alexnet import Alexnet\n",
    "from predictors.half_alexnet import HalfAlexnet\n",
    "\n",
    "from datasets import CIFAR10, ProxyDataset\n",
    "\n",
    "%matplotlib inline"
   ]
  },
  {
   "cell_type": "code",
   "execution_count": 3,
   "metadata": {
    "id": "z2QTVln9zk0D"
   },
   "outputs": [
    {
     "data": {
      "text/plain": [
       "device(type='cuda')"
      ]
     },
     "execution_count": 3,
     "metadata": {},
     "output_type": "execute_result"
    }
   ],
   "source": [
    "LR = 0.001\n",
    "EPOCHS = 200\n",
    "BATCH_SIZE = 32\n",
    "CONFIDENCE_TH = 0.8\n",
    "\n",
    "DATASET_PATH = '.'\n",
    "TEMP_BEST_MODEL = 'cosine_weighted_experiments'\n",
    "\n",
    "# Set random seed for replicating testing results\n",
    "RANDOM_SEED = 0\n",
    "np.random.seed(0)\n",
    "torch.manual_seed(0)\n",
    "if torch.cuda.is_available():\n",
    "    torch.cuda.manual_seed(0)\n",
    "\n",
    "device = torch.device('cuda' if torch.cuda.is_available() else 'cpu')\n",
    "device"
   ]
  },
  {
   "cell_type": "code",
   "execution_count": 4,
   "metadata": {
    "colab": {
     "base_uri": "https://localhost:8080/"
    },
    "id": "77r9b28lzk0E",
    "outputId": "75c25c0a-02b7-4cb9-e295-6d9916e0aeb7"
   },
   "outputs": [],
   "source": [
    "# Teacher\n",
    "teacher_model = Alexnet(name=None, n_outputs=10)\n",
    "\n",
    "ckpt_path = 'checkpoints/teacher_alexnet_for_cifar10_state_dict'\n",
    "teacher_model.load_state_dict(torch.load(ckpt_path, map_location=device))\n",
    "teacher_model.eval()\n",
    "teacher_model = teacher_model.to(device)"
   ]
  },
  {
   "cell_type": "code",
   "execution_count": 5,
   "metadata": {
    "id": "J0bOFnMSzk0F"
   },
   "outputs": [],
   "source": [
    "# Define dataset\n",
    "label_mapper = {\n",
    "    'airplane': 0,\n",
    "    'automobile': 1,\n",
    "    'bird': 2,\n",
    "    'cat': 3,\n",
    "    'deer': 4,\n",
    "    'dog': 5,\n",
    "    'frog': 6,\n",
    "    'horse': 7,\n",
    "    'ship': 8,\n",
    "    'truck': 9\n",
    "}\n",
    "label_mapper_inv = {v:k for k,v in label_mapper.items()}\n",
    "\n",
    "# Get images paths and labels\n",
    "images = []\n",
    "labels = []\n",
    "\n",
    "folders_path = os.path.join(DATASET_PATH,'images_generated')\n",
    "for folder in os.listdir(folders_path):\n",
    "    if 'imagenet' in folder:\n",
    "      continue\n",
    "    class_path = os.path.join(folders_path,folder)\n",
    "    images_names = os.listdir(class_path)\n",
    "    \n",
    "    for image_name in images_names:\n",
    "        images.append(os.path.join(class_path,image_name))\n",
    "        labels.append(label_mapper[folder])"
   ]
  },
  {
   "cell_type": "code",
   "execution_count": 6,
   "metadata": {
    "colab": {
     "base_uri": "https://localhost:8080/",
     "height": 263,
     "referenced_widgets": [
      "8282f6bd64d344e9aa0e2cdc5deedb50",
      "b7c4c95db21e4c4dbb6cd50f4bb22a1a",
      "9aa9c5d37cbb4a7987c84c6061cbafa6",
      "0dc49d11d2434b568a3f6c3ad5b05c09",
      "18d7a2f2052141c9aaa53bf57a3bc1b3",
      "551ec62854e64a6a89e2550b4eb22e52",
      "3336807a7d144bbb9283a68a327852d5",
      "058124347df04f2a81d75544c5fb8809",
      "f0f5ea82811c49bfb0a55154cc9cd30d",
      "0d4acd03fa734e9db4bb7389ae2f19b4",
      "81d6479563414e36ae8103bbb16bd9a3"
     ]
    },
    "id": "ovpstIXDzk0G",
    "outputId": "91d3a8be-f9f7-450a-8514-97478cb2da87"
   },
   "outputs": [
    {
     "data": {
      "application/vnd.jupyter.widget-view+json": {
       "model_id": "ce72bde9a8d44f1c910237f5ec3e7c7f",
       "version_major": 2,
       "version_minor": 0
      },
      "text/plain": [
       "  0%|          | 0/1600 [00:00<?, ?it/s]"
      ]
     },
     "metadata": {},
     "output_type": "display_data"
    },
    {
     "name": "stdout",
     "output_type": "stream",
     "text": [
      "A total of 51200 remained out of 51200\n",
      "\n",
      "Class 0(airplane) has 6384 entries\n",
      "Class 1(automobile) has 5145 entries\n",
      "Class 2(bird) has 4795 entries\n",
      "Class 3(cat) has 5331 entries\n",
      "Class 4(deer) has 5571 entries\n",
      "Class 5(dog) has 4286 entries\n",
      "Class 6(frog) has 4553 entries\n",
      "Class 7(horse) has 5025 entries\n",
      "Class 8(ship) has 5178 entries\n",
      "Class 9(truck) has 4932 entries\n"
     ]
    }
   ],
   "source": [
    "proxy_transforms = T.Compose([\n",
    "    T.Resize((32,32)),\n",
    "    T.Normalize((0.5,), (0.5,))\n",
    "])\n",
    "\n",
    "proxy_dataset = ProxyDataset(images, labels, proxy_transforms, True)\n",
    "proxy_dataloader  = DataLoader(proxy_dataset,  batch_size=BATCH_SIZE)\n",
    "\n",
    "# Obtain teacher predictions\n",
    "filtered_images = []\n",
    "filtered_labels = []\n",
    "filtered_soft_labels = []\n",
    "\n",
    "with torch.no_grad():\n",
    "    for img,label,path,_ in tqdm(proxy_dataloader):\n",
    "        img = img.to(device=device)\n",
    "        label = label.to(device=device)\n",
    "\n",
    "        logits = teacher_model(img)\n",
    "        pred = softmax(logits, dim=1)\n",
    "        \n",
    "        confidence,y_hat = torch.max(pred, dim=1)\n",
    "\n",
    "        filtered_images.extend(list(path))\n",
    "        filtered_labels.extend(y_hat.tolist())\n",
    "        filtered_soft_labels.extend(pred)\n",
    "        \n",
    "# Display results of filtering\n",
    "print(f'A total of {len(filtered_images)} remained out of {len(proxy_dataset)}')\n",
    "print()\n",
    "counter_per_class = {v:0 for k,v in label_mapper.items()}\n",
    "for label in filtered_labels:\n",
    "    counter_per_class[label] += 1\n",
    "for clasa in counter_per_class:\n",
    "    print(f'Class {clasa}({label_mapper_inv[clasa]}) has {counter_per_class[clasa]} entries')"
   ]
  },
  {
   "cell_type": "code",
   "execution_count": 7,
   "metadata": {
    "id": "UxE8HVQSzk0F"
   },
   "outputs": [],
   "source": [
    "# Define the student model\n",
    "student_model = HalfAlexnet(name=None, n_outputs=10)\n",
    "\n",
    "path_to_save = 'pretrained_student.pt'\n",
    "if torch.cuda.is_available():\n",
    "    student_model.load_state_dict(torch.load(path_to_save))\n",
    "else:\n",
    "    student_model.load_state_dict(torch.load(path_to_save, map_location ='cpu'))\n",
    "student_model.to(device)\n",
    "\n",
    "# Define optimizer\n",
    "optimizer = torch.optim.Adam(student_model.parameters(), lr=LR)\n",
    "\n",
    "# Define loss function\n",
    "criterion = torch.nn.CrossEntropyLoss(reduction='mean')"
   ]
  },
  {
   "cell_type": "code",
   "execution_count": 8,
   "metadata": {
    "id": "yS1V_-cdL9Ku"
   },
   "outputs": [
    {
     "name": "stdout",
     "output_type": "stream",
     "text": [
      "Small dataset\n"
     ]
    }
   ],
   "source": [
    "try:\n",
    "  # raise\n",
    "  # Do a stratified split of the data\n",
    "  NO_IMGS_TO_USE = 60\n",
    "  \n",
    "  filtered_images_subset, filtered_images_unused, filtered_labels_subset, filtered_labels_unused, filtered_soft_labels_subset, filtered_soft_labels_unused = \\\n",
    "      train_test_split(filtered_images, filtered_labels, filtered_soft_labels, train_size=NO_IMGS_TO_USE, stratify=filtered_labels, random_state=RANDOM_SEED)  \n",
    "\n",
    "  train_images, validation_images, train_labels, validation_labels, train_soft_labels, validation_soft_labels = \\\n",
    "      train_test_split(filtered_images_subset, filtered_labels_subset, filtered_soft_labels_subset, train_size=0.8, stratify=filtered_labels_subset, random_state=RANDOM_SEED)\n",
    "  valid_images, test_images, valid_labels, test_labels, valid_soft_labels, test_soft_labels = \\\n",
    "      train_test_split(validation_images, validation_labels, validation_soft_labels, test_size=0.5, stratify=validation_labels, random_state=RANDOM_SEED)\n",
    "except:\n",
    "  # For small datasets \n",
    "  print('Small dataset')\n",
    "  NO_IMGS_TO_USE = 60\n",
    "  NO_TRAIN_IMGS = 40\n",
    "\n",
    "  \"\"\" DEV - train_test_split fails, need to manually introduce 1 sample\n",
    "  for i in range(len(filtered_labels)-1,-1,-1):\n",
    "    if filtered_labels[i] == 5:\n",
    "      img_dev = filtered_images[i]\n",
    "      soft_label_dev = filtered_soft_labels[i]\n",
    "      break\n",
    "  \"\"\"\n",
    "\n",
    "  filtered_images_subset, filtered_images_unused, filtered_labels_subset, filtered_labels_unused, filtered_soft_labels_subset, filtered_soft_labels_unused = \\\n",
    "    train_test_split(filtered_images, filtered_labels, filtered_soft_labels, train_size=NO_IMGS_TO_USE, stratify=filtered_labels, random_state=RANDOM_SEED)  \n",
    "  train_images, validation_images, train_labels, validation_labels, train_soft_labels, validation_soft_labels = \\\n",
    "    train_test_split(filtered_images_subset, filtered_labels_subset, filtered_soft_labels_subset, train_size=NO_TRAIN_IMGS, stratify=filtered_labels_subset, random_state=RANDOM_SEED)\n",
    "  \n",
    "  \"\"\" DEV - interchange an image\n",
    "  for i in range(len(validation_images)):\n",
    "    if validation_labels[i] == 0:\n",
    "      validation_images[i] = img_dev\n",
    "      validation_labels[i] = 5\n",
    "      validation_soft_labels[i] = soft_label_dev\n",
    "      break\n",
    "  \"\"\"\n",
    "\n",
    "  valid_images, test_images, valid_labels, test_labels, valid_soft_labels, test_soft_labels = \\\n",
    "      train_test_split(validation_images, validation_labels, validation_soft_labels, test_size=0.5, stratify=validation_labels)"
   ]
  },
  {
   "cell_type": "code",
   "execution_count": 9,
   "metadata": {
    "id": "AGYrWL_Zzk0H"
   },
   "outputs": [
    {
     "name": "stdout",
     "output_type": "stream",
     "text": [
      "Files already downloaded and verified\n",
      "Files already downloaded and verified\n"
     ]
    }
   ],
   "source": [
    "# Define the transformations\n",
    "train_transforms = T.Compose([\n",
    "    T.Resize((32,32)),\n",
    "    T.RandomCrop(32, padding=4),\n",
    "    T.RandomHorizontalFlip(p=0.5),\n",
    "    T.Normalize((0.5,), (0.5,))\n",
    "])\n",
    "valid_transforms = T.Compose([\n",
    "    T.Resize((32,32)),\n",
    "    T.Normalize((0.5,), (0.5,))\n",
    "])\n",
    "\n",
    "# Define the proxy datasets\n",
    "proxy_train_dataset = ProxyDataset(train_images, train_labels, train_transforms, False, train_soft_labels)\n",
    "proxy_valid_dataset = ProxyDataset(valid_images, valid_labels, valid_transforms, False, valid_soft_labels)\n",
    "proxy_test_dataset  = ProxyDataset(test_images,  test_labels,  valid_transforms, False, test_soft_labels)\n",
    "\n",
    "# Define the proxy dataloaders\n",
    "train_dataloader = DataLoader(proxy_train_dataset, batch_size=BATCH_SIZE, shuffle=True)\n",
    "valid_dataloader = DataLoader(proxy_valid_dataset, batch_size=BATCH_SIZE)\n",
    "test_dataloader  = DataLoader(proxy_test_dataset,  batch_size=BATCH_SIZE)\n",
    "\n",
    "# Define true dataset\n",
    "true_dataset = CIFAR10(input_size = 32)\n",
    "\n",
    "validate_on_trueds = True\n",
    "if validate_on_trueds:\n",
    "    true_valid_ds = true_dataset.test_dataloader()"
   ]
  },
  {
   "cell_type": "code",
   "execution_count": 10,
   "metadata": {
    "id": "UiU_sPFAZh9P"
   },
   "outputs": [],
   "source": [
    "# Class for early stopping\n",
    "class EarlyStopping():\n",
    "    def __init__(self, tolerance=5, min_delta=0):\n",
    "\n",
    "        self.tolerance = tolerance\n",
    "        self.min_delta = min_delta\n",
    "        self.counter = 0\n",
    "        self.min_valid_loss = np.inf\n",
    "        self.early_stop = False\n",
    "\n",
    "    def __call__(self, validation_loss):\n",
    "        if validation_loss < self.min_valid_loss:\n",
    "          self.min_valid_loss = validation_loss\n",
    "          self.counter = 0\n",
    "        elif validation_loss > self.min_valid_loss + self.min_delta:\n",
    "          self.counter +=1\n",
    "          \n",
    "          if self.counter >= self.tolerance:  \n",
    "              self.early_stop = True"
   ]
  },
  {
   "cell_type": "code",
   "execution_count": 11,
   "metadata": {
    "id": "6Upn77I0zk0I"
   },
   "outputs": [
    {
     "data": {
      "application/vnd.jupyter.widget-view+json": {
       "model_id": "7037f93929ce431796883da62c2c4a25",
       "version_major": 2,
       "version_minor": 0
      },
      "text/plain": [
       "  0%|          | 0/2 [00:00<?, ?it/s]"
      ]
     },
     "metadata": {},
     "output_type": "display_data"
    },
    {
     "name": "stdout",
     "output_type": "stream",
     "text": [
      "validation_loss on proxy = 2.1485\n",
      "validation_accuracy on proxy = 30.00%\n",
      "Saved at epoch 0\n",
      "validation_loss on true ds = 2.2468\n",
      "validation_accuracy on true ds = 14.42%\n"
     ]
    },
    {
     "data": {
      "application/vnd.jupyter.widget-view+json": {
       "model_id": "eefe9c74c3d44f0ea31b9b06a1ee3f2f",
       "version_major": 2,
       "version_minor": 0
      },
      "text/plain": [
       "  0%|          | 0/2 [00:00<?, ?it/s]"
      ]
     },
     "metadata": {},
     "output_type": "display_data"
    },
    {
     "name": "stdout",
     "output_type": "stream",
     "text": [
      "validation_loss on proxy = 2.1105\n",
      "validation_accuracy on proxy = 30.00%\n",
      "validation_loss on true ds = 2.2264\n",
      "validation_accuracy on true ds = 16.21%\n"
     ]
    },
    {
     "data": {
      "application/vnd.jupyter.widget-view+json": {
       "model_id": "8bc02c98f9da45cf8de8519da8d6d888",
       "version_major": 2,
       "version_minor": 0
      },
      "text/plain": [
       "  0%|          | 0/2 [00:00<?, ?it/s]"
      ]
     },
     "metadata": {},
     "output_type": "display_data"
    },
    {
     "name": "stdout",
     "output_type": "stream",
     "text": [
      "validation_loss on proxy = 2.0800\n",
      "validation_accuracy on proxy = 40.00%\n",
      "Saved at epoch 2\n",
      "validation_loss on true ds = 2.2114\n",
      "validation_accuracy on true ds = 17.34%\n"
     ]
    },
    {
     "data": {
      "application/vnd.jupyter.widget-view+json": {
       "model_id": "dc5c37cbefa842048516fd0da3fa4468",
       "version_major": 2,
       "version_minor": 0
      },
      "text/plain": [
       "  0%|          | 0/2 [00:00<?, ?it/s]"
      ]
     },
     "metadata": {},
     "output_type": "display_data"
    },
    {
     "name": "stdout",
     "output_type": "stream",
     "text": [
      "validation_loss on proxy = 2.0617\n",
      "validation_accuracy on proxy = 50.00%\n",
      "Saved at epoch 3\n",
      "validation_loss on true ds = 2.1996\n",
      "validation_accuracy on true ds = 18.28%\n"
     ]
    },
    {
     "data": {
      "application/vnd.jupyter.widget-view+json": {
       "model_id": "c1cd9edd8caf48e39ed544bf4e0959b4",
       "version_major": 2,
       "version_minor": 0
      },
      "text/plain": [
       "  0%|          | 0/2 [00:00<?, ?it/s]"
      ]
     },
     "metadata": {},
     "output_type": "display_data"
    },
    {
     "name": "stdout",
     "output_type": "stream",
     "text": [
      "validation_loss on proxy = 2.0325\n",
      "validation_accuracy on proxy = 50.00%\n",
      "validation_loss on true ds = 2.1852\n",
      "validation_accuracy on true ds = 19.27%\n"
     ]
    },
    {
     "data": {
      "application/vnd.jupyter.widget-view+json": {
       "model_id": "d7c62fecb5f2472eb6e041cfff9a613f",
       "version_major": 2,
       "version_minor": 0
      },
      "text/plain": [
       "  0%|          | 0/2 [00:00<?, ?it/s]"
      ]
     },
     "metadata": {},
     "output_type": "display_data"
    },
    {
     "name": "stdout",
     "output_type": "stream",
     "text": [
      "validation_loss on proxy = 2.0046\n",
      "validation_accuracy on proxy = 50.00%\n",
      "validation_loss on true ds = 2.1676\n",
      "validation_accuracy on true ds = 20.49%\n"
     ]
    },
    {
     "data": {
      "application/vnd.jupyter.widget-view+json": {
       "model_id": "f1b4789f453f46e0a5eee5469e9ebfaa",
       "version_major": 2,
       "version_minor": 0
      },
      "text/plain": [
       "  0%|          | 0/2 [00:00<?, ?it/s]"
      ]
     },
     "metadata": {},
     "output_type": "display_data"
    },
    {
     "name": "stdout",
     "output_type": "stream",
     "text": [
      "validation_loss on proxy = 1.9845\n",
      "validation_accuracy on proxy = 50.00%\n",
      "validation_loss on true ds = 2.1541\n",
      "validation_accuracy on true ds = 21.68%\n"
     ]
    },
    {
     "data": {
      "application/vnd.jupyter.widget-view+json": {
       "model_id": "a9eac8f44fb5480092a90899e4ade195",
       "version_major": 2,
       "version_minor": 0
      },
      "text/plain": [
       "  0%|          | 0/2 [00:00<?, ?it/s]"
      ]
     },
     "metadata": {},
     "output_type": "display_data"
    },
    {
     "name": "stdout",
     "output_type": "stream",
     "text": [
      "validation_loss on proxy = 1.9766\n",
      "validation_accuracy on proxy = 50.00%\n",
      "validation_loss on true ds = 2.1476\n",
      "validation_accuracy on true ds = 22.00%\n"
     ]
    },
    {
     "data": {
      "application/vnd.jupyter.widget-view+json": {
       "model_id": "611aed47695c4dbd8eb8d272a8434ff5",
       "version_major": 2,
       "version_minor": 0
      },
      "text/plain": [
       "  0%|          | 0/2 [00:00<?, ?it/s]"
      ]
     },
     "metadata": {},
     "output_type": "display_data"
    },
    {
     "name": "stdout",
     "output_type": "stream",
     "text": [
      "validation_loss on proxy = 1.9672\n",
      "validation_accuracy on proxy = 50.00%\n",
      "validation_loss on true ds = 2.1387\n",
      "validation_accuracy on true ds = 22.74%\n"
     ]
    },
    {
     "data": {
      "application/vnd.jupyter.widget-view+json": {
       "model_id": "d349b6101fe84af4af5ab2fac349cd34",
       "version_major": 2,
       "version_minor": 0
      },
      "text/plain": [
       "  0%|          | 0/2 [00:00<?, ?it/s]"
      ]
     },
     "metadata": {},
     "output_type": "display_data"
    },
    {
     "name": "stdout",
     "output_type": "stream",
     "text": [
      "validation_loss on proxy = 1.9353\n",
      "validation_accuracy on proxy = 50.00%\n",
      "validation_loss on true ds = 2.1281\n",
      "validation_accuracy on true ds = 23.57%\n"
     ]
    },
    {
     "data": {
      "application/vnd.jupyter.widget-view+json": {
       "model_id": "ed3e5bd0ee1541f9b49a8ff1ed5ec1ed",
       "version_major": 2,
       "version_minor": 0
      },
      "text/plain": [
       "  0%|          | 0/2 [00:00<?, ?it/s]"
      ]
     },
     "metadata": {},
     "output_type": "display_data"
    },
    {
     "name": "stdout",
     "output_type": "stream",
     "text": [
      "validation_loss on proxy = 1.9145\n",
      "validation_accuracy on proxy = 40.00%\n",
      "validation_loss on true ds = 2.1225\n",
      "validation_accuracy on true ds = 23.88%\n"
     ]
    },
    {
     "data": {
      "application/vnd.jupyter.widget-view+json": {
       "model_id": "769f7b40970c459da259f10ddac2bab6",
       "version_major": 2,
       "version_minor": 0
      },
      "text/plain": [
       "  0%|          | 0/2 [00:00<?, ?it/s]"
      ]
     },
     "metadata": {},
     "output_type": "display_data"
    },
    {
     "name": "stdout",
     "output_type": "stream",
     "text": [
      "validation_loss on proxy = 1.8883\n",
      "validation_accuracy on proxy = 40.00%\n",
      "validation_loss on true ds = 2.1110\n",
      "validation_accuracy on true ds = 25.23%\n"
     ]
    },
    {
     "data": {
      "application/vnd.jupyter.widget-view+json": {
       "model_id": "bda49082eb9d45dd89a2345e8180567f",
       "version_major": 2,
       "version_minor": 0
      },
      "text/plain": [
       "  0%|          | 0/2 [00:00<?, ?it/s]"
      ]
     },
     "metadata": {},
     "output_type": "display_data"
    },
    {
     "name": "stdout",
     "output_type": "stream",
     "text": [
      "validation_loss on proxy = 1.8569\n",
      "validation_accuracy on proxy = 40.00%\n",
      "validation_loss on true ds = 2.1006\n",
      "validation_accuracy on true ds = 26.23%\n"
     ]
    },
    {
     "data": {
      "application/vnd.jupyter.widget-view+json": {
       "model_id": "f6bd6f11109640299e221a5e17b15675",
       "version_major": 2,
       "version_minor": 0
      },
      "text/plain": [
       "  0%|          | 0/2 [00:00<?, ?it/s]"
      ]
     },
     "metadata": {},
     "output_type": "display_data"
    },
    {
     "name": "stdout",
     "output_type": "stream",
     "text": [
      "validation_loss on proxy = 1.8221\n",
      "validation_accuracy on proxy = 50.00%\n",
      "validation_loss on true ds = 2.0938\n",
      "validation_accuracy on true ds = 25.55%\n"
     ]
    },
    {
     "data": {
      "application/vnd.jupyter.widget-view+json": {
       "model_id": "6dace6d616ef49d59e3a04e5a985c9fb",
       "version_major": 2,
       "version_minor": 0
      },
      "text/plain": [
       "  0%|          | 0/2 [00:00<?, ?it/s]"
      ]
     },
     "metadata": {},
     "output_type": "display_data"
    },
    {
     "name": "stdout",
     "output_type": "stream",
     "text": [
      "validation_loss on proxy = 1.7965\n",
      "validation_accuracy on proxy = 50.00%\n",
      "validation_loss on true ds = 2.0810\n",
      "validation_accuracy on true ds = 26.40%\n"
     ]
    },
    {
     "data": {
      "application/vnd.jupyter.widget-view+json": {
       "model_id": "2725312200f54ec7a61ba7689f964534",
       "version_major": 2,
       "version_minor": 0
      },
      "text/plain": [
       "  0%|          | 0/2 [00:00<?, ?it/s]"
      ]
     },
     "metadata": {},
     "output_type": "display_data"
    },
    {
     "name": "stdout",
     "output_type": "stream",
     "text": [
      "validation_loss on proxy = 1.7764\n",
      "validation_accuracy on proxy = 50.00%\n",
      "validation_loss on true ds = 2.0730\n",
      "validation_accuracy on true ds = 26.70%\n"
     ]
    },
    {
     "data": {
      "application/vnd.jupyter.widget-view+json": {
       "model_id": "3f3704b6f606438b92c36f11791efe14",
       "version_major": 2,
       "version_minor": 0
      },
      "text/plain": [
       "  0%|          | 0/2 [00:00<?, ?it/s]"
      ]
     },
     "metadata": {},
     "output_type": "display_data"
    },
    {
     "name": "stdout",
     "output_type": "stream",
     "text": [
      "validation_loss on proxy = 1.7601\n",
      "validation_accuracy on proxy = 50.00%\n",
      "validation_loss on true ds = 2.0643\n",
      "validation_accuracy on true ds = 27.57%\n"
     ]
    },
    {
     "data": {
      "application/vnd.jupyter.widget-view+json": {
       "model_id": "822d7f2297054136af6930058cd960c5",
       "version_major": 2,
       "version_minor": 0
      },
      "text/plain": [
       "  0%|          | 0/2 [00:00<?, ?it/s]"
      ]
     },
     "metadata": {},
     "output_type": "display_data"
    },
    {
     "name": "stdout",
     "output_type": "stream",
     "text": [
      "validation_loss on proxy = 1.7358\n",
      "validation_accuracy on proxy = 50.00%\n",
      "validation_loss on true ds = 2.0573\n",
      "validation_accuracy on true ds = 27.39%\n"
     ]
    },
    {
     "data": {
      "application/vnd.jupyter.widget-view+json": {
       "model_id": "5cdf031853ac48af876e6a7755bd35d7",
       "version_major": 2,
       "version_minor": 0
      },
      "text/plain": [
       "  0%|          | 0/2 [00:00<?, ?it/s]"
      ]
     },
     "metadata": {},
     "output_type": "display_data"
    },
    {
     "name": "stdout",
     "output_type": "stream",
     "text": [
      "validation_loss on proxy = 1.7075\n",
      "validation_accuracy on proxy = 50.00%\n",
      "validation_loss on true ds = 2.0524\n",
      "validation_accuracy on true ds = 27.89%\n"
     ]
    },
    {
     "data": {
      "application/vnd.jupyter.widget-view+json": {
       "model_id": "c5c7d0ad48e14d8fb0cb2d6e4116cae5",
       "version_major": 2,
       "version_minor": 0
      },
      "text/plain": [
       "  0%|          | 0/2 [00:00<?, ?it/s]"
      ]
     },
     "metadata": {},
     "output_type": "display_data"
    },
    {
     "name": "stdout",
     "output_type": "stream",
     "text": [
      "validation_loss on proxy = 1.6823\n",
      "validation_accuracy on proxy = 50.00%\n",
      "validation_loss on true ds = 2.0403\n",
      "validation_accuracy on true ds = 28.89%\n"
     ]
    },
    {
     "data": {
      "application/vnd.jupyter.widget-view+json": {
       "model_id": "f3bee6d889a94faf86ae3d9c1078dc07",
       "version_major": 2,
       "version_minor": 0
      },
      "text/plain": [
       "  0%|          | 0/2 [00:00<?, ?it/s]"
      ]
     },
     "metadata": {},
     "output_type": "display_data"
    },
    {
     "name": "stdout",
     "output_type": "stream",
     "text": [
      "validation_loss on proxy = 1.6568\n",
      "validation_accuracy on proxy = 60.00%\n",
      "Saved at epoch 20\n",
      "validation_loss on true ds = 2.0333\n",
      "validation_accuracy on true ds = 29.23%\n"
     ]
    },
    {
     "data": {
      "application/vnd.jupyter.widget-view+json": {
       "model_id": "c27c7478f13e47b48d6201b8429bdabd",
       "version_major": 2,
       "version_minor": 0
      },
      "text/plain": [
       "  0%|          | 0/2 [00:00<?, ?it/s]"
      ]
     },
     "metadata": {},
     "output_type": "display_data"
    },
    {
     "name": "stdout",
     "output_type": "stream",
     "text": [
      "validation_loss on proxy = 1.6345\n",
      "validation_accuracy on proxy = 60.00%\n",
      "validation_loss on true ds = 2.0236\n",
      "validation_accuracy on true ds = 29.35%\n"
     ]
    },
    {
     "data": {
      "application/vnd.jupyter.widget-view+json": {
       "model_id": "05634e8554ff43279f504ff215be4021",
       "version_major": 2,
       "version_minor": 0
      },
      "text/plain": [
       "  0%|          | 0/2 [00:00<?, ?it/s]"
      ]
     },
     "metadata": {},
     "output_type": "display_data"
    },
    {
     "name": "stdout",
     "output_type": "stream",
     "text": [
      "validation_loss on proxy = 1.6162\n",
      "validation_accuracy on proxy = 60.00%\n",
      "validation_loss on true ds = 2.0218\n",
      "validation_accuracy on true ds = 29.56%\n"
     ]
    },
    {
     "data": {
      "application/vnd.jupyter.widget-view+json": {
       "model_id": "adda893886154b55bdd2f5ca610ac685",
       "version_major": 2,
       "version_minor": 0
      },
      "text/plain": [
       "  0%|          | 0/2 [00:00<?, ?it/s]"
      ]
     },
     "metadata": {},
     "output_type": "display_data"
    },
    {
     "name": "stdout",
     "output_type": "stream",
     "text": [
      "validation_loss on proxy = 1.6014\n",
      "validation_accuracy on proxy = 60.00%\n",
      "validation_loss on true ds = 2.0189\n",
      "validation_accuracy on true ds = 29.05%\n"
     ]
    },
    {
     "data": {
      "application/vnd.jupyter.widget-view+json": {
       "model_id": "a9ec528263c54b98a58dbc3612167431",
       "version_major": 2,
       "version_minor": 0
      },
      "text/plain": [
       "  0%|          | 0/2 [00:00<?, ?it/s]"
      ]
     },
     "metadata": {},
     "output_type": "display_data"
    },
    {
     "name": "stdout",
     "output_type": "stream",
     "text": [
      "validation_loss on proxy = 1.5718\n",
      "validation_accuracy on proxy = 60.00%\n",
      "validation_loss on true ds = 2.0152\n",
      "validation_accuracy on true ds = 27.84%\n"
     ]
    },
    {
     "data": {
      "application/vnd.jupyter.widget-view+json": {
       "model_id": "1e41c4e5cadb4f2b955092494f37eb15",
       "version_major": 2,
       "version_minor": 0
      },
      "text/plain": [
       "  0%|          | 0/2 [00:00<?, ?it/s]"
      ]
     },
     "metadata": {},
     "output_type": "display_data"
    },
    {
     "name": "stdout",
     "output_type": "stream",
     "text": [
      "validation_loss on proxy = 1.5276\n",
      "validation_accuracy on proxy = 60.00%\n",
      "validation_loss on true ds = 1.9915\n",
      "validation_accuracy on true ds = 29.00%\n"
     ]
    },
    {
     "data": {
      "application/vnd.jupyter.widget-view+json": {
       "model_id": "a1fd4d74601d4139a0039a987fa5f07d",
       "version_major": 2,
       "version_minor": 0
      },
      "text/plain": [
       "  0%|          | 0/2 [00:00<?, ?it/s]"
      ]
     },
     "metadata": {},
     "output_type": "display_data"
    },
    {
     "name": "stdout",
     "output_type": "stream",
     "text": [
      "validation_loss on proxy = 1.5188\n",
      "validation_accuracy on proxy = 60.00%\n",
      "validation_loss on true ds = 1.9828\n",
      "validation_accuracy on true ds = 29.48%\n"
     ]
    },
    {
     "data": {
      "application/vnd.jupyter.widget-view+json": {
       "model_id": "8b112900eba44774ba708d2c32060b8b",
       "version_major": 2,
       "version_minor": 0
      },
      "text/plain": [
       "  0%|          | 0/2 [00:00<?, ?it/s]"
      ]
     },
     "metadata": {},
     "output_type": "display_data"
    },
    {
     "name": "stdout",
     "output_type": "stream",
     "text": [
      "validation_loss on proxy = 1.5034\n",
      "validation_accuracy on proxy = 60.00%\n",
      "validation_loss on true ds = 1.9718\n",
      "validation_accuracy on true ds = 30.28%\n"
     ]
    },
    {
     "data": {
      "application/vnd.jupyter.widget-view+json": {
       "model_id": "d35f384d8229437094c2adf6535e50f3",
       "version_major": 2,
       "version_minor": 0
      },
      "text/plain": [
       "  0%|          | 0/2 [00:00<?, ?it/s]"
      ]
     },
     "metadata": {},
     "output_type": "display_data"
    },
    {
     "name": "stdout",
     "output_type": "stream",
     "text": [
      "validation_loss on proxy = 1.5033\n",
      "validation_accuracy on proxy = 60.00%\n",
      "validation_loss on true ds = 1.9733\n",
      "validation_accuracy on true ds = 29.97%\n"
     ]
    },
    {
     "data": {
      "application/vnd.jupyter.widget-view+json": {
       "model_id": "e1793c475f8d46349ea3a732a6c7cd4c",
       "version_major": 2,
       "version_minor": 0
      },
      "text/plain": [
       "  0%|          | 0/2 [00:00<?, ?it/s]"
      ]
     },
     "metadata": {},
     "output_type": "display_data"
    },
    {
     "name": "stdout",
     "output_type": "stream",
     "text": [
      "validation_loss on proxy = 1.4880\n",
      "validation_accuracy on proxy = 60.00%\n",
      "validation_loss on true ds = 1.9641\n",
      "validation_accuracy on true ds = 30.36%\n"
     ]
    },
    {
     "data": {
      "application/vnd.jupyter.widget-view+json": {
       "model_id": "e3057011720d4f46a8f2f6268b1bf28b",
       "version_major": 2,
       "version_minor": 0
      },
      "text/plain": [
       "  0%|          | 0/2 [00:00<?, ?it/s]"
      ]
     },
     "metadata": {},
     "output_type": "display_data"
    },
    {
     "name": "stdout",
     "output_type": "stream",
     "text": [
      "validation_loss on proxy = 1.4776\n",
      "validation_accuracy on proxy = 60.00%\n",
      "validation_loss on true ds = 1.9616\n",
      "validation_accuracy on true ds = 30.24%\n"
     ]
    },
    {
     "data": {
      "application/vnd.jupyter.widget-view+json": {
       "model_id": "44bb842ea946452b816497badec3f66a",
       "version_major": 2,
       "version_minor": 0
      },
      "text/plain": [
       "  0%|          | 0/2 [00:00<?, ?it/s]"
      ]
     },
     "metadata": {},
     "output_type": "display_data"
    },
    {
     "name": "stdout",
     "output_type": "stream",
     "text": [
      "validation_loss on proxy = 1.4545\n",
      "validation_accuracy on proxy = 60.00%\n",
      "validation_loss on true ds = 1.9517\n",
      "validation_accuracy on true ds = 30.39%\n"
     ]
    },
    {
     "data": {
      "application/vnd.jupyter.widget-view+json": {
       "model_id": "157a78daf8a74991b2fc78ebc2d53fbf",
       "version_major": 2,
       "version_minor": 0
      },
      "text/plain": [
       "  0%|          | 0/2 [00:00<?, ?it/s]"
      ]
     },
     "metadata": {},
     "output_type": "display_data"
    },
    {
     "name": "stdout",
     "output_type": "stream",
     "text": [
      "validation_loss on proxy = 1.4396\n",
      "validation_accuracy on proxy = 60.00%\n",
      "validation_loss on true ds = 1.9458\n",
      "validation_accuracy on true ds = 30.76%\n"
     ]
    },
    {
     "data": {
      "application/vnd.jupyter.widget-view+json": {
       "model_id": "8dee0788a4834aca96af2c45b24b081c",
       "version_major": 2,
       "version_minor": 0
      },
      "text/plain": [
       "  0%|          | 0/2 [00:00<?, ?it/s]"
      ]
     },
     "metadata": {},
     "output_type": "display_data"
    },
    {
     "name": "stdout",
     "output_type": "stream",
     "text": [
      "validation_loss on proxy = 1.4109\n",
      "validation_accuracy on proxy = 70.00%\n",
      "Saved at epoch 33\n",
      "validation_loss on true ds = 1.9378\n",
      "validation_accuracy on true ds = 31.32%\n"
     ]
    },
    {
     "data": {
      "application/vnd.jupyter.widget-view+json": {
       "model_id": "d7bdb422b33a40ceaec5220190d11a79",
       "version_major": 2,
       "version_minor": 0
      },
      "text/plain": [
       "  0%|          | 0/2 [00:00<?, ?it/s]"
      ]
     },
     "metadata": {},
     "output_type": "display_data"
    },
    {
     "name": "stdout",
     "output_type": "stream",
     "text": [
      "validation_loss on proxy = 1.3942\n",
      "validation_accuracy on proxy = 70.00%\n",
      "validation_loss on true ds = 1.9421\n",
      "validation_accuracy on true ds = 30.58%\n"
     ]
    },
    {
     "data": {
      "application/vnd.jupyter.widget-view+json": {
       "model_id": "0eda866cab784dd784d998caa07dd15b",
       "version_major": 2,
       "version_minor": 0
      },
      "text/plain": [
       "  0%|          | 0/2 [00:00<?, ?it/s]"
      ]
     },
     "metadata": {},
     "output_type": "display_data"
    },
    {
     "name": "stdout",
     "output_type": "stream",
     "text": [
      "validation_loss on proxy = 1.3694\n",
      "validation_accuracy on proxy = 70.00%\n",
      "validation_loss on true ds = 1.9510\n",
      "validation_accuracy on true ds = 29.65%\n"
     ]
    },
    {
     "data": {
      "application/vnd.jupyter.widget-view+json": {
       "model_id": "47873e9a541044809b4e6f2e9af8a92d",
       "version_major": 2,
       "version_minor": 0
      },
      "text/plain": [
       "  0%|          | 0/2 [00:00<?, ?it/s]"
      ]
     },
     "metadata": {},
     "output_type": "display_data"
    },
    {
     "name": "stdout",
     "output_type": "stream",
     "text": [
      "validation_loss on proxy = 1.3621\n",
      "validation_accuracy on proxy = 60.00%\n",
      "validation_loss on true ds = 1.9440\n",
      "validation_accuracy on true ds = 29.86%\n"
     ]
    },
    {
     "data": {
      "application/vnd.jupyter.widget-view+json": {
       "model_id": "788824906da84152b45a4fee1c407b5b",
       "version_major": 2,
       "version_minor": 0
      },
      "text/plain": [
       "  0%|          | 0/2 [00:00<?, ?it/s]"
      ]
     },
     "metadata": {},
     "output_type": "display_data"
    },
    {
     "name": "stdout",
     "output_type": "stream",
     "text": [
      "validation_loss on proxy = 1.3328\n",
      "validation_accuracy on proxy = 60.00%\n",
      "validation_loss on true ds = 1.9272\n",
      "validation_accuracy on true ds = 30.72%\n"
     ]
    },
    {
     "data": {
      "application/vnd.jupyter.widget-view+json": {
       "model_id": "18b2537a16db46b19b0a8366a2f723b5",
       "version_major": 2,
       "version_minor": 0
      },
      "text/plain": [
       "  0%|          | 0/2 [00:00<?, ?it/s]"
      ]
     },
     "metadata": {},
     "output_type": "display_data"
    },
    {
     "name": "stdout",
     "output_type": "stream",
     "text": [
      "validation_loss on proxy = 1.3007\n",
      "validation_accuracy on proxy = 70.00%\n",
      "validation_loss on true ds = 1.9316\n",
      "validation_accuracy on true ds = 30.21%\n"
     ]
    },
    {
     "data": {
      "application/vnd.jupyter.widget-view+json": {
       "model_id": "bede90edf8714240a2e3432ee7f8c78c",
       "version_major": 2,
       "version_minor": 0
      },
      "text/plain": [
       "  0%|          | 0/2 [00:00<?, ?it/s]"
      ]
     },
     "metadata": {},
     "output_type": "display_data"
    },
    {
     "name": "stdout",
     "output_type": "stream",
     "text": [
      "validation_loss on proxy = 1.2726\n",
      "validation_accuracy on proxy = 70.00%\n",
      "validation_loss on true ds = 1.9178\n",
      "validation_accuracy on true ds = 31.20%\n"
     ]
    },
    {
     "data": {
      "application/vnd.jupyter.widget-view+json": {
       "model_id": "6f604b9f8abe45b2b2e3c4d79877b470",
       "version_major": 2,
       "version_minor": 0
      },
      "text/plain": [
       "  0%|          | 0/2 [00:00<?, ?it/s]"
      ]
     },
     "metadata": {},
     "output_type": "display_data"
    },
    {
     "name": "stdout",
     "output_type": "stream",
     "text": [
      "validation_loss on proxy = 1.2702\n",
      "validation_accuracy on proxy = 70.00%\n",
      "validation_loss on true ds = 1.9197\n",
      "validation_accuracy on true ds = 30.92%\n"
     ]
    },
    {
     "data": {
      "application/vnd.jupyter.widget-view+json": {
       "model_id": "bc526c5603a24bb19abfbbb2ac9e4b01",
       "version_major": 2,
       "version_minor": 0
      },
      "text/plain": [
       "  0%|          | 0/2 [00:00<?, ?it/s]"
      ]
     },
     "metadata": {},
     "output_type": "display_data"
    },
    {
     "name": "stdout",
     "output_type": "stream",
     "text": [
      "validation_loss on proxy = 1.2586\n",
      "validation_accuracy on proxy = 70.00%\n",
      "validation_loss on true ds = 1.9224\n",
      "validation_accuracy on true ds = 30.96%\n"
     ]
    },
    {
     "data": {
      "application/vnd.jupyter.widget-view+json": {
       "model_id": "88c2ad73106849b1bc715dbe129451be",
       "version_major": 2,
       "version_minor": 0
      },
      "text/plain": [
       "  0%|          | 0/2 [00:00<?, ?it/s]"
      ]
     },
     "metadata": {},
     "output_type": "display_data"
    },
    {
     "name": "stdout",
     "output_type": "stream",
     "text": [
      "validation_loss on proxy = 1.2502\n",
      "validation_accuracy on proxy = 70.00%\n",
      "validation_loss on true ds = 1.9113\n",
      "validation_accuracy on true ds = 31.11%\n"
     ]
    },
    {
     "data": {
      "application/vnd.jupyter.widget-view+json": {
       "model_id": "76eea67d05d7424ab9b4c43f427aa4fd",
       "version_major": 2,
       "version_minor": 0
      },
      "text/plain": [
       "  0%|          | 0/2 [00:00<?, ?it/s]"
      ]
     },
     "metadata": {},
     "output_type": "display_data"
    },
    {
     "name": "stdout",
     "output_type": "stream",
     "text": [
      "validation_loss on proxy = 1.2197\n",
      "validation_accuracy on proxy = 70.00%\n",
      "validation_loss on true ds = 1.8957\n",
      "validation_accuracy on true ds = 32.01%\n"
     ]
    },
    {
     "data": {
      "application/vnd.jupyter.widget-view+json": {
       "model_id": "1567b5be7af5479888842ef94d294c8c",
       "version_major": 2,
       "version_minor": 0
      },
      "text/plain": [
       "  0%|          | 0/2 [00:00<?, ?it/s]"
      ]
     },
     "metadata": {},
     "output_type": "display_data"
    },
    {
     "name": "stdout",
     "output_type": "stream",
     "text": [
      "validation_loss on proxy = 1.2152\n",
      "validation_accuracy on proxy = 70.00%\n",
      "validation_loss on true ds = 1.8843\n",
      "validation_accuracy on true ds = 32.95%\n"
     ]
    },
    {
     "data": {
      "application/vnd.jupyter.widget-view+json": {
       "model_id": "cb3aa0a335b7479da5cbdbfeeeb9e0f1",
       "version_major": 2,
       "version_minor": 0
      },
      "text/plain": [
       "  0%|          | 0/2 [00:00<?, ?it/s]"
      ]
     },
     "metadata": {},
     "output_type": "display_data"
    },
    {
     "name": "stdout",
     "output_type": "stream",
     "text": [
      "validation_loss on proxy = 1.2117\n",
      "validation_accuracy on proxy = 70.00%\n",
      "validation_loss on true ds = 1.8959\n",
      "validation_accuracy on true ds = 32.51%\n"
     ]
    },
    {
     "data": {
      "application/vnd.jupyter.widget-view+json": {
       "model_id": "fa7ac7d718794c34b71eca10a858f334",
       "version_major": 2,
       "version_minor": 0
      },
      "text/plain": [
       "  0%|          | 0/2 [00:00<?, ?it/s]"
      ]
     },
     "metadata": {},
     "output_type": "display_data"
    },
    {
     "name": "stdout",
     "output_type": "stream",
     "text": [
      "validation_loss on proxy = 1.1897\n",
      "validation_accuracy on proxy = 70.00%\n",
      "validation_loss on true ds = 1.9115\n",
      "validation_accuracy on true ds = 31.78%\n"
     ]
    },
    {
     "data": {
      "application/vnd.jupyter.widget-view+json": {
       "model_id": "00270dfb2b6e46c1bc721647db7310dc",
       "version_major": 2,
       "version_minor": 0
      },
      "text/plain": [
       "  0%|          | 0/2 [00:00<?, ?it/s]"
      ]
     },
     "metadata": {},
     "output_type": "display_data"
    },
    {
     "name": "stdout",
     "output_type": "stream",
     "text": [
      "validation_loss on proxy = 1.1781\n",
      "validation_accuracy on proxy = 70.00%\n",
      "validation_loss on true ds = 1.8994\n",
      "validation_accuracy on true ds = 32.24%\n"
     ]
    },
    {
     "data": {
      "application/vnd.jupyter.widget-view+json": {
       "model_id": "1120dbe3d5134a83bc8c8d8a0eab00e1",
       "version_major": 2,
       "version_minor": 0
      },
      "text/plain": [
       "  0%|          | 0/2 [00:00<?, ?it/s]"
      ]
     },
     "metadata": {},
     "output_type": "display_data"
    },
    {
     "name": "stdout",
     "output_type": "stream",
     "text": [
      "validation_loss on proxy = 1.1761\n",
      "validation_accuracy on proxy = 70.00%\n",
      "validation_loss on true ds = 1.9099\n",
      "validation_accuracy on true ds = 31.63%\n"
     ]
    },
    {
     "data": {
      "application/vnd.jupyter.widget-view+json": {
       "model_id": "75287c8d25fe4553b9bb1a564fea738b",
       "version_major": 2,
       "version_minor": 0
      },
      "text/plain": [
       "  0%|          | 0/2 [00:00<?, ?it/s]"
      ]
     },
     "metadata": {},
     "output_type": "display_data"
    },
    {
     "name": "stdout",
     "output_type": "stream",
     "text": [
      "validation_loss on proxy = 1.1300\n",
      "validation_accuracy on proxy = 70.00%\n",
      "validation_loss on true ds = 1.8844\n",
      "validation_accuracy on true ds = 32.07%\n"
     ]
    },
    {
     "data": {
      "application/vnd.jupyter.widget-view+json": {
       "model_id": "179b1a008f2c4c7b8cdad45888defe0d",
       "version_major": 2,
       "version_minor": 0
      },
      "text/plain": [
       "  0%|          | 0/2 [00:00<?, ?it/s]"
      ]
     },
     "metadata": {},
     "output_type": "display_data"
    },
    {
     "name": "stdout",
     "output_type": "stream",
     "text": [
      "validation_loss on proxy = 1.1141\n",
      "validation_accuracy on proxy = 70.00%\n",
      "validation_loss on true ds = 1.8773\n",
      "validation_accuracy on true ds = 32.32%\n"
     ]
    },
    {
     "data": {
      "application/vnd.jupyter.widget-view+json": {
       "model_id": "170f288ca15f478ea38b00a50f537f8e",
       "version_major": 2,
       "version_minor": 0
      },
      "text/plain": [
       "  0%|          | 0/2 [00:00<?, ?it/s]"
      ]
     },
     "metadata": {},
     "output_type": "display_data"
    },
    {
     "name": "stdout",
     "output_type": "stream",
     "text": [
      "validation_loss on proxy = 1.1191\n",
      "validation_accuracy on proxy = 70.00%\n",
      "validation_loss on true ds = 1.9078\n",
      "validation_accuracy on true ds = 31.30%\n"
     ]
    },
    {
     "data": {
      "application/vnd.jupyter.widget-view+json": {
       "model_id": "0643bfdbc3b14efeb46dbdfda39022b2",
       "version_major": 2,
       "version_minor": 0
      },
      "text/plain": [
       "  0%|          | 0/2 [00:00<?, ?it/s]"
      ]
     },
     "metadata": {},
     "output_type": "display_data"
    },
    {
     "name": "stdout",
     "output_type": "stream",
     "text": [
      "validation_loss on proxy = 1.1027\n",
      "validation_accuracy on proxy = 70.00%\n",
      "validation_loss on true ds = 1.8954\n",
      "validation_accuracy on true ds = 31.74%\n"
     ]
    },
    {
     "data": {
      "application/vnd.jupyter.widget-view+json": {
       "model_id": "762a1c901d474faa9012793e8783a110",
       "version_major": 2,
       "version_minor": 0
      },
      "text/plain": [
       "  0%|          | 0/2 [00:00<?, ?it/s]"
      ]
     },
     "metadata": {},
     "output_type": "display_data"
    },
    {
     "name": "stdout",
     "output_type": "stream",
     "text": [
      "validation_loss on proxy = 1.0963\n",
      "validation_accuracy on proxy = 70.00%\n",
      "validation_loss on true ds = 1.8944\n",
      "validation_accuracy on true ds = 31.89%\n"
     ]
    },
    {
     "data": {
      "application/vnd.jupyter.widget-view+json": {
       "model_id": "4f083e6bcc4642de8dd0cab711b2f5c3",
       "version_major": 2,
       "version_minor": 0
      },
      "text/plain": [
       "  0%|          | 0/2 [00:00<?, ?it/s]"
      ]
     },
     "metadata": {},
     "output_type": "display_data"
    },
    {
     "name": "stdout",
     "output_type": "stream",
     "text": [
      "validation_loss on proxy = 1.0751\n",
      "validation_accuracy on proxy = 70.00%\n",
      "validation_loss on true ds = 1.8728\n",
      "validation_accuracy on true ds = 32.34%\n"
     ]
    },
    {
     "data": {
      "application/vnd.jupyter.widget-view+json": {
       "model_id": "52dbd3ccbac54a9bb1bd8746ce372def",
       "version_major": 2,
       "version_minor": 0
      },
      "text/plain": [
       "  0%|          | 0/2 [00:00<?, ?it/s]"
      ]
     },
     "metadata": {},
     "output_type": "display_data"
    },
    {
     "name": "stdout",
     "output_type": "stream",
     "text": [
      "validation_loss on proxy = 1.0684\n",
      "validation_accuracy on proxy = 70.00%\n",
      "validation_loss on true ds = 1.8694\n",
      "validation_accuracy on true ds = 32.59%\n"
     ]
    },
    {
     "data": {
      "application/vnd.jupyter.widget-view+json": {
       "model_id": "36c610268493463b87de13c6b8ed8e7c",
       "version_major": 2,
       "version_minor": 0
      },
      "text/plain": [
       "  0%|          | 0/2 [00:00<?, ?it/s]"
      ]
     },
     "metadata": {},
     "output_type": "display_data"
    },
    {
     "name": "stdout",
     "output_type": "stream",
     "text": [
      "validation_loss on proxy = 1.0643\n",
      "validation_accuracy on proxy = 70.00%\n",
      "validation_loss on true ds = 1.8538\n",
      "validation_accuracy on true ds = 33.15%\n"
     ]
    },
    {
     "data": {
      "application/vnd.jupyter.widget-view+json": {
       "model_id": "d96f895cf1554c05a2761047b290cf9a",
       "version_major": 2,
       "version_minor": 0
      },
      "text/plain": [
       "  0%|          | 0/2 [00:00<?, ?it/s]"
      ]
     },
     "metadata": {},
     "output_type": "display_data"
    },
    {
     "name": "stdout",
     "output_type": "stream",
     "text": [
      "validation_loss on proxy = 1.0619\n",
      "validation_accuracy on proxy = 80.00%\n",
      "Saved at epoch 57\n",
      "validation_loss on true ds = 1.8630\n",
      "validation_accuracy on true ds = 32.67%\n"
     ]
    },
    {
     "data": {
      "application/vnd.jupyter.widget-view+json": {
       "model_id": "c11346a2a1594d5a83b2469eea7ccf03",
       "version_major": 2,
       "version_minor": 0
      },
      "text/plain": [
       "  0%|          | 0/2 [00:00<?, ?it/s]"
      ]
     },
     "metadata": {},
     "output_type": "display_data"
    },
    {
     "name": "stdout",
     "output_type": "stream",
     "text": [
      "validation_loss on proxy = 1.0601\n",
      "validation_accuracy on proxy = 80.00%\n",
      "validation_loss on true ds = 1.8755\n",
      "validation_accuracy on true ds = 32.14%\n"
     ]
    },
    {
     "data": {
      "application/vnd.jupyter.widget-view+json": {
       "model_id": "a567fff348d94a3293b3dafdc78358ec",
       "version_major": 2,
       "version_minor": 0
      },
      "text/plain": [
       "  0%|          | 0/2 [00:00<?, ?it/s]"
      ]
     },
     "metadata": {},
     "output_type": "display_data"
    },
    {
     "name": "stdout",
     "output_type": "stream",
     "text": [
      "validation_loss on proxy = 1.0595\n",
      "validation_accuracy on proxy = 80.00%\n",
      "validation_loss on true ds = 1.8751\n",
      "validation_accuracy on true ds = 31.89%\n"
     ]
    },
    {
     "data": {
      "application/vnd.jupyter.widget-view+json": {
       "model_id": "bd803505e842452fb173745cb9d49166",
       "version_major": 2,
       "version_minor": 0
      },
      "text/plain": [
       "  0%|          | 0/2 [00:00<?, ?it/s]"
      ]
     },
     "metadata": {},
     "output_type": "display_data"
    },
    {
     "name": "stdout",
     "output_type": "stream",
     "text": [
      "validation_loss on proxy = 1.0478\n",
      "validation_accuracy on proxy = 80.00%\n",
      "validation_loss on true ds = 1.8715\n",
      "validation_accuracy on true ds = 32.27%\n"
     ]
    },
    {
     "data": {
      "application/vnd.jupyter.widget-view+json": {
       "model_id": "d8602c97476d4a2f841e8637d31e1333",
       "version_major": 2,
       "version_minor": 0
      },
      "text/plain": [
       "  0%|          | 0/2 [00:00<?, ?it/s]"
      ]
     },
     "metadata": {},
     "output_type": "display_data"
    },
    {
     "name": "stdout",
     "output_type": "stream",
     "text": [
      "validation_loss on proxy = 1.0357\n",
      "validation_accuracy on proxy = 80.00%\n",
      "validation_loss on true ds = 1.8761\n",
      "validation_accuracy on true ds = 31.90%\n"
     ]
    },
    {
     "data": {
      "application/vnd.jupyter.widget-view+json": {
       "model_id": "ea7c912e47924adfba33e71bd7919472",
       "version_major": 2,
       "version_minor": 0
      },
      "text/plain": [
       "  0%|          | 0/2 [00:00<?, ?it/s]"
      ]
     },
     "metadata": {},
     "output_type": "display_data"
    },
    {
     "name": "stdout",
     "output_type": "stream",
     "text": [
      "validation_loss on proxy = 1.0421\n",
      "validation_accuracy on proxy = 70.00%\n",
      "validation_loss on true ds = 1.8670\n",
      "validation_accuracy on true ds = 32.47%\n"
     ]
    },
    {
     "data": {
      "application/vnd.jupyter.widget-view+json": {
       "model_id": "c9c063626aa346ef94372e5ab9332cc8",
       "version_major": 2,
       "version_minor": 0
      },
      "text/plain": [
       "  0%|          | 0/2 [00:00<?, ?it/s]"
      ]
     },
     "metadata": {},
     "output_type": "display_data"
    },
    {
     "name": "stdout",
     "output_type": "stream",
     "text": [
      "validation_loss on proxy = 1.0364\n",
      "validation_accuracy on proxy = 70.00%\n",
      "validation_loss on true ds = 1.8588\n",
      "validation_accuracy on true ds = 32.29%\n"
     ]
    },
    {
     "data": {
      "application/vnd.jupyter.widget-view+json": {
       "model_id": "29fee5567966405a9cfe46b06342646f",
       "version_major": 2,
       "version_minor": 0
      },
      "text/plain": [
       "  0%|          | 0/2 [00:00<?, ?it/s]"
      ]
     },
     "metadata": {},
     "output_type": "display_data"
    },
    {
     "name": "stdout",
     "output_type": "stream",
     "text": [
      "validation_loss on proxy = 1.0390\n",
      "validation_accuracy on proxy = 70.00%\n",
      "validation_loss on true ds = 1.8637\n",
      "validation_accuracy on true ds = 32.26%\n"
     ]
    },
    {
     "data": {
      "application/vnd.jupyter.widget-view+json": {
       "model_id": "c3d5768cc73e4b1a851c3a617ac56822",
       "version_major": 2,
       "version_minor": 0
      },
      "text/plain": [
       "  0%|          | 0/2 [00:00<?, ?it/s]"
      ]
     },
     "metadata": {},
     "output_type": "display_data"
    },
    {
     "name": "stdout",
     "output_type": "stream",
     "text": [
      "validation_loss on proxy = 1.0074\n",
      "validation_accuracy on proxy = 70.00%\n",
      "validation_loss on true ds = 1.8643\n",
      "validation_accuracy on true ds = 32.21%\n"
     ]
    },
    {
     "data": {
      "application/vnd.jupyter.widget-view+json": {
       "model_id": "99c22754b90f40929901dffc0926142b",
       "version_major": 2,
       "version_minor": 0
      },
      "text/plain": [
       "  0%|          | 0/2 [00:00<?, ?it/s]"
      ]
     },
     "metadata": {},
     "output_type": "display_data"
    },
    {
     "name": "stdout",
     "output_type": "stream",
     "text": [
      "validation_loss on proxy = 0.9926\n",
      "validation_accuracy on proxy = 70.00%\n",
      "validation_loss on true ds = 1.8695\n",
      "validation_accuracy on true ds = 32.47%\n"
     ]
    },
    {
     "data": {
      "application/vnd.jupyter.widget-view+json": {
       "model_id": "1bbcfe7ea1434ee7ad38cf150269fd56",
       "version_major": 2,
       "version_minor": 0
      },
      "text/plain": [
       "  0%|          | 0/2 [00:00<?, ?it/s]"
      ]
     },
     "metadata": {},
     "output_type": "display_data"
    },
    {
     "name": "stdout",
     "output_type": "stream",
     "text": [
      "validation_loss on proxy = 0.9725\n",
      "validation_accuracy on proxy = 70.00%\n",
      "validation_loss on true ds = 1.8561\n",
      "validation_accuracy on true ds = 33.48%\n"
     ]
    },
    {
     "data": {
      "application/vnd.jupyter.widget-view+json": {
       "model_id": "6b3eb61cc6d4486a84db727254af8e10",
       "version_major": 2,
       "version_minor": 0
      },
      "text/plain": [
       "  0%|          | 0/2 [00:00<?, ?it/s]"
      ]
     },
     "metadata": {},
     "output_type": "display_data"
    },
    {
     "name": "stdout",
     "output_type": "stream",
     "text": [
      "validation_loss on proxy = 0.9447\n",
      "validation_accuracy on proxy = 70.00%\n",
      "validation_loss on true ds = 1.8474\n",
      "validation_accuracy on true ds = 33.69%\n"
     ]
    },
    {
     "data": {
      "application/vnd.jupyter.widget-view+json": {
       "model_id": "8d816ea74f054dfbb63d9775f5545b94",
       "version_major": 2,
       "version_minor": 0
      },
      "text/plain": [
       "  0%|          | 0/2 [00:00<?, ?it/s]"
      ]
     },
     "metadata": {},
     "output_type": "display_data"
    },
    {
     "name": "stdout",
     "output_type": "stream",
     "text": [
      "validation_loss on proxy = 0.9404\n",
      "validation_accuracy on proxy = 70.00%\n",
      "validation_loss on true ds = 1.8530\n",
      "validation_accuracy on true ds = 33.80%\n"
     ]
    },
    {
     "data": {
      "application/vnd.jupyter.widget-view+json": {
       "model_id": "4400e07fa01b4576a3a435e8376f4058",
       "version_major": 2,
       "version_minor": 0
      },
      "text/plain": [
       "  0%|          | 0/2 [00:00<?, ?it/s]"
      ]
     },
     "metadata": {},
     "output_type": "display_data"
    },
    {
     "name": "stdout",
     "output_type": "stream",
     "text": [
      "validation_loss on proxy = 0.9242\n",
      "validation_accuracy on proxy = 70.00%\n",
      "validation_loss on true ds = 1.8494\n",
      "validation_accuracy on true ds = 33.96%\n"
     ]
    },
    {
     "data": {
      "application/vnd.jupyter.widget-view+json": {
       "model_id": "2a1a90abbc0b4ecc96975ae479032770",
       "version_major": 2,
       "version_minor": 0
      },
      "text/plain": [
       "  0%|          | 0/2 [00:00<?, ?it/s]"
      ]
     },
     "metadata": {},
     "output_type": "display_data"
    },
    {
     "name": "stdout",
     "output_type": "stream",
     "text": [
      "validation_loss on proxy = 0.9166\n",
      "validation_accuracy on proxy = 70.00%\n",
      "validation_loss on true ds = 1.8775\n",
      "validation_accuracy on true ds = 33.36%\n"
     ]
    },
    {
     "data": {
      "application/vnd.jupyter.widget-view+json": {
       "model_id": "06acdd7263844fe6a2ece7944c0d8eb7",
       "version_major": 2,
       "version_minor": 0
      },
      "text/plain": [
       "  0%|          | 0/2 [00:00<?, ?it/s]"
      ]
     },
     "metadata": {},
     "output_type": "display_data"
    },
    {
     "name": "stdout",
     "output_type": "stream",
     "text": [
      "validation_loss on proxy = 0.9057\n",
      "validation_accuracy on proxy = 70.00%\n",
      "validation_loss on true ds = 1.8470\n",
      "validation_accuracy on true ds = 33.99%\n"
     ]
    },
    {
     "data": {
      "application/vnd.jupyter.widget-view+json": {
       "model_id": "6f3dc277bf124586bc997948c4bc5686",
       "version_major": 2,
       "version_minor": 0
      },
      "text/plain": [
       "  0%|          | 0/2 [00:00<?, ?it/s]"
      ]
     },
     "metadata": {},
     "output_type": "display_data"
    },
    {
     "name": "stdout",
     "output_type": "stream",
     "text": [
      "validation_loss on proxy = 0.9040\n",
      "validation_accuracy on proxy = 80.00%\n",
      "validation_loss on true ds = 1.8456\n",
      "validation_accuracy on true ds = 33.86%\n"
     ]
    },
    {
     "data": {
      "application/vnd.jupyter.widget-view+json": {
       "model_id": "713b14aef13741c7897d44b6705e8248",
       "version_major": 2,
       "version_minor": 0
      },
      "text/plain": [
       "  0%|          | 0/2 [00:00<?, ?it/s]"
      ]
     },
     "metadata": {},
     "output_type": "display_data"
    },
    {
     "name": "stdout",
     "output_type": "stream",
     "text": [
      "validation_loss on proxy = 0.8933\n",
      "validation_accuracy on proxy = 80.00%\n",
      "validation_loss on true ds = 1.8403\n",
      "validation_accuracy on true ds = 34.03%\n"
     ]
    },
    {
     "data": {
      "application/vnd.jupyter.widget-view+json": {
       "model_id": "b1b39fabbf5f40de9f82d0c563039dd8",
       "version_major": 2,
       "version_minor": 0
      },
      "text/plain": [
       "  0%|          | 0/2 [00:00<?, ?it/s]"
      ]
     },
     "metadata": {},
     "output_type": "display_data"
    },
    {
     "name": "stdout",
     "output_type": "stream",
     "text": [
      "validation_loss on proxy = 0.8861\n",
      "validation_accuracy on proxy = 80.00%\n",
      "validation_loss on true ds = 1.8406\n",
      "validation_accuracy on true ds = 33.52%\n"
     ]
    },
    {
     "data": {
      "application/vnd.jupyter.widget-view+json": {
       "model_id": "942cd761eba84193b8ed5fe37a85a8d9",
       "version_major": 2,
       "version_minor": 0
      },
      "text/plain": [
       "  0%|          | 0/2 [00:00<?, ?it/s]"
      ]
     },
     "metadata": {},
     "output_type": "display_data"
    },
    {
     "name": "stdout",
     "output_type": "stream",
     "text": [
      "validation_loss on proxy = 0.8763\n",
      "validation_accuracy on proxy = 80.00%\n",
      "validation_loss on true ds = 1.8320\n",
      "validation_accuracy on true ds = 33.97%\n"
     ]
    },
    {
     "data": {
      "application/vnd.jupyter.widget-view+json": {
       "model_id": "06403b5f4b9f4e1eb21cd0d20832de77",
       "version_major": 2,
       "version_minor": 0
      },
      "text/plain": [
       "  0%|          | 0/2 [00:00<?, ?it/s]"
      ]
     },
     "metadata": {},
     "output_type": "display_data"
    },
    {
     "name": "stdout",
     "output_type": "stream",
     "text": [
      "validation_loss on proxy = 0.8685\n",
      "validation_accuracy on proxy = 80.00%\n",
      "validation_loss on true ds = 1.8110\n",
      "validation_accuracy on true ds = 34.79%\n"
     ]
    },
    {
     "data": {
      "application/vnd.jupyter.widget-view+json": {
       "model_id": "93338fd6251a4c7cb2ddd3e494b64911",
       "version_major": 2,
       "version_minor": 0
      },
      "text/plain": [
       "  0%|          | 0/2 [00:00<?, ?it/s]"
      ]
     },
     "metadata": {},
     "output_type": "display_data"
    },
    {
     "name": "stdout",
     "output_type": "stream",
     "text": [
      "validation_loss on proxy = 0.8607\n",
      "validation_accuracy on proxy = 80.00%\n",
      "validation_loss on true ds = 1.8020\n",
      "validation_accuracy on true ds = 35.19%\n"
     ]
    },
    {
     "data": {
      "application/vnd.jupyter.widget-view+json": {
       "model_id": "08884108f18b4831bd2cc2bd9b953816",
       "version_major": 2,
       "version_minor": 0
      },
      "text/plain": [
       "  0%|          | 0/2 [00:00<?, ?it/s]"
      ]
     },
     "metadata": {},
     "output_type": "display_data"
    },
    {
     "name": "stdout",
     "output_type": "stream",
     "text": [
      "validation_loss on proxy = 0.8565\n",
      "validation_accuracy on proxy = 70.00%\n",
      "validation_loss on true ds = 1.8268\n",
      "validation_accuracy on true ds = 34.41%\n"
     ]
    },
    {
     "data": {
      "application/vnd.jupyter.widget-view+json": {
       "model_id": "6af89eebf878455f82e17d1e8df1d834",
       "version_major": 2,
       "version_minor": 0
      },
      "text/plain": [
       "  0%|          | 0/2 [00:00<?, ?it/s]"
      ]
     },
     "metadata": {},
     "output_type": "display_data"
    },
    {
     "name": "stdout",
     "output_type": "stream",
     "text": [
      "validation_loss on proxy = 0.8559\n",
      "validation_accuracy on proxy = 70.00%\n",
      "validation_loss on true ds = 1.8388\n",
      "validation_accuracy on true ds = 34.15%\n"
     ]
    },
    {
     "data": {
      "application/vnd.jupyter.widget-view+json": {
       "model_id": "7ed951345a4245f999bdbe77e1cd325d",
       "version_major": 2,
       "version_minor": 0
      },
      "text/plain": [
       "  0%|          | 0/2 [00:00<?, ?it/s]"
      ]
     },
     "metadata": {},
     "output_type": "display_data"
    },
    {
     "name": "stdout",
     "output_type": "stream",
     "text": [
      "validation_loss on proxy = 0.8589\n",
      "validation_accuracy on proxy = 70.00%\n",
      "validation_loss on true ds = 1.8527\n",
      "validation_accuracy on true ds = 33.67%\n"
     ]
    },
    {
     "data": {
      "application/vnd.jupyter.widget-view+json": {
       "model_id": "b4787973a20e4a67b4caba22c5377c8b",
       "version_major": 2,
       "version_minor": 0
      },
      "text/plain": [
       "  0%|          | 0/2 [00:00<?, ?it/s]"
      ]
     },
     "metadata": {},
     "output_type": "display_data"
    },
    {
     "name": "stdout",
     "output_type": "stream",
     "text": [
      "validation_loss on proxy = 0.8477\n",
      "validation_accuracy on proxy = 70.00%\n",
      "validation_loss on true ds = 1.8269\n",
      "validation_accuracy on true ds = 34.89%\n"
     ]
    },
    {
     "data": {
      "application/vnd.jupyter.widget-view+json": {
       "model_id": "01c5002c89ad4898a89d283bfe09c9c3",
       "version_major": 2,
       "version_minor": 0
      },
      "text/plain": [
       "  0%|          | 0/2 [00:00<?, ?it/s]"
      ]
     },
     "metadata": {},
     "output_type": "display_data"
    },
    {
     "name": "stdout",
     "output_type": "stream",
     "text": [
      "validation_loss on proxy = 0.8509\n",
      "validation_accuracy on proxy = 70.00%\n",
      "validation_loss on true ds = 1.8530\n",
      "validation_accuracy on true ds = 33.91%\n"
     ]
    },
    {
     "data": {
      "application/vnd.jupyter.widget-view+json": {
       "model_id": "1ab60e83168a488c9ff474446e6a9289",
       "version_major": 2,
       "version_minor": 0
      },
      "text/plain": [
       "  0%|          | 0/2 [00:00<?, ?it/s]"
      ]
     },
     "metadata": {},
     "output_type": "display_data"
    },
    {
     "name": "stdout",
     "output_type": "stream",
     "text": [
      "validation_loss on proxy = 0.8477\n",
      "validation_accuracy on proxy = 70.00%\n",
      "validation_loss on true ds = 1.8455\n",
      "validation_accuracy on true ds = 34.17%\n"
     ]
    },
    {
     "data": {
      "application/vnd.jupyter.widget-view+json": {
       "model_id": "e9f86219fa4a4ff485fe68bf7b0b1fd6",
       "version_major": 2,
       "version_minor": 0
      },
      "text/plain": [
       "  0%|          | 0/2 [00:00<?, ?it/s]"
      ]
     },
     "metadata": {},
     "output_type": "display_data"
    },
    {
     "name": "stdout",
     "output_type": "stream",
     "text": [
      "validation_loss on proxy = 0.8420\n",
      "validation_accuracy on proxy = 70.00%\n",
      "validation_loss on true ds = 1.8390\n",
      "validation_accuracy on true ds = 34.25%\n"
     ]
    },
    {
     "data": {
      "application/vnd.jupyter.widget-view+json": {
       "model_id": "788f9b9ab56446a881bdcca91c4ffce8",
       "version_major": 2,
       "version_minor": 0
      },
      "text/plain": [
       "  0%|          | 0/2 [00:00<?, ?it/s]"
      ]
     },
     "metadata": {},
     "output_type": "display_data"
    },
    {
     "name": "stdout",
     "output_type": "stream",
     "text": [
      "validation_loss on proxy = 0.8381\n",
      "validation_accuracy on proxy = 70.00%\n",
      "validation_loss on true ds = 1.8234\n",
      "validation_accuracy on true ds = 34.95%\n"
     ]
    },
    {
     "data": {
      "application/vnd.jupyter.widget-view+json": {
       "model_id": "94d760c26342435595af4068672f2984",
       "version_major": 2,
       "version_minor": 0
      },
      "text/plain": [
       "  0%|          | 0/2 [00:00<?, ?it/s]"
      ]
     },
     "metadata": {},
     "output_type": "display_data"
    },
    {
     "name": "stdout",
     "output_type": "stream",
     "text": [
      "validation_loss on proxy = 0.8336\n",
      "validation_accuracy on proxy = 70.00%\n",
      "validation_loss on true ds = 1.8136\n",
      "validation_accuracy on true ds = 35.25%\n"
     ]
    },
    {
     "data": {
      "application/vnd.jupyter.widget-view+json": {
       "model_id": "3cf1bc9a92664bf495c65f4aebdf2b7e",
       "version_major": 2,
       "version_minor": 0
      },
      "text/plain": [
       "  0%|          | 0/2 [00:00<?, ?it/s]"
      ]
     },
     "metadata": {},
     "output_type": "display_data"
    },
    {
     "name": "stdout",
     "output_type": "stream",
     "text": [
      "validation_loss on proxy = 0.8467\n",
      "validation_accuracy on proxy = 70.00%\n",
      "validation_loss on true ds = 1.8209\n",
      "validation_accuracy on true ds = 34.94%\n"
     ]
    },
    {
     "data": {
      "application/vnd.jupyter.widget-view+json": {
       "model_id": "dcad9389d93643c4b31627ce3eb64174",
       "version_major": 2,
       "version_minor": 0
      },
      "text/plain": [
       "  0%|          | 0/2 [00:00<?, ?it/s]"
      ]
     },
     "metadata": {},
     "output_type": "display_data"
    },
    {
     "name": "stdout",
     "output_type": "stream",
     "text": [
      "validation_loss on proxy = 0.8820\n",
      "validation_accuracy on proxy = 80.00%\n",
      "validation_loss on true ds = 1.8229\n",
      "validation_accuracy on true ds = 35.06%\n"
     ]
    },
    {
     "data": {
      "application/vnd.jupyter.widget-view+json": {
       "model_id": "72ae64cf7d5a4c28b3cef1befb123fb8",
       "version_major": 2,
       "version_minor": 0
      },
      "text/plain": [
       "  0%|          | 0/2 [00:00<?, ?it/s]"
      ]
     },
     "metadata": {},
     "output_type": "display_data"
    },
    {
     "name": "stdout",
     "output_type": "stream",
     "text": [
      "validation_loss on proxy = 0.9130\n",
      "validation_accuracy on proxy = 80.00%\n",
      "validation_loss on true ds = 1.8421\n",
      "validation_accuracy on true ds = 34.18%\n"
     ]
    },
    {
     "data": {
      "application/vnd.jupyter.widget-view+json": {
       "model_id": "c4d68fe48d1e411aa70fb79e535bc9a8",
       "version_major": 2,
       "version_minor": 0
      },
      "text/plain": [
       "  0%|          | 0/2 [00:00<?, ?it/s]"
      ]
     },
     "metadata": {},
     "output_type": "display_data"
    },
    {
     "name": "stdout",
     "output_type": "stream",
     "text": [
      "validation_loss on proxy = 0.9427\n",
      "validation_accuracy on proxy = 80.00%\n",
      "validation_loss on true ds = 1.8534\n",
      "validation_accuracy on true ds = 33.66%\n"
     ]
    },
    {
     "data": {
      "application/vnd.jupyter.widget-view+json": {
       "model_id": "5be0e38127a5489885a8948e7fe74bf7",
       "version_major": 2,
       "version_minor": 0
      },
      "text/plain": [
       "  0%|          | 0/2 [00:00<?, ?it/s]"
      ]
     },
     "metadata": {},
     "output_type": "display_data"
    },
    {
     "name": "stdout",
     "output_type": "stream",
     "text": [
      "validation_loss on proxy = 0.9545\n",
      "validation_accuracy on proxy = 80.00%\n",
      "validation_loss on true ds = 1.8690\n",
      "validation_accuracy on true ds = 33.52%\n"
     ]
    },
    {
     "data": {
      "application/vnd.jupyter.widget-view+json": {
       "model_id": "599f0d5d0b244c01875745a5e6dd33ca",
       "version_major": 2,
       "version_minor": 0
      },
      "text/plain": [
       "  0%|          | 0/2 [00:00<?, ?it/s]"
      ]
     },
     "metadata": {},
     "output_type": "display_data"
    },
    {
     "name": "stdout",
     "output_type": "stream",
     "text": [
      "validation_loss on proxy = 0.9524\n",
      "validation_accuracy on proxy = 80.00%\n",
      "validation_loss on true ds = 1.8698\n",
      "validation_accuracy on true ds = 33.61%\n"
     ]
    },
    {
     "data": {
      "application/vnd.jupyter.widget-view+json": {
       "model_id": "627e3df2a8ed4d5b80cc545382fddb23",
       "version_major": 2,
       "version_minor": 0
      },
      "text/plain": [
       "  0%|          | 0/2 [00:00<?, ?it/s]"
      ]
     },
     "metadata": {},
     "output_type": "display_data"
    },
    {
     "name": "stdout",
     "output_type": "stream",
     "text": [
      "validation_loss on proxy = 0.9311\n",
      "validation_accuracy on proxy = 80.00%\n",
      "validation_loss on true ds = 1.8800\n",
      "validation_accuracy on true ds = 33.32%\n",
      "We are at epoch 94\n"
     ]
    },
    {
     "data": {
      "text/plain": [
       "<All keys matched successfully>"
      ]
     },
     "execution_count": 11,
     "metadata": {},
     "output_type": "execute_result"
    }
   ],
   "source": [
    "early_stopping = EarlyStopping(tolerance=5, min_delta=0.05)\n",
    "# early_stopping = EarlyStopping(tolerance=5, min_delta=0.001)\n",
    "\n",
    "best_accuracy = 0.0\n",
    "# Training the student\n",
    "for epoch in range(EPOCHS):\n",
    "    # Define progress bar\n",
    "    loop = tqdm(enumerate(train_dataloader), total=len(train_dataloader))\n",
    "    \n",
    "    # Training loop\n",
    "    student_model.train()\n",
    "    training_loss_epoch = []\n",
    "    for batch_idx, (x,y,soft_y) in loop:\n",
    "        optimizer.zero_grad()\n",
    "        \n",
    "        x = x.to(device=device)\n",
    "        y = y.to(device=device)\n",
    "        soft_y = soft_y.to(device=device)\n",
    "        \n",
    "        # Forward pass\n",
    "        logits = student_model(x)\n",
    "        # Backward pass\n",
    "        loss = criterion(input=logits, target=soft_y)\n",
    "        training_loss_epoch.append(loss.item())\n",
    "        # Prob trb inlocuit criterionul, sa adaugi soft-labels\n",
    "        loss.backward()\n",
    "        \n",
    "        # Optimize\n",
    "        optimizer.step()\n",
    "        \n",
    "        # Update progress bar\n",
    "        loop.set_description(f'Epoch {epoch+1}/{EPOCHS}')\n",
    "        loop.set_postfix(training_loss=loss.item())\n",
    "    \n",
    "    # Validation loop on proxy validation dataset\n",
    "    student_model.eval()\n",
    "    validation_loss_epoch = []  \n",
    "    acc = 0\n",
    "    with torch.no_grad():\n",
    "        for x,y,_ in valid_dataloader:\n",
    "            x = x.to(device=device)\n",
    "            y = y.to(device=device)\n",
    "        \n",
    "            logits = student_model(x)\n",
    "            pred = softmax(logits, dim=1)\n",
    "            \n",
    "            confidence,y_hat = torch.max(pred, dim=1)\n",
    "            \n",
    "            loss = criterion(input=logits, target=y)\n",
    "            validation_loss_epoch.append(loss.item())\n",
    "            \n",
    "            acc += torch.sum(y_hat==y).item()\n",
    "        \n",
    "    loop.write(f'validation_loss on proxy = {sum(validation_loss_epoch)/len(validation_loss_epoch):.4f}')\n",
    "    loop.write(f'validation_accuracy on proxy = {100*acc/len(proxy_valid_dataset):.2f}%')\n",
    "\n",
    "    # Save best model\n",
    "    valid_proxy_acc = acc/len(proxy_valid_dataset)\n",
    "    if valid_proxy_acc > best_accuracy:\n",
    "        best_accuracy = valid_proxy_acc\n",
    "        torch.save(student_model.state_dict(), f'temp_models/{TEMP_BEST_MODEL}.pt')\n",
    "        print(f'Saved at epoch {epoch}')\n",
    "\n",
    "    if validate_on_trueds:\n",
    "        # Validation loop on proxy validation dataset\n",
    "        student_model.eval()\n",
    "        with torch.no_grad():\n",
    "            val_loss = []\n",
    "            acc = 0\n",
    "            for x,y in true_valid_ds:\n",
    "                x = x.to(device=device)\n",
    "                y = y.to(device=device)\n",
    "            \n",
    "                logits = student_model(x)\n",
    "                pred = softmax(logits, dim=1)\n",
    "                \n",
    "                confidence,y_hat = torch.max(pred, dim=1)\n",
    "                \n",
    "                loss = criterion(input=logits, target=y)\n",
    "                val_loss.append(loss.item())\n",
    "                \n",
    "                acc += torch.sum(y_hat==y).item()\n",
    "            \n",
    "        loop.write(f'validation_loss on true ds = {sum(val_loss)/len(val_loss):.4f}')\n",
    "        loop.write(f'validation_accuracy on true ds = {100*acc/len(true_dataset.test_dataset):.2f}%')\n",
    "\n",
    "        \n",
    "    early_stopping(sum(validation_loss_epoch)/len(validation_loss_epoch))\n",
    "    if early_stopping.early_stop:\n",
    "      print(f\"We are at epoch {epoch}\")\n",
    "      break\n",
    "\n",
    "student_model.load_state_dict(torch.load(f'temp_models/{TEMP_BEST_MODEL}.pt'))"
   ]
  },
  {
   "cell_type": "code",
   "execution_count": 12,
   "metadata": {
    "colab": {
     "base_uri": "https://localhost:8080/"
    },
    "id": "YN6xau7Lzk0K",
    "outputId": "85cb31f5-2fd3-4b8d-edab-8c23f25b9a40"
   },
   "outputs": [
    {
     "name": "stdout",
     "output_type": "stream",
     "text": [
      "Student with true dataset:\n",
      "test_loss = 1.8630\n",
      "test_accuracy = 32.67%\n",
      "\n",
      "Class airplane: correct_pred=326, actual=1000 => acc=32.60%, total_pred=676\n",
      "Class automobile: correct_pred=301, actual=1000 => acc=30.10%, total_pred=501\n",
      "Class bird: correct_pred=53, actual=1000 => acc=5.30%, total_pred=294\n",
      "Class cat: correct_pred=634, actual=1000 => acc=63.40%, total_pred=3473\n",
      "Class deer: correct_pred=475, actual=1000 => acc=47.50%, total_pred=1239\n",
      "Class dog: correct_pred=134, actual=1000 => acc=13.40%, total_pred=826\n",
      "Class frog: correct_pred=289, actual=1000 => acc=28.90%, total_pred=623\n",
      "Class horse: correct_pred=256, actual=1000 => acc=25.60%, total_pred=494\n",
      "Class ship: correct_pred=457, actual=1000 => acc=45.70%, total_pred=1225\n",
      "Class truck: correct_pred=342, actual=1000 => acc=34.20%, total_pred=649\n"
     ]
    }
   ],
   "source": [
    "# Testing on CIFAR10 ground truth\n",
    "true_dataloader = true_dataset.test_dataloader()\n",
    "acc_per_class = {k:[0,0,0] for k,v in label_mapper_inv.items()}\n",
    "\n",
    "student_model.eval()\n",
    "student_model.return_feature_domain = False\n",
    "with torch.no_grad():\n",
    "    test_loss = []\n",
    "    acc = 0\n",
    "    for x,y in true_dataloader:\n",
    "        x = x.to(device=device)\n",
    "        y = y.to(device=device)\n",
    "    \n",
    "        logits = student_model(x)\n",
    "        pred = softmax(logits, dim=1)\n",
    "        \n",
    "        confidence,y_hat = torch.max(pred, dim=1)\n",
    "        \n",
    "        loss = criterion(input=logits, target=y)\n",
    "        test_loss.append(loss.item())\n",
    "        \n",
    "        acc += torch.sum(y_hat==y)\n",
    "        \n",
    "        for i in range(len(y)):\n",
    "            a = y[i].item()\n",
    "            p = y_hat[i].item()\n",
    "            \n",
    "            \n",
    "            if a == p:\n",
    "                acc_per_class[a][0] += 1 # correct predictions\n",
    "            acc_per_class[a][1] += 1     # total number \n",
    "            acc_per_class[p][2] += 1     # predictions of class\n",
    "        \n",
    "    print('Student with true dataset:')\n",
    "    print(f'test_loss = {sum(test_loss)/len(test_loss):.4f}')                  # 1.7439;  1.6199\n",
    "    print(f'test_accuracy = {100*acc/len(true_dataset.test_dataset):.2f}%')    # 46.09%;  48.57%\n",
    "    print()\n",
    "    \n",
    "for k,v in acc_per_class.items():\n",
    "    print(f'Class {label_mapper_inv[k]}: correct_pred={v[0]}, actual={v[1]} => acc={v[0]*100/v[1]:.2f}%, total_pred={v[2]}')"
   ]
  },
  {
   "cell_type": "code",
   "execution_count": 13,
   "metadata": {
    "colab": {
     "base_uri": "https://localhost:8080/"
    },
    "id": "c3nKp8h6GZa1",
    "outputId": "48b21216-dc14-4b6e-e232-ce727f9771fb"
   },
   "outputs": [
    {
     "name": "stdout",
     "output_type": "stream",
     "text": [
      "Student with true dataset:\n",
      "test_loss = 1.8727\n",
      "test_accuracy = 32.47%\n",
      "\n",
      "Class airplane: correct_pred=348, actual=1038 => acc=33.53%, total_pred=676\n",
      "Class automobile: correct_pred=302, actual=1002 => acc=30.14%, total_pred=501\n",
      "Class bird: correct_pred=60, actual=965 => acc=6.22%, total_pred=294\n",
      "Class cat: correct_pred=590, actual=938 => acc=62.90%, total_pred=3473\n",
      "Class deer: correct_pred=493, actual=1108 => acc=44.49%, total_pred=1239\n",
      "Class dog: correct_pred=113, actual=913 => acc=12.38%, total_pred=826\n",
      "Class frog: correct_pred=290, actual=996 => acc=29.12%, total_pred=623\n",
      "Class horse: correct_pred=266, actual=1063 => acc=25.02%, total_pred=494\n",
      "Class ship: correct_pred=432, actual=939 => acc=46.01%, total_pred=1225\n",
      "Class truck: correct_pred=353, actual=1038 => acc=34.01%, total_pred=649\n"
     ]
    }
   ],
   "source": [
    "# Testing using labels predicted with teacher\n",
    "true_dataloader = true_dataset.test_dataloader()\n",
    "acc_per_class = {k:[0,0,0] for k,v in label_mapper_inv.items()}\n",
    "\n",
    "student_model.eval()\n",
    "teacher_model.eval()\n",
    "with torch.no_grad():\n",
    "    test_loss = []\n",
    "    acc = 0\n",
    "    for x,y in true_dataloader:\n",
    "        x = x.to(device=device)\n",
    "        # y = y.to(device=device)\n",
    "\n",
    "        teacher_pred = softmax(teacher_model(x), dim=1)\n",
    "        _, y = torch.max(teacher_pred, dim=1)\n",
    "    \n",
    "        logits = student_model(x)\n",
    "        pred = softmax(logits, dim=1)\n",
    "        \n",
    "        confidence,y_hat = torch.max(pred, dim=1)\n",
    "        \n",
    "        loss = criterion(input=logits, target=y)\n",
    "        test_loss.append(loss.item())\n",
    "        \n",
    "        acc += torch.sum(y_hat==y)\n",
    "        \n",
    "        for i in range(len(y)):\n",
    "            a = y[i].item()\n",
    "            p = y_hat[i].item()\n",
    "            \n",
    "            \n",
    "            if a == p:\n",
    "                acc_per_class[a][0] += 1\n",
    "            acc_per_class[a][1] += 1\n",
    "            acc_per_class[p][2] += 1\n",
    "        \n",
    "    print('Student with true dataset:')\n",
    "    print(f'test_loss = {sum(test_loss)/len(test_loss):.4f}')                  # 1.7439;  1.6199\n",
    "    print(f'test_accuracy = {100*acc/len(true_dataset.test_dataset):.2f}%')    # 46.09%;  48.57%\n",
    "    print()\n",
    "    \n",
    "for k,v in acc_per_class.items():\n",
    "    print(f'Class {label_mapper_inv[k]}: correct_pred={v[0]}, actual={v[1]} => acc={v[0]*100/v[1]:.2f}%, total_pred={v[2]}')"
   ]
  },
  {
   "cell_type": "code",
   "execution_count": 14,
   "metadata": {
    "id": "iEGZLvslraqe"
   },
   "outputs": [],
   "source": [
    "# Redefine training dataset and dataloader with no augmentation\n",
    "proxy_train_dataset = ProxyDataset(train_images, train_labels, valid_transforms, False, train_soft_labels)\n",
    "train_dataloader = DataLoader(proxy_train_dataset, batch_size=BATCH_SIZE, shuffle=False)\n",
    "\n",
    "\n",
    "student_model.return_feature_domain = True\n",
    "\n",
    "if os.path.exists('images_db'):\n",
    "  rmtree('images_db')\n",
    "db_path = 'images_db'\n",
    "images_path = os.path.join(db_path,'images')\n",
    "labels_path = os.path.join(db_path,'labels')\n",
    "\n",
    "images_db = []\n",
    "labels_db = []\n",
    "\n",
    "if not os.path.exists('images_db'):\n",
    "  os.makedirs(db_path)\n",
    "  os.makedirs(images_path)\n",
    "  os.makedirs(labels_path)\n",
    "\n",
    "  for i in range(10):\n",
    "    os.makedirs(os.path.join(images_path,f'class{i}'))\n",
    "    os.makedirs(os.path.join(labels_path,f'class{i}'))\n",
    "\n",
    "# Create the database\n",
    "student_model.eval()\n",
    "with torch.no_grad():\n",
    "  # for dataloader in [train_dataloader, valid_dataloader, test_dataloader]:\n",
    "  for dataloader in [train_dataloader]:\n",
    "    for x,y,soft_y in dataloader:\n",
    "      x = x.to(device=device)\n",
    "\n",
    "      _,latent_fm = student_model(x)\n",
    "\n",
    "      for i in range(latent_fm.shape[0]):\n",
    "        # label = y[i].item()\n",
    "        # path_image = f'{images_path}/class{label}'\n",
    "        # path_label = f'{labels_path}/class{label}'\n",
    "        # idx = len(os.listdir(path_image))\n",
    "        # torch.save(latent_fm[i].cpu(), f'{path_image}/t{idx}.pt')\n",
    "        # torch.save(soft_y[i].cpu(), f'{path_label}/t{idx}.pt')\n",
    "\n",
    "        images_db.append(latent_fm[i])\n",
    "        labels_db.append(soft_y[i])"
   ]
  },
  {
   "cell_type": "code",
   "execution_count": 15,
   "metadata": {
    "id": "h9vnLo2DZ3ts"
   },
   "outputs": [],
   "source": [
    "class DBDataset(Dataset):\n",
    "  def __init__(self, images_db, labels_db):\n",
    "    self.images_db = images_db\n",
    "    self.labels_db = labels_db\n",
    "\n",
    "  def __len__(self):\n",
    "    return len(self.images_db)\n",
    "\n",
    "  def __getitem__(self, idx):\n",
    "    image = self.images_db[idx]\n",
    "    label = self.labels_db[idx]\n",
    "\n",
    "    return image, label\n",
    "\n",
    "db_dataset = DBDataset(images_db=images_db, labels_db=labels_db)\n",
    "db_dataloader = DataLoader(db_dataset, batch_size=128, shuffle=False)"
   ]
  },
  {
   "cell_type": "code",
   "execution_count": 16,
   "metadata": {
    "id": "IvlP1VQBhiEO"
   },
   "outputs": [],
   "source": [
    "proxy_unused_dataset  = ProxyDataset(filtered_images_unused,  filtered_labels_unused,  valid_transforms, True, filtered_soft_labels_unused)"
   ]
  },
  {
   "cell_type": "code",
   "execution_count": 17,
   "metadata": {},
   "outputs": [
    {
     "data": {
      "application/vnd.jupyter.widget-view+json": {
       "model_id": "b831f4640535424788c7b32b5d17413c",
       "version_major": 2,
       "version_minor": 0
      },
      "text/plain": [
       "  0%|          | 0/51140 [00:00<?, ?it/s]"
      ]
     },
     "metadata": {},
     "output_type": "display_data"
    },
    {
     "name": "stdout",
     "output_type": "stream",
     "text": [
      "Final score for k=2: 29381 / 51140, acc = 0.5745209229565897\n"
     ]
    },
    {
     "data": {
      "application/vnd.jupyter.widget-view+json": {
       "model_id": "452d693e71f6462ba2746d94e96a1dd4",
       "version_major": 2,
       "version_minor": 0
      },
      "text/plain": [
       "  0%|          | 0/51140 [00:00<?, ?it/s]"
      ]
     },
     "metadata": {},
     "output_type": "display_data"
    },
    {
     "name": "stdout",
     "output_type": "stream",
     "text": [
      "Final score for k=3: 30159 / 51140, acc = 0.5897340633554947\n"
     ]
    },
    {
     "data": {
      "application/vnd.jupyter.widget-view+json": {
       "model_id": "59743062d4b54364a3f6a0b6fa5f0ac5",
       "version_major": 2,
       "version_minor": 0
      },
      "text/plain": [
       "  0%|          | 0/51140 [00:00<?, ?it/s]"
      ]
     },
     "metadata": {},
     "output_type": "display_data"
    },
    {
     "name": "stdout",
     "output_type": "stream",
     "text": [
      "Final score for k=4: 30345 / 51140, acc = 0.5933711380524052\n"
     ]
    },
    {
     "data": {
      "application/vnd.jupyter.widget-view+json": {
       "model_id": "0b8f5e8df5184feb9cbb9aa40c9d75e4",
       "version_major": 2,
       "version_minor": 0
      },
      "text/plain": [
       "  0%|          | 0/51140 [00:00<?, ?it/s]"
      ]
     },
     "metadata": {},
     "output_type": "display_data"
    },
    {
     "name": "stdout",
     "output_type": "stream",
     "text": [
      "Final score for k=5: 30240 / 51140, acc = 0.5913179507235041\n"
     ]
    },
    {
     "data": {
      "application/vnd.jupyter.widget-view+json": {
       "model_id": "357de0c07e5e47e681c814bc4ebc3393",
       "version_major": 2,
       "version_minor": 0
      },
      "text/plain": [
       "  0%|          | 0/51140 [00:00<?, ?it/s]"
      ]
     },
     "metadata": {},
     "output_type": "display_data"
    },
    {
     "name": "stdout",
     "output_type": "stream",
     "text": [
      "Final score for k=6: 30211 / 51140, acc = 0.5907508799374267\n"
     ]
    },
    {
     "data": {
      "application/vnd.jupyter.widget-view+json": {
       "model_id": "1ed61aff1961481993290d1c6ca810a6",
       "version_major": 2,
       "version_minor": 0
      },
      "text/plain": [
       "  0%|          | 0/51140 [00:00<?, ?it/s]"
      ]
     },
     "metadata": {},
     "output_type": "display_data"
    },
    {
     "name": "stdout",
     "output_type": "stream",
     "text": [
      "Final score for k=7: 29977 / 51140, acc = 0.5861752053187329\n"
     ]
    }
   ],
   "source": [
    "for k in [2,3,4,5,6,7]:\n",
    "  estimations = []\n",
    "  ground_truth = []\n",
    "\n",
    "  student_model.eval()\n",
    "  with torch.no_grad():\n",
    "    for i in trange(len(proxy_unused_dataset)):\n",
    "      image, label, image_path, soft_label = proxy_unused_dataset[i]\n",
    "      image = image.to(device=device)\n",
    "\n",
    "      _,latent_fm = student_model(image.unsqueeze(dim=0))\n",
    "\n",
    "      norm_unkwn = torch.sqrt(torch.sum(torch.square(latent_fm), dim=(-1,-2,-3), keepdim=True))\n",
    "\n",
    "      # Calculate distances\n",
    "      distances = torch.zeros(size=(len(db_dataset),), device=device)\n",
    "      for j, (img_db, softl_db) in enumerate(db_dataloader):\n",
    "        img_db = img_db.to(device=device)\n",
    "        \n",
    "        norm_db = torch.sqrt(torch.sum(torch.square(img_db), dim=(-1,-2,-3), keepdim=True))\n",
    "\n",
    "        dot_prod = torch.tensordot(img_db, latent_fm, dims=[[-1,-2,-3],[-1,-2,-3]])\n",
    "        denominator = (norm_db * norm_unkwn).squeeze(dim=-1).squeeze(dim=-1)\n",
    "        cosine_similarities = (dot_prod / denominator).squeeze(dim=-1)\n",
    "        \n",
    "        distances[j*128:(j+1)*128] = cosine_similarities\n",
    "        \n",
    "      smallest_d, smallest_d_indices = torch.topk(distances, k=k, largest=True)\n",
    "      closest_slabels = torch.vstack([db_dataset[l][1] for l in smallest_d_indices])\n",
    "\n",
    "      weighted_slabels = smallest_d.unsqueeze(1) * closest_slabels\n",
    "      estimated_soft_label = weighted_slabels.sum(0) / smallest_d.sum()\n",
    "      estimated_hard_label = estimated_soft_label.argmax().item()\n",
    "      \n",
    "      # print(f'Ground truth soft_label = {soft_label}')\n",
    "      # print(f'Estimated soft_label = {estimated_soft_label}')\n",
    "      # print(f'Ground truth hard_label = {label}')\n",
    "      # print(f'Estimated hard_label = {estimated_hard_label}')\n",
    "      \n",
    "      # print(f'Smallest 3 distances: {smallest_d}')\n",
    "      # print(f'Smallest 3 indices: {smallest_d_indices}')\n",
    "      # print(f'Closest 3 slabels = {closest_slabels}')\n",
    "        \n",
    "      train_images.append(image_path)\n",
    "      train_labels.append(estimated_hard_label)\n",
    "      train_soft_labels.append(estimated_soft_label)\n",
    "\n",
    "      estimations.append(estimated_hard_label)\n",
    "      ground_truth.append(label)\n",
    "\n",
    "  correct = (np.array(estimations) == np.array(ground_truth)).sum()\n",
    "  print(f'Final score for k={k}: {correct} / {len(estimations)}, acc = {correct/len(estimations)}')"
   ]
  },
  {
   "cell_type": "code",
   "execution_count": 27,
   "metadata": {},
   "outputs": [
    {
     "data": {
      "application/vnd.jupyter.widget-view+json": {
       "model_id": "1b2239dbc88744279cbc0cab05297e46",
       "version_major": 2,
       "version_minor": 0
      },
      "text/plain": [
       "  0%|          | 0/1396 [00:00<?, ?it/s]"
      ]
     },
     "metadata": {},
     "output_type": "display_data"
    },
    {
     "ename": "TypeError",
     "evalue": "cross_entropy_loss(): argument 'input' (position 1) must be Tensor, not tuple",
     "output_type": "error",
     "traceback": [
      "\u001b[0;31m---------------------------------------------------------------------------\u001b[0m",
      "\u001b[0;31mTypeError\u001b[0m                                 Traceback (most recent call last)",
      "Cell \u001b[0;32mIn[27], line 23\u001b[0m\n\u001b[1;32m     21\u001b[0m logits \u001b[39m=\u001b[39m student_model(x)\n\u001b[1;32m     22\u001b[0m \u001b[39m# Backward pass\u001b[39;00m\n\u001b[0;32m---> 23\u001b[0m loss \u001b[39m=\u001b[39m criterion(\u001b[39minput\u001b[39;49m\u001b[39m=\u001b[39;49mlogits, target\u001b[39m=\u001b[39;49msoft_y)\n\u001b[1;32m     24\u001b[0m training_loss_epoch\u001b[39m.\u001b[39mappend(loss\u001b[39m.\u001b[39mitem())\n\u001b[1;32m     25\u001b[0m \u001b[39m# Prob trb inlocuit criterionul, sa adaugi soft-labels\u001b[39;00m\n",
      "File \u001b[0;32m~/.local/lib/python3.10/site-packages/torch/nn/modules/module.py:1190\u001b[0m, in \u001b[0;36mModule._call_impl\u001b[0;34m(self, *input, **kwargs)\u001b[0m\n\u001b[1;32m   1186\u001b[0m \u001b[39m# If we don't have any hooks, we want to skip the rest of the logic in\u001b[39;00m\n\u001b[1;32m   1187\u001b[0m \u001b[39m# this function, and just call forward.\u001b[39;00m\n\u001b[1;32m   1188\u001b[0m \u001b[39mif\u001b[39;00m \u001b[39mnot\u001b[39;00m (\u001b[39mself\u001b[39m\u001b[39m.\u001b[39m_backward_hooks \u001b[39mor\u001b[39;00m \u001b[39mself\u001b[39m\u001b[39m.\u001b[39m_forward_hooks \u001b[39mor\u001b[39;00m \u001b[39mself\u001b[39m\u001b[39m.\u001b[39m_forward_pre_hooks \u001b[39mor\u001b[39;00m _global_backward_hooks\n\u001b[1;32m   1189\u001b[0m         \u001b[39mor\u001b[39;00m _global_forward_hooks \u001b[39mor\u001b[39;00m _global_forward_pre_hooks):\n\u001b[0;32m-> 1190\u001b[0m     \u001b[39mreturn\u001b[39;00m forward_call(\u001b[39m*\u001b[39;49m\u001b[39minput\u001b[39;49m, \u001b[39m*\u001b[39;49m\u001b[39m*\u001b[39;49mkwargs)\n\u001b[1;32m   1191\u001b[0m \u001b[39m# Do not call functions when jit is used\u001b[39;00m\n\u001b[1;32m   1192\u001b[0m full_backward_hooks, non_full_backward_hooks \u001b[39m=\u001b[39m [], []\n",
      "File \u001b[0;32m~/.local/lib/python3.10/site-packages/torch/nn/modules/loss.py:1174\u001b[0m, in \u001b[0;36mCrossEntropyLoss.forward\u001b[0;34m(self, input, target)\u001b[0m\n\u001b[1;32m   1173\u001b[0m \u001b[39mdef\u001b[39;00m \u001b[39mforward\u001b[39m(\u001b[39mself\u001b[39m, \u001b[39minput\u001b[39m: Tensor, target: Tensor) \u001b[39m-\u001b[39m\u001b[39m>\u001b[39m Tensor:\n\u001b[0;32m-> 1174\u001b[0m     \u001b[39mreturn\u001b[39;00m F\u001b[39m.\u001b[39;49mcross_entropy(\u001b[39minput\u001b[39;49m, target, weight\u001b[39m=\u001b[39;49m\u001b[39mself\u001b[39;49m\u001b[39m.\u001b[39;49mweight,\n\u001b[1;32m   1175\u001b[0m                            ignore_index\u001b[39m=\u001b[39;49m\u001b[39mself\u001b[39;49m\u001b[39m.\u001b[39;49mignore_index, reduction\u001b[39m=\u001b[39;49m\u001b[39mself\u001b[39;49m\u001b[39m.\u001b[39;49mreduction,\n\u001b[1;32m   1176\u001b[0m                            label_smoothing\u001b[39m=\u001b[39;49m\u001b[39mself\u001b[39;49m\u001b[39m.\u001b[39;49mlabel_smoothing)\n",
      "File \u001b[0;32m~/.local/lib/python3.10/site-packages/torch/nn/functional.py:3026\u001b[0m, in \u001b[0;36mcross_entropy\u001b[0;34m(input, target, weight, size_average, ignore_index, reduce, reduction, label_smoothing)\u001b[0m\n\u001b[1;32m   3024\u001b[0m \u001b[39mif\u001b[39;00m size_average \u001b[39mis\u001b[39;00m \u001b[39mnot\u001b[39;00m \u001b[39mNone\u001b[39;00m \u001b[39mor\u001b[39;00m reduce \u001b[39mis\u001b[39;00m \u001b[39mnot\u001b[39;00m \u001b[39mNone\u001b[39;00m:\n\u001b[1;32m   3025\u001b[0m     reduction \u001b[39m=\u001b[39m _Reduction\u001b[39m.\u001b[39mlegacy_get_string(size_average, reduce)\n\u001b[0;32m-> 3026\u001b[0m \u001b[39mreturn\u001b[39;00m torch\u001b[39m.\u001b[39;49m_C\u001b[39m.\u001b[39;49m_nn\u001b[39m.\u001b[39;49mcross_entropy_loss(\u001b[39minput\u001b[39;49m, target, weight, _Reduction\u001b[39m.\u001b[39;49mget_enum(reduction), ignore_index, label_smoothing)\n",
      "\u001b[0;31mTypeError\u001b[0m: cross_entropy_loss(): argument 'input' (position 1) must be Tensor, not tuple"
     ]
    }
   ],
   "source": [
    "early_stopping = EarlyStopping(tolerance=5, min_delta=0.05)\n",
    "# early_stopping = EarlyStopping(tolerance=5, min_delta=0.001)\n",
    "\n",
    "best_accuracy = 0.0\n",
    "# Training the student\n",
    "for epoch in range(EPOCHS):\n",
    "    # Define progress bar\n",
    "    loop = tqdm(enumerate(train_dataloader), total=len(train_dataloader))\n",
    "    \n",
    "    # Training loop\n",
    "    student_model.train()\n",
    "    training_loss_epoch = []\n",
    "    for batch_idx, (x,y,soft_y) in loop:\n",
    "        optimizer.zero_grad()\n",
    "        \n",
    "        x = x.to(device=device)\n",
    "        y = y.to(device=device)\n",
    "        soft_y = soft_y.to(device=device)\n",
    "        \n",
    "        # Forward pass\n",
    "        logits = student_model(x)\n",
    "        # Backward pass\n",
    "        loss = criterion(input=logits, target=soft_y)\n",
    "        training_loss_epoch.append(loss.item())\n",
    "        # Prob trb inlocuit criterionul, sa adaugi soft-labels\n",
    "        loss.backward()\n",
    "        \n",
    "        # Optimize\n",
    "        optimizer.step()\n",
    "        \n",
    "        # Update progress bar\n",
    "        loop.set_description(f'Epoch {epoch+1}/{EPOCHS}')\n",
    "        loop.set_postfix(training_loss=loss.item())\n",
    "    \n",
    "    # Validation loop on proxy validation dataset\n",
    "    student_model.eval()\n",
    "    validation_loss_epoch = []  \n",
    "    acc = 0\n",
    "    with torch.no_grad():\n",
    "        for x,y,_ in valid_dataloader:\n",
    "            x = x.to(device=device)\n",
    "            y = y.to(device=device)\n",
    "        \n",
    "            logits = student_model(x)\n",
    "            pred = softmax(logits, dim=1)\n",
    "            \n",
    "            confidence,y_hat = torch.max(pred, dim=1)\n",
    "            \n",
    "            loss = criterion(input=logits, target=y)\n",
    "            validation_loss_epoch.append(loss.item())\n",
    "            \n",
    "            acc += torch.sum(y_hat==y).item()\n",
    "        \n",
    "    loop.write(f'validation_loss on proxy = {sum(validation_loss_epoch)/len(validation_loss_epoch):.4f}')\n",
    "    loop.write(f'validation_accuracy on proxy = {100*acc/len(proxy_valid_dataset):.2f}%')\n",
    "\n",
    "    # Save best model\n",
    "    valid_proxy_acc = acc/len(proxy_valid_dataset)\n",
    "    if valid_proxy_acc > best_accuracy:\n",
    "        best_accuracy = valid_proxy_acc\n",
    "        torch.save(student_model.state_dict(), f'temp_models/{TEMP_BEST_MODEL}.pt')\n",
    "        print(f'Saved at epoch {epoch}')\n",
    "\n",
    "    if validate_on_trueds:\n",
    "        # Validation loop on proxy validation dataset\n",
    "        student_model.eval()\n",
    "        with torch.no_grad():\n",
    "            val_loss = []\n",
    "            acc = 0\n",
    "            for x,y in true_valid_ds:\n",
    "                x = x.to(device=device)\n",
    "                y = y.to(device=device)\n",
    "            \n",
    "                logits = student_model(x)\n",
    "                pred = softmax(logits, dim=1)\n",
    "                \n",
    "                confidence,y_hat = torch.max(pred, dim=1)\n",
    "                \n",
    "                loss = criterion(input=logits, target=y)\n",
    "                val_loss.append(loss.item())\n",
    "                \n",
    "                acc += torch.sum(y_hat==y).item()\n",
    "            \n",
    "        loop.write(f'validation_loss on true ds = {sum(val_loss)/len(val_loss):.4f}')\n",
    "        loop.write(f'validation_accuracy on true ds = {100*acc/len(true_dataset.test_dataset):.2f}%')\n",
    "\n",
    "        \n",
    "    early_stopping(sum(validation_loss_epoch)/len(validation_loss_epoch))\n",
    "    if early_stopping.early_stop:\n",
    "      print(f\"We are at epoch {epoch}\")\n",
    "      break\n",
    "\n",
    "student_model.load_state_dict(torch.load(f'temp_models/{TEMP_BEST_MODEL}.pt'))"
   ]
  },
  {
   "cell_type": "code",
   "execution_count": null,
   "metadata": {},
   "outputs": [
    {
     "name": "stdout",
     "output_type": "stream",
     "text": [
      "Student with true dataset:\n",
      "test_loss = 1.1887\n",
      "test_accuracy = 65.61%\n",
      "\n",
      "Class airplane: pred=649, actual=1000 => acc=64.90%, total_pred=903\n",
      "Class automobile: pred=780, actual=1000 => acc=78.00%, total_pred=937\n",
      "Class bird: pred=534, actual=1000 => acc=53.40%, total_pred=928\n",
      "Class cat: pred=802, actual=1000 => acc=80.20%, total_pred=2198\n",
      "Class deer: pred=561, actual=1000 => acc=56.10%, total_pred=778\n",
      "Class dog: pred=433, actual=1000 => acc=43.30%, total_pred=660\n",
      "Class frog: pred=622, actual=1000 => acc=62.20%, total_pred=827\n",
      "Class horse: pred=657, actual=1000 => acc=65.70%, total_pred=824\n",
      "Class ship: pred=756, actual=1000 => acc=75.60%, total_pred=983\n",
      "Class truck: pred=767, actual=1000 => acc=76.70%, total_pred=962\n"
     ]
    }
   ],
   "source": [
    "# Testing on CIFAR10 ground truth\n",
    "true_dataloader = true_dataset.test_dataloader()\n",
    "acc_per_class = {k:[0,0,0] for k,v in label_mapper_inv.items()}\n",
    "\n",
    "student_model.eval()\n",
    "with torch.no_grad():\n",
    "    test_loss = []\n",
    "    acc = 0\n",
    "    for x,y in true_dataloader:\n",
    "        x = x.to(device=device)\n",
    "        y = y.to(device=device)\n",
    "    \n",
    "        logits = student_model(x)\n",
    "        pred = softmax(logits, dim=1)\n",
    "        \n",
    "        confidence,y_hat = torch.max(pred, dim=1)\n",
    "        \n",
    "        loss = criterion(input=logits, target=y)\n",
    "        test_loss.append(loss.item())\n",
    "        \n",
    "        acc += torch.sum(y_hat==y)\n",
    "        \n",
    "        for i in range(len(y)):\n",
    "            a = y[i].item()\n",
    "            p = y_hat[i].item()\n",
    "            \n",
    "            \n",
    "            acc_per_class[a][1] += 1\n",
    "            acc_per_class[p][2] += 1\n",
    "            if a == p:\n",
    "                acc_per_class[a][0] += 1\n",
    "        \n",
    "    print('Student with true dataset:')\n",
    "    print(f'test_loss = {sum(test_loss)/len(test_loss):.4f}')                  # 1.7439;  1.6199\n",
    "    print(f'test_accuracy = {100*acc/len(true_dataset.test_dataset):.2f}%')    # 46.09%;  48.57%\n",
    "    print()\n",
    "    \n",
    "for k,v in acc_per_class.items():\n",
    "    print(f'Class {label_mapper_inv[k]}: pred={v[0]}, actual={v[1]} => acc={v[0]*100/v[1]:.2f}%, total_pred={v[2]}')"
   ]
  },
  {
   "cell_type": "code",
   "execution_count": null,
   "metadata": {},
   "outputs": [
    {
     "name": "stdout",
     "output_type": "stream",
     "text": [
      "Student with true dataset:\n",
      "test_loss = 1.1585\n",
      "test_accuracy = 65.71%\n",
      "\n",
      "Class airplane: pred=666, actual=1038 => acc=64.16%, total_pred=903\n",
      "Class automobile: pred=784, actual=1002 => acc=78.24%, total_pred=937\n",
      "Class bird: pred=538, actual=965 => acc=55.75%, total_pred=928\n",
      "Class cat: pred=758, actual=938 => acc=80.81%, total_pred=2198\n",
      "Class deer: pred=588, actual=1108 => acc=53.07%, total_pred=778\n",
      "Class dog: pred=426, actual=913 => acc=46.66%, total_pred=660\n",
      "Class frog: pred=625, actual=996 => acc=62.75%, total_pred=827\n",
      "Class horse: pred=673, actual=1063 => acc=63.31%, total_pred=824\n",
      "Class ship: pred=729, actual=939 => acc=77.64%, total_pred=983\n",
      "Class truck: pred=784, actual=1038 => acc=75.53%, total_pred=962\n"
     ]
    }
   ],
   "source": [
    "# Testing using labels predicted with teacher\n",
    "true_dataloader = true_dataset.test_dataloader()\n",
    "acc_per_class = {k:[0,0,0] for k,v in label_mapper_inv.items()}\n",
    "\n",
    "student_model.eval()\n",
    "teacher_model.eval()\n",
    "with torch.no_grad():\n",
    "    test_loss = []\n",
    "    acc = 0\n",
    "    for x,y in true_dataloader:\n",
    "        x = x.to(device=device)\n",
    "        # y = y.to(device=device)\n",
    "\n",
    "        teacher_pred = softmax(teacher_model(x), dim=1)\n",
    "        _, y = torch.max(teacher_pred, dim=1)\n",
    "    \n",
    "        logits = student_model(x)\n",
    "        pred = softmax(logits, dim=1)\n",
    "        \n",
    "        confidence,y_hat = torch.max(pred, dim=1)\n",
    "        \n",
    "        loss = criterion(input=logits, target=y)\n",
    "        test_loss.append(loss.item())\n",
    "        \n",
    "        acc += torch.sum(y_hat==y)\n",
    "        \n",
    "        for i in range(len(y)):\n",
    "            a = y[i].item()\n",
    "            p = y_hat[i].item()\n",
    "            \n",
    "            \n",
    "            acc_per_class[a][1] += 1\n",
    "            acc_per_class[p][2] += 1\n",
    "            if a == p:\n",
    "                acc_per_class[a][0] += 1\n",
    "        \n",
    "    print('Student with true dataset:')\n",
    "    print(f'test_loss = {sum(test_loss)/len(test_loss):.4f}')                  # 1.7439;  1.6199\n",
    "    print(f'test_accuracy = {100*acc/len(true_dataset.test_dataset):.2f}%')    # 46.09%;  48.57%\n",
    "    print()\n",
    "    \n",
    "for k,v in acc_per_class.items():\n",
    "    print(f'Class {label_mapper_inv[k]}: pred={v[0]}, actual={v[1]} => acc={v[0]*100/v[1]:.2f}%, total_pred={v[2]}')"
   ]
  },
  {
   "cell_type": "code",
   "execution_count": null,
   "metadata": {
    "id": "B_lJlsr0JlVs"
   },
   "outputs": [],
   "source": [
    "import matplotlib.pyplot as plt\n",
    "\n",
    "\n",
    "def plot_db(X_embedded, labels_cpu):\n",
    "  # scale and move the coordinates so they fit [0; 1] range\n",
    "  def scale_to_01_range(x):\n",
    "      # compute the distribution range\n",
    "      value_range = (np.max(x) - np.min(x))\n",
    "  \n",
    "      # move the distribution so that it starts from zero\n",
    "      # by extracting the minimal value from all its values\n",
    "      starts_from_zero = x - np.min(x)\n",
    "  \n",
    "      # make the distribution fit [0; 1] by dividing by its range\n",
    "      return starts_from_zero / value_range\n",
    "  \n",
    "  # extract x and y coordinates representing the positions of the images on T-SNE plot\n",
    "  tx = X_embedded[:, 0]\n",
    "  ty = X_embedded[:, 1]\n",
    "  \n",
    "  tx = scale_to_01_range(tx)\n",
    "  ty = scale_to_01_range(ty)\n",
    "\n",
    "  # initialize a matplotlib plot\n",
    "  fig = plt.figure(figsize=(6, 6), dpi=144)\n",
    "  ax = fig.add_subplot(111)\n",
    "  \n",
    "  # for every class, we'll add a scatter plot separately\n",
    "  for label in range(10):\n",
    "      # find the samples of the current class in the data\n",
    "      indices = [i for i, l in enumerate(labels_cpu) if l == label]\n",
    "  \n",
    "      # extract the coordinates of the points of this class only\n",
    "      current_tx = np.take(tx, indices)\n",
    "      current_ty = np.take(ty, indices)\n",
    "  \n",
    "      # add a scatter plot with the corresponding color and label\n",
    "      ax.scatter(current_tx, current_ty, label=label)\n",
    "  \n",
    "  # build a legend using the labels we set previously\n",
    "  ax.legend(loc='best')\n",
    "  \n",
    "  # finally, show the plot\n",
    "  plt.show()"
   ]
  },
  {
   "cell_type": "code",
   "execution_count": null,
   "metadata": {
    "colab": {
     "base_uri": "https://localhost:8080/",
     "height": 802
    },
    "id": "We2WHCULH9nX",
    "outputId": "7ffd8af2-c076-41e5-ad6c-d30c6f2a5ab7"
   },
   "outputs": [
    {
     "name": "stderr",
     "output_type": "stream",
     "text": [
      "/home/vhondru/.local/lib/python3.10/site-packages/sklearn/manifold/_t_sne.py:800: FutureWarning: The default initialization in TSNE will change from 'random' to 'pca' in 1.2.\n",
      "  warnings.warn(\n",
      "/home/vhondru/.local/lib/python3.10/site-packages/sklearn/manifold/_t_sne.py:810: FutureWarning: The default learning rate in TSNE will change from 200.0 to 'auto' in 1.2.\n",
      "  warnings.warn(\n"
     ]
    },
    {
     "data": {
      "image/png": "[encoded data removed]",
      "text/plain": [
       "<Figure size 864x864 with 1 Axes>"
      ]
     },
     "metadata": {},
     "output_type": "display_data"
    }
   ],
   "source": [
    "from sklearn.manifold import TSNE\n",
    "\n",
    "\n",
    "tsne = TSNE()\n",
    "images_cpu = [im.cpu().numpy().flatten() for im in images_db]\n",
    "labels_cpu = [l.cpu().numpy().argmax() for l in labels_db]\n",
    "X_embedded = tsne.fit_transform(np.array(images_cpu), np.array(labels_cpu))\n",
    "\n",
    "plot_db(X_embedded, labels_cpu)"
   ]
  },
  {
   "cell_type": "code",
   "execution_count": null,
   "metadata": {},
   "outputs": [],
   "source": []
  }
 ],
 "metadata": {
  "accelerator": "GPU",
  "colab": {
   "provenance": []
  },
  "gpuClass": "standard",
  "kernelspec": {
   "display_name": "Python 3",
   "language": "python",
   "name": "python3"
  },
  "language_info": {
   "codemirror_mode": {
    "name": "ipython",
    "version": 3
   },
   "file_extension": ".py",
   "mimetype": "text/x-python",
   "name": "python",
   "nbconvert_exporter": "python",
   "pygments_lexer": "ipython3",
   "version": "3.10.6"
  },
  "vscode": {
   "interpreter": {
    "hash": "916dbcbb3f70747c44a77c7bcd40155683ae19c65e1c03b4aa3499c5328201f1"
   }
  },
  "widgets": {
   "application/vnd.jupyter.widget-state+json": {
    "058124347df04f2a81d75544c5fb8809": {
     "model_module": "@jupyter-widgets/base",
     "model_module_version": "1.2.0",
     "model_name": "LayoutModel",
     "state": {
      "_model_module": "@jupyter-widgets/base",
      "_model_module_version": "1.2.0",
      "_model_name": "LayoutModel",
      "_view_count": null,
      "_view_module": "@jupyter-widgets/base",
      "_view_module_version": "1.2.0",
      "_view_name": "LayoutView",
      "align_content": null,
      "align_items": null,
      "align_self": null,
      "border": null,
      "bottom": null,
      "display": null,
      "flex": null,
      "flex_flow": null,
      "grid_area": null,
      "grid_auto_columns": null,
      "grid_auto_flow": null,
      "grid_auto_rows": null,
      "grid_column": null,
      "grid_gap": null,
      "grid_row": null,
      "grid_template_areas": null,
      "grid_template_columns": null,
      "grid_template_rows": null,
      "height": null,
      "justify_content": null,
      "justify_items": null,
      "left": null,
      "margin": null,
      "max_height": null,
      "max_width": null,
      "min_height": null,
      "min_width": null,
      "object_fit": null,
      "object_position": null,
      "order": null,
      "overflow": null,
      "overflow_x": null,
      "overflow_y": null,
      "padding": null,
      "right": null,
      "top": null,
      "visibility": null,
      "width": null
     }
    },
    "0d4acd03fa734e9db4bb7389ae2f19b4": {
     "model_module": "@jupyter-widgets/base",
     "model_module_version": "1.2.0",
     "model_name": "LayoutModel",
     "state": {
      "_model_module": "@jupyter-widgets/base",
      "_model_module_version": "1.2.0",
      "_model_name": "LayoutModel",
      "_view_count": null,
      "_view_module": "@jupyter-widgets/base",
      "_view_module_version": "1.2.0",
      "_view_name": "LayoutView",
      "align_content": null,
      "align_items": null,
      "align_self": null,
      "border": null,
      "bottom": null,
      "display": null,
      "flex": null,
      "flex_flow": null,
      "grid_area": null,
      "grid_auto_columns": null,
      "grid_auto_flow": null,
      "grid_auto_rows": null,
      "grid_column": null,
      "grid_gap": null,
      "grid_row": null,
      "grid_template_areas": null,
      "grid_template_columns": null,
      "grid_template_rows": null,
      "height": null,
      "justify_content": null,
      "justify_items": null,
      "left": null,
      "margin": null,
      "max_height": null,
      "max_width": null,
      "min_height": null,
      "min_width": null,
      "object_fit": null,
      "object_position": null,
      "order": null,
      "overflow": null,
      "overflow_x": null,
      "overflow_y": null,
      "padding": null,
      "right": null,
      "top": null,
      "visibility": null,
      "width": null
     }
    },
    "0dc49d11d2434b568a3f6c3ad5b05c09": {
     "model_module": "@jupyter-widgets/controls",
     "model_module_version": "1.5.0",
     "model_name": "HTMLModel",
     "state": {
      "_dom_classes": [],
      "_model_module": "@jupyter-widgets/controls",
      "_model_module_version": "1.5.0",
      "_model_name": "HTMLModel",
      "_view_count": null,
      "_view_module": "@jupyter-widgets/controls",
      "_view_module_version": "1.5.0",
      "_view_name": "HTMLView",
      "description": "",
      "description_tooltip": null,
      "layout": "IPY_MODEL_0d4acd03fa734e9db4bb7389ae2f19b4",
      "placeholder": "​",
      "style": "IPY_MODEL_81d6479563414e36ae8103bbb16bd9a3",
      "value": " 1600/1600 [00:40&lt;00:00, 55.51it/s]"
     }
    },
    "18d7a2f2052141c9aaa53bf57a3bc1b3": {
     "model_module": "@jupyter-widgets/base",
     "model_module_version": "1.2.0",
     "model_name": "LayoutModel",
     "state": {
      "_model_module": "@jupyter-widgets/base",
      "_model_module_version": "1.2.0",
      "_model_name": "LayoutModel",
      "_view_count": null,
      "_view_module": "@jupyter-widgets/base",
      "_view_module_version": "1.2.0",
      "_view_name": "LayoutView",
      "align_content": null,
      "align_items": null,
      "align_self": null,
      "border": null,
      "bottom": null,
      "display": null,
      "flex": null,
      "flex_flow": null,
      "grid_area": null,
      "grid_auto_columns": null,
      "grid_auto_flow": null,
      "grid_auto_rows": null,
      "grid_column": null,
      "grid_gap": null,
      "grid_row": null,
      "grid_template_areas": null,
      "grid_template_columns": null,
      "grid_template_rows": null,
      "height": null,
      "justify_content": null,
      "justify_items": null,
      "left": null,
      "margin": null,
      "max_height": null,
      "max_width": null,
      "min_height": null,
      "min_width": null,
      "object_fit": null,
      "object_position": null,
      "order": null,
      "overflow": null,
      "overflow_x": null,
      "overflow_y": null,
      "padding": null,
      "right": null,
      "top": null,
      "visibility": null,
      "width": null
     }
    },
    "2c46b959bee7429f8da5394790591907": {
     "model_module": "@jupyter-widgets/controls",
     "model_module_version": "1.5.0",
     "model_name": "FloatProgressModel",
     "state": {
      "_dom_classes": [],
      "_model_module": "@jupyter-widgets/controls",
      "_model_module_version": "1.5.0",
      "_model_name": "FloatProgressModel",
      "_view_count": null,
      "_view_module": "@jupyter-widgets/controls",
      "_view_module_version": "1.5.0",
      "_view_name": "ProgressView",
      "bar_style": "danger",
      "description": "",
      "description_tooltip": null,
      "layout": "IPY_MODEL_55ddff88b8b3439dab43efc612bce63e",
      "max": 18432,
      "min": 0,
      "orientation": "horizontal",
      "style": "IPY_MODEL_3d62cb4fdf2a4dca91cf7669f75826f9",
      "value": 1815
     }
    },
    "3336807a7d144bbb9283a68a327852d5": {
     "model_module": "@jupyter-widgets/controls",
     "model_module_version": "1.5.0",
     "model_name": "DescriptionStyleModel",
     "state": {
      "_model_module": "@jupyter-widgets/controls",
      "_model_module_version": "1.5.0",
      "_model_name": "DescriptionStyleModel",
      "_view_count": null,
      "_view_module": "@jupyter-widgets/base",
      "_view_module_version": "1.2.0",
      "_view_name": "StyleView",
      "description_width": ""
     }
    },
    "3d62cb4fdf2a4dca91cf7669f75826f9": {
     "model_module": "@jupyter-widgets/controls",
     "model_module_version": "1.5.0",
     "model_name": "ProgressStyleModel",
     "state": {
      "_model_module": "@jupyter-widgets/controls",
      "_model_module_version": "1.5.0",
      "_model_name": "ProgressStyleModel",
      "_view_count": null,
      "_view_module": "@jupyter-widgets/base",
      "_view_module_version": "1.2.0",
      "_view_name": "StyleView",
      "bar_color": null,
      "description_width": ""
     }
    },
    "41f1cf625859422092090d52e3794b68": {
     "model_module": "@jupyter-widgets/base",
     "model_module_version": "1.2.0",
     "model_name": "LayoutModel",
     "state": {
      "_model_module": "@jupyter-widgets/base",
      "_model_module_version": "1.2.0",
      "_model_name": "LayoutModel",
      "_view_count": null,
      "_view_module": "@jupyter-widgets/base",
      "_view_module_version": "1.2.0",
      "_view_name": "LayoutView",
      "align_content": null,
      "align_items": null,
      "align_self": null,
      "border": null,
      "bottom": null,
      "display": null,
      "flex": null,
      "flex_flow": null,
      "grid_area": null,
      "grid_auto_columns": null,
      "grid_auto_flow": null,
      "grid_auto_rows": null,
      "grid_column": null,
      "grid_gap": null,
      "grid_row": null,
      "grid_template_areas": null,
      "grid_template_columns": null,
      "grid_template_rows": null,
      "height": null,
      "justify_content": null,
      "justify_items": null,
      "left": null,
      "margin": null,
      "max_height": null,
      "max_width": null,
      "min_height": null,
      "min_width": null,
      "object_fit": null,
      "object_position": null,
      "order": null,
      "overflow": null,
      "overflow_x": null,
      "overflow_y": null,
      "padding": null,
      "right": null,
      "top": null,
      "visibility": null,
      "width": null
     }
    },
    "41ff2b73bc49402fbd500c9124cf55b9": {
     "model_module": "@jupyter-widgets/controls",
     "model_module_version": "1.5.0",
     "model_name": "DescriptionStyleModel",
     "state": {
      "_model_module": "@jupyter-widgets/controls",
      "_model_module_version": "1.5.0",
      "_model_name": "DescriptionStyleModel",
      "_view_count": null,
      "_view_module": "@jupyter-widgets/base",
      "_view_module_version": "1.2.0",
      "_view_name": "StyleView",
      "description_width": ""
     }
    },
    "4a9fb0df830a43d798a94a9e00cfe022": {
     "model_module": "@jupyter-widgets/controls",
     "model_module_version": "1.5.0",
     "model_name": "DescriptionStyleModel",
     "state": {
      "_model_module": "@jupyter-widgets/controls",
      "_model_module_version": "1.5.0",
      "_model_name": "DescriptionStyleModel",
      "_view_count": null,
      "_view_module": "@jupyter-widgets/base",
      "_view_module_version": "1.2.0",
      "_view_name": "StyleView",
      "description_width": ""
     }
    },
    "50e7dda7941449cfb47e8d3945208fdb": {
     "model_module": "@jupyter-widgets/base",
     "model_module_version": "1.2.0",
     "model_name": "LayoutModel",
     "state": {
      "_model_module": "@jupyter-widgets/base",
      "_model_module_version": "1.2.0",
      "_model_name": "LayoutModel",
      "_view_count": null,
      "_view_module": "@jupyter-widgets/base",
      "_view_module_version": "1.2.0",
      "_view_name": "LayoutView",
      "align_content": null,
      "align_items": null,
      "align_self": null,
      "border": null,
      "bottom": null,
      "display": null,
      "flex": null,
      "flex_flow": null,
      "grid_area": null,
      "grid_auto_columns": null,
      "grid_auto_flow": null,
      "grid_auto_rows": null,
      "grid_column": null,
      "grid_gap": null,
      "grid_row": null,
      "grid_template_areas": null,
      "grid_template_columns": null,
      "grid_template_rows": null,
      "height": null,
      "justify_content": null,
      "justify_items": null,
      "left": null,
      "margin": null,
      "max_height": null,
      "max_width": null,
      "min_height": null,
      "min_width": null,
      "object_fit": null,
      "object_position": null,
      "order": null,
      "overflow": null,
      "overflow_x": null,
      "overflow_y": null,
      "padding": null,
      "right": null,
      "top": null,
      "visibility": null,
      "width": null
     }
    },
    "530f03e592b04992ad8864021b2d6033": {
     "model_module": "@jupyter-widgets/controls",
     "model_module_version": "1.5.0",
     "model_name": "HTMLModel",
     "state": {
      "_dom_classes": [],
      "_model_module": "@jupyter-widgets/controls",
      "_model_module_version": "1.5.0",
      "_model_name": "HTMLModel",
      "_view_count": null,
      "_view_module": "@jupyter-widgets/controls",
      "_view_module_version": "1.5.0",
      "_view_name": "HTMLView",
      "description": "",
      "description_tooltip": null,
      "layout": "IPY_MODEL_ce773a8dc12b4920b3a9f6c46e2a6ea4",
      "placeholder": "​",
      "style": "IPY_MODEL_a5d582694fb04c6fac9d10f2c6ef29d4",
      "value": "100%"
     }
    },
    "5392c16b86e84cceb68915753a0531cb": {
     "model_module": "@jupyter-widgets/controls",
     "model_module_version": "1.5.0",
     "model_name": "HTMLModel",
     "state": {
      "_dom_classes": [],
      "_model_module": "@jupyter-widgets/controls",
      "_model_module_version": "1.5.0",
      "_model_name": "HTMLModel",
      "_view_count": null,
      "_view_module": "@jupyter-widgets/controls",
      "_view_module_version": "1.5.0",
      "_view_name": "HTMLView",
      "description": "",
      "description_tooltip": null,
      "layout": "IPY_MODEL_50e7dda7941449cfb47e8d3945208fdb",
      "placeholder": "​",
      "style": "IPY_MODEL_4a9fb0df830a43d798a94a9e00cfe022",
      "value": " 170498071/170498071 [00:05&lt;00:00, 33555457.81it/s]"
     }
    },
    "551ec62854e64a6a89e2550b4eb22e52": {
     "model_module": "@jupyter-widgets/base",
     "model_module_version": "1.2.0",
     "model_name": "LayoutModel",
     "state": {
      "_model_module": "@jupyter-widgets/base",
      "_model_module_version": "1.2.0",
      "_model_name": "LayoutModel",
      "_view_count": null,
      "_view_module": "@jupyter-widgets/base",
      "_view_module_version": "1.2.0",
      "_view_name": "LayoutView",
      "align_content": null,
      "align_items": null,
      "align_self": null,
      "border": null,
      "bottom": null,
      "display": null,
      "flex": null,
      "flex_flow": null,
      "grid_area": null,
      "grid_auto_columns": null,
      "grid_auto_flow": null,
      "grid_auto_rows": null,
      "grid_column": null,
      "grid_gap": null,
      "grid_row": null,
      "grid_template_areas": null,
      "grid_template_columns": null,
      "grid_template_rows": null,
      "height": null,
      "justify_content": null,
      "justify_items": null,
      "left": null,
      "margin": null,
      "max_height": null,
      "max_width": null,
      "min_height": null,
      "min_width": null,
      "object_fit": null,
      "object_position": null,
      "order": null,
      "overflow": null,
      "overflow_x": null,
      "overflow_y": null,
      "padding": null,
      "right": null,
      "top": null,
      "visibility": null,
      "width": null
     }
    },
    "55ddff88b8b3439dab43efc612bce63e": {
     "model_module": "@jupyter-widgets/base",
     "model_module_version": "1.2.0",
     "model_name": "LayoutModel",
     "state": {
      "_model_module": "@jupyter-widgets/base",
      "_model_module_version": "1.2.0",
      "_model_name": "LayoutModel",
      "_view_count": null,
      "_view_module": "@jupyter-widgets/base",
      "_view_module_version": "1.2.0",
      "_view_name": "LayoutView",
      "align_content": null,
      "align_items": null,
      "align_self": null,
      "border": null,
      "bottom": null,
      "display": null,
      "flex": null,
      "flex_flow": null,
      "grid_area": null,
      "grid_auto_columns": null,
      "grid_auto_flow": null,
      "grid_auto_rows": null,
      "grid_column": null,
      "grid_gap": null,
      "grid_row": null,
      "grid_template_areas": null,
      "grid_template_columns": null,
      "grid_template_rows": null,
      "height": null,
      "justify_content": null,
      "justify_items": null,
      "left": null,
      "margin": null,
      "max_height": null,
      "max_width": null,
      "min_height": null,
      "min_width": null,
      "object_fit": null,
      "object_position": null,
      "order": null,
      "overflow": null,
      "overflow_x": null,
      "overflow_y": null,
      "padding": null,
      "right": null,
      "top": null,
      "visibility": null,
      "width": null
     }
    },
    "591ae5d8878a4378aae207c92ed81f4f": {
     "model_module": "@jupyter-widgets/controls",
     "model_module_version": "1.5.0",
     "model_name": "HBoxModel",
     "state": {
      "_dom_classes": [],
      "_model_module": "@jupyter-widgets/controls",
      "_model_module_version": "1.5.0",
      "_model_name": "HBoxModel",
      "_view_count": null,
      "_view_module": "@jupyter-widgets/controls",
      "_view_module_version": "1.5.0",
      "_view_name": "HBoxView",
      "box_style": "",
      "children": [
       "IPY_MODEL_530f03e592b04992ad8864021b2d6033",
       "IPY_MODEL_94031723b8be497f952269c328453ed4",
       "IPY_MODEL_5392c16b86e84cceb68915753a0531cb"
      ],
      "layout": "IPY_MODEL_90c6aca45b9d42fcb3d6e5be3a7728f2"
     }
    },
    "6b2c1311df4c4fa3a60d3a466d809e66": {
     "model_module": "@jupyter-widgets/base",
     "model_module_version": "1.2.0",
     "model_name": "LayoutModel",
     "state": {
      "_model_module": "@jupyter-widgets/base",
      "_model_module_version": "1.2.0",
      "_model_name": "LayoutModel",
      "_view_count": null,
      "_view_module": "@jupyter-widgets/base",
      "_view_module_version": "1.2.0",
      "_view_name": "LayoutView",
      "align_content": null,
      "align_items": null,
      "align_self": null,
      "border": null,
      "bottom": null,
      "display": null,
      "flex": null,
      "flex_flow": null,
      "grid_area": null,
      "grid_auto_columns": null,
      "grid_auto_flow": null,
      "grid_auto_rows": null,
      "grid_column": null,
      "grid_gap": null,
      "grid_row": null,
      "grid_template_areas": null,
      "grid_template_columns": null,
      "grid_template_rows": null,
      "height": null,
      "justify_content": null,
      "justify_items": null,
      "left": null,
      "margin": null,
      "max_height": null,
      "max_width": null,
      "min_height": null,
      "min_width": null,
      "object_fit": null,
      "object_position": null,
      "order": null,
      "overflow": null,
      "overflow_x": null,
      "overflow_y": null,
      "padding": null,
      "right": null,
      "top": null,
      "visibility": null,
      "width": null
     }
    },
    "6dc31f9f92cc4ecb847630272fff1758": {
     "model_module": "@jupyter-widgets/controls",
     "model_module_version": "1.5.0",
     "model_name": "ProgressStyleModel",
     "state": {
      "_model_module": "@jupyter-widgets/controls",
      "_model_module_version": "1.5.0",
      "_model_name": "ProgressStyleModel",
      "_view_count": null,
      "_view_module": "@jupyter-widgets/base",
      "_view_module_version": "1.2.0",
      "_view_name": "StyleView",
      "bar_color": null,
      "description_width": ""
     }
    },
    "72ff93bf4145408b801f99485950f2da": {
     "model_module": "@jupyter-widgets/controls",
     "model_module_version": "1.5.0",
     "model_name": "HTMLModel",
     "state": {
      "_dom_classes": [],
      "_model_module": "@jupyter-widgets/controls",
      "_model_module_version": "1.5.0",
      "_model_name": "HTMLModel",
      "_view_count": null,
      "_view_module": "@jupyter-widgets/controls",
      "_view_module_version": "1.5.0",
      "_view_name": "HTMLView",
      "description": "",
      "description_tooltip": null,
      "layout": "IPY_MODEL_6b2c1311df4c4fa3a60d3a466d809e66",
      "placeholder": "​",
      "style": "IPY_MODEL_c86c144c3c9e41358633aa78509d3de7",
      "value": " 10%"
     }
    },
    "81d6479563414e36ae8103bbb16bd9a3": {
     "model_module": "@jupyter-widgets/controls",
     "model_module_version": "1.5.0",
     "model_name": "DescriptionStyleModel",
     "state": {
      "_model_module": "@jupyter-widgets/controls",
      "_model_module_version": "1.5.0",
      "_model_name": "DescriptionStyleModel",
      "_view_count": null,
      "_view_module": "@jupyter-widgets/base",
      "_view_module_version": "1.2.0",
      "_view_name": "StyleView",
      "description_width": ""
     }
    },
    "8282f6bd64d344e9aa0e2cdc5deedb50": {
     "model_module": "@jupyter-widgets/controls",
     "model_module_version": "1.5.0",
     "model_name": "HBoxModel",
     "state": {
      "_dom_classes": [],
      "_model_module": "@jupyter-widgets/controls",
      "_model_module_version": "1.5.0",
      "_model_name": "HBoxModel",
      "_view_count": null,
      "_view_module": "@jupyter-widgets/controls",
      "_view_module_version": "1.5.0",
      "_view_name": "HBoxView",
      "box_style": "",
      "children": [
       "IPY_MODEL_b7c4c95db21e4c4dbb6cd50f4bb22a1a",
       "IPY_MODEL_9aa9c5d37cbb4a7987c84c6061cbafa6",
       "IPY_MODEL_0dc49d11d2434b568a3f6c3ad5b05c09"
      ],
      "layout": "IPY_MODEL_18d7a2f2052141c9aaa53bf57a3bc1b3"
     }
    },
    "90c6aca45b9d42fcb3d6e5be3a7728f2": {
     "model_module": "@jupyter-widgets/base",
     "model_module_version": "1.2.0",
     "model_name": "LayoutModel",
     "state": {
      "_model_module": "@jupyter-widgets/base",
      "_model_module_version": "1.2.0",
      "_model_name": "LayoutModel",
      "_view_count": null,
      "_view_module": "@jupyter-widgets/base",
      "_view_module_version": "1.2.0",
      "_view_name": "LayoutView",
      "align_content": null,
      "align_items": null,
      "align_self": null,
      "border": null,
      "bottom": null,
      "display": null,
      "flex": null,
      "flex_flow": null,
      "grid_area": null,
      "grid_auto_columns": null,
      "grid_auto_flow": null,
      "grid_auto_rows": null,
      "grid_column": null,
      "grid_gap": null,
      "grid_row": null,
      "grid_template_areas": null,
      "grid_template_columns": null,
      "grid_template_rows": null,
      "height": null,
      "justify_content": null,
      "justify_items": null,
      "left": null,
      "margin": null,
      "max_height": null,
      "max_width": null,
      "min_height": null,
      "min_width": null,
      "object_fit": null,
      "object_position": null,
      "order": null,
      "overflow": null,
      "overflow_x": null,
      "overflow_y": null,
      "padding": null,
      "right": null,
      "top": null,
      "visibility": null,
      "width": null
     }
    },
    "94031723b8be497f952269c328453ed4": {
     "model_module": "@jupyter-widgets/controls",
     "model_module_version": "1.5.0",
     "model_name": "FloatProgressModel",
     "state": {
      "_dom_classes": [],
      "_model_module": "@jupyter-widgets/controls",
      "_model_module_version": "1.5.0",
      "_model_name": "FloatProgressModel",
      "_view_count": null,
      "_view_module": "@jupyter-widgets/controls",
      "_view_module_version": "1.5.0",
      "_view_name": "ProgressView",
      "bar_style": "success",
      "description": "",
      "description_tooltip": null,
      "layout": "IPY_MODEL_d4cdc9b0b6cb4ba5ab63630a8bb01ba4",
      "max": 170498071,
      "min": 0,
      "orientation": "horizontal",
      "style": "IPY_MODEL_6dc31f9f92cc4ecb847630272fff1758",
      "value": 170498071
     }
    },
    "9aa9c5d37cbb4a7987c84c6061cbafa6": {
     "model_module": "@jupyter-widgets/controls",
     "model_module_version": "1.5.0",
     "model_name": "FloatProgressModel",
     "state": {
      "_dom_classes": [],
      "_model_module": "@jupyter-widgets/controls",
      "_model_module_version": "1.5.0",
      "_model_name": "FloatProgressModel",
      "_view_count": null,
      "_view_module": "@jupyter-widgets/controls",
      "_view_module_version": "1.5.0",
      "_view_name": "ProgressView",
      "bar_style": "success",
      "description": "",
      "description_tooltip": null,
      "layout": "IPY_MODEL_058124347df04f2a81d75544c5fb8809",
      "max": 1600,
      "min": 0,
      "orientation": "horizontal",
      "style": "IPY_MODEL_f0f5ea82811c49bfb0a55154cc9cd30d",
      "value": 1600
     }
    },
    "a5d582694fb04c6fac9d10f2c6ef29d4": {
     "model_module": "@jupyter-widgets/controls",
     "model_module_version": "1.5.0",
     "model_name": "DescriptionStyleModel",
     "state": {
      "_model_module": "@jupyter-widgets/controls",
      "_model_module_version": "1.5.0",
      "_model_name": "DescriptionStyleModel",
      "_view_count": null,
      "_view_module": "@jupyter-widgets/base",
      "_view_module_version": "1.2.0",
      "_view_name": "StyleView",
      "description_width": ""
     }
    },
    "a8f2e2541be5409e86fae758d5f69b6a": {
     "model_module": "@jupyter-widgets/controls",
     "model_module_version": "1.5.0",
     "model_name": "HBoxModel",
     "state": {
      "_dom_classes": [],
      "_model_module": "@jupyter-widgets/controls",
      "_model_module_version": "1.5.0",
      "_model_name": "HBoxModel",
      "_view_count": null,
      "_view_module": "@jupyter-widgets/controls",
      "_view_module_version": "1.5.0",
      "_view_name": "HBoxView",
      "box_style": "",
      "children": [
       "IPY_MODEL_72ff93bf4145408b801f99485950f2da",
       "IPY_MODEL_2c46b959bee7429f8da5394790591907",
       "IPY_MODEL_e6cea5484f5444a8aae4b68e4cca9677"
      ],
      "layout": "IPY_MODEL_c848b3bad8924d55976b7a3c3b6acde8"
     }
    },
    "b7c4c95db21e4c4dbb6cd50f4bb22a1a": {
     "model_module": "@jupyter-widgets/controls",
     "model_module_version": "1.5.0",
     "model_name": "HTMLModel",
     "state": {
      "_dom_classes": [],
      "_model_module": "@jupyter-widgets/controls",
      "_model_module_version": "1.5.0",
      "_model_name": "HTMLModel",
      "_view_count": null,
      "_view_module": "@jupyter-widgets/controls",
      "_view_module_version": "1.5.0",
      "_view_name": "HTMLView",
      "description": "",
      "description_tooltip": null,
      "layout": "IPY_MODEL_551ec62854e64a6a89e2550b4eb22e52",
      "placeholder": "​",
      "style": "IPY_MODEL_3336807a7d144bbb9283a68a327852d5",
      "value": "100%"
     }
    },
    "c848b3bad8924d55976b7a3c3b6acde8": {
     "model_module": "@jupyter-widgets/base",
     "model_module_version": "1.2.0",
     "model_name": "LayoutModel",
     "state": {
      "_model_module": "@jupyter-widgets/base",
      "_model_module_version": "1.2.0",
      "_model_name": "LayoutModel",
      "_view_count": null,
      "_view_module": "@jupyter-widgets/base",
      "_view_module_version": "1.2.0",
      "_view_name": "LayoutView",
      "align_content": null,
      "align_items": null,
      "align_self": null,
      "border": null,
      "bottom": null,
      "display": null,
      "flex": null,
      "flex_flow": null,
      "grid_area": null,
      "grid_auto_columns": null,
      "grid_auto_flow": null,
      "grid_auto_rows": null,
      "grid_column": null,
      "grid_gap": null,
      "grid_row": null,
      "grid_template_areas": null,
      "grid_template_columns": null,
      "grid_template_rows": null,
      "height": null,
      "justify_content": null,
      "justify_items": null,
      "left": null,
      "margin": null,
      "max_height": null,
      "max_width": null,
      "min_height": null,
      "min_width": null,
      "object_fit": null,
      "object_position": null,
      "order": null,
      "overflow": null,
      "overflow_x": null,
      "overflow_y": null,
      "padding": null,
      "right": null,
      "top": null,
      "visibility": null,
      "width": null
     }
    },
    "c86c144c3c9e41358633aa78509d3de7": {
     "model_module": "@jupyter-widgets/controls",
     "model_module_version": "1.5.0",
     "model_name": "DescriptionStyleModel",
     "state": {
      "_model_module": "@jupyter-widgets/controls",
      "_model_module_version": "1.5.0",
      "_model_name": "DescriptionStyleModel",
      "_view_count": null,
      "_view_module": "@jupyter-widgets/base",
      "_view_module_version": "1.2.0",
      "_view_name": "StyleView",
      "description_width": ""
     }
    },
    "ce773a8dc12b4920b3a9f6c46e2a6ea4": {
     "model_module": "@jupyter-widgets/base",
     "model_module_version": "1.2.0",
     "model_name": "LayoutModel",
     "state": {
      "_model_module": "@jupyter-widgets/base",
      "_model_module_version": "1.2.0",
      "_model_name": "LayoutModel",
      "_view_count": null,
      "_view_module": "@jupyter-widgets/base",
      "_view_module_version": "1.2.0",
      "_view_name": "LayoutView",
      "align_content": null,
      "align_items": null,
      "align_self": null,
      "border": null,
      "bottom": null,
      "display": null,
      "flex": null,
      "flex_flow": null,
      "grid_area": null,
      "grid_auto_columns": null,
      "grid_auto_flow": null,
      "grid_auto_rows": null,
      "grid_column": null,
      "grid_gap": null,
      "grid_row": null,
      "grid_template_areas": null,
      "grid_template_columns": null,
      "grid_template_rows": null,
      "height": null,
      "justify_content": null,
      "justify_items": null,
      "left": null,
      "margin": null,
      "max_height": null,
      "max_width": null,
      "min_height": null,
      "min_width": null,
      "object_fit": null,
      "object_position": null,
      "order": null,
      "overflow": null,
      "overflow_x": null,
      "overflow_y": null,
      "padding": null,
      "right": null,
      "top": null,
      "visibility": null,
      "width": null
     }
    },
    "d4cdc9b0b6cb4ba5ab63630a8bb01ba4": {
     "model_module": "@jupyter-widgets/base",
     "model_module_version": "1.2.0",
     "model_name": "LayoutModel",
     "state": {
      "_model_module": "@jupyter-widgets/base",
      "_model_module_version": "1.2.0",
      "_model_name": "LayoutModel",
      "_view_count": null,
      "_view_module": "@jupyter-widgets/base",
      "_view_module_version": "1.2.0",
      "_view_name": "LayoutView",
      "align_content": null,
      "align_items": null,
      "align_self": null,
      "border": null,
      "bottom": null,
      "display": null,
      "flex": null,
      "flex_flow": null,
      "grid_area": null,
      "grid_auto_columns": null,
      "grid_auto_flow": null,
      "grid_auto_rows": null,
      "grid_column": null,
      "grid_gap": null,
      "grid_row": null,
      "grid_template_areas": null,
      "grid_template_columns": null,
      "grid_template_rows": null,
      "height": null,
      "justify_content": null,
      "justify_items": null,
      "left": null,
      "margin": null,
      "max_height": null,
      "max_width": null,
      "min_height": null,
      "min_width": null,
      "object_fit": null,
      "object_position": null,
      "order": null,
      "overflow": null,
      "overflow_x": null,
      "overflow_y": null,
      "padding": null,
      "right": null,
      "top": null,
      "visibility": null,
      "width": null
     }
    },
    "e6cea5484f5444a8aae4b68e4cca9677": {
     "model_module": "@jupyter-widgets/controls",
     "model_module_version": "1.5.0",
     "model_name": "HTMLModel",
     "state": {
      "_dom_classes": [],
      "_model_module": "@jupyter-widgets/controls",
      "_model_module_version": "1.5.0",
      "_model_name": "HTMLModel",
      "_view_count": null,
      "_view_module": "@jupyter-widgets/controls",
      "_view_module_version": "1.5.0",
      "_view_name": "HTMLView",
      "description": "",
      "description_tooltip": null,
      "layout": "IPY_MODEL_41f1cf625859422092090d52e3794b68",
      "placeholder": "​",
      "style": "IPY_MODEL_41ff2b73bc49402fbd500c9124cf55b9",
      "value": " 1815/18432 [04:20&lt;37:30,  7.38it/s]"
     }
    },
    "f0f5ea82811c49bfb0a55154cc9cd30d": {
     "model_module": "@jupyter-widgets/controls",
     "model_module_version": "1.5.0",
     "model_name": "ProgressStyleModel",
     "state": {
      "_model_module": "@jupyter-widgets/controls",
      "_model_module_version": "1.5.0",
      "_model_name": "ProgressStyleModel",
      "_view_count": null,
      "_view_module": "@jupyter-widgets/base",
      "_view_module_version": "1.2.0",
      "_view_name": "StyleView",
      "bar_color": null,
      "description_width": ""
     }
    }
   }
  }
 },
 "nbformat": 4,
 "nbformat_minor": 4
}
