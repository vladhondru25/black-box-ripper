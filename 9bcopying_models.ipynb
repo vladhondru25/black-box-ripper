{
 "cells": [
  {
   "cell_type": "code",
   "execution_count": 1,
   "metadata": {
    "id": "1RlCqi-d0eTG"
   },
   "outputs": [],
   "source": [
    "%load_ext autoreload\n",
    "%autoreload 2"
   ]
  },
  {
   "cell_type": "code",
   "execution_count": 2,
   "metadata": {
    "id": "zsEy0GL2zk0A"
   },
   "outputs": [],
   "source": [
    "import os\n",
    "import numpy as np\n",
    "import torch\n",
    "import torchvision.transforms as T\n",
    "from shutil import rmtree\n",
    "from sklearn.model_selection import train_test_split\n",
    "from tqdm.autonotebook import tqdm, trange\n",
    "from torch.nn.functional import softmax\n",
    "from torch.utils.data import Dataset, DataLoader\n",
    "from torchvision.io import read_image\n",
    "from torchvision.datasets import ImageFolder\n",
    "\n",
    "from predictors.alexnet import Alexnet\n",
    "from predictors.half_alexnet import HalfAlexnet\n",
    "\n",
    "from datasets import CIFAR10, ProxyDataset\n",
    "\n",
    "%matplotlib inline"
   ]
  },
  {
   "cell_type": "code",
   "execution_count": 3,
   "metadata": {
    "id": "z2QTVln9zk0D"
   },
   "outputs": [
    {
     "data": {
      "text/plain": [
       "device(type='cuda')"
      ]
     },
     "execution_count": 3,
     "metadata": {},
     "output_type": "execute_result"
    }
   ],
   "source": [
    "LR = 0.001\n",
    "EPOCHS = 200\n",
    "BATCH_SIZE = 32\n",
    "CONFIDENCE_TH = 0.8\n",
    "\n",
    "DATASET_PATH = '.'\n",
    "TEMP_BEST_MODEL = 'euclidean_simple'\n",
    "\n",
    "# Set random seed for replicating testing results\n",
    "RANDOM_SEED = 0\n",
    "np.random.seed(0)\n",
    "torch.manual_seed(0)\n",
    "if torch.cuda.is_available():\n",
    "    torch.cuda.manual_seed(0)\n",
    "\n",
    "device = torch.device('cuda' if torch.cuda.is_available() else 'cpu')\n",
    "device"
   ]
  },
  {
   "cell_type": "code",
   "execution_count": 4,
   "metadata": {
    "colab": {
     "base_uri": "https://localhost:8080/"
    },
    "id": "77r9b28lzk0E",
    "outputId": "75c25c0a-02b7-4cb9-e295-6d9916e0aeb7"
   },
   "outputs": [],
   "source": [
    "# Teacher\n",
    "teacher_model = Alexnet(name=None, n_outputs=10)\n",
    "\n",
    "ckpt_path = 'checkpoints/teacher_alexnet_for_cifar10_state_dict'\n",
    "teacher_model.load_state_dict(torch.load(ckpt_path, map_location=device))\n",
    "teacher_model.eval()\n",
    "teacher_model = teacher_model.to(device)"
   ]
  },
  {
   "cell_type": "code",
   "execution_count": 5,
   "metadata": {
    "id": "J0bOFnMSzk0F"
   },
   "outputs": [],
   "source": [
    "# Define dataset\n",
    "label_mapper = {\n",
    "    'airplane': 0,\n",
    "    'automobile': 1,\n",
    "    'bird': 2,\n",
    "    'cat': 3,\n",
    "    'deer': 4,\n",
    "    'dog': 5,\n",
    "    'frog': 6,\n",
    "    'horse': 7,\n",
    "    'ship': 8,\n",
    "    'truck': 9\n",
    "}\n",
    "label_mapper_inv = {v:k for k,v in label_mapper.items()}\n",
    "\n",
    "# Get images paths and labels\n",
    "images = []\n",
    "labels = []\n",
    "\n",
    "folders_path = os.path.join(DATASET_PATH,'images_generated')\n",
    "for folder in os.listdir(folders_path):\n",
    "    if 'imagenet' in folder:\n",
    "      continue\n",
    "    class_path = os.path.join(folders_path,folder)\n",
    "    images_names = os.listdir(class_path)\n",
    "    \n",
    "    for image_name in images_names:\n",
    "        images.append(os.path.join(class_path,image_name))\n",
    "        labels.append(label_mapper[folder])"
   ]
  },
  {
   "cell_type": "code",
   "execution_count": 6,
   "metadata": {
    "colab": {
     "base_uri": "https://localhost:8080/",
     "height": 263,
     "referenced_widgets": [
      "8282f6bd64d344e9aa0e2cdc5deedb50",
      "b7c4c95db21e4c4dbb6cd50f4bb22a1a",
      "9aa9c5d37cbb4a7987c84c6061cbafa6",
      "0dc49d11d2434b568a3f6c3ad5b05c09",
      "18d7a2f2052141c9aaa53bf57a3bc1b3",
      "551ec62854e64a6a89e2550b4eb22e52",
      "3336807a7d144bbb9283a68a327852d5",
      "058124347df04f2a81d75544c5fb8809",
      "f0f5ea82811c49bfb0a55154cc9cd30d",
      "0d4acd03fa734e9db4bb7389ae2f19b4",
      "81d6479563414e36ae8103bbb16bd9a3"
     ]
    },
    "id": "ovpstIXDzk0G",
    "outputId": "91d3a8be-f9f7-450a-8514-97478cb2da87"
   },
   "outputs": [
    {
     "data": {
      "application/vnd.jupyter.widget-view+json": {
       "model_id": "0343c01247864e709a89f83fc7de6f14",
       "version_major": 2,
       "version_minor": 0
      },
      "text/plain": [
       "  0%|          | 0/1600 [00:00<?, ?it/s]"
      ]
     },
     "metadata": {},
     "output_type": "display_data"
    },
    {
     "name": "stdout",
     "output_type": "stream",
     "text": [
      "A total of 51200 remained out of 51200\n",
      "\n",
      "Class 0(airplane) has 6384 entries\n",
      "Class 1(automobile) has 5145 entries\n",
      "Class 2(bird) has 4795 entries\n",
      "Class 3(cat) has 5331 entries\n",
      "Class 4(deer) has 5571 entries\n",
      "Class 5(dog) has 4286 entries\n",
      "Class 6(frog) has 4553 entries\n",
      "Class 7(horse) has 5025 entries\n",
      "Class 8(ship) has 5178 entries\n",
      "Class 9(truck) has 4932 entries\n"
     ]
    }
   ],
   "source": [
    "proxy_transforms = T.Compose([\n",
    "    T.Resize((32,32)),\n",
    "    T.Normalize((0.5,), (0.5,))\n",
    "])\n",
    "\n",
    "proxy_dataset = ProxyDataset(images, labels, proxy_transforms, True)\n",
    "proxy_dataloader  = DataLoader(proxy_dataset,  batch_size=BATCH_SIZE)\n",
    "\n",
    "# Obtain teacher predictions\n",
    "filtered_images = []\n",
    "filtered_labels = []\n",
    "filtered_soft_labels = []\n",
    "\n",
    "with torch.no_grad():\n",
    "    for img,label,path,_ in tqdm(proxy_dataloader):\n",
    "        img = img.to(device=device)\n",
    "        label = label.to(device=device)\n",
    "\n",
    "        logits = teacher_model(img)\n",
    "        pred = softmax(logits, dim=1)\n",
    "        \n",
    "        confidence,y_hat = torch.max(pred, dim=1)\n",
    "\n",
    "        filtered_images.extend(list(path))\n",
    "        filtered_labels.extend(y_hat.tolist())\n",
    "        filtered_soft_labels.extend(pred)\n",
    "        \n",
    "# Display results of filtering\n",
    "print(f'A total of {len(filtered_images)} remained out of {len(proxy_dataset)}')\n",
    "print()\n",
    "counter_per_class = {v:0 for k,v in label_mapper.items()}\n",
    "for label in filtered_labels:\n",
    "    counter_per_class[label] += 1\n",
    "for clasa in counter_per_class:\n",
    "    print(f'Class {clasa}({label_mapper_inv[clasa]}) has {counter_per_class[clasa]} entries')"
   ]
  },
  {
   "cell_type": "code",
   "execution_count": 7,
   "metadata": {
    "id": "UxE8HVQSzk0F"
   },
   "outputs": [],
   "source": [
    "# Define the student model\n",
    "student_model = HalfAlexnet(name=None, n_outputs=10)\n",
    "\n",
    "path_to_save = 'pretrained_student.pt'\n",
    "if torch.cuda.is_available():\n",
    "    student_model.load_state_dict(torch.load(path_to_save))\n",
    "else:\n",
    "    student_model.load_state_dict(torch.load(path_to_save, map_location ='cpu'))\n",
    "student_model.to(device)\n",
    "\n",
    "# Define optimizer\n",
    "optimizer = torch.optim.Adam(student_model.parameters(), lr=LR)\n",
    "\n",
    "# Define loss function\n",
    "criterion = torch.nn.CrossEntropyLoss(reduction='mean')"
   ]
  },
  {
   "cell_type": "code",
   "execution_count": 8,
   "metadata": {
    "id": "yS1V_-cdL9Ku"
   },
   "outputs": [],
   "source": [
    "try:\n",
    "  # raise\n",
    "  # Do a stratified split of the data\n",
    "  NO_IMGS_TO_USE = 32768\n",
    "  \n",
    "  filtered_images_subset, filtered_images_unused, filtered_labels_subset, filtered_labels_unused, filtered_soft_labels_subset, filtered_soft_labels_unused = \\\n",
    "      train_test_split(filtered_images, filtered_labels, filtered_soft_labels, train_size=NO_IMGS_TO_USE, stratify=filtered_labels, random_state=RANDOM_SEED)  \n",
    "\n",
    "  train_images, validation_images, train_labels, validation_labels, train_soft_labels, validation_soft_labels = \\\n",
    "      train_test_split(filtered_images_subset, filtered_labels_subset, filtered_soft_labels_subset, train_size=0.8, stratify=filtered_labels_subset, random_state=RANDOM_SEED)\n",
    "  valid_images, test_images, valid_labels, test_labels, valid_soft_labels, test_soft_labels = \\\n",
    "      train_test_split(validation_images, validation_labels, validation_soft_labels, test_size=0.5, stratify=validation_labels, random_state=RANDOM_SEED)\n",
    "except:\n",
    "  # For small datasets \n",
    "  print('Small dataset')\n",
    "  NO_IMGS_TO_USE = 60\n",
    "  NO_TRAIN_IMGS = 40\n",
    "\n",
    "  \"\"\" DEV - train_test_split fails, need to manually introduce 1 sample\n",
    "  for i in range(len(filtered_labels)-1,-1,-1):\n",
    "    if filtered_labels[i] == 5:\n",
    "      img_dev = filtered_images[i]\n",
    "      soft_label_dev = filtered_soft_labels[i]\n",
    "      break\n",
    "  \"\"\"\n",
    "\n",
    "  filtered_images_subset, filtered_images_unused, filtered_labels_subset, filtered_labels_unused, filtered_soft_labels_subset, filtered_soft_labels_unused = \\\n",
    "    train_test_split(filtered_images, filtered_labels, filtered_soft_labels, train_size=NO_IMGS_TO_USE, stratify=filtered_labels, random_state=RANDOM_SEED)  \n",
    "  train_images, validation_images, train_labels, validation_labels, train_soft_labels, validation_soft_labels = \\\n",
    "    train_test_split(filtered_images_subset, filtered_labels_subset, filtered_soft_labels_subset, train_size=NO_TRAIN_IMGS, stratify=filtered_labels_subset, random_state=RANDOM_SEED)\n",
    "  \n",
    "  \"\"\" DEV - interchange an image\n",
    "  for i in range(len(validation_images)):\n",
    "    if validation_labels[i] == 0:\n",
    "      validation_images[i] = img_dev\n",
    "      validation_labels[i] = 5\n",
    "      validation_soft_labels[i] = soft_label_dev\n",
    "      break\n",
    "  \"\"\"\n",
    "\n",
    "  valid_images, test_images, valid_labels, test_labels, valid_soft_labels, test_soft_labels = \\\n",
    "      train_test_split(validation_images, validation_labels, validation_soft_labels, test_size=0.5, stratify=validation_labels)"
   ]
  },
  {
   "cell_type": "code",
   "execution_count": 9,
   "metadata": {
    "id": "AGYrWL_Zzk0H"
   },
   "outputs": [
    {
     "name": "stdout",
     "output_type": "stream",
     "text": [
      "Files already downloaded and verified\n",
      "Files already downloaded and verified\n"
     ]
    }
   ],
   "source": [
    "# Define the transformations\n",
    "train_transforms = T.Compose([\n",
    "    T.Resize((32,32)),\n",
    "    T.RandomCrop(32, padding=4),\n",
    "    T.RandomHorizontalFlip(p=0.5),\n",
    "    T.Normalize((0.5,), (0.5,))\n",
    "])\n",
    "valid_transforms = T.Compose([\n",
    "    T.Resize((32,32)),\n",
    "    T.Normalize((0.5,), (0.5,))\n",
    "])\n",
    "\n",
    "# Define the proxy datasets\n",
    "proxy_train_dataset = ProxyDataset(train_images, train_labels, train_transforms, False, train_soft_labels)\n",
    "proxy_valid_dataset = ProxyDataset(valid_images, valid_labels, valid_transforms, False, valid_soft_labels)\n",
    "proxy_test_dataset  = ProxyDataset(test_images,  test_labels,  valid_transforms, False, test_soft_labels)\n",
    "\n",
    "# Define the proxy dataloaders\n",
    "train_dataloader = DataLoader(proxy_train_dataset, batch_size=BATCH_SIZE, shuffle=True)\n",
    "valid_dataloader = DataLoader(proxy_valid_dataset, batch_size=BATCH_SIZE)\n",
    "test_dataloader  = DataLoader(proxy_test_dataset,  batch_size=BATCH_SIZE)\n",
    "\n",
    "# Define true dataset\n",
    "true_dataset = CIFAR10(input_size = 32)\n",
    "\n",
    "validate_on_trueds = True\n",
    "if validate_on_trueds:\n",
    "    true_valid_ds = true_dataset.test_dataloader()"
   ]
  },
  {
   "cell_type": "code",
   "execution_count": 10,
   "metadata": {
    "id": "UiU_sPFAZh9P"
   },
   "outputs": [],
   "source": [
    "# Class for early stopping\n",
    "class EarlyStopping():\n",
    "    def __init__(self, tolerance=5, min_delta=0):\n",
    "      self.tolerance = tolerance\n",
    "      self.min_delta = min_delta\n",
    "      self.counter = 0\n",
    "      self.min_valid_loss = np.inf\n",
    "      self.early_stop = False\n",
    "\n",
    "    def __call__(self, validation_loss):\n",
    "      if validation_loss < self.min_valid_loss:\n",
    "        self.min_valid_loss = validation_loss\n",
    "        self.counter = 0\n",
    "      elif validation_loss > self.min_valid_loss + self.min_delta:\n",
    "        self.counter +=1\n",
    "        \n",
    "        if self.counter >= self.tolerance:  \n",
    "            self.early_stop = True"
   ]
  },
  {
   "cell_type": "code",
   "execution_count": 11,
   "metadata": {
    "id": "6Upn77I0zk0I"
   },
   "outputs": [
    {
     "data": {
      "application/vnd.jupyter.widget-view+json": {
       "model_id": "dc1b35759a4640e49cb2130ada50096b",
       "version_major": 2,
       "version_minor": 0
      },
      "text/plain": [
       "  0%|          | 0/820 [00:00<?, ?it/s]"
      ]
     },
     "metadata": {},
     "output_type": "display_data"
    },
    {
     "name": "stdout",
     "output_type": "stream",
     "text": [
      "validation_loss on proxy = 0.5616\n",
      "validation_accuracy on proxy = 82.79%\n",
      "Saved at epoch 0\n",
      "validation_loss on true ds = 1.3525\n",
      "validation_accuracy on true ds = 52.56%\n"
     ]
    },
    {
     "data": {
      "application/vnd.jupyter.widget-view+json": {
       "model_id": "32b6c4fa0245471dbcd6a473379168e6",
       "version_major": 2,
       "version_minor": 0
      },
      "text/plain": [
       "  0%|          | 0/820 [00:00<?, ?it/s]"
      ]
     },
     "metadata": {},
     "output_type": "display_data"
    },
    {
     "name": "stdout",
     "output_type": "stream",
     "text": [
      "validation_loss on proxy = 0.5403\n",
      "validation_accuracy on proxy = 83.64%\n",
      "Saved at epoch 1\n",
      "validation_loss on true ds = 1.3960\n",
      "validation_accuracy on true ds = 53.21%\n"
     ]
    },
    {
     "data": {
      "application/vnd.jupyter.widget-view+json": {
       "model_id": "374e78872cf242559c6574bd55e07cb4",
       "version_major": 2,
       "version_minor": 0
      },
      "text/plain": [
       "  0%|          | 0/820 [00:00<?, ?it/s]"
      ]
     },
     "metadata": {},
     "output_type": "display_data"
    },
    {
     "name": "stdout",
     "output_type": "stream",
     "text": [
      "validation_loss on proxy = 0.4908\n",
      "validation_accuracy on proxy = 85.47%\n",
      "Saved at epoch 2\n",
      "validation_loss on true ds = 1.2179\n",
      "validation_accuracy on true ds = 57.89%\n"
     ]
    },
    {
     "data": {
      "application/vnd.jupyter.widget-view+json": {
       "model_id": "96d2a9c5b56f4e43bafde3bd25ad99fb",
       "version_major": 2,
       "version_minor": 0
      },
      "text/plain": [
       "  0%|          | 0/820 [00:00<?, ?it/s]"
      ]
     },
     "metadata": {},
     "output_type": "display_data"
    },
    {
     "name": "stdout",
     "output_type": "stream",
     "text": [
      "validation_loss on proxy = 0.4828\n",
      "validation_accuracy on proxy = 85.32%\n",
      "validation_loss on true ds = 1.2054\n",
      "validation_accuracy on true ds = 58.41%\n"
     ]
    },
    {
     "data": {
      "application/vnd.jupyter.widget-view+json": {
       "model_id": "eaa273ed3db246ad96f42fabfdf13040",
       "version_major": 2,
       "version_minor": 0
      },
      "text/plain": [
       "  0%|          | 0/820 [00:00<?, ?it/s]"
      ]
     },
     "metadata": {},
     "output_type": "display_data"
    },
    {
     "name": "stdout",
     "output_type": "stream",
     "text": [
      "validation_loss on proxy = 0.4799\n",
      "validation_accuracy on proxy = 85.51%\n",
      "Saved at epoch 4\n",
      "validation_loss on true ds = 1.1242\n",
      "validation_accuracy on true ds = 61.21%\n"
     ]
    },
    {
     "data": {
      "application/vnd.jupyter.widget-view+json": {
       "model_id": "8d0c273efb6e440483cdd0c86e15bb5e",
       "version_major": 2,
       "version_minor": 0
      },
      "text/plain": [
       "  0%|          | 0/820 [00:00<?, ?it/s]"
      ]
     },
     "metadata": {},
     "output_type": "display_data"
    },
    {
     "name": "stdout",
     "output_type": "stream",
     "text": [
      "validation_loss on proxy = 0.4941\n",
      "validation_accuracy on proxy = 85.66%\n",
      "Saved at epoch 5\n",
      "validation_loss on true ds = 1.1516\n",
      "validation_accuracy on true ds = 60.64%\n"
     ]
    },
    {
     "data": {
      "application/vnd.jupyter.widget-view+json": {
       "model_id": "5b2c3de068c0495aacf336a03e1aa08f",
       "version_major": 2,
       "version_minor": 0
      },
      "text/plain": [
       "  0%|          | 0/820 [00:00<?, ?it/s]"
      ]
     },
     "metadata": {},
     "output_type": "display_data"
    },
    {
     "name": "stdout",
     "output_type": "stream",
     "text": [
      "validation_loss on proxy = 0.4723\n",
      "validation_accuracy on proxy = 85.87%\n",
      "Saved at epoch 6\n",
      "validation_loss on true ds = 1.0733\n",
      "validation_accuracy on true ds = 62.77%\n"
     ]
    },
    {
     "data": {
      "application/vnd.jupyter.widget-view+json": {
       "model_id": "9152cf5eee4a41bb9a2cf506415e4809",
       "version_major": 2,
       "version_minor": 0
      },
      "text/plain": [
       "  0%|          | 0/820 [00:00<?, ?it/s]"
      ]
     },
     "metadata": {},
     "output_type": "display_data"
    },
    {
     "name": "stdout",
     "output_type": "stream",
     "text": [
      "validation_loss on proxy = 0.4794\n",
      "validation_accuracy on proxy = 86.63%\n",
      "Saved at epoch 7\n",
      "validation_loss on true ds = 1.0596\n",
      "validation_accuracy on true ds = 63.19%\n"
     ]
    },
    {
     "data": {
      "application/vnd.jupyter.widget-view+json": {
       "model_id": "8a373e7751a546b6b6e79d8b019edc66",
       "version_major": 2,
       "version_minor": 0
      },
      "text/plain": [
       "  0%|          | 0/820 [00:00<?, ?it/s]"
      ]
     },
     "metadata": {},
     "output_type": "display_data"
    },
    {
     "name": "stdout",
     "output_type": "stream",
     "text": [
      "validation_loss on proxy = 0.4562\n",
      "validation_accuracy on proxy = 86.18%\n",
      "validation_loss on true ds = 1.0709\n",
      "validation_accuracy on true ds = 63.43%\n"
     ]
    },
    {
     "data": {
      "application/vnd.jupyter.widget-view+json": {
       "model_id": "96c474cb061c4cc8934f952cda75c5a8",
       "version_major": 2,
       "version_minor": 0
      },
      "text/plain": [
       "  0%|          | 0/820 [00:00<?, ?it/s]"
      ]
     },
     "metadata": {},
     "output_type": "display_data"
    },
    {
     "name": "stdout",
     "output_type": "stream",
     "text": [
      "validation_loss on proxy = 0.4661\n",
      "validation_accuracy on proxy = 86.27%\n",
      "validation_loss on true ds = 1.1415\n",
      "validation_accuracy on true ds = 61.22%\n"
     ]
    },
    {
     "data": {
      "application/vnd.jupyter.widget-view+json": {
       "model_id": "8f3235ea5ae741fcbdb70d3f4ede42c6",
       "version_major": 2,
       "version_minor": 0
      },
      "text/plain": [
       "  0%|          | 0/820 [00:00<?, ?it/s]"
      ]
     },
     "metadata": {},
     "output_type": "display_data"
    },
    {
     "name": "stdout",
     "output_type": "stream",
     "text": [
      "validation_loss on proxy = 0.4598\n",
      "validation_accuracy on proxy = 86.57%\n",
      "validation_loss on true ds = 1.0084\n",
      "validation_accuracy on true ds = 65.22%\n"
     ]
    },
    {
     "data": {
      "application/vnd.jupyter.widget-view+json": {
       "model_id": "5b9c46d8b022415a8ca497cf326964e0",
       "version_major": 2,
       "version_minor": 0
      },
      "text/plain": [
       "  0%|          | 0/820 [00:00<?, ?it/s]"
      ]
     },
     "metadata": {},
     "output_type": "display_data"
    },
    {
     "name": "stdout",
     "output_type": "stream",
     "text": [
      "validation_loss on proxy = 0.4646\n",
      "validation_accuracy on proxy = 85.32%\n",
      "validation_loss on true ds = 1.0849\n",
      "validation_accuracy on true ds = 62.78%\n"
     ]
    },
    {
     "data": {
      "application/vnd.jupyter.widget-view+json": {
       "model_id": "2c365f14087d47a2be46e5cba940635d",
       "version_major": 2,
       "version_minor": 0
      },
      "text/plain": [
       "  0%|          | 0/820 [00:00<?, ?it/s]"
      ]
     },
     "metadata": {},
     "output_type": "display_data"
    },
    {
     "name": "stdout",
     "output_type": "stream",
     "text": [
      "validation_loss on proxy = 0.4424\n",
      "validation_accuracy on proxy = 86.57%\n",
      "validation_loss on true ds = 0.9995\n",
      "validation_accuracy on true ds = 65.13%\n"
     ]
    },
    {
     "data": {
      "application/vnd.jupyter.widget-view+json": {
       "model_id": "a5582c3bf38a4cb6a5ed3ccfd9c88947",
       "version_major": 2,
       "version_minor": 0
      },
      "text/plain": [
       "  0%|          | 0/820 [00:00<?, ?it/s]"
      ]
     },
     "metadata": {},
     "output_type": "display_data"
    },
    {
     "name": "stdout",
     "output_type": "stream",
     "text": [
      "validation_loss on proxy = 0.4357\n",
      "validation_accuracy on proxy = 86.21%\n",
      "validation_loss on true ds = 1.0041\n",
      "validation_accuracy on true ds = 65.42%\n"
     ]
    },
    {
     "data": {
      "application/vnd.jupyter.widget-view+json": {
       "model_id": "d6ef22c342e1489589cad6f5264268cd",
       "version_major": 2,
       "version_minor": 0
      },
      "text/plain": [
       "  0%|          | 0/820 [00:00<?, ?it/s]"
      ]
     },
     "metadata": {},
     "output_type": "display_data"
    },
    {
     "name": "stdout",
     "output_type": "stream",
     "text": [
      "validation_loss on proxy = 0.4571\n",
      "validation_accuracy on proxy = 86.33%\n",
      "validation_loss on true ds = 0.9869\n",
      "validation_accuracy on true ds = 66.51%\n"
     ]
    },
    {
     "data": {
      "application/vnd.jupyter.widget-view+json": {
       "model_id": "854844143a704269a50631954e2f327c",
       "version_major": 2,
       "version_minor": 0
      },
      "text/plain": [
       "  0%|          | 0/820 [00:00<?, ?it/s]"
      ]
     },
     "metadata": {},
     "output_type": "display_data"
    },
    {
     "name": "stdout",
     "output_type": "stream",
     "text": [
      "validation_loss on proxy = 0.4475\n",
      "validation_accuracy on proxy = 86.70%\n",
      "Saved at epoch 15\n",
      "validation_loss on true ds = 1.1144\n",
      "validation_accuracy on true ds = 63.01%\n"
     ]
    },
    {
     "data": {
      "application/vnd.jupyter.widget-view+json": {
       "model_id": "ffa9a4c65a824c4fb64e4f2fb67826b6",
       "version_major": 2,
       "version_minor": 0
      },
      "text/plain": [
       "  0%|          | 0/820 [00:00<?, ?it/s]"
      ]
     },
     "metadata": {},
     "output_type": "display_data"
    },
    {
     "name": "stdout",
     "output_type": "stream",
     "text": [
      "validation_loss on proxy = 0.4491\n",
      "validation_accuracy on proxy = 86.30%\n",
      "validation_loss on true ds = 0.9746\n",
      "validation_accuracy on true ds = 67.08%\n"
     ]
    },
    {
     "data": {
      "application/vnd.jupyter.widget-view+json": {
       "model_id": "a5a981c2c5ab4dddb744398e9f38ccc9",
       "version_major": 2,
       "version_minor": 0
      },
      "text/plain": [
       "  0%|          | 0/820 [00:00<?, ?it/s]"
      ]
     },
     "metadata": {},
     "output_type": "display_data"
    },
    {
     "name": "stdout",
     "output_type": "stream",
     "text": [
      "validation_loss on proxy = 0.4290\n",
      "validation_accuracy on proxy = 86.88%\n",
      "Saved at epoch 17\n",
      "validation_loss on true ds = 0.9532\n",
      "validation_accuracy on true ds = 67.65%\n"
     ]
    },
    {
     "data": {
      "application/vnd.jupyter.widget-view+json": {
       "model_id": "51792e08bac84eea868da1d47f868e45",
       "version_major": 2,
       "version_minor": 0
      },
      "text/plain": [
       "  0%|          | 0/820 [00:00<?, ?it/s]"
      ]
     },
     "metadata": {},
     "output_type": "display_data"
    },
    {
     "name": "stdout",
     "output_type": "stream",
     "text": [
      "validation_loss on proxy = 0.4264\n",
      "validation_accuracy on proxy = 86.66%\n",
      "validation_loss on true ds = 0.9520\n",
      "validation_accuracy on true ds = 67.61%\n"
     ]
    },
    {
     "data": {
      "application/vnd.jupyter.widget-view+json": {
       "model_id": "bd782bffcee54a6087d74d11bac07b29",
       "version_major": 2,
       "version_minor": 0
      },
      "text/plain": [
       "  0%|          | 0/820 [00:00<?, ?it/s]"
      ]
     },
     "metadata": {},
     "output_type": "display_data"
    },
    {
     "name": "stdout",
     "output_type": "stream",
     "text": [
      "validation_loss on proxy = 0.4272\n",
      "validation_accuracy on proxy = 86.76%\n",
      "validation_loss on true ds = 0.9703\n",
      "validation_accuracy on true ds = 66.61%\n"
     ]
    },
    {
     "data": {
      "application/vnd.jupyter.widget-view+json": {
       "model_id": "8f259256ab374594a194e6d1a74910f5",
       "version_major": 2,
       "version_minor": 0
      },
      "text/plain": [
       "  0%|          | 0/820 [00:00<?, ?it/s]"
      ]
     },
     "metadata": {},
     "output_type": "display_data"
    },
    {
     "name": "stdout",
     "output_type": "stream",
     "text": [
      "validation_loss on proxy = 0.4441\n",
      "validation_accuracy on proxy = 85.87%\n",
      "validation_loss on true ds = 0.9720\n",
      "validation_accuracy on true ds = 66.27%\n"
     ]
    },
    {
     "data": {
      "application/vnd.jupyter.widget-view+json": {
       "model_id": "7d3963fe0aaf41938df8fabfd22c0513",
       "version_major": 2,
       "version_minor": 0
      },
      "text/plain": [
       "  0%|          | 0/820 [00:00<?, ?it/s]"
      ]
     },
     "metadata": {},
     "output_type": "display_data"
    },
    {
     "name": "stdout",
     "output_type": "stream",
     "text": [
      "validation_loss on proxy = 0.4559\n",
      "validation_accuracy on proxy = 86.36%\n",
      "validation_loss on true ds = 1.0636\n",
      "validation_accuracy on true ds = 63.97%\n"
     ]
    },
    {
     "data": {
      "application/vnd.jupyter.widget-view+json": {
       "model_id": "5463699bd6b04119886061bc0e43dd8c",
       "version_major": 2,
       "version_minor": 0
      },
      "text/plain": [
       "  0%|          | 0/820 [00:00<?, ?it/s]"
      ]
     },
     "metadata": {},
     "output_type": "display_data"
    },
    {
     "name": "stdout",
     "output_type": "stream",
     "text": [
      "validation_loss on proxy = 0.4239\n",
      "validation_accuracy on proxy = 86.76%\n",
      "validation_loss on true ds = 0.9323\n",
      "validation_accuracy on true ds = 67.37%\n"
     ]
    },
    {
     "data": {
      "application/vnd.jupyter.widget-view+json": {
       "model_id": "9b19715ace494578ba08e651cf934391",
       "version_major": 2,
       "version_minor": 0
      },
      "text/plain": [
       "  0%|          | 0/820 [00:00<?, ?it/s]"
      ]
     },
     "metadata": {},
     "output_type": "display_data"
    },
    {
     "name": "stdout",
     "output_type": "stream",
     "text": [
      "validation_loss on proxy = 0.4447\n",
      "validation_accuracy on proxy = 86.76%\n",
      "validation_loss on true ds = 0.9570\n",
      "validation_accuracy on true ds = 66.94%\n"
     ]
    },
    {
     "data": {
      "application/vnd.jupyter.widget-view+json": {
       "model_id": "6ec82d0bdc53436da2304bec8959285d",
       "version_major": 2,
       "version_minor": 0
      },
      "text/plain": [
       "  0%|          | 0/820 [00:00<?, ?it/s]"
      ]
     },
     "metadata": {},
     "output_type": "display_data"
    },
    {
     "name": "stdout",
     "output_type": "stream",
     "text": [
      "validation_loss on proxy = 0.4390\n",
      "validation_accuracy on proxy = 86.82%\n",
      "validation_loss on true ds = 0.9598\n",
      "validation_accuracy on true ds = 67.29%\n"
     ]
    },
    {
     "data": {
      "application/vnd.jupyter.widget-view+json": {
       "model_id": "f77595adf4f1425da2f3f11a8d0624f5",
       "version_major": 2,
       "version_minor": 0
      },
      "text/plain": [
       "  0%|          | 0/820 [00:00<?, ?it/s]"
      ]
     },
     "metadata": {},
     "output_type": "display_data"
    },
    {
     "name": "stdout",
     "output_type": "stream",
     "text": [
      "validation_loss on proxy = 0.4472\n",
      "validation_accuracy on proxy = 86.91%\n",
      "Saved at epoch 25\n",
      "validation_loss on true ds = 0.9814\n",
      "validation_accuracy on true ds = 66.75%\n"
     ]
    },
    {
     "data": {
      "application/vnd.jupyter.widget-view+json": {
       "model_id": "1595730ef0534f6a9495348226d3212f",
       "version_major": 2,
       "version_minor": 0
      },
      "text/plain": [
       "  0%|          | 0/820 [00:00<?, ?it/s]"
      ]
     },
     "metadata": {},
     "output_type": "display_data"
    },
    {
     "name": "stdout",
     "output_type": "stream",
     "text": [
      "validation_loss on proxy = 0.4281\n",
      "validation_accuracy on proxy = 86.97%\n",
      "Saved at epoch 26\n",
      "validation_loss on true ds = 0.9460\n",
      "validation_accuracy on true ds = 67.73%\n"
     ]
    },
    {
     "data": {
      "application/vnd.jupyter.widget-view+json": {
       "model_id": "af457f5fc3bf411f9e7d36881f40ced9",
       "version_major": 2,
       "version_minor": 0
      },
      "text/plain": [
       "  0%|          | 0/820 [00:00<?, ?it/s]"
      ]
     },
     "metadata": {},
     "output_type": "display_data"
    },
    {
     "name": "stdout",
     "output_type": "stream",
     "text": [
      "validation_loss on proxy = 0.4287\n",
      "validation_accuracy on proxy = 86.79%\n",
      "validation_loss on true ds = 0.9452\n",
      "validation_accuracy on true ds = 68.15%\n"
     ]
    },
    {
     "data": {
      "application/vnd.jupyter.widget-view+json": {
       "model_id": "4e8e66767d5f42bea96cdf37aedc61fb",
       "version_major": 2,
       "version_minor": 0
      },
      "text/plain": [
       "  0%|          | 0/820 [00:00<?, ?it/s]"
      ]
     },
     "metadata": {},
     "output_type": "display_data"
    },
    {
     "name": "stdout",
     "output_type": "stream",
     "text": [
      "validation_loss on proxy = 0.4603\n",
      "validation_accuracy on proxy = 86.12%\n",
      "validation_loss on true ds = 0.9628\n",
      "validation_accuracy on true ds = 67.27%\n"
     ]
    },
    {
     "data": {
      "application/vnd.jupyter.widget-view+json": {
       "model_id": "10ce8e39affa4ef19f0130c35cdee011",
       "version_major": 2,
       "version_minor": 0
      },
      "text/plain": [
       "  0%|          | 0/820 [00:00<?, ?it/s]"
      ]
     },
     "metadata": {},
     "output_type": "display_data"
    },
    {
     "name": "stdout",
     "output_type": "stream",
     "text": [
      "validation_loss on proxy = 0.4421\n",
      "validation_accuracy on proxy = 86.88%\n",
      "validation_loss on true ds = 0.9481\n",
      "validation_accuracy on true ds = 68.36%\n"
     ]
    },
    {
     "data": {
      "application/vnd.jupyter.widget-view+json": {
       "model_id": "9d10c5ebc0c744c7a43832857d58bc2e",
       "version_major": 2,
       "version_minor": 0
      },
      "text/plain": [
       "  0%|          | 0/820 [00:00<?, ?it/s]"
      ]
     },
     "metadata": {},
     "output_type": "display_data"
    },
    {
     "name": "stdout",
     "output_type": "stream",
     "text": [
      "validation_loss on proxy = 0.4280\n",
      "validation_accuracy on proxy = 87.03%\n",
      "Saved at epoch 30\n",
      "validation_loss on true ds = 0.9186\n",
      "validation_accuracy on true ds = 69.16%\n"
     ]
    },
    {
     "data": {
      "application/vnd.jupyter.widget-view+json": {
       "model_id": "67fa973e954a424c88ee628599560be1",
       "version_major": 2,
       "version_minor": 0
      },
      "text/plain": [
       "  0%|          | 0/820 [00:00<?, ?it/s]"
      ]
     },
     "metadata": {},
     "output_type": "display_data"
    },
    {
     "name": "stdout",
     "output_type": "stream",
     "text": [
      "validation_loss on proxy = 0.4236\n",
      "validation_accuracy on proxy = 86.76%\n",
      "validation_loss on true ds = 0.9221\n",
      "validation_accuracy on true ds = 68.64%\n"
     ]
    },
    {
     "data": {
      "application/vnd.jupyter.widget-view+json": {
       "model_id": "3a99805121b84303b5a2f249957160ef",
       "version_major": 2,
       "version_minor": 0
      },
      "text/plain": [
       "  0%|          | 0/820 [00:00<?, ?it/s]"
      ]
     },
     "metadata": {},
     "output_type": "display_data"
    },
    {
     "name": "stdout",
     "output_type": "stream",
     "text": [
      "validation_loss on proxy = 0.4564\n",
      "validation_accuracy on proxy = 86.39%\n",
      "validation_loss on true ds = 0.9268\n",
      "validation_accuracy on true ds = 69.11%\n"
     ]
    },
    {
     "data": {
      "application/vnd.jupyter.widget-view+json": {
       "model_id": "09c3d681cff94d698dedad764fa696a6",
       "version_major": 2,
       "version_minor": 0
      },
      "text/plain": [
       "  0%|          | 0/820 [00:00<?, ?it/s]"
      ]
     },
     "metadata": {},
     "output_type": "display_data"
    },
    {
     "name": "stdout",
     "output_type": "stream",
     "text": [
      "validation_loss on proxy = 0.4351\n",
      "validation_accuracy on proxy = 86.88%\n",
      "validation_loss on true ds = 0.9576\n",
      "validation_accuracy on true ds = 68.23%\n"
     ]
    },
    {
     "data": {
      "application/vnd.jupyter.widget-view+json": {
       "model_id": "8168f72a49344be1ae4b7a1e07f2dd32",
       "version_major": 2,
       "version_minor": 0
      },
      "text/plain": [
       "  0%|          | 0/820 [00:00<?, ?it/s]"
      ]
     },
     "metadata": {},
     "output_type": "display_data"
    },
    {
     "name": "stdout",
     "output_type": "stream",
     "text": [
      "validation_loss on proxy = 0.4485\n",
      "validation_accuracy on proxy = 86.39%\n",
      "validation_loss on true ds = 0.9401\n",
      "validation_accuracy on true ds = 68.19%\n"
     ]
    },
    {
     "data": {
      "application/vnd.jupyter.widget-view+json": {
       "model_id": "08b90865022c43acb824b98dae7aea54",
       "version_major": 2,
       "version_minor": 0
      },
      "text/plain": [
       "  0%|          | 0/820 [00:00<?, ?it/s]"
      ]
     },
     "metadata": {},
     "output_type": "display_data"
    },
    {
     "name": "stdout",
     "output_type": "stream",
     "text": [
      "validation_loss on proxy = 0.4255\n",
      "validation_accuracy on proxy = 86.66%\n",
      "validation_loss on true ds = 0.9523\n",
      "validation_accuracy on true ds = 68.04%\n"
     ]
    },
    {
     "data": {
      "application/vnd.jupyter.widget-view+json": {
       "model_id": "c1879d51549546178446a6aeef7e8610",
       "version_major": 2,
       "version_minor": 0
      },
      "text/plain": [
       "  0%|          | 0/820 [00:00<?, ?it/s]"
      ]
     },
     "metadata": {},
     "output_type": "display_data"
    },
    {
     "name": "stdout",
     "output_type": "stream",
     "text": [
      "validation_loss on proxy = 0.4278\n",
      "validation_accuracy on proxy = 86.85%\n",
      "validation_loss on true ds = 0.8922\n",
      "validation_accuracy on true ds = 69.94%\n"
     ]
    },
    {
     "data": {
      "application/vnd.jupyter.widget-view+json": {
       "model_id": "002237bbead1457ab6e53e32b8b25f1a",
       "version_major": 2,
       "version_minor": 0
      },
      "text/plain": [
       "  0%|          | 0/820 [00:00<?, ?it/s]"
      ]
     },
     "metadata": {},
     "output_type": "display_data"
    },
    {
     "name": "stdout",
     "output_type": "stream",
     "text": [
      "validation_loss on proxy = 0.4331\n",
      "validation_accuracy on proxy = 86.91%\n",
      "validation_loss on true ds = 0.8910\n",
      "validation_accuracy on true ds = 70.56%\n"
     ]
    },
    {
     "data": {
      "application/vnd.jupyter.widget-view+json": {
       "model_id": "fc225ca659dd484a9bd7e04186a65e68",
       "version_major": 2,
       "version_minor": 0
      },
      "text/plain": [
       "  0%|          | 0/820 [00:00<?, ?it/s]"
      ]
     },
     "metadata": {},
     "output_type": "display_data"
    },
    {
     "name": "stdout",
     "output_type": "stream",
     "text": [
      "validation_loss on proxy = 0.4382\n",
      "validation_accuracy on proxy = 87.31%\n",
      "Saved at epoch 38\n",
      "validation_loss on true ds = 0.9824\n",
      "validation_accuracy on true ds = 67.17%\n"
     ]
    },
    {
     "data": {
      "application/vnd.jupyter.widget-view+json": {
       "model_id": "465a606f19694ada902447b31e341368",
       "version_major": 2,
       "version_minor": 0
      },
      "text/plain": [
       "  0%|          | 0/820 [00:00<?, ?it/s]"
      ]
     },
     "metadata": {},
     "output_type": "display_data"
    },
    {
     "name": "stdout",
     "output_type": "stream",
     "text": [
      "validation_loss on proxy = 0.4408\n",
      "validation_accuracy on proxy = 86.91%\n",
      "validation_loss on true ds = 0.9922\n",
      "validation_accuracy on true ds = 67.24%\n"
     ]
    },
    {
     "data": {
      "application/vnd.jupyter.widget-view+json": {
       "model_id": "d7b5930457e547989d417d7f320c1d32",
       "version_major": 2,
       "version_minor": 0
      },
      "text/plain": [
       "  0%|          | 0/820 [00:00<?, ?it/s]"
      ]
     },
     "metadata": {},
     "output_type": "display_data"
    },
    {
     "name": "stdout",
     "output_type": "stream",
     "text": [
      "validation_loss on proxy = 0.4410\n",
      "validation_accuracy on proxy = 86.27%\n",
      "validation_loss on true ds = 0.9536\n",
      "validation_accuracy on true ds = 66.85%\n"
     ]
    },
    {
     "data": {
      "application/vnd.jupyter.widget-view+json": {
       "model_id": "efedec17b9bb4aaabf11aaa6a908c0f8",
       "version_major": 2,
       "version_minor": 0
      },
      "text/plain": [
       "  0%|          | 0/820 [00:00<?, ?it/s]"
      ]
     },
     "metadata": {},
     "output_type": "display_data"
    },
    {
     "name": "stdout",
     "output_type": "stream",
     "text": [
      "validation_loss on proxy = 0.4250\n",
      "validation_accuracy on proxy = 86.82%\n",
      "validation_loss on true ds = 0.9056\n",
      "validation_accuracy on true ds = 69.29%\n"
     ]
    },
    {
     "data": {
      "application/vnd.jupyter.widget-view+json": {
       "model_id": "a0d14e86bc8d4f9bb69563b70af21315",
       "version_major": 2,
       "version_minor": 0
      },
      "text/plain": [
       "  0%|          | 0/820 [00:00<?, ?it/s]"
      ]
     },
     "metadata": {},
     "output_type": "display_data"
    },
    {
     "name": "stdout",
     "output_type": "stream",
     "text": [
      "validation_loss on proxy = 0.4458\n",
      "validation_accuracy on proxy = 86.30%\n",
      "validation_loss on true ds = 0.9226\n",
      "validation_accuracy on true ds = 69.46%\n"
     ]
    },
    {
     "data": {
      "application/vnd.jupyter.widget-view+json": {
       "model_id": "fbee713587f04ab8b6f4c7b9d5c2d15a",
       "version_major": 2,
       "version_minor": 0
      },
      "text/plain": [
       "  0%|          | 0/820 [00:00<?, ?it/s]"
      ]
     },
     "metadata": {},
     "output_type": "display_data"
    },
    {
     "name": "stdout",
     "output_type": "stream",
     "text": [
      "validation_loss on proxy = 0.4454\n",
      "validation_accuracy on proxy = 86.97%\n",
      "validation_loss on true ds = 0.9744\n",
      "validation_accuracy on true ds = 68.62%\n"
     ]
    },
    {
     "data": {
      "application/vnd.jupyter.widget-view+json": {
       "model_id": "18b9bcc0b991444c8a3d5fc2965b7e50",
       "version_major": 2,
       "version_minor": 0
      },
      "text/plain": [
       "  0%|          | 0/820 [00:00<?, ?it/s]"
      ]
     },
     "metadata": {},
     "output_type": "display_data"
    },
    {
     "name": "stdout",
     "output_type": "stream",
     "text": [
      "validation_loss on proxy = 0.4389\n",
      "validation_accuracy on proxy = 86.91%\n",
      "validation_loss on true ds = 0.9435\n",
      "validation_accuracy on true ds = 69.32%\n"
     ]
    },
    {
     "data": {
      "application/vnd.jupyter.widget-view+json": {
       "model_id": "32b6c53b3a6f44b1a99f41873ca6269c",
       "version_major": 2,
       "version_minor": 0
      },
      "text/plain": [
       "  0%|          | 0/820 [00:00<?, ?it/s]"
      ]
     },
     "metadata": {},
     "output_type": "display_data"
    },
    {
     "name": "stdout",
     "output_type": "stream",
     "text": [
      "validation_loss on proxy = 0.4381\n",
      "validation_accuracy on proxy = 87.00%\n",
      "validation_loss on true ds = 0.8940\n",
      "validation_accuracy on true ds = 70.28%\n"
     ]
    },
    {
     "data": {
      "application/vnd.jupyter.widget-view+json": {
       "model_id": "41298dcb9af94acf9e4c9ae58b4d6b1a",
       "version_major": 2,
       "version_minor": 0
      },
      "text/plain": [
       "  0%|          | 0/820 [00:00<?, ?it/s]"
      ]
     },
     "metadata": {},
     "output_type": "display_data"
    },
    {
     "name": "stdout",
     "output_type": "stream",
     "text": [
      "validation_loss on proxy = 0.4449\n",
      "validation_accuracy on proxy = 86.88%\n",
      "validation_loss on true ds = 0.9386\n",
      "validation_accuracy on true ds = 69.49%\n"
     ]
    },
    {
     "data": {
      "application/vnd.jupyter.widget-view+json": {
       "model_id": "d0f3b2aa887d4127a1af8653ea73f91d",
       "version_major": 2,
       "version_minor": 0
      },
      "text/plain": [
       "  0%|          | 0/820 [00:00<?, ?it/s]"
      ]
     },
     "metadata": {},
     "output_type": "display_data"
    },
    {
     "name": "stdout",
     "output_type": "stream",
     "text": [
      "validation_loss on proxy = 0.4354\n",
      "validation_accuracy on proxy = 87.24%\n",
      "validation_loss on true ds = 0.9174\n",
      "validation_accuracy on true ds = 69.22%\n"
     ]
    },
    {
     "data": {
      "application/vnd.jupyter.widget-view+json": {
       "model_id": "f3ece111000c4bb1b85020ec36600274",
       "version_major": 2,
       "version_minor": 0
      },
      "text/plain": [
       "  0%|          | 0/820 [00:00<?, ?it/s]"
      ]
     },
     "metadata": {},
     "output_type": "display_data"
    },
    {
     "name": "stdout",
     "output_type": "stream",
     "text": [
      "validation_loss on proxy = 0.4332\n",
      "validation_accuracy on proxy = 87.15%\n",
      "validation_loss on true ds = 0.9540\n",
      "validation_accuracy on true ds = 68.82%\n"
     ]
    },
    {
     "data": {
      "application/vnd.jupyter.widget-view+json": {
       "model_id": "63bf17d185c54209b5ed6982b68a23a4",
       "version_major": 2,
       "version_minor": 0
      },
      "text/plain": [
       "  0%|          | 0/820 [00:00<?, ?it/s]"
      ]
     },
     "metadata": {},
     "output_type": "display_data"
    },
    {
     "name": "stdout",
     "output_type": "stream",
     "text": [
      "validation_loss on proxy = 0.4392\n",
      "validation_accuracy on proxy = 86.88%\n",
      "validation_loss on true ds = 0.9403\n",
      "validation_accuracy on true ds = 68.97%\n"
     ]
    },
    {
     "data": {
      "application/vnd.jupyter.widget-view+json": {
       "model_id": "31ca6f1cca114ecc89e461fe46699f1f",
       "version_major": 2,
       "version_minor": 0
      },
      "text/plain": [
       "  0%|          | 0/820 [00:00<?, ?it/s]"
      ]
     },
     "metadata": {},
     "output_type": "display_data"
    },
    {
     "name": "stdout",
     "output_type": "stream",
     "text": [
      "validation_loss on proxy = 0.4426\n",
      "validation_accuracy on proxy = 86.57%\n",
      "validation_loss on true ds = 0.9244\n",
      "validation_accuracy on true ds = 69.60%\n"
     ]
    },
    {
     "data": {
      "application/vnd.jupyter.widget-view+json": {
       "model_id": "8c34cdc6f7c143129f8568951f386926",
       "version_major": 2,
       "version_minor": 0
      },
      "text/plain": [
       "  0%|          | 0/820 [00:00<?, ?it/s]"
      ]
     },
     "metadata": {},
     "output_type": "display_data"
    },
    {
     "name": "stdout",
     "output_type": "stream",
     "text": [
      "validation_loss on proxy = 0.4407\n",
      "validation_accuracy on proxy = 86.91%\n",
      "validation_loss on true ds = 0.9159\n",
      "validation_accuracy on true ds = 69.40%\n"
     ]
    },
    {
     "data": {
      "application/vnd.jupyter.widget-view+json": {
       "model_id": "a9731f3043ce4634b59b7dcb36d3b632",
       "version_major": 2,
       "version_minor": 0
      },
      "text/plain": [
       "  0%|          | 0/820 [00:00<?, ?it/s]"
      ]
     },
     "metadata": {},
     "output_type": "display_data"
    },
    {
     "name": "stdout",
     "output_type": "stream",
     "text": [
      "validation_loss on proxy = 0.4377\n",
      "validation_accuracy on proxy = 86.91%\n",
      "validation_loss on true ds = 0.9278\n",
      "validation_accuracy on true ds = 69.32%\n"
     ]
    },
    {
     "data": {
      "application/vnd.jupyter.widget-view+json": {
       "model_id": "85b1c23b67604e4e9a9b4112a5f3bf46",
       "version_major": 2,
       "version_minor": 0
      },
      "text/plain": [
       "  0%|          | 0/820 [00:00<?, ?it/s]"
      ]
     },
     "metadata": {},
     "output_type": "display_data"
    },
    {
     "name": "stdout",
     "output_type": "stream",
     "text": [
      "validation_loss on proxy = 0.4437\n",
      "validation_accuracy on proxy = 86.70%\n",
      "validation_loss on true ds = 0.9926\n",
      "validation_accuracy on true ds = 67.78%\n"
     ]
    },
    {
     "data": {
      "application/vnd.jupyter.widget-view+json": {
       "model_id": "82e3c5385bc240238f44161dbd64d494",
       "version_major": 2,
       "version_minor": 0
      },
      "text/plain": [
       "  0%|          | 0/820 [00:00<?, ?it/s]"
      ]
     },
     "metadata": {},
     "output_type": "display_data"
    },
    {
     "name": "stdout",
     "output_type": "stream",
     "text": [
      "validation_loss on proxy = 0.4405\n",
      "validation_accuracy on proxy = 87.06%\n",
      "validation_loss on true ds = 0.9663\n",
      "validation_accuracy on true ds = 68.96%\n"
     ]
    },
    {
     "data": {
      "application/vnd.jupyter.widget-view+json": {
       "model_id": "904f36d0bc42462381fc082f63c7ac98",
       "version_major": 2,
       "version_minor": 0
      },
      "text/plain": [
       "  0%|          | 0/820 [00:00<?, ?it/s]"
      ]
     },
     "metadata": {},
     "output_type": "display_data"
    },
    {
     "name": "stdout",
     "output_type": "stream",
     "text": [
      "validation_loss on proxy = 0.4488\n",
      "validation_accuracy on proxy = 86.73%\n",
      "validation_loss on true ds = 0.9376\n",
      "validation_accuracy on true ds = 69.87%\n"
     ]
    },
    {
     "data": {
      "application/vnd.jupyter.widget-view+json": {
       "model_id": "cfdb7d6c672043488e9235b4d9c30eb9",
       "version_major": 2,
       "version_minor": 0
      },
      "text/plain": [
       "  0%|          | 0/820 [00:00<?, ?it/s]"
      ]
     },
     "metadata": {},
     "output_type": "display_data"
    },
    {
     "name": "stdout",
     "output_type": "stream",
     "text": [
      "validation_loss on proxy = 0.4511\n",
      "validation_accuracy on proxy = 87.03%\n",
      "validation_loss on true ds = 0.9610\n",
      "validation_accuracy on true ds = 68.61%\n"
     ]
    },
    {
     "data": {
      "application/vnd.jupyter.widget-view+json": {
       "model_id": "6820b97b52c9427c95c0fec49744ddcf",
       "version_major": 2,
       "version_minor": 0
      },
      "text/plain": [
       "  0%|          | 0/820 [00:00<?, ?it/s]"
      ]
     },
     "metadata": {},
     "output_type": "display_data"
    },
    {
     "name": "stdout",
     "output_type": "stream",
     "text": [
      "validation_loss on proxy = 0.4397\n",
      "validation_accuracy on proxy = 87.06%\n",
      "validation_loss on true ds = 0.9093\n",
      "validation_accuracy on true ds = 70.40%\n"
     ]
    },
    {
     "data": {
      "application/vnd.jupyter.widget-view+json": {
       "model_id": "fe3ff9073b364a9fa2090c64c9f0b01d",
       "version_major": 2,
       "version_minor": 0
      },
      "text/plain": [
       "  0%|          | 0/820 [00:00<?, ?it/s]"
      ]
     },
     "metadata": {},
     "output_type": "display_data"
    },
    {
     "name": "stdout",
     "output_type": "stream",
     "text": [
      "validation_loss on proxy = 0.4427\n",
      "validation_accuracy on proxy = 87.12%\n",
      "validation_loss on true ds = 0.9160\n",
      "validation_accuracy on true ds = 69.99%\n"
     ]
    },
    {
     "data": {
      "application/vnd.jupyter.widget-view+json": {
       "model_id": "782634412250411eac6bb0da791b304f",
       "version_major": 2,
       "version_minor": 0
      },
      "text/plain": [
       "  0%|          | 0/820 [00:00<?, ?it/s]"
      ]
     },
     "metadata": {},
     "output_type": "display_data"
    },
    {
     "name": "stdout",
     "output_type": "stream",
     "text": [
      "validation_loss on proxy = 0.4507\n",
      "validation_accuracy on proxy = 87.06%\n",
      "validation_loss on true ds = 0.9158\n",
      "validation_accuracy on true ds = 69.84%\n"
     ]
    },
    {
     "data": {
      "application/vnd.jupyter.widget-view+json": {
       "model_id": "663277d3df6042398c4869102928c855",
       "version_major": 2,
       "version_minor": 0
      },
      "text/plain": [
       "  0%|          | 0/820 [00:00<?, ?it/s]"
      ]
     },
     "metadata": {},
     "output_type": "display_data"
    },
    {
     "name": "stdout",
     "output_type": "stream",
     "text": [
      "validation_loss on proxy = 0.4452\n",
      "validation_accuracy on proxy = 87.40%\n",
      "Saved at epoch 60\n",
      "validation_loss on true ds = 0.9411\n",
      "validation_accuracy on true ds = 69.93%\n"
     ]
    },
    {
     "data": {
      "application/vnd.jupyter.widget-view+json": {
       "model_id": "8896e9683516461a97102698d1dbdb77",
       "version_major": 2,
       "version_minor": 0
      },
      "text/plain": [
       "  0%|          | 0/820 [00:00<?, ?it/s]"
      ]
     },
     "metadata": {},
     "output_type": "display_data"
    },
    {
     "name": "stdout",
     "output_type": "stream",
     "text": [
      "validation_loss on proxy = 0.4661\n",
      "validation_accuracy on proxy = 86.51%\n",
      "validation_loss on true ds = 0.9489\n",
      "validation_accuracy on true ds = 69.76%\n"
     ]
    },
    {
     "data": {
      "application/vnd.jupyter.widget-view+json": {
       "model_id": "c9eba9665d804a6e89c9256e68f4ab60",
       "version_major": 2,
       "version_minor": 0
      },
      "text/plain": [
       "  0%|          | 0/820 [00:00<?, ?it/s]"
      ]
     },
     "metadata": {},
     "output_type": "display_data"
    },
    {
     "name": "stdout",
     "output_type": "stream",
     "text": [
      "validation_loss on proxy = 0.4559\n",
      "validation_accuracy on proxy = 87.15%\n",
      "validation_loss on true ds = 0.9538\n",
      "validation_accuracy on true ds = 69.23%\n"
     ]
    },
    {
     "data": {
      "application/vnd.jupyter.widget-view+json": {
       "model_id": "bdc3f8d94dc3419dbe3ef685e3482839",
       "version_major": 2,
       "version_minor": 0
      },
      "text/plain": [
       "  0%|          | 0/820 [00:00<?, ?it/s]"
      ]
     },
     "metadata": {},
     "output_type": "display_data"
    },
    {
     "name": "stdout",
     "output_type": "stream",
     "text": [
      "validation_loss on proxy = 0.4525\n",
      "validation_accuracy on proxy = 86.82%\n",
      "validation_loss on true ds = 0.9137\n",
      "validation_accuracy on true ds = 69.20%\n"
     ]
    },
    {
     "data": {
      "application/vnd.jupyter.widget-view+json": {
       "model_id": "644ce8ab68fa4d329d31a0ad59398ab9",
       "version_major": 2,
       "version_minor": 0
      },
      "text/plain": [
       "  0%|          | 0/820 [00:00<?, ?it/s]"
      ]
     },
     "metadata": {},
     "output_type": "display_data"
    },
    {
     "name": "stdout",
     "output_type": "stream",
     "text": [
      "validation_loss on proxy = 0.4540\n",
      "validation_accuracy on proxy = 86.88%\n",
      "validation_loss on true ds = 0.9651\n",
      "validation_accuracy on true ds = 68.93%\n"
     ]
    },
    {
     "data": {
      "application/vnd.jupyter.widget-view+json": {
       "model_id": "620b956115ec4cc282cc524191397087",
       "version_major": 2,
       "version_minor": 0
      },
      "text/plain": [
       "  0%|          | 0/820 [00:00<?, ?it/s]"
      ]
     },
     "metadata": {},
     "output_type": "display_data"
    },
    {
     "name": "stdout",
     "output_type": "stream",
     "text": [
      "validation_loss on proxy = 0.4607\n",
      "validation_accuracy on proxy = 87.15%\n",
      "validation_loss on true ds = 0.9866\n",
      "validation_accuracy on true ds = 68.47%\n"
     ]
    },
    {
     "data": {
      "application/vnd.jupyter.widget-view+json": {
       "model_id": "11e53714a5c14eb382b57a0f91b19b0b",
       "version_major": 2,
       "version_minor": 0
      },
      "text/plain": [
       "  0%|          | 0/820 [00:00<?, ?it/s]"
      ]
     },
     "metadata": {},
     "output_type": "display_data"
    },
    {
     "name": "stdout",
     "output_type": "stream",
     "text": [
      "validation_loss on proxy = 0.4526\n",
      "validation_accuracy on proxy = 86.88%\n",
      "validation_loss on true ds = 0.9225\n",
      "validation_accuracy on true ds = 69.31%\n"
     ]
    },
    {
     "data": {
      "application/vnd.jupyter.widget-view+json": {
       "model_id": "665207f4232c4847b5fe40f8c37a5fab",
       "version_major": 2,
       "version_minor": 0
      },
      "text/plain": [
       "  0%|          | 0/820 [00:00<?, ?it/s]"
      ]
     },
     "metadata": {},
     "output_type": "display_data"
    },
    {
     "name": "stdout",
     "output_type": "stream",
     "text": [
      "validation_loss on proxy = 0.4459\n",
      "validation_accuracy on proxy = 87.15%\n",
      "validation_loss on true ds = 0.9026\n",
      "validation_accuracy on true ds = 70.09%\n"
     ]
    },
    {
     "data": {
      "application/vnd.jupyter.widget-view+json": {
       "model_id": "c2a53ce0b7a541f7a455dd0831b2c19a",
       "version_major": 2,
       "version_minor": 0
      },
      "text/plain": [
       "  0%|          | 0/820 [00:00<?, ?it/s]"
      ]
     },
     "metadata": {},
     "output_type": "display_data"
    },
    {
     "name": "stdout",
     "output_type": "stream",
     "text": [
      "validation_loss on proxy = 0.4413\n",
      "validation_accuracy on proxy = 87.15%\n",
      "validation_loss on true ds = 0.9454\n",
      "validation_accuracy on true ds = 68.83%\n"
     ]
    },
    {
     "data": {
      "application/vnd.jupyter.widget-view+json": {
       "model_id": "d8e3d28dfc1248f19a8d88f31c9549de",
       "version_major": 2,
       "version_minor": 0
      },
      "text/plain": [
       "  0%|          | 0/820 [00:00<?, ?it/s]"
      ]
     },
     "metadata": {},
     "output_type": "display_data"
    },
    {
     "name": "stdout",
     "output_type": "stream",
     "text": [
      "validation_loss on proxy = 0.4443\n",
      "validation_accuracy on proxy = 87.09%\n",
      "validation_loss on true ds = 0.8906\n",
      "validation_accuracy on true ds = 70.59%\n"
     ]
    },
    {
     "data": {
      "application/vnd.jupyter.widget-view+json": {
       "model_id": "0c7521bf5c2a449a99e957f50f2bb242",
       "version_major": 2,
       "version_minor": 0
      },
      "text/plain": [
       "  0%|          | 0/820 [00:00<?, ?it/s]"
      ]
     },
     "metadata": {},
     "output_type": "display_data"
    },
    {
     "name": "stdout",
     "output_type": "stream",
     "text": [
      "validation_loss on proxy = 0.4485\n",
      "validation_accuracy on proxy = 86.54%\n",
      "validation_loss on true ds = 0.9517\n",
      "validation_accuracy on true ds = 68.80%\n"
     ]
    },
    {
     "data": {
      "application/vnd.jupyter.widget-view+json": {
       "model_id": "ecd60669445c4af6a1cbd0a17302cbbd",
       "version_major": 2,
       "version_minor": 0
      },
      "text/plain": [
       "  0%|          | 0/820 [00:00<?, ?it/s]"
      ]
     },
     "metadata": {},
     "output_type": "display_data"
    },
    {
     "name": "stdout",
     "output_type": "stream",
     "text": [
      "validation_loss on proxy = 0.4525\n",
      "validation_accuracy on proxy = 86.36%\n",
      "validation_loss on true ds = 0.9629\n",
      "validation_accuracy on true ds = 68.84%\n"
     ]
    },
    {
     "data": {
      "application/vnd.jupyter.widget-view+json": {
       "model_id": "ca0e20ef4b6e4b749c7a24c1ad9292b7",
       "version_major": 2,
       "version_minor": 0
      },
      "text/plain": [
       "  0%|          | 0/820 [00:00<?, ?it/s]"
      ]
     },
     "metadata": {},
     "output_type": "display_data"
    },
    {
     "name": "stdout",
     "output_type": "stream",
     "text": [
      "validation_loss on proxy = 0.4535\n",
      "validation_accuracy on proxy = 86.76%\n",
      "validation_loss on true ds = 0.9092\n",
      "validation_accuracy on true ds = 70.43%\n"
     ]
    },
    {
     "data": {
      "application/vnd.jupyter.widget-view+json": {
       "model_id": "cb6f671ab5464ea489e311902759c274",
       "version_major": 2,
       "version_minor": 0
      },
      "text/plain": [
       "  0%|          | 0/820 [00:00<?, ?it/s]"
      ]
     },
     "metadata": {},
     "output_type": "display_data"
    },
    {
     "name": "stdout",
     "output_type": "stream",
     "text": [
      "validation_loss on proxy = 0.4614\n",
      "validation_accuracy on proxy = 86.85%\n",
      "validation_loss on true ds = 0.9382\n",
      "validation_accuracy on true ds = 69.51%\n"
     ]
    },
    {
     "data": {
      "application/vnd.jupyter.widget-view+json": {
       "model_id": "5356d8906461428e95fbcb57ba3db461",
       "version_major": 2,
       "version_minor": 0
      },
      "text/plain": [
       "  0%|          | 0/820 [00:00<?, ?it/s]"
      ]
     },
     "metadata": {},
     "output_type": "display_data"
    },
    {
     "name": "stdout",
     "output_type": "stream",
     "text": [
      "validation_loss on proxy = 0.4578\n",
      "validation_accuracy on proxy = 86.76%\n",
      "validation_loss on true ds = 0.9210\n",
      "validation_accuracy on true ds = 70.39%\n"
     ]
    },
    {
     "data": {
      "application/vnd.jupyter.widget-view+json": {
       "model_id": "65209fba919a4400a7b9f9a5f16c4670",
       "version_major": 2,
       "version_minor": 0
      },
      "text/plain": [
       "  0%|          | 0/820 [00:00<?, ?it/s]"
      ]
     },
     "metadata": {},
     "output_type": "display_data"
    },
    {
     "name": "stdout",
     "output_type": "stream",
     "text": [
      "validation_loss on proxy = 0.4545\n",
      "validation_accuracy on proxy = 86.33%\n",
      "validation_loss on true ds = 1.0173\n",
      "validation_accuracy on true ds = 67.17%\n"
     ]
    },
    {
     "data": {
      "application/vnd.jupyter.widget-view+json": {
       "model_id": "341fadb0d00040aa89b5ab50d631913f",
       "version_major": 2,
       "version_minor": 0
      },
      "text/plain": [
       "  0%|          | 0/820 [00:00<?, ?it/s]"
      ]
     },
     "metadata": {},
     "output_type": "display_data"
    },
    {
     "name": "stdout",
     "output_type": "stream",
     "text": [
      "validation_loss on proxy = 0.4628\n",
      "validation_accuracy on proxy = 86.88%\n",
      "validation_loss on true ds = 0.9177\n",
      "validation_accuracy on true ds = 70.52%\n"
     ]
    },
    {
     "data": {
      "application/vnd.jupyter.widget-view+json": {
       "model_id": "74b2d5d4371b4f2b8048a42c5dd295ff",
       "version_major": 2,
       "version_minor": 0
      },
      "text/plain": [
       "  0%|          | 0/820 [00:00<?, ?it/s]"
      ]
     },
     "metadata": {},
     "output_type": "display_data"
    },
    {
     "name": "stdout",
     "output_type": "stream",
     "text": [
      "validation_loss on proxy = 0.4532\n",
      "validation_accuracy on proxy = 86.82%\n",
      "validation_loss on true ds = 0.9662\n",
      "validation_accuracy on true ds = 68.58%\n"
     ]
    },
    {
     "data": {
      "application/vnd.jupyter.widget-view+json": {
       "model_id": "740b8a0bf88244f6afafc1661eb4e56e",
       "version_major": 2,
       "version_minor": 0
      },
      "text/plain": [
       "  0%|          | 0/820 [00:00<?, ?it/s]"
      ]
     },
     "metadata": {},
     "output_type": "display_data"
    },
    {
     "name": "stdout",
     "output_type": "stream",
     "text": [
      "validation_loss on proxy = 0.4711\n",
      "validation_accuracy on proxy = 86.94%\n",
      "validation_loss on true ds = 1.0157\n",
      "validation_accuracy on true ds = 67.79%\n"
     ]
    },
    {
     "data": {
      "application/vnd.jupyter.widget-view+json": {
       "model_id": "7bc78d5617dc48efbec1561b3de5daf4",
       "version_major": 2,
       "version_minor": 0
      },
      "text/plain": [
       "  0%|          | 0/820 [00:00<?, ?it/s]"
      ]
     },
     "metadata": {},
     "output_type": "display_data"
    },
    {
     "name": "stdout",
     "output_type": "stream",
     "text": [
      "validation_loss on proxy = 0.4565\n",
      "validation_accuracy on proxy = 86.79%\n",
      "validation_loss on true ds = 0.9161\n",
      "validation_accuracy on true ds = 69.57%\n"
     ]
    },
    {
     "data": {
      "application/vnd.jupyter.widget-view+json": {
       "model_id": "09dfb84094b447d0bb1c8d11a5a3008c",
       "version_major": 2,
       "version_minor": 0
      },
      "text/plain": [
       "  0%|          | 0/820 [00:00<?, ?it/s]"
      ]
     },
     "metadata": {},
     "output_type": "display_data"
    },
    {
     "name": "stdout",
     "output_type": "stream",
     "text": [
      "validation_loss on proxy = 0.4690\n",
      "validation_accuracy on proxy = 86.85%\n",
      "validation_loss on true ds = 0.9418\n",
      "validation_accuracy on true ds = 69.60%\n"
     ]
    },
    {
     "data": {
      "application/vnd.jupyter.widget-view+json": {
       "model_id": "f63dec33c4654392ab041415dd075ee6",
       "version_major": 2,
       "version_minor": 0
      },
      "text/plain": [
       "  0%|          | 0/820 [00:00<?, ?it/s]"
      ]
     },
     "metadata": {},
     "output_type": "display_data"
    },
    {
     "name": "stdout",
     "output_type": "stream",
     "text": [
      "validation_loss on proxy = 0.4741\n",
      "validation_accuracy on proxy = 85.96%\n",
      "validation_loss on true ds = 0.9581\n",
      "validation_accuracy on true ds = 69.27%\n"
     ]
    },
    {
     "data": {
      "application/vnd.jupyter.widget-view+json": {
       "model_id": "acc17808fbdb498ab3a224952d7a1d81",
       "version_major": 2,
       "version_minor": 0
      },
      "text/plain": [
       "  0%|          | 0/820 [00:00<?, ?it/s]"
      ]
     },
     "metadata": {},
     "output_type": "display_data"
    },
    {
     "name": "stdout",
     "output_type": "stream",
     "text": [
      "validation_loss on proxy = 0.4702\n",
      "validation_accuracy on proxy = 86.66%\n",
      "validation_loss on true ds = 0.9598\n",
      "validation_accuracy on true ds = 69.82%\n"
     ]
    },
    {
     "data": {
      "application/vnd.jupyter.widget-view+json": {
       "model_id": "71abff50b8864c9b845001b40f67e6dc",
       "version_major": 2,
       "version_minor": 0
      },
      "text/plain": [
       "  0%|          | 0/820 [00:00<?, ?it/s]"
      ]
     },
     "metadata": {},
     "output_type": "display_data"
    },
    {
     "name": "stdout",
     "output_type": "stream",
     "text": [
      "validation_loss on proxy = 0.4752\n",
      "validation_accuracy on proxy = 86.54%\n",
      "validation_loss on true ds = 1.0144\n",
      "validation_accuracy on true ds = 67.27%\n"
     ]
    },
    {
     "data": {
      "application/vnd.jupyter.widget-view+json": {
       "model_id": "380357d5e37f41869b2f42818aebefa6",
       "version_major": 2,
       "version_minor": 0
      },
      "text/plain": [
       "  0%|          | 0/820 [00:00<?, ?it/s]"
      ]
     },
     "metadata": {},
     "output_type": "display_data"
    },
    {
     "name": "stdout",
     "output_type": "stream",
     "text": [
      "validation_loss on proxy = 0.4517\n",
      "validation_accuracy on proxy = 87.15%\n",
      "validation_loss on true ds = 0.9052\n",
      "validation_accuracy on true ds = 70.34%\n"
     ]
    },
    {
     "data": {
      "application/vnd.jupyter.widget-view+json": {
       "model_id": "b97e27083fd246cd8f10495296bd9605",
       "version_major": 2,
       "version_minor": 0
      },
      "text/plain": [
       "  0%|          | 0/820 [00:00<?, ?it/s]"
      ]
     },
     "metadata": {},
     "output_type": "display_data"
    },
    {
     "name": "stdout",
     "output_type": "stream",
     "text": [
      "validation_loss on proxy = 0.4724\n",
      "validation_accuracy on proxy = 87.06%\n",
      "validation_loss on true ds = 0.9502\n",
      "validation_accuracy on true ds = 70.02%\n"
     ]
    },
    {
     "data": {
      "application/vnd.jupyter.widget-view+json": {
       "model_id": "b2d45ebb72ff4df8a748f789735885ca",
       "version_major": 2,
       "version_minor": 0
      },
      "text/plain": [
       "  0%|          | 0/820 [00:00<?, ?it/s]"
      ]
     },
     "metadata": {},
     "output_type": "display_data"
    },
    {
     "name": "stdout",
     "output_type": "stream",
     "text": [
      "validation_loss on proxy = 0.4670\n",
      "validation_accuracy on proxy = 86.60%\n",
      "validation_loss on true ds = 0.9489\n",
      "validation_accuracy on true ds = 69.44%\n"
     ]
    },
    {
     "data": {
      "application/vnd.jupyter.widget-view+json": {
       "model_id": "66e569f300d041b7afe2468799c70be6",
       "version_major": 2,
       "version_minor": 0
      },
      "text/plain": [
       "  0%|          | 0/820 [00:00<?, ?it/s]"
      ]
     },
     "metadata": {},
     "output_type": "display_data"
    },
    {
     "name": "stdout",
     "output_type": "stream",
     "text": [
      "validation_loss on proxy = 0.4599\n",
      "validation_accuracy on proxy = 87.06%\n",
      "validation_loss on true ds = 0.9281\n",
      "validation_accuracy on true ds = 69.61%\n"
     ]
    },
    {
     "data": {
      "application/vnd.jupyter.widget-view+json": {
       "model_id": "ea16670cb07c432db71b6be8dcd4e833",
       "version_major": 2,
       "version_minor": 0
      },
      "text/plain": [
       "  0%|          | 0/820 [00:00<?, ?it/s]"
      ]
     },
     "metadata": {},
     "output_type": "display_data"
    },
    {
     "name": "stdout",
     "output_type": "stream",
     "text": [
      "validation_loss on proxy = 0.4563\n",
      "validation_accuracy on proxy = 86.82%\n",
      "validation_loss on true ds = 0.9721\n",
      "validation_accuracy on true ds = 68.53%\n"
     ]
    },
    {
     "data": {
      "application/vnd.jupyter.widget-view+json": {
       "model_id": "5c59526cad774332a9aa1e80396040d1",
       "version_major": 2,
       "version_minor": 0
      },
      "text/plain": [
       "  0%|          | 0/820 [00:00<?, ?it/s]"
      ]
     },
     "metadata": {},
     "output_type": "display_data"
    },
    {
     "name": "stdout",
     "output_type": "stream",
     "text": [
      "validation_loss on proxy = 0.4512\n",
      "validation_accuracy on proxy = 86.76%\n",
      "validation_loss on true ds = 0.9739\n",
      "validation_accuracy on true ds = 69.24%\n"
     ]
    },
    {
     "data": {
      "application/vnd.jupyter.widget-view+json": {
       "model_id": "c2fbed71f74a4fbea8bffc8b58fd5bfc",
       "version_major": 2,
       "version_minor": 0
      },
      "text/plain": [
       "  0%|          | 0/820 [00:00<?, ?it/s]"
      ]
     },
     "metadata": {},
     "output_type": "display_data"
    },
    {
     "name": "stdout",
     "output_type": "stream",
     "text": [
      "validation_loss on proxy = 0.4574\n",
      "validation_accuracy on proxy = 86.82%\n",
      "validation_loss on true ds = 0.9704\n",
      "validation_accuracy on true ds = 69.23%\n"
     ]
    },
    {
     "data": {
      "application/vnd.jupyter.widget-view+json": {
       "model_id": "bbe348c92f2d4efda2bb1086879263b3",
       "version_major": 2,
       "version_minor": 0
      },
      "text/plain": [
       "  0%|          | 0/820 [00:00<?, ?it/s]"
      ]
     },
     "metadata": {},
     "output_type": "display_data"
    },
    {
     "name": "stdout",
     "output_type": "stream",
     "text": [
      "validation_loss on proxy = 0.4642\n",
      "validation_accuracy on proxy = 86.57%\n",
      "validation_loss on true ds = 0.9254\n",
      "validation_accuracy on true ds = 71.04%\n"
     ]
    },
    {
     "data": {
      "application/vnd.jupyter.widget-view+json": {
       "model_id": "7c3a926eb18f4791920ba76b7f9f4446",
       "version_major": 2,
       "version_minor": 0
      },
      "text/plain": [
       "  0%|          | 0/820 [00:00<?, ?it/s]"
      ]
     },
     "metadata": {},
     "output_type": "display_data"
    },
    {
     "name": "stdout",
     "output_type": "stream",
     "text": [
      "validation_loss on proxy = 0.4561\n",
      "validation_accuracy on proxy = 86.57%\n",
      "validation_loss on true ds = 0.9450\n",
      "validation_accuracy on true ds = 69.94%\n"
     ]
    },
    {
     "data": {
      "application/vnd.jupyter.widget-view+json": {
       "model_id": "315ecfbeba984b1fad8481b9c4aad9b9",
       "version_major": 2,
       "version_minor": 0
      },
      "text/plain": [
       "  0%|          | 0/820 [00:00<?, ?it/s]"
      ]
     },
     "metadata": {},
     "output_type": "display_data"
    },
    {
     "name": "stdout",
     "output_type": "stream",
     "text": [
      "validation_loss on proxy = 0.4646\n",
      "validation_accuracy on proxy = 86.51%\n",
      "validation_loss on true ds = 0.9303\n",
      "validation_accuracy on true ds = 70.40%\n"
     ]
    },
    {
     "data": {
      "application/vnd.jupyter.widget-view+json": {
       "model_id": "21654e32b1e748a4ab1c7e61dc1de599",
       "version_major": 2,
       "version_minor": 0
      },
      "text/plain": [
       "  0%|          | 0/820 [00:00<?, ?it/s]"
      ]
     },
     "metadata": {},
     "output_type": "display_data"
    },
    {
     "name": "stdout",
     "output_type": "stream",
     "text": [
      "validation_loss on proxy = 0.4750\n",
      "validation_accuracy on proxy = 86.21%\n",
      "validation_loss on true ds = 0.9878\n",
      "validation_accuracy on true ds = 68.92%\n"
     ]
    },
    {
     "data": {
      "application/vnd.jupyter.widget-view+json": {
       "model_id": "08cfc346f5d04ff1afd539eeb994758e",
       "version_major": 2,
       "version_minor": 0
      },
      "text/plain": [
       "  0%|          | 0/820 [00:00<?, ?it/s]"
      ]
     },
     "metadata": {},
     "output_type": "display_data"
    },
    {
     "name": "stdout",
     "output_type": "stream",
     "text": [
      "validation_loss on proxy = 0.4568\n",
      "validation_accuracy on proxy = 86.94%\n",
      "validation_loss on true ds = 0.9644\n",
      "validation_accuracy on true ds = 69.59%\n"
     ]
    },
    {
     "data": {
      "application/vnd.jupyter.widget-view+json": {
       "model_id": "7599dfdfe4e34413ad26b2c04ed6e14b",
       "version_major": 2,
       "version_minor": 0
      },
      "text/plain": [
       "  0%|          | 0/820 [00:00<?, ?it/s]"
      ]
     },
     "metadata": {},
     "output_type": "display_data"
    },
    {
     "name": "stdout",
     "output_type": "stream",
     "text": [
      "validation_loss on proxy = 0.4581\n",
      "validation_accuracy on proxy = 87.31%\n",
      "validation_loss on true ds = 0.9444\n",
      "validation_accuracy on true ds = 69.73%\n"
     ]
    },
    {
     "data": {
      "application/vnd.jupyter.widget-view+json": {
       "model_id": "4f5f7a37fe3144168d70d1fc0a3fcab3",
       "version_major": 2,
       "version_minor": 0
      },
      "text/plain": [
       "  0%|          | 0/820 [00:00<?, ?it/s]"
      ]
     },
     "metadata": {},
     "output_type": "display_data"
    },
    {
     "name": "stdout",
     "output_type": "stream",
     "text": [
      "validation_loss on proxy = 0.4572\n",
      "validation_accuracy on proxy = 87.00%\n",
      "validation_loss on true ds = 0.9567\n",
      "validation_accuracy on true ds = 69.67%\n"
     ]
    },
    {
     "data": {
      "application/vnd.jupyter.widget-view+json": {
       "model_id": "26aa3bdcb2ea4f4f8a88e3acbd79b0d5",
       "version_major": 2,
       "version_minor": 0
      },
      "text/plain": [
       "  0%|          | 0/820 [00:00<?, ?it/s]"
      ]
     },
     "metadata": {},
     "output_type": "display_data"
    },
    {
     "name": "stdout",
     "output_type": "stream",
     "text": [
      "validation_loss on proxy = 0.4673\n",
      "validation_accuracy on proxy = 86.36%\n",
      "validation_loss on true ds = 0.9708\n",
      "validation_accuracy on true ds = 69.25%\n"
     ]
    },
    {
     "data": {
      "application/vnd.jupyter.widget-view+json": {
       "model_id": "de1f2c855f2b48faa070dd08e157a965",
       "version_major": 2,
       "version_minor": 0
      },
      "text/plain": [
       "  0%|          | 0/820 [00:00<?, ?it/s]"
      ]
     },
     "metadata": {},
     "output_type": "display_data"
    },
    {
     "name": "stdout",
     "output_type": "stream",
     "text": [
      "validation_loss on proxy = 0.4615\n",
      "validation_accuracy on proxy = 86.79%\n",
      "validation_loss on true ds = 0.9582\n",
      "validation_accuracy on true ds = 69.97%\n"
     ]
    },
    {
     "data": {
      "application/vnd.jupyter.widget-view+json": {
       "model_id": "8f06ac08fd604d27bf906b197ea63b44",
       "version_major": 2,
       "version_minor": 0
      },
      "text/plain": [
       "  0%|          | 0/820 [00:00<?, ?it/s]"
      ]
     },
     "metadata": {},
     "output_type": "display_data"
    },
    {
     "name": "stdout",
     "output_type": "stream",
     "text": [
      "validation_loss on proxy = 0.4653\n",
      "validation_accuracy on proxy = 86.94%\n",
      "validation_loss on true ds = 0.9586\n",
      "validation_accuracy on true ds = 69.65%\n"
     ]
    },
    {
     "data": {
      "application/vnd.jupyter.widget-view+json": {
       "model_id": "b61d83cab6154a389ad935d51131e753",
       "version_major": 2,
       "version_minor": 0
      },
      "text/plain": [
       "  0%|          | 0/820 [00:00<?, ?it/s]"
      ]
     },
     "metadata": {},
     "output_type": "display_data"
    },
    {
     "name": "stdout",
     "output_type": "stream",
     "text": [
      "validation_loss on proxy = 0.4610\n",
      "validation_accuracy on proxy = 87.06%\n",
      "validation_loss on true ds = 0.9646\n",
      "validation_accuracy on true ds = 69.08%\n"
     ]
    },
    {
     "data": {
      "application/vnd.jupyter.widget-view+json": {
       "model_id": "a7088e8fc59f4e449cdebfa2f6f80cee",
       "version_major": 2,
       "version_minor": 0
      },
      "text/plain": [
       "  0%|          | 0/820 [00:00<?, ?it/s]"
      ]
     },
     "metadata": {},
     "output_type": "display_data"
    },
    {
     "name": "stdout",
     "output_type": "stream",
     "text": [
      "validation_loss on proxy = 0.4697\n",
      "validation_accuracy on proxy = 86.70%\n",
      "validation_loss on true ds = 1.0092\n",
      "validation_accuracy on true ds = 67.84%\n"
     ]
    },
    {
     "data": {
      "application/vnd.jupyter.widget-view+json": {
       "model_id": "e72981adddf04742b4f64a069303cbdd",
       "version_major": 2,
       "version_minor": 0
      },
      "text/plain": [
       "  0%|          | 0/820 [00:00<?, ?it/s]"
      ]
     },
     "metadata": {},
     "output_type": "display_data"
    },
    {
     "name": "stdout",
     "output_type": "stream",
     "text": [
      "validation_loss on proxy = 0.4508\n",
      "validation_accuracy on proxy = 86.82%\n",
      "validation_loss on true ds = 0.9498\n",
      "validation_accuracy on true ds = 69.44%\n"
     ]
    },
    {
     "data": {
      "application/vnd.jupyter.widget-view+json": {
       "model_id": "76c0676579094dffb5fcfb60620eba12",
       "version_major": 2,
       "version_minor": 0
      },
      "text/plain": [
       "  0%|          | 0/820 [00:00<?, ?it/s]"
      ]
     },
     "metadata": {},
     "output_type": "display_data"
    },
    {
     "name": "stdout",
     "output_type": "stream",
     "text": [
      "validation_loss on proxy = 0.4689\n",
      "validation_accuracy on proxy = 86.82%\n",
      "validation_loss on true ds = 0.9814\n",
      "validation_accuracy on true ds = 69.11%\n"
     ]
    },
    {
     "data": {
      "application/vnd.jupyter.widget-view+json": {
       "model_id": "1d5698155b0a48efb5a185598432e56a",
       "version_major": 2,
       "version_minor": 0
      },
      "text/plain": [
       "  0%|          | 0/820 [00:00<?, ?it/s]"
      ]
     },
     "metadata": {},
     "output_type": "display_data"
    },
    {
     "name": "stdout",
     "output_type": "stream",
     "text": [
      "validation_loss on proxy = 0.4862\n",
      "validation_accuracy on proxy = 86.82%\n",
      "validation_loss on true ds = 0.9587\n",
      "validation_accuracy on true ds = 69.88%\n"
     ]
    },
    {
     "data": {
      "application/vnd.jupyter.widget-view+json": {
       "model_id": "1c9601198135427eabb83239be61064a",
       "version_major": 2,
       "version_minor": 0
      },
      "text/plain": [
       "  0%|          | 0/820 [00:00<?, ?it/s]"
      ]
     },
     "metadata": {},
     "output_type": "display_data"
    },
    {
     "name": "stdout",
     "output_type": "stream",
     "text": [
      "validation_loss on proxy = 0.4642\n",
      "validation_accuracy on proxy = 86.76%\n",
      "validation_loss on true ds = 0.9499\n",
      "validation_accuracy on true ds = 69.85%\n"
     ]
    },
    {
     "data": {
      "application/vnd.jupyter.widget-view+json": {
       "model_id": "2f2675d95daf4fc5b93121081337fbba",
       "version_major": 2,
       "version_minor": 0
      },
      "text/plain": [
       "  0%|          | 0/820 [00:00<?, ?it/s]"
      ]
     },
     "metadata": {},
     "output_type": "display_data"
    },
    {
     "name": "stdout",
     "output_type": "stream",
     "text": [
      "validation_loss on proxy = 0.4708\n",
      "validation_accuracy on proxy = 86.82%\n",
      "validation_loss on true ds = 0.9648\n",
      "validation_accuracy on true ds = 69.41%\n"
     ]
    },
    {
     "data": {
      "application/vnd.jupyter.widget-view+json": {
       "model_id": "343f0b7bf197406c8cdd5bb4f068e06b",
       "version_major": 2,
       "version_minor": 0
      },
      "text/plain": [
       "  0%|          | 0/820 [00:00<?, ?it/s]"
      ]
     },
     "metadata": {},
     "output_type": "display_data"
    },
    {
     "name": "stdout",
     "output_type": "stream",
     "text": [
      "validation_loss on proxy = 0.4535\n",
      "validation_accuracy on proxy = 87.49%\n",
      "Saved at epoch 108\n",
      "validation_loss on true ds = 0.9482\n",
      "validation_accuracy on true ds = 69.32%\n"
     ]
    },
    {
     "data": {
      "application/vnd.jupyter.widget-view+json": {
       "model_id": "13e32a2ccc954132b048f95d68c428a5",
       "version_major": 2,
       "version_minor": 0
      },
      "text/plain": [
       "  0%|          | 0/820 [00:00<?, ?it/s]"
      ]
     },
     "metadata": {},
     "output_type": "display_data"
    },
    {
     "name": "stdout",
     "output_type": "stream",
     "text": [
      "validation_loss on proxy = 0.4721\n",
      "validation_accuracy on proxy = 86.66%\n",
      "validation_loss on true ds = 0.9339\n",
      "validation_accuracy on true ds = 70.20%\n"
     ]
    },
    {
     "data": {
      "application/vnd.jupyter.widget-view+json": {
       "model_id": "6fd3bfe9377148f6941f688b37eddd32",
       "version_major": 2,
       "version_minor": 0
      },
      "text/plain": [
       "  0%|          | 0/820 [00:00<?, ?it/s]"
      ]
     },
     "metadata": {},
     "output_type": "display_data"
    },
    {
     "name": "stdout",
     "output_type": "stream",
     "text": [
      "validation_loss on proxy = 0.4790\n",
      "validation_accuracy on proxy = 86.94%\n",
      "validation_loss on true ds = 0.9866\n",
      "validation_accuracy on true ds = 69.01%\n",
      "We are at epoch 110\n"
     ]
    },
    {
     "data": {
      "text/plain": [
       "<All keys matched successfully>"
      ]
     },
     "execution_count": 11,
     "metadata": {},
     "output_type": "execute_result"
    }
   ],
   "source": [
    "early_stopping = EarlyStopping(tolerance=5, min_delta=0.05)\n",
    "# early_stopping = EarlyStopping(tolerance=5, min_delta=0.001)\n",
    "\n",
    "best_accuracy = 0.0\n",
    "# Training the student\n",
    "for epoch in range(EPOCHS):\n",
    "    # Define progress bar\n",
    "    loop = tqdm(enumerate(train_dataloader), total=len(train_dataloader))\n",
    "    \n",
    "    # Training loop\n",
    "    student_model.train()\n",
    "    training_loss_epoch = []\n",
    "    for batch_idx, (x,y,soft_y) in loop:\n",
    "        optimizer.zero_grad()\n",
    "        \n",
    "        x = x.to(device=device)\n",
    "        y = y.to(device=device)\n",
    "        soft_y = soft_y.to(device=device)\n",
    "        \n",
    "        # Forward pass\n",
    "        logits = student_model(x)\n",
    "        # Backward pass\n",
    "        loss = criterion(input=logits, target=soft_y)\n",
    "        training_loss_epoch.append(loss.item())\n",
    "        # Prob trb inlocuit criterionul, sa adaugi soft-labels\n",
    "        loss.backward()\n",
    "        \n",
    "        # Optimize\n",
    "        optimizer.step()\n",
    "        \n",
    "        # Update progress bar\n",
    "        loop.set_description(f'Epoch {epoch+1}/{EPOCHS}')\n",
    "        loop.set_postfix(training_loss=loss.item())\n",
    "    \n",
    "    # Validation loop on proxy validation dataset\n",
    "    student_model.eval()\n",
    "    validation_loss_epoch = []  \n",
    "    acc = 0\n",
    "    with torch.no_grad():\n",
    "        for x,y,_ in valid_dataloader:\n",
    "            x = x.to(device=device)\n",
    "            y = y.to(device=device)\n",
    "        \n",
    "            logits = student_model(x)\n",
    "            pred = softmax(logits, dim=1)\n",
    "            \n",
    "            confidence,y_hat = torch.max(pred, dim=1)\n",
    "            \n",
    "            loss = criterion(input=logits, target=y)\n",
    "            validation_loss_epoch.append(loss.item())\n",
    "            \n",
    "            acc += torch.sum(y_hat==y).item()\n",
    "        \n",
    "    loop.write(f'validation_loss on proxy = {sum(validation_loss_epoch)/len(validation_loss_epoch):.4f}')\n",
    "    loop.write(f'validation_accuracy on proxy = {100*acc/len(proxy_valid_dataset):.2f}%')\n",
    "\n",
    "    # Save best model\n",
    "    valid_proxy_acc = acc/len(proxy_valid_dataset)\n",
    "    if valid_proxy_acc > best_accuracy:\n",
    "        best_accuracy = valid_proxy_acc\n",
    "        torch.save(student_model.state_dict(), f'temp_models/{TEMP_BEST_MODEL}.pt')\n",
    "        print(f'Saved at epoch {epoch}')\n",
    "\n",
    "    if validate_on_trueds:\n",
    "        # Validation loop on proxy validation dataset\n",
    "        student_model.eval()\n",
    "        with torch.no_grad():\n",
    "            val_loss = []\n",
    "            acc = 0\n",
    "            for x,y in true_valid_ds:\n",
    "                x = x.to(device=device)\n",
    "                y = y.to(device=device)\n",
    "            \n",
    "                logits = student_model(x)\n",
    "                pred = softmax(logits, dim=1)\n",
    "                \n",
    "                confidence,y_hat = torch.max(pred, dim=1)\n",
    "                \n",
    "                loss = criterion(input=logits, target=y)\n",
    "                val_loss.append(loss.item())\n",
    "                \n",
    "                acc += torch.sum(y_hat==y).item()\n",
    "            \n",
    "        loop.write(f'validation_loss on true ds = {sum(val_loss)/len(val_loss):.4f}')\n",
    "        loop.write(f'validation_accuracy on true ds = {100*acc/len(true_dataset.test_dataset):.2f}%')\n",
    "\n",
    "    early_stopping(sum(validation_loss_epoch)/len(validation_loss_epoch))\n",
    "    if early_stopping.early_stop:\n",
    "      print(f\"We are at epoch {epoch}\")\n",
    "      break\n",
    "\n",
    "student_model.load_state_dict(torch.load(f'temp_models/{TEMP_BEST_MODEL}.pt'))"
   ]
  },
  {
   "cell_type": "code",
   "execution_count": 12,
   "metadata": {
    "colab": {
     "base_uri": "https://localhost:8080/"
    },
    "id": "YN6xau7Lzk0K",
    "outputId": "85cb31f5-2fd3-4b8d-edab-8c23f25b9a40"
   },
   "outputs": [
    {
     "name": "stdout",
     "output_type": "stream",
     "text": [
      "Student with true dataset:\n",
      "test_loss = 0.9482\n",
      "test_accuracy = 69.32%\n",
      "\n",
      "Class airplane: correct_pred=711, actual=1000 => acc=71.10%, total_pred=974\n",
      "Class automobile: correct_pred=782, actual=1000 => acc=78.20%, total_pred=897\n",
      "Class bird: correct_pred=602, actual=1000 => acc=60.20%, total_pred=1011\n",
      "Class cat: correct_pred=657, actual=1000 => acc=65.70%, total_pred=1464\n",
      "Class deer: correct_pred=623, actual=1000 => acc=62.30%, total_pred=891\n",
      "Class dog: correct_pred=646, actual=1000 => acc=64.60%, total_pred=1112\n",
      "Class frog: correct_pred=710, actual=1000 => acc=71.00%, total_pred=908\n",
      "Class horse: correct_pred=664, actual=1000 => acc=66.40%, total_pred=856\n",
      "Class ship: correct_pred=747, actual=1000 => acc=74.70%, total_pred=899\n",
      "Class truck: correct_pred=790, actual=1000 => acc=79.00%, total_pred=988\n"
     ]
    }
   ],
   "source": [
    "# Testing on CIFAR10 ground truth\n",
    "true_dataloader = true_dataset.test_dataloader()\n",
    "acc_per_class = {k:[0,0,0] for k,v in label_mapper_inv.items()}\n",
    "\n",
    "student_model.eval()\n",
    "student_model.return_feature_domain = False\n",
    "with torch.no_grad():\n",
    "    test_loss = []\n",
    "    acc = 0\n",
    "    for x,y in true_dataloader:\n",
    "        x = x.to(device=device)\n",
    "        y = y.to(device=device)\n",
    "    \n",
    "        logits = student_model(x)\n",
    "        pred = softmax(logits, dim=1)\n",
    "        \n",
    "        confidence,y_hat = torch.max(pred, dim=1)\n",
    "        \n",
    "        loss = criterion(input=logits, target=y)\n",
    "        test_loss.append(loss.item())\n",
    "        \n",
    "        acc += torch.sum(y_hat==y)\n",
    "        \n",
    "        for i in range(len(y)):\n",
    "            a = y[i].item()\n",
    "            p = y_hat[i].item()\n",
    "            \n",
    "            \n",
    "            if a == p:\n",
    "                acc_per_class[a][0] += 1 # correct predictions\n",
    "            acc_per_class[a][1] += 1     # total number \n",
    "            acc_per_class[p][2] += 1     # predictions of class\n",
    "        \n",
    "    print('Student with true dataset:')\n",
    "    print(f'test_loss = {sum(test_loss)/len(test_loss):.4f}')                  # 1.7439;  1.6199\n",
    "    print(f'test_accuracy = {100*acc/len(true_dataset.test_dataset):.2f}%')    # 46.09%;  48.57%\n",
    "    print()\n",
    "    \n",
    "for k,v in acc_per_class.items():\n",
    "    print(f'Class {label_mapper_inv[k]}: correct_pred={v[0]}, actual={v[1]} => acc={v[0]*100/v[1]:.2f}%, total_pred={v[2]}')"
   ]
  },
  {
   "cell_type": "code",
   "execution_count": 13,
   "metadata": {
    "colab": {
     "base_uri": "https://localhost:8080/"
    },
    "id": "c3nKp8h6GZa1",
    "outputId": "48b21216-dc14-4b6e-e232-ce727f9771fb"
   },
   "outputs": [
    {
     "name": "stdout",
     "output_type": "stream",
     "text": [
      "Student with true dataset:\n",
      "test_loss = 0.9077\n",
      "test_accuracy = 70.13%\n",
      "\n",
      "Class airplane: correct_pred=750, actual=1038 => acc=72.25%, total_pred=974\n",
      "Class automobile: correct_pred=785, actual=1002 => acc=78.34%, total_pred=897\n",
      "Class bird: correct_pred=608, actual=965 => acc=63.01%, total_pred=1011\n",
      "Class cat: correct_pred=637, actual=938 => acc=67.91%, total_pred=1464\n",
      "Class deer: correct_pred=650, actual=1108 => acc=58.66%, total_pred=891\n",
      "Class dog: correct_pred=631, actual=913 => acc=69.11%, total_pred=1112\n",
      "Class frog: correct_pred=717, actual=996 => acc=71.99%, total_pred=908\n",
      "Class horse: correct_pred=689, actual=1063 => acc=64.82%, total_pred=856\n",
      "Class ship: correct_pred=734, actual=939 => acc=78.17%, total_pred=899\n",
      "Class truck: correct_pred=812, actual=1038 => acc=78.23%, total_pred=988\n"
     ]
    }
   ],
   "source": [
    "# Testing using labels predicted with teacher\n",
    "true_dataloader = true_dataset.test_dataloader()\n",
    "acc_per_class = {k:[0,0,0] for k,v in label_mapper_inv.items()}\n",
    "\n",
    "student_model.eval()\n",
    "teacher_model.eval()\n",
    "with torch.no_grad():\n",
    "    test_loss = []\n",
    "    acc = 0\n",
    "    for x,y in true_dataloader:\n",
    "        x = x.to(device=device)\n",
    "        # y = y.to(device=device)\n",
    "\n",
    "        teacher_pred = softmax(teacher_model(x), dim=1)\n",
    "        _, y = torch.max(teacher_pred, dim=1)\n",
    "    \n",
    "        logits = student_model(x)\n",
    "        pred = softmax(logits, dim=1)\n",
    "        \n",
    "        confidence,y_hat = torch.max(pred, dim=1)\n",
    "        \n",
    "        loss = criterion(input=logits, target=y)\n",
    "        test_loss.append(loss.item())\n",
    "        \n",
    "        acc += torch.sum(y_hat==y)\n",
    "        \n",
    "        for i in range(len(y)):\n",
    "            a = y[i].item()\n",
    "            p = y_hat[i].item()\n",
    "            \n",
    "            \n",
    "            if a == p:\n",
    "                acc_per_class[a][0] += 1\n",
    "            acc_per_class[a][1] += 1\n",
    "            acc_per_class[p][2] += 1\n",
    "        \n",
    "    print('Student with true dataset:')\n",
    "    print(f'test_loss = {sum(test_loss)/len(test_loss):.4f}')                  # 1.7439;  1.6199\n",
    "    print(f'test_accuracy = {100*acc/len(true_dataset.test_dataset):.2f}%')    # 46.09%;  48.57%\n",
    "    print()\n",
    "    \n",
    "for k,v in acc_per_class.items():\n",
    "    print(f'Class {label_mapper_inv[k]}: correct_pred={v[0]}, actual={v[1]} => acc={v[0]*100/v[1]:.2f}%, total_pred={v[2]}')"
   ]
  },
  {
   "cell_type": "code",
   "execution_count": 14,
   "metadata": {
    "id": "iEGZLvslraqe"
   },
   "outputs": [],
   "source": [
    "# Redefine training dataset and dataloader with no augmentation\n",
    "proxy_train_dataset = ProxyDataset(train_images, train_labels, valid_transforms, False, train_soft_labels)\n",
    "train_dataloader = DataLoader(proxy_train_dataset, batch_size=BATCH_SIZE, shuffle=False)\n",
    "\n",
    "\n",
    "student_model.return_feature_domain = True\n",
    "\n",
    "if os.path.exists('images_db'):\n",
    "  rmtree('images_db')\n",
    "db_path = 'images_db'\n",
    "images_path = os.path.join(db_path,'images')\n",
    "labels_path = os.path.join(db_path,'labels')\n",
    "\n",
    "images_db = []\n",
    "labels_db = []\n",
    "\n",
    "if not os.path.exists('images_db'):\n",
    "  os.makedirs(db_path)\n",
    "  os.makedirs(images_path)\n",
    "  os.makedirs(labels_path)\n",
    "\n",
    "  for i in range(10):\n",
    "    os.makedirs(os.path.join(images_path,f'class{i}'))\n",
    "    os.makedirs(os.path.join(labels_path,f'class{i}'))\n",
    "\n",
    "# Create the database\n",
    "student_model.eval()\n",
    "with torch.no_grad():\n",
    "  # for dataloader in [train_dataloader, valid_dataloader, test_dataloader]:\n",
    "  for dataloader in [train_dataloader]:\n",
    "    for x,y,soft_y in dataloader:\n",
    "      x = x.to(device=device)\n",
    "\n",
    "      _,latent_fm = student_model(x)\n",
    "\n",
    "      for i in range(latent_fm.shape[0]):\n",
    "        # label = y[i].item()\n",
    "        # path_image = f'{images_path}/class{label}'\n",
    "        # path_label = f'{labels_path}/class{label}'\n",
    "        # idx = len(os.listdir(path_image))\n",
    "        # torch.save(latent_fm[i].cpu(), f'{path_image}/t{idx}.pt')\n",
    "        # torch.save(soft_y[i].cpu(), f'{path_label}/t{idx}.pt')\n",
    "\n",
    "        images_db.append(latent_fm[i])\n",
    "        labels_db.append(soft_y[i])"
   ]
  },
  {
   "cell_type": "code",
   "execution_count": 15,
   "metadata": {
    "id": "h9vnLo2DZ3ts"
   },
   "outputs": [],
   "source": [
    "class DBDataset(Dataset):\n",
    "  def __init__(self, images_db, labels_db):\n",
    "    self.images_db = images_db\n",
    "    self.labels_db = labels_db\n",
    "\n",
    "  def __len__(self):\n",
    "    return len(self.images_db)\n",
    "\n",
    "  def __getitem__(self, idx):\n",
    "    image = self.images_db[idx]\n",
    "    label = self.labels_db[idx]\n",
    "\n",
    "    return image, label\n",
    "\n",
    "db_dataset = DBDataset(images_db=images_db, labels_db=labels_db)\n",
    "db_dataloader = DataLoader(db_dataset, batch_size=128, shuffle=False)"
   ]
  },
  {
   "cell_type": "code",
   "execution_count": 16,
   "metadata": {
    "id": "IvlP1VQBhiEO"
   },
   "outputs": [],
   "source": [
    "proxy_unused_dataset  = ProxyDataset(filtered_images_unused,  filtered_labels_unused,  valid_transforms, True, filtered_soft_labels_unused)"
   ]
  },
  {
   "cell_type": "code",
   "execution_count": 17,
   "metadata": {},
   "outputs": [
    {
     "data": {
      "application/vnd.jupyter.widget-view+json": {
       "model_id": "4f096396b0c743d7bc8a006c80bb4810",
       "version_major": 2,
       "version_minor": 0
      },
      "text/plain": [
       "  0%|          | 0/18432 [00:00<?, ?it/s]"
      ]
     },
     "metadata": {},
     "output_type": "display_data"
    },
    {
     "name": "stdout",
     "output_type": "stream",
     "text": [
      "864 / 1001\n",
      "1733 / 2001\n",
      "2586 / 3001\n",
      "3455 / 4001\n",
      "4336 / 5001\n",
      "5199 / 6001\n",
      "6042 / 7001\n",
      "6925 / 8001\n",
      "7772 / 9001\n",
      "8633 / 10001\n",
      "9500 / 11001\n",
      "10363 / 12001\n",
      "11215 / 13001\n",
      "12067 / 14001\n",
      "12939 / 15001\n",
      "13796 / 16001\n",
      "14638 / 17001\n",
      "15474 / 18001\n",
      "Final score: 15847 / 18432, acc = 0.8597547743055556\n"
     ]
    }
   ],
   "source": [
    "estimations = []\n",
    "ground_truth = []\n",
    "\n",
    "student_model.eval()\n",
    "with torch.no_grad():\n",
    "  for i in trange(len(proxy_unused_dataset)):\n",
    "    image, label, image_path, soft_label = proxy_unused_dataset[i]\n",
    "    image = image.to(device=device)\n",
    "\n",
    "    _,latent_fm = student_model(image.unsqueeze(dim=0))\n",
    "\n",
    "    # Calculate distances\n",
    "    distances = torch.zeros(size=(len(db_dataset),), device=device)\n",
    "    for j, (img_db, softl_db) in enumerate(db_dataloader):\n",
    "      img_db = img_db.to(device=device)\n",
    "      \n",
    "      dist = (img_db - latent_fm).pow(2).sum(dim=(-1,-2,-3)).sqrt()\n",
    "      \n",
    "      distances[j*128:(j+1)*128] = dist\n",
    "      \n",
    "    smallest_d, smallest_d_indices = torch.topk(distances, k=3, largest=False)\n",
    "    closest_slabels = torch.vstack([db_dataset[l][1] for l in smallest_d_indices])\n",
    "    \n",
    "    estimated_soft_label = closest_slabels.mean(0)\n",
    "    estimated_hard_label = estimated_soft_label.argmax().item()\n",
    "    \n",
    "    # print(f'Ground truth soft_label = {soft_label}')\n",
    "    # print(f'Estimated soft_label = {estimated_soft_label}')\n",
    "    # print(f'Ground truth hard_label = {label}')\n",
    "    # print(f'Estimated hard_label = {estimated_hard_label}')\n",
    "    \n",
    "    # print(f'Smallest 3 distances: {smallest_d}')\n",
    "    # print(f'Smallest 3 indices: {smallest_d_indices}')\n",
    "    # print(f'Closest 3 slabels = {closest_slabels}')\n",
    "    \n",
    "    train_images.append(image_path)\n",
    "    train_labels.append(estimated_hard_label)\n",
    "    train_soft_labels.append(estimated_soft_label)\n",
    "\n",
    "    estimations.append(estimated_hard_label)\n",
    "    ground_truth.append(label)\n",
    "\n",
    "    if i % 1000 == 0 and i != 0:\n",
    "      # Display results\n",
    "      correct = (np.array(estimations) == np.array(ground_truth)).sum()\n",
    "      print(f'{correct} / {len(estimations)}')\n",
    "\n",
    "correct = (np.array(estimations) == np.array(ground_truth)).sum()\n",
    "print(f'Final score: {correct} / {len(estimations)}, acc = {correct/len(estimations)}')"
   ]
  },
  {
   "cell_type": "code",
   "execution_count": 18,
   "metadata": {},
   "outputs": [
    {
     "data": {
      "application/vnd.jupyter.widget-view+json": {
       "model_id": "53a5a6e8f0d4434094928c505eb8e833",
       "version_major": 2,
       "version_minor": 0
      },
      "text/plain": [
       "  0%|          | 0/1396 [00:00<?, ?it/s]"
      ]
     },
     "metadata": {},
     "output_type": "display_data"
    },
    {
     "name": "stdout",
     "output_type": "stream",
     "text": [
      "validation_loss on proxy = 0.4879\n",
      "validation_accuracy on proxy = 86.82%\n",
      "validation_loss on true ds = 1.0007\n",
      "validation_accuracy on true ds = 68.38%\n"
     ]
    },
    {
     "data": {
      "application/vnd.jupyter.widget-view+json": {
       "model_id": "373bcaa8682349e19ce78ec0f5cff44a",
       "version_major": 2,
       "version_minor": 0
      },
      "text/plain": [
       "  0%|          | 0/1396 [00:00<?, ?it/s]"
      ]
     },
     "metadata": {},
     "output_type": "display_data"
    },
    {
     "name": "stdout",
     "output_type": "stream",
     "text": [
      "validation_loss on proxy = 0.4786\n",
      "validation_accuracy on proxy = 87.06%\n",
      "validation_loss on true ds = 0.9683\n",
      "validation_accuracy on true ds = 69.32%\n"
     ]
    },
    {
     "data": {
      "application/vnd.jupyter.widget-view+json": {
       "model_id": "8cd8241fe9084af6924e00efa8744966",
       "version_major": 2,
       "version_minor": 0
      },
      "text/plain": [
       "  0%|          | 0/1396 [00:00<?, ?it/s]"
      ]
     },
     "metadata": {},
     "output_type": "display_data"
    },
    {
     "name": "stdout",
     "output_type": "stream",
     "text": [
      "validation_loss on proxy = 0.5130\n",
      "validation_accuracy on proxy = 86.45%\n",
      "validation_loss on true ds = 1.0331\n",
      "validation_accuracy on true ds = 67.79%\n"
     ]
    },
    {
     "data": {
      "application/vnd.jupyter.widget-view+json": {
       "model_id": "a1dcbcb7d1644e3a91af636cbb309011",
       "version_major": 2,
       "version_minor": 0
      },
      "text/plain": [
       "  0%|          | 0/1396 [00:00<?, ?it/s]"
      ]
     },
     "metadata": {},
     "output_type": "display_data"
    },
    {
     "name": "stdout",
     "output_type": "stream",
     "text": [
      "validation_loss on proxy = 0.4975\n",
      "validation_accuracy on proxy = 87.00%\n",
      "validation_loss on true ds = 1.0149\n",
      "validation_accuracy on true ds = 68.77%\n"
     ]
    },
    {
     "data": {
      "application/vnd.jupyter.widget-view+json": {
       "model_id": "c9c9a228852946e48f8d274e3e7319df",
       "version_major": 2,
       "version_minor": 0
      },
      "text/plain": [
       "  0%|          | 0/1396 [00:00<?, ?it/s]"
      ]
     },
     "metadata": {},
     "output_type": "display_data"
    },
    {
     "name": "stdout",
     "output_type": "stream",
     "text": [
      "validation_loss on proxy = 0.4835\n",
      "validation_accuracy on proxy = 87.06%\n",
      "validation_loss on true ds = 0.9974\n",
      "validation_accuracy on true ds = 69.26%\n"
     ]
    },
    {
     "data": {
      "application/vnd.jupyter.widget-view+json": {
       "model_id": "ed16ebbd9e664851bd7df8d7509a5fca",
       "version_major": 2,
       "version_minor": 0
      },
      "text/plain": [
       "  0%|          | 0/1396 [00:00<?, ?it/s]"
      ]
     },
     "metadata": {},
     "output_type": "display_data"
    },
    {
     "name": "stdout",
     "output_type": "stream",
     "text": [
      "validation_loss on proxy = 0.4919\n",
      "validation_accuracy on proxy = 86.18%\n",
      "validation_loss on true ds = 1.0002\n",
      "validation_accuracy on true ds = 69.03%\n"
     ]
    },
    {
     "data": {
      "application/vnd.jupyter.widget-view+json": {
       "model_id": "4a9cc88bb7e744249784d09ade7bfc63",
       "version_major": 2,
       "version_minor": 0
      },
      "text/plain": [
       "  0%|          | 0/1396 [00:00<?, ?it/s]"
      ]
     },
     "metadata": {},
     "output_type": "display_data"
    },
    {
     "name": "stdout",
     "output_type": "stream",
     "text": [
      "validation_loss on proxy = 0.4862\n",
      "validation_accuracy on proxy = 86.63%\n",
      "validation_loss on true ds = 1.0374\n",
      "validation_accuracy on true ds = 67.41%\n"
     ]
    },
    {
     "data": {
      "application/vnd.jupyter.widget-view+json": {
       "model_id": "0ab7bad9ecba43598265091e8423eee8",
       "version_major": 2,
       "version_minor": 0
      },
      "text/plain": [
       "  0%|          | 0/1396 [00:00<?, ?it/s]"
      ]
     },
     "metadata": {},
     "output_type": "display_data"
    },
    {
     "name": "stdout",
     "output_type": "stream",
     "text": [
      "validation_loss on proxy = 0.5080\n",
      "validation_accuracy on proxy = 86.70%\n",
      "validation_loss on true ds = 1.0711\n",
      "validation_accuracy on true ds = 67.20%\n"
     ]
    },
    {
     "data": {
      "application/vnd.jupyter.widget-view+json": {
       "model_id": "ead72fae97b048779ea6ce03f688ab36",
       "version_major": 2,
       "version_minor": 0
      },
      "text/plain": [
       "  0%|          | 0/1396 [00:00<?, ?it/s]"
      ]
     },
     "metadata": {},
     "output_type": "display_data"
    },
    {
     "name": "stdout",
     "output_type": "stream",
     "text": [
      "validation_loss on proxy = 0.5037\n",
      "validation_accuracy on proxy = 86.48%\n",
      "validation_loss on true ds = 1.0590\n",
      "validation_accuracy on true ds = 67.66%\n"
     ]
    },
    {
     "data": {
      "application/vnd.jupyter.widget-view+json": {
       "model_id": "4ef4f9f2e0224f199e0f1ca8118c9cd7",
       "version_major": 2,
       "version_minor": 0
      },
      "text/plain": [
       "  0%|          | 0/1396 [00:00<?, ?it/s]"
      ]
     },
     "metadata": {},
     "output_type": "display_data"
    },
    {
     "name": "stdout",
     "output_type": "stream",
     "text": [
      "validation_loss on proxy = 0.5395\n",
      "validation_accuracy on proxy = 86.18%\n",
      "validation_loss on true ds = 1.0886\n",
      "validation_accuracy on true ds = 67.72%\n"
     ]
    },
    {
     "data": {
      "application/vnd.jupyter.widget-view+json": {
       "model_id": "fe838527d09f471db529bfb033866c8d",
       "version_major": 2,
       "version_minor": 0
      },
      "text/plain": [
       "  0%|          | 0/1396 [00:00<?, ?it/s]"
      ]
     },
     "metadata": {},
     "output_type": "display_data"
    },
    {
     "name": "stdout",
     "output_type": "stream",
     "text": [
      "validation_loss on proxy = 0.5314\n",
      "validation_accuracy on proxy = 85.90%\n",
      "validation_loss on true ds = 1.0462\n",
      "validation_accuracy on true ds = 67.82%\n"
     ]
    },
    {
     "data": {
      "application/vnd.jupyter.widget-view+json": {
       "model_id": "d70e1571e99242a49bd02c0a3d0b9062",
       "version_major": 2,
       "version_minor": 0
      },
      "text/plain": [
       "  0%|          | 0/1396 [00:00<?, ?it/s]"
      ]
     },
     "metadata": {},
     "output_type": "display_data"
    },
    {
     "name": "stdout",
     "output_type": "stream",
     "text": [
      "validation_loss on proxy = 0.5347\n",
      "validation_accuracy on proxy = 86.30%\n",
      "validation_loss on true ds = 1.0405\n",
      "validation_accuracy on true ds = 68.26%\n"
     ]
    },
    {
     "data": {
      "application/vnd.jupyter.widget-view+json": {
       "model_id": "e870c6bf1e7f4acf893be3e4302da656",
       "version_major": 2,
       "version_minor": 0
      },
      "text/plain": [
       "  0%|          | 0/1396 [00:00<?, ?it/s]"
      ]
     },
     "metadata": {},
     "output_type": "display_data"
    },
    {
     "name": "stdout",
     "output_type": "stream",
     "text": [
      "validation_loss on proxy = 0.5180\n",
      "validation_accuracy on proxy = 86.48%\n",
      "validation_loss on true ds = 1.0352\n",
      "validation_accuracy on true ds = 68.70%\n"
     ]
    },
    {
     "data": {
      "application/vnd.jupyter.widget-view+json": {
       "model_id": "5c1116564f9a4644aecd2f11dc63202f",
       "version_major": 2,
       "version_minor": 0
      },
      "text/plain": [
       "  0%|          | 0/1396 [00:00<?, ?it/s]"
      ]
     },
     "metadata": {},
     "output_type": "display_data"
    },
    {
     "name": "stdout",
     "output_type": "stream",
     "text": [
      "validation_loss on proxy = 0.5335\n",
      "validation_accuracy on proxy = 86.76%\n",
      "validation_loss on true ds = 1.0721\n",
      "validation_accuracy on true ds = 68.41%\n"
     ]
    },
    {
     "data": {
      "application/vnd.jupyter.widget-view+json": {
       "model_id": "b0084a25d5d4434188897076c259734f",
       "version_major": 2,
       "version_minor": 0
      },
      "text/plain": [
       "  0%|          | 0/1396 [00:00<?, ?it/s]"
      ]
     },
     "metadata": {},
     "output_type": "display_data"
    },
    {
     "name": "stdout",
     "output_type": "stream",
     "text": [
      "validation_loss on proxy = 0.5358\n",
      "validation_accuracy on proxy = 87.12%\n",
      "validation_loss on true ds = 1.0690\n",
      "validation_accuracy on true ds = 67.52%\n"
     ]
    },
    {
     "data": {
      "application/vnd.jupyter.widget-view+json": {
       "model_id": "0faca0bff67c43718c4a3e039624234a",
       "version_major": 2,
       "version_minor": 0
      },
      "text/plain": [
       "  0%|          | 0/1396 [00:00<?, ?it/s]"
      ]
     },
     "metadata": {},
     "output_type": "display_data"
    },
    {
     "name": "stdout",
     "output_type": "stream",
     "text": [
      "validation_loss on proxy = 0.5364\n",
      "validation_accuracy on proxy = 86.66%\n",
      "validation_loss on true ds = 1.0640\n",
      "validation_accuracy on true ds = 68.37%\n"
     ]
    },
    {
     "data": {
      "application/vnd.jupyter.widget-view+json": {
       "model_id": "2ae1395469224e10b51c293858f5315c",
       "version_major": 2,
       "version_minor": 0
      },
      "text/plain": [
       "  0%|          | 0/1396 [00:00<?, ?it/s]"
      ]
     },
     "metadata": {},
     "output_type": "display_data"
    },
    {
     "name": "stdout",
     "output_type": "stream",
     "text": [
      "validation_loss on proxy = 0.5370\n",
      "validation_accuracy on proxy = 86.08%\n",
      "validation_loss on true ds = 1.0932\n",
      "validation_accuracy on true ds = 67.75%\n"
     ]
    },
    {
     "data": {
      "application/vnd.jupyter.widget-view+json": {
       "model_id": "4f7e193316ec437e99e2342b48909a3c",
       "version_major": 2,
       "version_minor": 0
      },
      "text/plain": [
       "  0%|          | 0/1396 [00:00<?, ?it/s]"
      ]
     },
     "metadata": {},
     "output_type": "display_data"
    },
    {
     "name": "stdout",
     "output_type": "stream",
     "text": [
      "validation_loss on proxy = 0.5234\n",
      "validation_accuracy on proxy = 86.73%\n",
      "validation_loss on true ds = 1.1518\n",
      "validation_accuracy on true ds = 66.69%\n"
     ]
    },
    {
     "data": {
      "application/vnd.jupyter.widget-view+json": {
       "model_id": "dfb910fdae914bc6b92c803e20307898",
       "version_major": 2,
       "version_minor": 0
      },
      "text/plain": [
       "  0%|          | 0/1396 [00:00<?, ?it/s]"
      ]
     },
     "metadata": {},
     "output_type": "display_data"
    },
    {
     "name": "stdout",
     "output_type": "stream",
     "text": [
      "validation_loss on proxy = 0.5510\n",
      "validation_accuracy on proxy = 86.54%\n",
      "validation_loss on true ds = 1.1120\n",
      "validation_accuracy on true ds = 67.61%\n"
     ]
    },
    {
     "data": {
      "application/vnd.jupyter.widget-view+json": {
       "model_id": "57e823a9c68a493a915ea2e243877bff",
       "version_major": 2,
       "version_minor": 0
      },
      "text/plain": [
       "  0%|          | 0/1396 [00:00<?, ?it/s]"
      ]
     },
     "metadata": {},
     "output_type": "display_data"
    },
    {
     "name": "stdout",
     "output_type": "stream",
     "text": [
      "validation_loss on proxy = 0.5491\n",
      "validation_accuracy on proxy = 86.60%\n",
      "validation_loss on true ds = 1.0676\n",
      "validation_accuracy on true ds = 69.13%\n"
     ]
    },
    {
     "data": {
      "application/vnd.jupyter.widget-view+json": {
       "model_id": "1e97075215984c44bb59de79f78b1fa1",
       "version_major": 2,
       "version_minor": 0
      },
      "text/plain": [
       "  0%|          | 0/1396 [00:00<?, ?it/s]"
      ]
     },
     "metadata": {},
     "output_type": "display_data"
    },
    {
     "name": "stdout",
     "output_type": "stream",
     "text": [
      "validation_loss on proxy = 0.5414\n",
      "validation_accuracy on proxy = 86.45%\n",
      "validation_loss on true ds = 1.1145\n",
      "validation_accuracy on true ds = 67.66%\n"
     ]
    },
    {
     "data": {
      "application/vnd.jupyter.widget-view+json": {
       "model_id": "839ed01f7d8c4bcf8d8c11238fe1e76a",
       "version_major": 2,
       "version_minor": 0
      },
      "text/plain": [
       "  0%|          | 0/1396 [00:00<?, ?it/s]"
      ]
     },
     "metadata": {},
     "output_type": "display_data"
    },
    {
     "name": "stdout",
     "output_type": "stream",
     "text": [
      "validation_loss on proxy = 0.5529\n",
      "validation_accuracy on proxy = 86.24%\n",
      "validation_loss on true ds = 1.0800\n",
      "validation_accuracy on true ds = 68.01%\n",
      "We are at epoch 21\n"
     ]
    }
   ],
   "source": [
    "student_model.return_feature_domain = False\n",
    "\n",
    "proxy_train_dataset = ProxyDataset(train_images, train_labels, train_transforms, False, train_soft_labels)\n",
    "train_dataloader = DataLoader(proxy_train_dataset, batch_size=BATCH_SIZE, shuffle=True)\n",
    "\n",
    "early_stopping = EarlyStopping(tolerance=20, min_delta=0.001)\n",
    "# early_stopping = EarlyStopping(tolerance=5, min_delta=0.001)\n",
    "\n",
    "# Training the student\n",
    "for epoch in range(EPOCHS):\n",
    "    # Define progress bar\n",
    "    loop = tqdm(enumerate(train_dataloader), total=len(train_dataloader))\n",
    "    \n",
    "    # Training loop\n",
    "    student_model.train()\n",
    "    training_loss_epoch = []\n",
    "    for batch_idx, (x,y,soft_y) in loop:\n",
    "        optimizer.zero_grad()\n",
    "        \n",
    "        x = x.to(device=device)\n",
    "        y = y.to(device=device)\n",
    "        soft_y = soft_y.to(device=device)\n",
    "        \n",
    "        # Forward pass\n",
    "        logits = student_model(x)\n",
    "        # Backward pass\n",
    "        loss = criterion(input=logits, target=y)\n",
    "        # loss = criterion(input=logits, target=soft_y)\n",
    "        training_loss_epoch.append(loss.item())\n",
    "        # Prob trb inlocuit criterionul, sa adaugi soft-labels\n",
    "        loss.backward()\n",
    "        \n",
    "        # Optimize\n",
    "        optimizer.step()\n",
    "        \n",
    "        # Update progress bar\n",
    "        loop.set_description(f'Epoch {epoch+1}/{EPOCHS}')\n",
    "        loop.set_postfix(training_loss=loss.item())\n",
    "    \n",
    "    # Validation loop on proxy validation dataset\n",
    "    student_model.eval()\n",
    "    validation_loss_epoch = []  \n",
    "    acc = 0\n",
    "    with torch.no_grad():\n",
    "        for x,y,_ in valid_dataloader:\n",
    "            x = x.to(device=device)\n",
    "            y = y.to(device=device)\n",
    "        \n",
    "            logits = student_model(x)\n",
    "            pred = softmax(logits, dim=1)\n",
    "            \n",
    "            confidence,y_hat = torch.max(pred, dim=1)\n",
    "            \n",
    "            loss = criterion(input=logits, target=y)\n",
    "            validation_loss_epoch.append(loss.item())\n",
    "            \n",
    "            acc += torch.sum(y_hat==y).item()\n",
    "        \n",
    "    loop.write(f'validation_loss on proxy = {sum(validation_loss_epoch)/len(validation_loss_epoch):.4f}')\n",
    "    loop.write(f'validation_accuracy on proxy = {100*acc/len(proxy_valid_dataset):.2f}%')\n",
    "\n",
    "    if validate_on_trueds:\n",
    "        # Validation loop on proxy validation dataset\n",
    "        student_model.eval()\n",
    "        with torch.no_grad():\n",
    "            val_loss = []\n",
    "            acc = 0\n",
    "            for x,y in true_valid_ds:\n",
    "                x = x.to(device=device)\n",
    "                y = y.to(device=device)\n",
    "            \n",
    "                logits = student_model(x)\n",
    "                pred = softmax(logits, dim=1)\n",
    "                \n",
    "                confidence,y_hat = torch.max(pred, dim=1)\n",
    "                \n",
    "                loss = criterion(input=logits, target=y)\n",
    "                val_loss.append(loss.item())\n",
    "                \n",
    "                acc += torch.sum(y_hat==y).item()\n",
    "            \n",
    "        loop.write(f'validation_loss on true ds = {sum(val_loss)/len(val_loss):.4f}')\n",
    "        loop.write(f'validation_accuracy on true ds = {100*acc/len(true_dataset.test_dataset):.2f}%')\n",
    "\n",
    "    early_stopping(sum(validation_loss_epoch)/len(validation_loss_epoch))\n",
    "    if early_stopping.early_stop:\n",
    "      print(f\"We are at epoch {epoch}\")\n",
    "      break"
   ]
  },
  {
   "cell_type": "code",
   "execution_count": 19,
   "metadata": {},
   "outputs": [
    {
     "name": "stdout",
     "output_type": "stream",
     "text": [
      "Student with true dataset:\n",
      "test_loss = 0.9950\n",
      "test_accuracy = 68.37%\n",
      "\n",
      "Class airplane: pred=680, actual=1000 => acc=68.00%, total_pred=966\n",
      "Class automobile: pred=786, actual=1000 => acc=78.60%, total_pred=887\n",
      "Class bird: pred=591, actual=1000 => acc=59.10%, total_pred=991\n",
      "Class cat: pred=735, actual=1000 => acc=73.50%, total_pred=1725\n",
      "Class deer: pred=636, actual=1000 => acc=63.60%, total_pred=951\n",
      "Class dog: pred=585, actual=1000 => acc=58.50%, total_pred=943\n",
      "Class frog: pred=656, actual=1000 => acc=65.60%, total_pred=840\n",
      "Class horse: pred=668, actual=1000 => acc=66.80%, total_pred=856\n",
      "Class ship: pred=705, actual=1000 => acc=70.50%, total_pred=849\n",
      "Class truck: pred=795, actual=1000 => acc=79.50%, total_pred=992\n"
     ]
    }
   ],
   "source": [
    "# Testing on CIFAR10 ground truth\n",
    "true_dataloader = true_dataset.test_dataloader()\n",
    "acc_per_class = {k:[0,0,0] for k,v in label_mapper_inv.items()}\n",
    "\n",
    "student_model.eval()\n",
    "with torch.no_grad():\n",
    "    test_loss = []\n",
    "    acc = 0\n",
    "    for x,y in true_dataloader:\n",
    "        x = x.to(device=device)\n",
    "        y = y.to(device=device)\n",
    "    \n",
    "        logits = student_model(x)\n",
    "        pred = softmax(logits, dim=1)\n",
    "        \n",
    "        confidence,y_hat = torch.max(pred, dim=1)\n",
    "        \n",
    "        loss = criterion(input=logits, target=y)\n",
    "        test_loss.append(loss.item())\n",
    "        \n",
    "        acc += torch.sum(y_hat==y)\n",
    "        \n",
    "        for i in range(len(y)):\n",
    "            a = y[i].item()\n",
    "            p = y_hat[i].item()\n",
    "            \n",
    "            \n",
    "            acc_per_class[a][1] += 1\n",
    "            acc_per_class[p][2] += 1\n",
    "            if a == p:\n",
    "                acc_per_class[a][0] += 1\n",
    "        \n",
    "    print('Student with true dataset:')\n",
    "    print(f'test_loss = {sum(test_loss)/len(test_loss):.4f}')                  # 1.7439;  1.6199\n",
    "    print(f'test_accuracy = {100*acc/len(true_dataset.test_dataset):.2f}%')    # 46.09%;  48.57%\n",
    "    print()\n",
    "    \n",
    "for k,v in acc_per_class.items():\n",
    "    print(f'Class {label_mapper_inv[k]}: pred={v[0]}, actual={v[1]} => acc={v[0]*100/v[1]:.2f}%, total_pred={v[2]}')"
   ]
  },
  {
   "cell_type": "code",
   "execution_count": 20,
   "metadata": {},
   "outputs": [
    {
     "name": "stdout",
     "output_type": "stream",
     "text": [
      "Student with true dataset:\n",
      "test_loss = 0.9808\n",
      "test_accuracy = 68.19%\n",
      "\n",
      "Class airplane: pred=702, actual=1038 => acc=67.63%, total_pred=966\n",
      "Class automobile: pred=786, actual=1002 => acc=78.44%, total_pred=887\n",
      "Class bird: pred=588, actual=965 => acc=60.93%, total_pred=991\n",
      "Class cat: pred=693, actual=938 => acc=73.88%, total_pred=1725\n",
      "Class deer: pred=669, actual=1108 => acc=60.38%, total_pred=951\n",
      "Class dog: pred=566, actual=913 => acc=61.99%, total_pred=943\n",
      "Class frog: pred=652, actual=996 => acc=65.46%, total_pred=840\n",
      "Class horse: pred=683, actual=1063 => acc=64.25%, total_pred=856\n",
      "Class ship: pred=684, actual=939 => acc=72.84%, total_pred=849\n",
      "Class truck: pred=796, actual=1038 => acc=76.69%, total_pred=992\n"
     ]
    }
   ],
   "source": [
    "# Testing using labels predicted with teacher\n",
    "true_dataloader = true_dataset.test_dataloader()\n",
    "acc_per_class = {k:[0,0,0] for k,v in label_mapper_inv.items()}\n",
    "\n",
    "student_model.eval()\n",
    "teacher_model.eval()\n",
    "with torch.no_grad():\n",
    "    test_loss = []\n",
    "    acc = 0\n",
    "    for x,y in true_dataloader:\n",
    "        x = x.to(device=device)\n",
    "        # y = y.to(device=device)\n",
    "\n",
    "        teacher_pred = softmax(teacher_model(x), dim=1)\n",
    "        _, y = torch.max(teacher_pred, dim=1)\n",
    "    \n",
    "        logits = student_model(x)\n",
    "        pred = softmax(logits, dim=1)\n",
    "        \n",
    "        confidence,y_hat = torch.max(pred, dim=1)\n",
    "        \n",
    "        loss = criterion(input=logits, target=y)\n",
    "        test_loss.append(loss.item())\n",
    "        \n",
    "        acc += torch.sum(y_hat==y)\n",
    "        \n",
    "        for i in range(len(y)):\n",
    "            a = y[i].item()\n",
    "            p = y_hat[i].item()\n",
    "            \n",
    "            \n",
    "            acc_per_class[a][1] += 1\n",
    "            acc_per_class[p][2] += 1\n",
    "            if a == p:\n",
    "                acc_per_class[a][0] += 1\n",
    "        \n",
    "    print('Student with true dataset:')\n",
    "    print(f'test_loss = {sum(test_loss)/len(test_loss):.4f}')                  # 1.7439;  1.6199\n",
    "    print(f'test_accuracy = {100*acc/len(true_dataset.test_dataset):.2f}%')    # 46.09%;  48.57%\n",
    "    print()\n",
    "    \n",
    "for k,v in acc_per_class.items():\n",
    "    print(f'Class {label_mapper_inv[k]}: pred={v[0]}, actual={v[1]} => acc={v[0]*100/v[1]:.2f}%, total_pred={v[2]}')"
   ]
  },
  {
   "cell_type": "code",
   "execution_count": 21,
   "metadata": {
    "id": "B_lJlsr0JlVs"
   },
   "outputs": [],
   "source": [
    "import matplotlib.pyplot as plt\n",
    "\n",
    "\n",
    "def plot_db(X_embedded, labels_cpu):\n",
    "  # scale and move the coordinates so they fit [0; 1] range\n",
    "  def scale_to_01_range(x):\n",
    "      # compute the distribution range\n",
    "      value_range = (np.max(x) - np.min(x))\n",
    "  \n",
    "      # move the distribution so that it starts from zero\n",
    "      # by extracting the minimal value from all its values\n",
    "      starts_from_zero = x - np.min(x)\n",
    "  \n",
    "      # make the distribution fit [0; 1] by dividing by its range\n",
    "      return starts_from_zero / value_range\n",
    "  \n",
    "  # extract x and y coordinates representing the positions of the images on T-SNE plot\n",
    "  tx = X_embedded[:, 0]\n",
    "  ty = X_embedded[:, 1]\n",
    "  \n",
    "  tx = scale_to_01_range(tx)\n",
    "  ty = scale_to_01_range(ty)\n",
    "\n",
    "  # initialize a matplotlib plot\n",
    "  fig = plt.figure(figsize=(6, 6), dpi=144)\n",
    "  ax = fig.add_subplot(111)\n",
    "  \n",
    "  # for every class, we'll add a scatter plot separately\n",
    "  for label in range(10):\n",
    "      # find the samples of the current class in the data\n",
    "      indices = [i for i, l in enumerate(labels_cpu) if l == label]\n",
    "  \n",
    "      # extract the coordinates of the points of this class only\n",
    "      current_tx = np.take(tx, indices)\n",
    "      current_ty = np.take(ty, indices)\n",
    "  \n",
    "      # add a scatter plot with the corresponding color and label\n",
    "      ax.scatter(current_tx, current_ty, label=label)\n",
    "  \n",
    "  # build a legend using the labels we set previously\n",
    "  ax.legend(loc='best')\n",
    "  \n",
    "  # finally, show the plot\n",
    "  plt.show()"
   ]
  },
  {
   "cell_type": "code",
   "execution_count": 22,
   "metadata": {
    "colab": {
     "base_uri": "https://localhost:8080/",
     "height": 802
    },
    "id": "We2WHCULH9nX",
    "outputId": "7ffd8af2-c076-41e5-ad6c-d30c6f2a5ab7"
   },
   "outputs": [
    {
     "name": "stderr",
     "output_type": "stream",
     "text": [
      "/home/vhondru/.local/lib/python3.10/site-packages/sklearn/manifold/_t_sne.py:800: FutureWarning: The default initialization in TSNE will change from 'random' to 'pca' in 1.2.\n",
      "  warnings.warn(\n",
      "/home/vhondru/.local/lib/python3.10/site-packages/sklearn/manifold/_t_sne.py:810: FutureWarning: The default learning rate in TSNE will change from 200.0 to 'auto' in 1.2.\n",
      "  warnings.warn(\n"
     ]
    },
    {
     "data": {
      "image/png": "[encoded data removed]",
      "text/plain": [
       "<Figure size 864x864 with 1 Axes>"
      ]
     },
     "metadata": {},
     "output_type": "display_data"
    }
   ],
   "source": [
    "from sklearn.manifold import TSNE\n",
    "\n",
    "\n",
    "tsne = TSNE()\n",
    "images_cpu = [im.cpu().numpy().flatten() for im in images_db]\n",
    "labels_cpu = [l.cpu().numpy().argmax() for l in labels_db]\n",
    "X_embedded = tsne.fit_transform(np.array(images_cpu), np.array(labels_cpu))\n",
    "\n",
    "plot_db(X_embedded, labels_cpu)"
   ]
  },
  {
   "cell_type": "code",
   "execution_count": null,
   "metadata": {},
   "outputs": [],
   "source": []
  }
 ],
 "metadata": {
  "accelerator": "GPU",
  "colab": {
   "provenance": []
  },
  "gpuClass": "standard",
  "kernelspec": {
   "display_name": "Python 3",
   "language": "python",
   "name": "python3"
  },
  "language_info": {
   "codemirror_mode": {
    "name": "ipython",
    "version": 3
   },
   "file_extension": ".py",
   "mimetype": "text/x-python",
   "name": "python",
   "nbconvert_exporter": "python",
   "pygments_lexer": "ipython3",
   "version": "3.10.6"
  },
  "vscode": {
   "interpreter": {
    "hash": "916dbcbb3f70747c44a77c7bcd40155683ae19c65e1c03b4aa3499c5328201f1"
   }
  },
  "widgets": {
   "application/vnd.jupyter.widget-state+json": {
    "058124347df04f2a81d75544c5fb8809": {
     "model_module": "@jupyter-widgets/base",
     "model_module_version": "1.2.0",
     "model_name": "LayoutModel",
     "state": {
      "_model_module": "@jupyter-widgets/base",
      "_model_module_version": "1.2.0",
      "_model_name": "LayoutModel",
      "_view_count": null,
      "_view_module": "@jupyter-widgets/base",
      "_view_module_version": "1.2.0",
      "_view_name": "LayoutView",
      "align_content": null,
      "align_items": null,
      "align_self": null,
      "border": null,
      "bottom": null,
      "display": null,
      "flex": null,
      "flex_flow": null,
      "grid_area": null,
      "grid_auto_columns": null,
      "grid_auto_flow": null,
      "grid_auto_rows": null,
      "grid_column": null,
      "grid_gap": null,
      "grid_row": null,
      "grid_template_areas": null,
      "grid_template_columns": null,
      "grid_template_rows": null,
      "height": null,
      "justify_content": null,
      "justify_items": null,
      "left": null,
      "margin": null,
      "max_height": null,
      "max_width": null,
      "min_height": null,
      "min_width": null,
      "object_fit": null,
      "object_position": null,
      "order": null,
      "overflow": null,
      "overflow_x": null,
      "overflow_y": null,
      "padding": null,
      "right": null,
      "top": null,
      "visibility": null,
      "width": null
     }
    },
    "0d4acd03fa734e9db4bb7389ae2f19b4": {
     "model_module": "@jupyter-widgets/base",
     "model_module_version": "1.2.0",
     "model_name": "LayoutModel",
     "state": {
      "_model_module": "@jupyter-widgets/base",
      "_model_module_version": "1.2.0",
      "_model_name": "LayoutModel",
      "_view_count": null,
      "_view_module": "@jupyter-widgets/base",
      "_view_module_version": "1.2.0",
      "_view_name": "LayoutView",
      "align_content": null,
      "align_items": null,
      "align_self": null,
      "border": null,
      "bottom": null,
      "display": null,
      "flex": null,
      "flex_flow": null,
      "grid_area": null,
      "grid_auto_columns": null,
      "grid_auto_flow": null,
      "grid_auto_rows": null,
      "grid_column": null,
      "grid_gap": null,
      "grid_row": null,
      "grid_template_areas": null,
      "grid_template_columns": null,
      "grid_template_rows": null,
      "height": null,
      "justify_content": null,
      "justify_items": null,
      "left": null,
      "margin": null,
      "max_height": null,
      "max_width": null,
      "min_height": null,
      "min_width": null,
      "object_fit": null,
      "object_position": null,
      "order": null,
      "overflow": null,
      "overflow_x": null,
      "overflow_y": null,
      "padding": null,
      "right": null,
      "top": null,
      "visibility": null,
      "width": null
     }
    },
    "0dc49d11d2434b568a3f6c3ad5b05c09": {
     "model_module": "@jupyter-widgets/controls",
     "model_module_version": "1.5.0",
     "model_name": "HTMLModel",
     "state": {
      "_dom_classes": [],
      "_model_module": "@jupyter-widgets/controls",
      "_model_module_version": "1.5.0",
      "_model_name": "HTMLModel",
      "_view_count": null,
      "_view_module": "@jupyter-widgets/controls",
      "_view_module_version": "1.5.0",
      "_view_name": "HTMLView",
      "description": "",
      "description_tooltip": null,
      "layout": "IPY_MODEL_0d4acd03fa734e9db4bb7389ae2f19b4",
      "placeholder": "​",
      "style": "IPY_MODEL_81d6479563414e36ae8103bbb16bd9a3",
      "value": " 1600/1600 [00:40&lt;00:00, 55.51it/s]"
     }
    },
    "18d7a2f2052141c9aaa53bf57a3bc1b3": {
     "model_module": "@jupyter-widgets/base",
     "model_module_version": "1.2.0",
     "model_name": "LayoutModel",
     "state": {
      "_model_module": "@jupyter-widgets/base",
      "_model_module_version": "1.2.0",
      "_model_name": "LayoutModel",
      "_view_count": null,
      "_view_module": "@jupyter-widgets/base",
      "_view_module_version": "1.2.0",
      "_view_name": "LayoutView",
      "align_content": null,
      "align_items": null,
      "align_self": null,
      "border": null,
      "bottom": null,
      "display": null,
      "flex": null,
      "flex_flow": null,
      "grid_area": null,
      "grid_auto_columns": null,
      "grid_auto_flow": null,
      "grid_auto_rows": null,
      "grid_column": null,
      "grid_gap": null,
      "grid_row": null,
      "grid_template_areas": null,
      "grid_template_columns": null,
      "grid_template_rows": null,
      "height": null,
      "justify_content": null,
      "justify_items": null,
      "left": null,
      "margin": null,
      "max_height": null,
      "max_width": null,
      "min_height": null,
      "min_width": null,
      "object_fit": null,
      "object_position": null,
      "order": null,
      "overflow": null,
      "overflow_x": null,
      "overflow_y": null,
      "padding": null,
      "right": null,
      "top": null,
      "visibility": null,
      "width": null
     }
    },
    "2c46b959bee7429f8da5394790591907": {
     "model_module": "@jupyter-widgets/controls",
     "model_module_version": "1.5.0",
     "model_name": "FloatProgressModel",
     "state": {
      "_dom_classes": [],
      "_model_module": "@jupyter-widgets/controls",
      "_model_module_version": "1.5.0",
      "_model_name": "FloatProgressModel",
      "_view_count": null,
      "_view_module": "@jupyter-widgets/controls",
      "_view_module_version": "1.5.0",
      "_view_name": "ProgressView",
      "bar_style": "danger",
      "description": "",
      "description_tooltip": null,
      "layout": "IPY_MODEL_55ddff88b8b3439dab43efc612bce63e",
      "max": 18432,
      "min": 0,
      "orientation": "horizontal",
      "style": "IPY_MODEL_3d62cb4fdf2a4dca91cf7669f75826f9",
      "value": 1815
     }
    },
    "3336807a7d144bbb9283a68a327852d5": {
     "model_module": "@jupyter-widgets/controls",
     "model_module_version": "1.5.0",
     "model_name": "DescriptionStyleModel",
     "state": {
      "_model_module": "@jupyter-widgets/controls",
      "_model_module_version": "1.5.0",
      "_model_name": "DescriptionStyleModel",
      "_view_count": null,
      "_view_module": "@jupyter-widgets/base",
      "_view_module_version": "1.2.0",
      "_view_name": "StyleView",
      "description_width": ""
     }
    },
    "3d62cb4fdf2a4dca91cf7669f75826f9": {
     "model_module": "@jupyter-widgets/controls",
     "model_module_version": "1.5.0",
     "model_name": "ProgressStyleModel",
     "state": {
      "_model_module": "@jupyter-widgets/controls",
      "_model_module_version": "1.5.0",
      "_model_name": "ProgressStyleModel",
      "_view_count": null,
      "_view_module": "@jupyter-widgets/base",
      "_view_module_version": "1.2.0",
      "_view_name": "StyleView",
      "bar_color": null,
      "description_width": ""
     }
    },
    "41f1cf625859422092090d52e3794b68": {
     "model_module": "@jupyter-widgets/base",
     "model_module_version": "1.2.0",
     "model_name": "LayoutModel",
     "state": {
      "_model_module": "@jupyter-widgets/base",
      "_model_module_version": "1.2.0",
      "_model_name": "LayoutModel",
      "_view_count": null,
      "_view_module": "@jupyter-widgets/base",
      "_view_module_version": "1.2.0",
      "_view_name": "LayoutView",
      "align_content": null,
      "align_items": null,
      "align_self": null,
      "border": null,
      "bottom": null,
      "display": null,
      "flex": null,
      "flex_flow": null,
      "grid_area": null,
      "grid_auto_columns": null,
      "grid_auto_flow": null,
      "grid_auto_rows": null,
      "grid_column": null,
      "grid_gap": null,
      "grid_row": null,
      "grid_template_areas": null,
      "grid_template_columns": null,
      "grid_template_rows": null,
      "height": null,
      "justify_content": null,
      "justify_items": null,
      "left": null,
      "margin": null,
      "max_height": null,
      "max_width": null,
      "min_height": null,
      "min_width": null,
      "object_fit": null,
      "object_position": null,
      "order": null,
      "overflow": null,
      "overflow_x": null,
      "overflow_y": null,
      "padding": null,
      "right": null,
      "top": null,
      "visibility": null,
      "width": null
     }
    },
    "41ff2b73bc49402fbd500c9124cf55b9": {
     "model_module": "@jupyter-widgets/controls",
     "model_module_version": "1.5.0",
     "model_name": "DescriptionStyleModel",
     "state": {
      "_model_module": "@jupyter-widgets/controls",
      "_model_module_version": "1.5.0",
      "_model_name": "DescriptionStyleModel",
      "_view_count": null,
      "_view_module": "@jupyter-widgets/base",
      "_view_module_version": "1.2.0",
      "_view_name": "StyleView",
      "description_width": ""
     }
    },
    "4a9fb0df830a43d798a94a9e00cfe022": {
     "model_module": "@jupyter-widgets/controls",
     "model_module_version": "1.5.0",
     "model_name": "DescriptionStyleModel",
     "state": {
      "_model_module": "@jupyter-widgets/controls",
      "_model_module_version": "1.5.0",
      "_model_name": "DescriptionStyleModel",
      "_view_count": null,
      "_view_module": "@jupyter-widgets/base",
      "_view_module_version": "1.2.0",
      "_view_name": "StyleView",
      "description_width": ""
     }
    },
    "50e7dda7941449cfb47e8d3945208fdb": {
     "model_module": "@jupyter-widgets/base",
     "model_module_version": "1.2.0",
     "model_name": "LayoutModel",
     "state": {
      "_model_module": "@jupyter-widgets/base",
      "_model_module_version": "1.2.0",
      "_model_name": "LayoutModel",
      "_view_count": null,
      "_view_module": "@jupyter-widgets/base",
      "_view_module_version": "1.2.0",
      "_view_name": "LayoutView",
      "align_content": null,
      "align_items": null,
      "align_self": null,
      "border": null,
      "bottom": null,
      "display": null,
      "flex": null,
      "flex_flow": null,
      "grid_area": null,
      "grid_auto_columns": null,
      "grid_auto_flow": null,
      "grid_auto_rows": null,
      "grid_column": null,
      "grid_gap": null,
      "grid_row": null,
      "grid_template_areas": null,
      "grid_template_columns": null,
      "grid_template_rows": null,
      "height": null,
      "justify_content": null,
      "justify_items": null,
      "left": null,
      "margin": null,
      "max_height": null,
      "max_width": null,
      "min_height": null,
      "min_width": null,
      "object_fit": null,
      "object_position": null,
      "order": null,
      "overflow": null,
      "overflow_x": null,
      "overflow_y": null,
      "padding": null,
      "right": null,
      "top": null,
      "visibility": null,
      "width": null
     }
    },
    "530f03e592b04992ad8864021b2d6033": {
     "model_module": "@jupyter-widgets/controls",
     "model_module_version": "1.5.0",
     "model_name": "HTMLModel",
     "state": {
      "_dom_classes": [],
      "_model_module": "@jupyter-widgets/controls",
      "_model_module_version": "1.5.0",
      "_model_name": "HTMLModel",
      "_view_count": null,
      "_view_module": "@jupyter-widgets/controls",
      "_view_module_version": "1.5.0",
      "_view_name": "HTMLView",
      "description": "",
      "description_tooltip": null,
      "layout": "IPY_MODEL_ce773a8dc12b4920b3a9f6c46e2a6ea4",
      "placeholder": "​",
      "style": "IPY_MODEL_a5d582694fb04c6fac9d10f2c6ef29d4",
      "value": "100%"
     }
    },
    "5392c16b86e84cceb68915753a0531cb": {
     "model_module": "@jupyter-widgets/controls",
     "model_module_version": "1.5.0",
     "model_name": "HTMLModel",
     "state": {
      "_dom_classes": [],
      "_model_module": "@jupyter-widgets/controls",
      "_model_module_version": "1.5.0",
      "_model_name": "HTMLModel",
      "_view_count": null,
      "_view_module": "@jupyter-widgets/controls",
      "_view_module_version": "1.5.0",
      "_view_name": "HTMLView",
      "description": "",
      "description_tooltip": null,
      "layout": "IPY_MODEL_50e7dda7941449cfb47e8d3945208fdb",
      "placeholder": "​",
      "style": "IPY_MODEL_4a9fb0df830a43d798a94a9e00cfe022",
      "value": " 170498071/170498071 [00:05&lt;00:00, 33555457.81it/s]"
     }
    },
    "551ec62854e64a6a89e2550b4eb22e52": {
     "model_module": "@jupyter-widgets/base",
     "model_module_version": "1.2.0",
     "model_name": "LayoutModel",
     "state": {
      "_model_module": "@jupyter-widgets/base",
      "_model_module_version": "1.2.0",
      "_model_name": "LayoutModel",
      "_view_count": null,
      "_view_module": "@jupyter-widgets/base",
      "_view_module_version": "1.2.0",
      "_view_name": "LayoutView",
      "align_content": null,
      "align_items": null,
      "align_self": null,
      "border": null,
      "bottom": null,
      "display": null,
      "flex": null,
      "flex_flow": null,
      "grid_area": null,
      "grid_auto_columns": null,
      "grid_auto_flow": null,
      "grid_auto_rows": null,
      "grid_column": null,
      "grid_gap": null,
      "grid_row": null,
      "grid_template_areas": null,
      "grid_template_columns": null,
      "grid_template_rows": null,
      "height": null,
      "justify_content": null,
      "justify_items": null,
      "left": null,
      "margin": null,
      "max_height": null,
      "max_width": null,
      "min_height": null,
      "min_width": null,
      "object_fit": null,
      "object_position": null,
      "order": null,
      "overflow": null,
      "overflow_x": null,
      "overflow_y": null,
      "padding": null,
      "right": null,
      "top": null,
      "visibility": null,
      "width": null
     }
    },
    "55ddff88b8b3439dab43efc612bce63e": {
     "model_module": "@jupyter-widgets/base",
     "model_module_version": "1.2.0",
     "model_name": "LayoutModel",
     "state": {
      "_model_module": "@jupyter-widgets/base",
      "_model_module_version": "1.2.0",
      "_model_name": "LayoutModel",
      "_view_count": null,
      "_view_module": "@jupyter-widgets/base",
      "_view_module_version": "1.2.0",
      "_view_name": "LayoutView",
      "align_content": null,
      "align_items": null,
      "align_self": null,
      "border": null,
      "bottom": null,
      "display": null,
      "flex": null,
      "flex_flow": null,
      "grid_area": null,
      "grid_auto_columns": null,
      "grid_auto_flow": null,
      "grid_auto_rows": null,
      "grid_column": null,
      "grid_gap": null,
      "grid_row": null,
      "grid_template_areas": null,
      "grid_template_columns": null,
      "grid_template_rows": null,
      "height": null,
      "justify_content": null,
      "justify_items": null,
      "left": null,
      "margin": null,
      "max_height": null,
      "max_width": null,
      "min_height": null,
      "min_width": null,
      "object_fit": null,
      "object_position": null,
      "order": null,
      "overflow": null,
      "overflow_x": null,
      "overflow_y": null,
      "padding": null,
      "right": null,
      "top": null,
      "visibility": null,
      "width": null
     }
    },
    "591ae5d8878a4378aae207c92ed81f4f": {
     "model_module": "@jupyter-widgets/controls",
     "model_module_version": "1.5.0",
     "model_name": "HBoxModel",
     "state": {
      "_dom_classes": [],
      "_model_module": "@jupyter-widgets/controls",
      "_model_module_version": "1.5.0",
      "_model_name": "HBoxModel",
      "_view_count": null,
      "_view_module": "@jupyter-widgets/controls",
      "_view_module_version": "1.5.0",
      "_view_name": "HBoxView",
      "box_style": "",
      "children": [
       "IPY_MODEL_530f03e592b04992ad8864021b2d6033",
       "IPY_MODEL_94031723b8be497f952269c328453ed4",
       "IPY_MODEL_5392c16b86e84cceb68915753a0531cb"
      ],
      "layout": "IPY_MODEL_90c6aca45b9d42fcb3d6e5be3a7728f2"
     }
    },
    "6b2c1311df4c4fa3a60d3a466d809e66": {
     "model_module": "@jupyter-widgets/base",
     "model_module_version": "1.2.0",
     "model_name": "LayoutModel",
     "state": {
      "_model_module": "@jupyter-widgets/base",
      "_model_module_version": "1.2.0",
      "_model_name": "LayoutModel",
      "_view_count": null,
      "_view_module": "@jupyter-widgets/base",
      "_view_module_version": "1.2.0",
      "_view_name": "LayoutView",
      "align_content": null,
      "align_items": null,
      "align_self": null,
      "border": null,
      "bottom": null,
      "display": null,
      "flex": null,
      "flex_flow": null,
      "grid_area": null,
      "grid_auto_columns": null,
      "grid_auto_flow": null,
      "grid_auto_rows": null,
      "grid_column": null,
      "grid_gap": null,
      "grid_row": null,
      "grid_template_areas": null,
      "grid_template_columns": null,
      "grid_template_rows": null,
      "height": null,
      "justify_content": null,
      "justify_items": null,
      "left": null,
      "margin": null,
      "max_height": null,
      "max_width": null,
      "min_height": null,
      "min_width": null,
      "object_fit": null,
      "object_position": null,
      "order": null,
      "overflow": null,
      "overflow_x": null,
      "overflow_y": null,
      "padding": null,
      "right": null,
      "top": null,
      "visibility": null,
      "width": null
     }
    },
    "6dc31f9f92cc4ecb847630272fff1758": {
     "model_module": "@jupyter-widgets/controls",
     "model_module_version": "1.5.0",
     "model_name": "ProgressStyleModel",
     "state": {
      "_model_module": "@jupyter-widgets/controls",
      "_model_module_version": "1.5.0",
      "_model_name": "ProgressStyleModel",
      "_view_count": null,
      "_view_module": "@jupyter-widgets/base",
      "_view_module_version": "1.2.0",
      "_view_name": "StyleView",
      "bar_color": null,
      "description_width": ""
     }
    },
    "72ff93bf4145408b801f99485950f2da": {
     "model_module": "@jupyter-widgets/controls",
     "model_module_version": "1.5.0",
     "model_name": "HTMLModel",
     "state": {
      "_dom_classes": [],
      "_model_module": "@jupyter-widgets/controls",
      "_model_module_version": "1.5.0",
      "_model_name": "HTMLModel",
      "_view_count": null,
      "_view_module": "@jupyter-widgets/controls",
      "_view_module_version": "1.5.0",
      "_view_name": "HTMLView",
      "description": "",
      "description_tooltip": null,
      "layout": "IPY_MODEL_6b2c1311df4c4fa3a60d3a466d809e66",
      "placeholder": "​",
      "style": "IPY_MODEL_c86c144c3c9e41358633aa78509d3de7",
      "value": " 10%"
     }
    },
    "81d6479563414e36ae8103bbb16bd9a3": {
     "model_module": "@jupyter-widgets/controls",
     "model_module_version": "1.5.0",
     "model_name": "DescriptionStyleModel",
     "state": {
      "_model_module": "@jupyter-widgets/controls",
      "_model_module_version": "1.5.0",
      "_model_name": "DescriptionStyleModel",
      "_view_count": null,
      "_view_module": "@jupyter-widgets/base",
      "_view_module_version": "1.2.0",
      "_view_name": "StyleView",
      "description_width": ""
     }
    },
    "8282f6bd64d344e9aa0e2cdc5deedb50": {
     "model_module": "@jupyter-widgets/controls",
     "model_module_version": "1.5.0",
     "model_name": "HBoxModel",
     "state": {
      "_dom_classes": [],
      "_model_module": "@jupyter-widgets/controls",
      "_model_module_version": "1.5.0",
      "_model_name": "HBoxModel",
      "_view_count": null,
      "_view_module": "@jupyter-widgets/controls",
      "_view_module_version": "1.5.0",
      "_view_name": "HBoxView",
      "box_style": "",
      "children": [
       "IPY_MODEL_b7c4c95db21e4c4dbb6cd50f4bb22a1a",
       "IPY_MODEL_9aa9c5d37cbb4a7987c84c6061cbafa6",
       "IPY_MODEL_0dc49d11d2434b568a3f6c3ad5b05c09"
      ],
      "layout": "IPY_MODEL_18d7a2f2052141c9aaa53bf57a3bc1b3"
     }
    },
    "90c6aca45b9d42fcb3d6e5be3a7728f2": {
     "model_module": "@jupyter-widgets/base",
     "model_module_version": "1.2.0",
     "model_name": "LayoutModel",
     "state": {
      "_model_module": "@jupyter-widgets/base",
      "_model_module_version": "1.2.0",
      "_model_name": "LayoutModel",
      "_view_count": null,
      "_view_module": "@jupyter-widgets/base",
      "_view_module_version": "1.2.0",
      "_view_name": "LayoutView",
      "align_content": null,
      "align_items": null,
      "align_self": null,
      "border": null,
      "bottom": null,
      "display": null,
      "flex": null,
      "flex_flow": null,
      "grid_area": null,
      "grid_auto_columns": null,
      "grid_auto_flow": null,
      "grid_auto_rows": null,
      "grid_column": null,
      "grid_gap": null,
      "grid_row": null,
      "grid_template_areas": null,
      "grid_template_columns": null,
      "grid_template_rows": null,
      "height": null,
      "justify_content": null,
      "justify_items": null,
      "left": null,
      "margin": null,
      "max_height": null,
      "max_width": null,
      "min_height": null,
      "min_width": null,
      "object_fit": null,
      "object_position": null,
      "order": null,
      "overflow": null,
      "overflow_x": null,
      "overflow_y": null,
      "padding": null,
      "right": null,
      "top": null,
      "visibility": null,
      "width": null
     }
    },
    "94031723b8be497f952269c328453ed4": {
     "model_module": "@jupyter-widgets/controls",
     "model_module_version": "1.5.0",
     "model_name": "FloatProgressModel",
     "state": {
      "_dom_classes": [],
      "_model_module": "@jupyter-widgets/controls",
      "_model_module_version": "1.5.0",
      "_model_name": "FloatProgressModel",
      "_view_count": null,
      "_view_module": "@jupyter-widgets/controls",
      "_view_module_version": "1.5.0",
      "_view_name": "ProgressView",
      "bar_style": "success",
      "description": "",
      "description_tooltip": null,
      "layout": "IPY_MODEL_d4cdc9b0b6cb4ba5ab63630a8bb01ba4",
      "max": 170498071,
      "min": 0,
      "orientation": "horizontal",
      "style": "IPY_MODEL_6dc31f9f92cc4ecb847630272fff1758",
      "value": 170498071
     }
    },
    "9aa9c5d37cbb4a7987c84c6061cbafa6": {
     "model_module": "@jupyter-widgets/controls",
     "model_module_version": "1.5.0",
     "model_name": "FloatProgressModel",
     "state": {
      "_dom_classes": [],
      "_model_module": "@jupyter-widgets/controls",
      "_model_module_version": "1.5.0",
      "_model_name": "FloatProgressModel",
      "_view_count": null,
      "_view_module": "@jupyter-widgets/controls",
      "_view_module_version": "1.5.0",
      "_view_name": "ProgressView",
      "bar_style": "success",
      "description": "",
      "description_tooltip": null,
      "layout": "IPY_MODEL_058124347df04f2a81d75544c5fb8809",
      "max": 1600,
      "min": 0,
      "orientation": "horizontal",
      "style": "IPY_MODEL_f0f5ea82811c49bfb0a55154cc9cd30d",
      "value": 1600
     }
    },
    "a5d582694fb04c6fac9d10f2c6ef29d4": {
     "model_module": "@jupyter-widgets/controls",
     "model_module_version": "1.5.0",
     "model_name": "DescriptionStyleModel",
     "state": {
      "_model_module": "@jupyter-widgets/controls",
      "_model_module_version": "1.5.0",
      "_model_name": "DescriptionStyleModel",
      "_view_count": null,
      "_view_module": "@jupyter-widgets/base",
      "_view_module_version": "1.2.0",
      "_view_name": "StyleView",
      "description_width": ""
     }
    },
    "a8f2e2541be5409e86fae758d5f69b6a": {
     "model_module": "@jupyter-widgets/controls",
     "model_module_version": "1.5.0",
     "model_name": "HBoxModel",
     "state": {
      "_dom_classes": [],
      "_model_module": "@jupyter-widgets/controls",
      "_model_module_version": "1.5.0",
      "_model_name": "HBoxModel",
      "_view_count": null,
      "_view_module": "@jupyter-widgets/controls",
      "_view_module_version": "1.5.0",
      "_view_name": "HBoxView",
      "box_style": "",
      "children": [
       "IPY_MODEL_72ff93bf4145408b801f99485950f2da",
       "IPY_MODEL_2c46b959bee7429f8da5394790591907",
       "IPY_MODEL_e6cea5484f5444a8aae4b68e4cca9677"
      ],
      "layout": "IPY_MODEL_c848b3bad8924d55976b7a3c3b6acde8"
     }
    },
    "b7c4c95db21e4c4dbb6cd50f4bb22a1a": {
     "model_module": "@jupyter-widgets/controls",
     "model_module_version": "1.5.0",
     "model_name": "HTMLModel",
     "state": {
      "_dom_classes": [],
      "_model_module": "@jupyter-widgets/controls",
      "_model_module_version": "1.5.0",
      "_model_name": "HTMLModel",
      "_view_count": null,
      "_view_module": "@jupyter-widgets/controls",
      "_view_module_version": "1.5.0",
      "_view_name": "HTMLView",
      "description": "",
      "description_tooltip": null,
      "layout": "IPY_MODEL_551ec62854e64a6a89e2550b4eb22e52",
      "placeholder": "​",
      "style": "IPY_MODEL_3336807a7d144bbb9283a68a327852d5",
      "value": "100%"
     }
    },
    "c848b3bad8924d55976b7a3c3b6acde8": {
     "model_module": "@jupyter-widgets/base",
     "model_module_version": "1.2.0",
     "model_name": "LayoutModel",
     "state": {
      "_model_module": "@jupyter-widgets/base",
      "_model_module_version": "1.2.0",
      "_model_name": "LayoutModel",
      "_view_count": null,
      "_view_module": "@jupyter-widgets/base",
      "_view_module_version": "1.2.0",
      "_view_name": "LayoutView",
      "align_content": null,
      "align_items": null,
      "align_self": null,
      "border": null,
      "bottom": null,
      "display": null,
      "flex": null,
      "flex_flow": null,
      "grid_area": null,
      "grid_auto_columns": null,
      "grid_auto_flow": null,
      "grid_auto_rows": null,
      "grid_column": null,
      "grid_gap": null,
      "grid_row": null,
      "grid_template_areas": null,
      "grid_template_columns": null,
      "grid_template_rows": null,
      "height": null,
      "justify_content": null,
      "justify_items": null,
      "left": null,
      "margin": null,
      "max_height": null,
      "max_width": null,
      "min_height": null,
      "min_width": null,
      "object_fit": null,
      "object_position": null,
      "order": null,
      "overflow": null,
      "overflow_x": null,
      "overflow_y": null,
      "padding": null,
      "right": null,
      "top": null,
      "visibility": null,
      "width": null
     }
    },
    "c86c144c3c9e41358633aa78509d3de7": {
     "model_module": "@jupyter-widgets/controls",
     "model_module_version": "1.5.0",
     "model_name": "DescriptionStyleModel",
     "state": {
      "_model_module": "@jupyter-widgets/controls",
      "_model_module_version": "1.5.0",
      "_model_name": "DescriptionStyleModel",
      "_view_count": null,
      "_view_module": "@jupyter-widgets/base",
      "_view_module_version": "1.2.0",
      "_view_name": "StyleView",
      "description_width": ""
     }
    },
    "ce773a8dc12b4920b3a9f6c46e2a6ea4": {
     "model_module": "@jupyter-widgets/base",
     "model_module_version": "1.2.0",
     "model_name": "LayoutModel",
     "state": {
      "_model_module": "@jupyter-widgets/base",
      "_model_module_version": "1.2.0",
      "_model_name": "LayoutModel",
      "_view_count": null,
      "_view_module": "@jupyter-widgets/base",
      "_view_module_version": "1.2.0",
      "_view_name": "LayoutView",
      "align_content": null,
      "align_items": null,
      "align_self": null,
      "border": null,
      "bottom": null,
      "display": null,
      "flex": null,
      "flex_flow": null,
      "grid_area": null,
      "grid_auto_columns": null,
      "grid_auto_flow": null,
      "grid_auto_rows": null,
      "grid_column": null,
      "grid_gap": null,
      "grid_row": null,
      "grid_template_areas": null,
      "grid_template_columns": null,
      "grid_template_rows": null,
      "height": null,
      "justify_content": null,
      "justify_items": null,
      "left": null,
      "margin": null,
      "max_height": null,
      "max_width": null,
      "min_height": null,
      "min_width": null,
      "object_fit": null,
      "object_position": null,
      "order": null,
      "overflow": null,
      "overflow_x": null,
      "overflow_y": null,
      "padding": null,
      "right": null,
      "top": null,
      "visibility": null,
      "width": null
     }
    },
    "d4cdc9b0b6cb4ba5ab63630a8bb01ba4": {
     "model_module": "@jupyter-widgets/base",
     "model_module_version": "1.2.0",
     "model_name": "LayoutModel",
     "state": {
      "_model_module": "@jupyter-widgets/base",
      "_model_module_version": "1.2.0",
      "_model_name": "LayoutModel",
      "_view_count": null,
      "_view_module": "@jupyter-widgets/base",
      "_view_module_version": "1.2.0",
      "_view_name": "LayoutView",
      "align_content": null,
      "align_items": null,
      "align_self": null,
      "border": null,
      "bottom": null,
      "display": null,
      "flex": null,
      "flex_flow": null,
      "grid_area": null,
      "grid_auto_columns": null,
      "grid_auto_flow": null,
      "grid_auto_rows": null,
      "grid_column": null,
      "grid_gap": null,
      "grid_row": null,
      "grid_template_areas": null,
      "grid_template_columns": null,
      "grid_template_rows": null,
      "height": null,
      "justify_content": null,
      "justify_items": null,
      "left": null,
      "margin": null,
      "max_height": null,
      "max_width": null,
      "min_height": null,
      "min_width": null,
      "object_fit": null,
      "object_position": null,
      "order": null,
      "overflow": null,
      "overflow_x": null,
      "overflow_y": null,
      "padding": null,
      "right": null,
      "top": null,
      "visibility": null,
      "width": null
     }
    },
    "e6cea5484f5444a8aae4b68e4cca9677": {
     "model_module": "@jupyter-widgets/controls",
     "model_module_version": "1.5.0",
     "model_name": "HTMLModel",
     "state": {
      "_dom_classes": [],
      "_model_module": "@jupyter-widgets/controls",
      "_model_module_version": "1.5.0",
      "_model_name": "HTMLModel",
      "_view_count": null,
      "_view_module": "@jupyter-widgets/controls",
      "_view_module_version": "1.5.0",
      "_view_name": "HTMLView",
      "description": "",
      "description_tooltip": null,
      "layout": "IPY_MODEL_41f1cf625859422092090d52e3794b68",
      "placeholder": "​",
      "style": "IPY_MODEL_41ff2b73bc49402fbd500c9124cf55b9",
      "value": " 1815/18432 [04:20&lt;37:30,  7.38it/s]"
     }
    },
    "f0f5ea82811c49bfb0a55154cc9cd30d": {
     "model_module": "@jupyter-widgets/controls",
     "model_module_version": "1.5.0",
     "model_name": "ProgressStyleModel",
     "state": {
      "_model_module": "@jupyter-widgets/controls",
      "_model_module_version": "1.5.0",
      "_model_name": "ProgressStyleModel",
      "_view_count": null,
      "_view_module": "@jupyter-widgets/base",
      "_view_module_version": "1.2.0",
      "_view_name": "StyleView",
      "bar_color": null,
      "description_width": ""
     }
    }
   }
  }
 },
 "nbformat": 4,
 "nbformat_minor": 4
}
